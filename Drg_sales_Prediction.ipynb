{
 "cells": [
  {
   "cell_type": "code",
   "execution_count": 1,
   "id": "02cdc1c3",
   "metadata": {},
   "outputs": [],
   "source": [
    "import numpy as np\n",
    "import pandas as pd\n",
    "import matplotlib.pyplot as plt\n",
    "import seaborn as sns\n",
    "from sklearn.tree import DecisionTreeRegressor\n",
    "from sklearn.ensemble import RandomForestRegressor\n",
    "from sklearn.linear_model import LinearRegression\n",
    "from sklearn.neighbors import KNeighborsRegressor\n",
    "from xgboost import XGBRegressor\n",
    "from sklearn.model_selection import train_test_split\n",
    "from sklearn.metrics import mean_squared_error,mean_absolute_error,r2_score\n",
    "from sklearn.preprocessing import StandardScaler"
   ]
  },
  {
   "cell_type": "markdown",
   "id": "1d011995",
   "metadata": {},
   "source": [
    "# import data file to check all data"
   ]
  },
  {
   "cell_type": "code",
   "execution_count": 2,
   "id": "657a4fb5",
   "metadata": {},
   "outputs": [],
   "source": [
    "df=pd.read_csv('dsv name.csv')"
   ]
  },
  {
   "cell_type": "code",
   "execution_count": null,
   "id": "ae1d9c11",
   "metadata": {},
   "outputs": [],
   "source": []
  },
  {
   "cell_type": "code",
   "execution_count": 3,
   "id": "d1cd1ee8",
   "metadata": {},
   "outputs": [
    {
     "data": {
      "text/html": [
       "<div>\n",
       "<style scoped>\n",
       "    .dataframe tbody tr th:only-of-type {\n",
       "        vertical-align: middle;\n",
       "    }\n",
       "\n",
       "    .dataframe tbody tr th {\n",
       "        vertical-align: top;\n",
       "    }\n",
       "\n",
       "    .dataframe thead th {\n",
       "        text-align: right;\n",
       "    }\n",
       "</style>\n",
       "<table border=\"1\" class=\"dataframe\">\n",
       "  <thead>\n",
       "    <tr style=\"text-align: right;\">\n",
       "      <th></th>\n",
       "      <th>Brand_Name</th>\n",
       "      <th>Id</th>\n",
       "      <th>Month</th>\n",
       "      <th>MTD_Budget</th>\n",
       "      <th>MTD_Sales</th>\n",
       "      <th>MTD Surplus_Deficit</th>\n",
       "      <th>MTD_Achievement</th>\n",
       "      <th>YTD_Budget</th>\n",
       "      <th>YTD_Sales</th>\n",
       "      <th>YTD Surplus/Deficit</th>\n",
       "      <th>YTD_ACH (%)</th>\n",
       "      <th>Disease_Area</th>\n",
       "    </tr>\n",
       "  </thead>\n",
       "  <tbody>\n",
       "    <tr>\n",
       "      <th>0</th>\n",
       "      <td>BECOSULES</td>\n",
       "      <td>9</td>\n",
       "      <td>January</td>\n",
       "      <td>1760726.49</td>\n",
       "      <td>861962.98</td>\n",
       "      <td>-898763.51</td>\n",
       "      <td>48.95</td>\n",
       "      <td>1760726.49</td>\n",
       "      <td>861962.98</td>\n",
       "      <td>-898763.51</td>\n",
       "      <td>48.95</td>\n",
       "      <td>Vitamin&amp;Minerals</td>\n",
       "    </tr>\n",
       "    <tr>\n",
       "      <th>1</th>\n",
       "      <td>BECOSULES</td>\n",
       "      <td>9</td>\n",
       "      <td>February</td>\n",
       "      <td>1594030.49</td>\n",
       "      <td>212710.09</td>\n",
       "      <td>-1381320.40</td>\n",
       "      <td>13.34</td>\n",
       "      <td>3354756.97</td>\n",
       "      <td>1918012.33</td>\n",
       "      <td>-1436744.65</td>\n",
       "      <td>57.17</td>\n",
       "      <td>Vitamin&amp;Minerals</td>\n",
       "    </tr>\n",
       "    <tr>\n",
       "      <th>2</th>\n",
       "      <td>BECOSULES</td>\n",
       "      <td>9</td>\n",
       "      <td>March</td>\n",
       "      <td>1739889.49</td>\n",
       "      <td>194239.88</td>\n",
       "      <td>-1545649.61</td>\n",
       "      <td>11.16</td>\n",
       "      <td>5094646.46</td>\n",
       "      <td>3255201.42</td>\n",
       "      <td>-1839445.04</td>\n",
       "      <td>63.89</td>\n",
       "      <td>Vitamin&amp;Minerals</td>\n",
       "    </tr>\n",
       "    <tr>\n",
       "      <th>3</th>\n",
       "      <td>BECOSULES</td>\n",
       "      <td>9</td>\n",
       "      <td>April</td>\n",
       "      <td>1666959.99</td>\n",
       "      <td>256641.30</td>\n",
       "      <td>-1410318.68</td>\n",
       "      <td>15.40</td>\n",
       "      <td>6761606.45</td>\n",
       "      <td>5004855.47</td>\n",
       "      <td>-1756750.98</td>\n",
       "      <td>74.02</td>\n",
       "      <td>Vitamin&amp;Minerals</td>\n",
       "    </tr>\n",
       "    <tr>\n",
       "      <th>4</th>\n",
       "      <td>BECOSULES</td>\n",
       "      <td>9</td>\n",
       "      <td>May</td>\n",
       "      <td>1594030.49</td>\n",
       "      <td>190588.85</td>\n",
       "      <td>-1403441.64</td>\n",
       "      <td>11.96</td>\n",
       "      <td>8355636.93</td>\n",
       "      <td>6598977.29</td>\n",
       "      <td>-1756659.64</td>\n",
       "      <td>78.98</td>\n",
       "      <td>Vitamin&amp;Minerals</td>\n",
       "    </tr>\n",
       "    <tr>\n",
       "      <th>...</th>\n",
       "      <td>...</td>\n",
       "      <td>...</td>\n",
       "      <td>...</td>\n",
       "      <td>...</td>\n",
       "      <td>...</td>\n",
       "      <td>...</td>\n",
       "      <td>...</td>\n",
       "      <td>...</td>\n",
       "      <td>...</td>\n",
       "      <td>...</td>\n",
       "      <td>...</td>\n",
       "      <td>...</td>\n",
       "    </tr>\n",
       "    <tr>\n",
       "      <th>1999</th>\n",
       "      <td>MAXIPASS</td>\n",
       "      <td>85</td>\n",
       "      <td>August</td>\n",
       "      <td>728266.16</td>\n",
       "      <td>43793.44</td>\n",
       "      <td>-684472.72</td>\n",
       "      <td>6.01</td>\n",
       "      <td>5,263,199.19</td>\n",
       "      <td>3,483,504.22</td>\n",
       "      <td>-1779694.97</td>\n",
       "      <td>66.19</td>\n",
       "      <td>Alpha-1 Blocker</td>\n",
       "    </tr>\n",
       "    <tr>\n",
       "      <th>2000</th>\n",
       "      <td>MAXIPASS</td>\n",
       "      <td>85</td>\n",
       "      <td>September</td>\n",
       "      <td>728266.16</td>\n",
       "      <td>43974.00</td>\n",
       "      <td>-684292.16</td>\n",
       "      <td>6.04</td>\n",
       "      <td>5,991,465.34</td>\n",
       "      <td>3,847,935.82</td>\n",
       "      <td>-2143529.52</td>\n",
       "      <td>64.22</td>\n",
       "      <td>Alpha-1 Blocker</td>\n",
       "    </tr>\n",
       "    <tr>\n",
       "      <th>2001</th>\n",
       "      <td>MAXIPASS</td>\n",
       "      <td>85</td>\n",
       "      <td>October</td>\n",
       "      <td>724329.58</td>\n",
       "      <td>33700.50</td>\n",
       "      <td>-690629.08</td>\n",
       "      <td>4.65</td>\n",
       "      <td>6,715,794.93</td>\n",
       "      <td>4,210,910.28</td>\n",
       "      <td>-2504884.65</td>\n",
       "      <td>62.70</td>\n",
       "      <td>Alpha-1 Blocker</td>\n",
       "    </tr>\n",
       "    <tr>\n",
       "      <th>2002</th>\n",
       "      <td>MAXIPASS</td>\n",
       "      <td>85</td>\n",
       "      <td>November</td>\n",
       "      <td>708583.29</td>\n",
       "      <td>61385.63</td>\n",
       "      <td>-647197.66</td>\n",
       "      <td>8.66</td>\n",
       "      <td>7,424,378.21</td>\n",
       "      <td>4,641,142.03</td>\n",
       "      <td>-2783236.19</td>\n",
       "      <td>62.51</td>\n",
       "      <td>Alpha-1 Blocker</td>\n",
       "    </tr>\n",
       "    <tr>\n",
       "      <th>2003</th>\n",
       "      <td>MAXIPASS</td>\n",
       "      <td>85</td>\n",
       "      <td>December</td>\n",
       "      <td>448769.41</td>\n",
       "      <td>36981.56</td>\n",
       "      <td>-411787.85</td>\n",
       "      <td>8.24</td>\n",
       "      <td>7,873,147.63</td>\n",
       "      <td>5,047,807.07</td>\n",
       "      <td>-2825340.55</td>\n",
       "      <td>64.11</td>\n",
       "      <td>Alpha-1 Blocker</td>\n",
       "    </tr>\n",
       "  </tbody>\n",
       "</table>\n",
       "<p>2004 rows × 12 columns</p>\n",
       "</div>"
      ],
      "text/plain": [
       "     Brand_Name  Id      Month  MTD_Budget  MTD_Sales  MTD Surplus_Deficit  \\\n",
       "0     BECOSULES   9    January  1760726.49  861962.98           -898763.51   \n",
       "1     BECOSULES   9   February  1594030.49  212710.09          -1381320.40   \n",
       "2     BECOSULES   9      March  1739889.49  194239.88          -1545649.61   \n",
       "3     BECOSULES   9      April  1666959.99  256641.30          -1410318.68   \n",
       "4     BECOSULES   9        May  1594030.49  190588.85          -1403441.64   \n",
       "...         ...  ..        ...         ...        ...                  ...   \n",
       "1999   MAXIPASS  85     August   728266.16   43793.44           -684472.72   \n",
       "2000   MAXIPASS  85  September   728266.16   43974.00           -684292.16   \n",
       "2001   MAXIPASS  85    October   724329.58   33700.50           -690629.08   \n",
       "2002   MAXIPASS  85   November   708583.29   61385.63           -647197.66   \n",
       "2003   MAXIPASS  85   December   448769.41   36981.56           -411787.85   \n",
       "\n",
       "      MTD_Achievement    YTD_Budget     YTD_Sales  YTD Surplus/Deficit  \\\n",
       "0               48.95    1760726.49     861962.98           -898763.51   \n",
       "1               13.34    3354756.97    1918012.33          -1436744.65   \n",
       "2               11.16    5094646.46    3255201.42          -1839445.04   \n",
       "3               15.40    6761606.45    5004855.47          -1756750.98   \n",
       "4               11.96    8355636.93    6598977.29          -1756659.64   \n",
       "...               ...           ...           ...                  ...   \n",
       "1999             6.01  5,263,199.19  3,483,504.22          -1779694.97   \n",
       "2000             6.04  5,991,465.34  3,847,935.82          -2143529.52   \n",
       "2001             4.65  6,715,794.93  4,210,910.28          -2504884.65   \n",
       "2002             8.66  7,424,378.21  4,641,142.03          -2783236.19   \n",
       "2003             8.24  7,873,147.63  5,047,807.07          -2825340.55   \n",
       "\n",
       "      YTD_ACH (%)      Disease_Area  \n",
       "0           48.95  Vitamin&Minerals  \n",
       "1           57.17  Vitamin&Minerals  \n",
       "2           63.89  Vitamin&Minerals  \n",
       "3           74.02  Vitamin&Minerals  \n",
       "4           78.98  Vitamin&Minerals  \n",
       "...           ...               ...  \n",
       "1999        66.19   Alpha-1 Blocker  \n",
       "2000        64.22   Alpha-1 Blocker  \n",
       "2001        62.70   Alpha-1 Blocker  \n",
       "2002        62.51   Alpha-1 Blocker  \n",
       "2003        64.11   Alpha-1 Blocker  \n",
       "\n",
       "[2004 rows x 12 columns]"
      ]
     },
     "execution_count": 3,
     "metadata": {},
     "output_type": "execute_result"
    }
   ],
   "source": [
    "df"
   ]
  },
  {
   "cell_type": "markdown",
   "id": "66201b54",
   "metadata": {},
   "source": [
    "# drop out brand name which replace by id"
   ]
  },
  {
   "cell_type": "code",
   "execution_count": 4,
   "id": "bf6ebe66",
   "metadata": {},
   "outputs": [],
   "source": [
    "df=df.drop(['Brand_Name'],axis=1)"
   ]
  },
  {
   "cell_type": "code",
   "execution_count": 5,
   "id": "6509e80d",
   "metadata": {},
   "outputs": [
    {
     "data": {
      "text/html": [
       "<div>\n",
       "<style scoped>\n",
       "    .dataframe tbody tr th:only-of-type {\n",
       "        vertical-align: middle;\n",
       "    }\n",
       "\n",
       "    .dataframe tbody tr th {\n",
       "        vertical-align: top;\n",
       "    }\n",
       "\n",
       "    .dataframe thead th {\n",
       "        text-align: right;\n",
       "    }\n",
       "</style>\n",
       "<table border=\"1\" class=\"dataframe\">\n",
       "  <thead>\n",
       "    <tr style=\"text-align: right;\">\n",
       "      <th></th>\n",
       "      <th>Id</th>\n",
       "      <th>Month</th>\n",
       "      <th>MTD_Budget</th>\n",
       "      <th>MTD_Sales</th>\n",
       "      <th>MTD Surplus_Deficit</th>\n",
       "      <th>MTD_Achievement</th>\n",
       "      <th>YTD_Budget</th>\n",
       "      <th>YTD_Sales</th>\n",
       "      <th>YTD Surplus/Deficit</th>\n",
       "      <th>YTD_ACH (%)</th>\n",
       "      <th>Disease_Area</th>\n",
       "    </tr>\n",
       "  </thead>\n",
       "  <tbody>\n",
       "    <tr>\n",
       "      <th>0</th>\n",
       "      <td>9</td>\n",
       "      <td>January</td>\n",
       "      <td>1760726.49</td>\n",
       "      <td>861962.98</td>\n",
       "      <td>-898763.51</td>\n",
       "      <td>48.95</td>\n",
       "      <td>1760726.49</td>\n",
       "      <td>861962.98</td>\n",
       "      <td>-898763.51</td>\n",
       "      <td>48.95</td>\n",
       "      <td>Vitamin&amp;Minerals</td>\n",
       "    </tr>\n",
       "    <tr>\n",
       "      <th>1</th>\n",
       "      <td>9</td>\n",
       "      <td>February</td>\n",
       "      <td>1594030.49</td>\n",
       "      <td>212710.09</td>\n",
       "      <td>-1381320.40</td>\n",
       "      <td>13.34</td>\n",
       "      <td>3354756.97</td>\n",
       "      <td>1918012.33</td>\n",
       "      <td>-1436744.65</td>\n",
       "      <td>57.17</td>\n",
       "      <td>Vitamin&amp;Minerals</td>\n",
       "    </tr>\n",
       "    <tr>\n",
       "      <th>2</th>\n",
       "      <td>9</td>\n",
       "      <td>March</td>\n",
       "      <td>1739889.49</td>\n",
       "      <td>194239.88</td>\n",
       "      <td>-1545649.61</td>\n",
       "      <td>11.16</td>\n",
       "      <td>5094646.46</td>\n",
       "      <td>3255201.42</td>\n",
       "      <td>-1839445.04</td>\n",
       "      <td>63.89</td>\n",
       "      <td>Vitamin&amp;Minerals</td>\n",
       "    </tr>\n",
       "    <tr>\n",
       "      <th>3</th>\n",
       "      <td>9</td>\n",
       "      <td>April</td>\n",
       "      <td>1666959.99</td>\n",
       "      <td>256641.30</td>\n",
       "      <td>-1410318.68</td>\n",
       "      <td>15.40</td>\n",
       "      <td>6761606.45</td>\n",
       "      <td>5004855.47</td>\n",
       "      <td>-1756750.98</td>\n",
       "      <td>74.02</td>\n",
       "      <td>Vitamin&amp;Minerals</td>\n",
       "    </tr>\n",
       "    <tr>\n",
       "      <th>4</th>\n",
       "      <td>9</td>\n",
       "      <td>May</td>\n",
       "      <td>1594030.49</td>\n",
       "      <td>190588.85</td>\n",
       "      <td>-1403441.64</td>\n",
       "      <td>11.96</td>\n",
       "      <td>8355636.93</td>\n",
       "      <td>6598977.29</td>\n",
       "      <td>-1756659.64</td>\n",
       "      <td>78.98</td>\n",
       "      <td>Vitamin&amp;Minerals</td>\n",
       "    </tr>\n",
       "    <tr>\n",
       "      <th>...</th>\n",
       "      <td>...</td>\n",
       "      <td>...</td>\n",
       "      <td>...</td>\n",
       "      <td>...</td>\n",
       "      <td>...</td>\n",
       "      <td>...</td>\n",
       "      <td>...</td>\n",
       "      <td>...</td>\n",
       "      <td>...</td>\n",
       "      <td>...</td>\n",
       "      <td>...</td>\n",
       "    </tr>\n",
       "    <tr>\n",
       "      <th>1999</th>\n",
       "      <td>85</td>\n",
       "      <td>August</td>\n",
       "      <td>728266.16</td>\n",
       "      <td>43793.44</td>\n",
       "      <td>-684472.72</td>\n",
       "      <td>6.01</td>\n",
       "      <td>5,263,199.19</td>\n",
       "      <td>3,483,504.22</td>\n",
       "      <td>-1779694.97</td>\n",
       "      <td>66.19</td>\n",
       "      <td>Alpha-1 Blocker</td>\n",
       "    </tr>\n",
       "    <tr>\n",
       "      <th>2000</th>\n",
       "      <td>85</td>\n",
       "      <td>September</td>\n",
       "      <td>728266.16</td>\n",
       "      <td>43974.00</td>\n",
       "      <td>-684292.16</td>\n",
       "      <td>6.04</td>\n",
       "      <td>5,991,465.34</td>\n",
       "      <td>3,847,935.82</td>\n",
       "      <td>-2143529.52</td>\n",
       "      <td>64.22</td>\n",
       "      <td>Alpha-1 Blocker</td>\n",
       "    </tr>\n",
       "    <tr>\n",
       "      <th>2001</th>\n",
       "      <td>85</td>\n",
       "      <td>October</td>\n",
       "      <td>724329.58</td>\n",
       "      <td>33700.50</td>\n",
       "      <td>-690629.08</td>\n",
       "      <td>4.65</td>\n",
       "      <td>6,715,794.93</td>\n",
       "      <td>4,210,910.28</td>\n",
       "      <td>-2504884.65</td>\n",
       "      <td>62.70</td>\n",
       "      <td>Alpha-1 Blocker</td>\n",
       "    </tr>\n",
       "    <tr>\n",
       "      <th>2002</th>\n",
       "      <td>85</td>\n",
       "      <td>November</td>\n",
       "      <td>708583.29</td>\n",
       "      <td>61385.63</td>\n",
       "      <td>-647197.66</td>\n",
       "      <td>8.66</td>\n",
       "      <td>7,424,378.21</td>\n",
       "      <td>4,641,142.03</td>\n",
       "      <td>-2783236.19</td>\n",
       "      <td>62.51</td>\n",
       "      <td>Alpha-1 Blocker</td>\n",
       "    </tr>\n",
       "    <tr>\n",
       "      <th>2003</th>\n",
       "      <td>85</td>\n",
       "      <td>December</td>\n",
       "      <td>448769.41</td>\n",
       "      <td>36981.56</td>\n",
       "      <td>-411787.85</td>\n",
       "      <td>8.24</td>\n",
       "      <td>7,873,147.63</td>\n",
       "      <td>5,047,807.07</td>\n",
       "      <td>-2825340.55</td>\n",
       "      <td>64.11</td>\n",
       "      <td>Alpha-1 Blocker</td>\n",
       "    </tr>\n",
       "  </tbody>\n",
       "</table>\n",
       "<p>2004 rows × 11 columns</p>\n",
       "</div>"
      ],
      "text/plain": [
       "      Id      Month  MTD_Budget  MTD_Sales  MTD Surplus_Deficit  \\\n",
       "0      9    January  1760726.49  861962.98           -898763.51   \n",
       "1      9   February  1594030.49  212710.09          -1381320.40   \n",
       "2      9      March  1739889.49  194239.88          -1545649.61   \n",
       "3      9      April  1666959.99  256641.30          -1410318.68   \n",
       "4      9        May  1594030.49  190588.85          -1403441.64   \n",
       "...   ..        ...         ...        ...                  ...   \n",
       "1999  85     August   728266.16   43793.44           -684472.72   \n",
       "2000  85  September   728266.16   43974.00           -684292.16   \n",
       "2001  85    October   724329.58   33700.50           -690629.08   \n",
       "2002  85   November   708583.29   61385.63           -647197.66   \n",
       "2003  85   December   448769.41   36981.56           -411787.85   \n",
       "\n",
       "      MTD_Achievement    YTD_Budget     YTD_Sales  YTD Surplus/Deficit  \\\n",
       "0               48.95    1760726.49     861962.98           -898763.51   \n",
       "1               13.34    3354756.97    1918012.33          -1436744.65   \n",
       "2               11.16    5094646.46    3255201.42          -1839445.04   \n",
       "3               15.40    6761606.45    5004855.47          -1756750.98   \n",
       "4               11.96    8355636.93    6598977.29          -1756659.64   \n",
       "...               ...           ...           ...                  ...   \n",
       "1999             6.01  5,263,199.19  3,483,504.22          -1779694.97   \n",
       "2000             6.04  5,991,465.34  3,847,935.82          -2143529.52   \n",
       "2001             4.65  6,715,794.93  4,210,910.28          -2504884.65   \n",
       "2002             8.66  7,424,378.21  4,641,142.03          -2783236.19   \n",
       "2003             8.24  7,873,147.63  5,047,807.07          -2825340.55   \n",
       "\n",
       "      YTD_ACH (%)      Disease_Area  \n",
       "0           48.95  Vitamin&Minerals  \n",
       "1           57.17  Vitamin&Minerals  \n",
       "2           63.89  Vitamin&Minerals  \n",
       "3           74.02  Vitamin&Minerals  \n",
       "4           78.98  Vitamin&Minerals  \n",
       "...           ...               ...  \n",
       "1999        66.19   Alpha-1 Blocker  \n",
       "2000        64.22   Alpha-1 Blocker  \n",
       "2001        62.70   Alpha-1 Blocker  \n",
       "2002        62.51   Alpha-1 Blocker  \n",
       "2003        64.11   Alpha-1 Blocker  \n",
       "\n",
       "[2004 rows x 11 columns]"
      ]
     },
     "execution_count": 5,
     "metadata": {},
     "output_type": "execute_result"
    }
   ],
   "source": [
    "df"
   ]
  },
  {
   "cell_type": "markdown",
   "id": "cf711412",
   "metadata": {},
   "source": [
    "# check null or empty value in dataset"
   ]
  },
  {
   "cell_type": "code",
   "execution_count": 6,
   "id": "045b623c",
   "metadata": {},
   "outputs": [
    {
     "data": {
      "text/plain": [
       "Id                     0\n",
       "Month                  0\n",
       "MTD_Budget             0\n",
       "MTD_Sales              0\n",
       "MTD Surplus_Deficit    0\n",
       "MTD_Achievement        0\n",
       "YTD_Budget             0\n",
       "YTD_Sales              0\n",
       "YTD Surplus/Deficit    0\n",
       "YTD_ACH (%)            0\n",
       "Disease_Area           0\n",
       "dtype: int64"
      ]
     },
     "execution_count": 6,
     "metadata": {},
     "output_type": "execute_result"
    }
   ],
   "source": [
    "df.isnull().sum()"
   ]
  },
  {
   "cell_type": "markdown",
   "id": "37b5d762",
   "metadata": {},
   "source": [
    "# dataframe in array all features"
   ]
  },
  {
   "cell_type": "code",
   "execution_count": 7,
   "id": "567cd51c",
   "metadata": {},
   "outputs": [
    {
     "data": {
      "text/html": [
       "<div>\n",
       "<style scoped>\n",
       "    .dataframe tbody tr th:only-of-type {\n",
       "        vertical-align: middle;\n",
       "    }\n",
       "\n",
       "    .dataframe tbody tr th {\n",
       "        vertical-align: top;\n",
       "    }\n",
       "\n",
       "    .dataframe thead th {\n",
       "        text-align: right;\n",
       "    }\n",
       "</style>\n",
       "<table border=\"1\" class=\"dataframe\">\n",
       "  <thead>\n",
       "    <tr style=\"text-align: right;\">\n",
       "      <th></th>\n",
       "      <th>Id</th>\n",
       "      <th>Month</th>\n",
       "      <th>MTD_Budget</th>\n",
       "      <th>MTD_Sales</th>\n",
       "      <th>MTD Surplus_Deficit</th>\n",
       "      <th>MTD_Achievement</th>\n",
       "      <th>Disease_Area</th>\n",
       "    </tr>\n",
       "  </thead>\n",
       "  <tbody>\n",
       "    <tr>\n",
       "      <th>0</th>\n",
       "      <td>9</td>\n",
       "      <td>January</td>\n",
       "      <td>1760726.49</td>\n",
       "      <td>861962.98</td>\n",
       "      <td>-898763.51</td>\n",
       "      <td>48.95</td>\n",
       "      <td>Vitamin&amp;Minerals</td>\n",
       "    </tr>\n",
       "    <tr>\n",
       "      <th>1</th>\n",
       "      <td>9</td>\n",
       "      <td>February</td>\n",
       "      <td>1594030.49</td>\n",
       "      <td>212710.09</td>\n",
       "      <td>-1381320.40</td>\n",
       "      <td>13.34</td>\n",
       "      <td>Vitamin&amp;Minerals</td>\n",
       "    </tr>\n",
       "    <tr>\n",
       "      <th>2</th>\n",
       "      <td>9</td>\n",
       "      <td>March</td>\n",
       "      <td>1739889.49</td>\n",
       "      <td>194239.88</td>\n",
       "      <td>-1545649.61</td>\n",
       "      <td>11.16</td>\n",
       "      <td>Vitamin&amp;Minerals</td>\n",
       "    </tr>\n",
       "    <tr>\n",
       "      <th>3</th>\n",
       "      <td>9</td>\n",
       "      <td>April</td>\n",
       "      <td>1666959.99</td>\n",
       "      <td>256641.30</td>\n",
       "      <td>-1410318.68</td>\n",
       "      <td>15.40</td>\n",
       "      <td>Vitamin&amp;Minerals</td>\n",
       "    </tr>\n",
       "    <tr>\n",
       "      <th>4</th>\n",
       "      <td>9</td>\n",
       "      <td>May</td>\n",
       "      <td>1594030.49</td>\n",
       "      <td>190588.85</td>\n",
       "      <td>-1403441.64</td>\n",
       "      <td>11.96</td>\n",
       "      <td>Vitamin&amp;Minerals</td>\n",
       "    </tr>\n",
       "    <tr>\n",
       "      <th>...</th>\n",
       "      <td>...</td>\n",
       "      <td>...</td>\n",
       "      <td>...</td>\n",
       "      <td>...</td>\n",
       "      <td>...</td>\n",
       "      <td>...</td>\n",
       "      <td>...</td>\n",
       "    </tr>\n",
       "    <tr>\n",
       "      <th>1999</th>\n",
       "      <td>85</td>\n",
       "      <td>August</td>\n",
       "      <td>728266.16</td>\n",
       "      <td>43793.44</td>\n",
       "      <td>-684472.72</td>\n",
       "      <td>6.01</td>\n",
       "      <td>Alpha-1 Blocker</td>\n",
       "    </tr>\n",
       "    <tr>\n",
       "      <th>2000</th>\n",
       "      <td>85</td>\n",
       "      <td>September</td>\n",
       "      <td>728266.16</td>\n",
       "      <td>43974.00</td>\n",
       "      <td>-684292.16</td>\n",
       "      <td>6.04</td>\n",
       "      <td>Alpha-1 Blocker</td>\n",
       "    </tr>\n",
       "    <tr>\n",
       "      <th>2001</th>\n",
       "      <td>85</td>\n",
       "      <td>October</td>\n",
       "      <td>724329.58</td>\n",
       "      <td>33700.50</td>\n",
       "      <td>-690629.08</td>\n",
       "      <td>4.65</td>\n",
       "      <td>Alpha-1 Blocker</td>\n",
       "    </tr>\n",
       "    <tr>\n",
       "      <th>2002</th>\n",
       "      <td>85</td>\n",
       "      <td>November</td>\n",
       "      <td>708583.29</td>\n",
       "      <td>61385.63</td>\n",
       "      <td>-647197.66</td>\n",
       "      <td>8.66</td>\n",
       "      <td>Alpha-1 Blocker</td>\n",
       "    </tr>\n",
       "    <tr>\n",
       "      <th>2003</th>\n",
       "      <td>85</td>\n",
       "      <td>December</td>\n",
       "      <td>448769.41</td>\n",
       "      <td>36981.56</td>\n",
       "      <td>-411787.85</td>\n",
       "      <td>8.24</td>\n",
       "      <td>Alpha-1 Blocker</td>\n",
       "    </tr>\n",
       "  </tbody>\n",
       "</table>\n",
       "<p>2004 rows × 7 columns</p>\n",
       "</div>"
      ],
      "text/plain": [
       "      Id      Month  MTD_Budget  MTD_Sales  MTD Surplus_Deficit  \\\n",
       "0      9    January  1760726.49  861962.98           -898763.51   \n",
       "1      9   February  1594030.49  212710.09          -1381320.40   \n",
       "2      9      March  1739889.49  194239.88          -1545649.61   \n",
       "3      9      April  1666959.99  256641.30          -1410318.68   \n",
       "4      9        May  1594030.49  190588.85          -1403441.64   \n",
       "...   ..        ...         ...        ...                  ...   \n",
       "1999  85     August   728266.16   43793.44           -684472.72   \n",
       "2000  85  September   728266.16   43974.00           -684292.16   \n",
       "2001  85    October   724329.58   33700.50           -690629.08   \n",
       "2002  85   November   708583.29   61385.63           -647197.66   \n",
       "2003  85   December   448769.41   36981.56           -411787.85   \n",
       "\n",
       "      MTD_Achievement      Disease_Area  \n",
       "0               48.95  Vitamin&Minerals  \n",
       "1               13.34  Vitamin&Minerals  \n",
       "2               11.16  Vitamin&Minerals  \n",
       "3               15.40  Vitamin&Minerals  \n",
       "4               11.96  Vitamin&Minerals  \n",
       "...               ...               ...  \n",
       "1999             6.01   Alpha-1 Blocker  \n",
       "2000             6.04   Alpha-1 Blocker  \n",
       "2001             4.65   Alpha-1 Blocker  \n",
       "2002             8.66   Alpha-1 Blocker  \n",
       "2003             8.24   Alpha-1 Blocker  \n",
       "\n",
       "[2004 rows x 7 columns]"
      ]
     },
     "execution_count": 7,
     "metadata": {},
     "output_type": "execute_result"
    }
   ],
   "source": [
    "df[['Id','Month','MTD_Budget','MTD_Sales','MTD Surplus_Deficit','MTD_Achievement','Disease_Area']]"
   ]
  },
  {
   "cell_type": "markdown",
   "id": "63d1b096",
   "metadata": {},
   "source": [
    "# statatical analysis all data"
   ]
  },
  {
   "cell_type": "code",
   "execution_count": 8,
   "id": "40e67f6c",
   "metadata": {},
   "outputs": [
    {
     "data": {
      "text/html": [
       "<div>\n",
       "<style scoped>\n",
       "    .dataframe tbody tr th:only-of-type {\n",
       "        vertical-align: middle;\n",
       "    }\n",
       "\n",
       "    .dataframe tbody tr th {\n",
       "        vertical-align: top;\n",
       "    }\n",
       "\n",
       "    .dataframe thead th {\n",
       "        text-align: right;\n",
       "    }\n",
       "</style>\n",
       "<table border=\"1\" class=\"dataframe\">\n",
       "  <thead>\n",
       "    <tr style=\"text-align: right;\">\n",
       "      <th></th>\n",
       "      <th>Id</th>\n",
       "      <th>MTD_Budget</th>\n",
       "      <th>MTD_Sales</th>\n",
       "      <th>MTD Surplus_Deficit</th>\n",
       "      <th>MTD_Achievement</th>\n",
       "      <th>YTD Surplus/Deficit</th>\n",
       "      <th>YTD_ACH (%)</th>\n",
       "    </tr>\n",
       "  </thead>\n",
       "  <tbody>\n",
       "    <tr>\n",
       "      <th>count</th>\n",
       "      <td>2004.000000</td>\n",
       "      <td>2.004000e+03</td>\n",
       "      <td>2.004000e+03</td>\n",
       "      <td>2.004000e+03</td>\n",
       "      <td>2004.000000</td>\n",
       "      <td>2.004000e+03</td>\n",
       "      <td>2004.000000</td>\n",
       "    </tr>\n",
       "    <tr>\n",
       "      <th>mean</th>\n",
       "      <td>83.796407</td>\n",
       "      <td>8.170753e+06</td>\n",
       "      <td>1.321855e+06</td>\n",
       "      <td>-6.860362e+06</td>\n",
       "      <td>19.620664</td>\n",
       "      <td>-1.370251e+07</td>\n",
       "      <td>74.964441</td>\n",
       "    </tr>\n",
       "    <tr>\n",
       "      <th>std</th>\n",
       "      <td>48.534782</td>\n",
       "      <td>1.675254e+07</td>\n",
       "      <td>3.474201e+06</td>\n",
       "      <td>1.400907e+07</td>\n",
       "      <td>39.061523</td>\n",
       "      <td>3.447091e+07</td>\n",
       "      <td>63.154341</td>\n",
       "    </tr>\n",
       "    <tr>\n",
       "      <th>min</th>\n",
       "      <td>1.000000</td>\n",
       "      <td>5.723983e+04</td>\n",
       "      <td>1.458800e+02</td>\n",
       "      <td>-9.473522e+07</td>\n",
       "      <td>0.030000</td>\n",
       "      <td>-2.554013e+08</td>\n",
       "      <td>0.000000</td>\n",
       "    </tr>\n",
       "    <tr>\n",
       "      <th>25%</th>\n",
       "      <td>41.000000</td>\n",
       "      <td>7.650692e+05</td>\n",
       "      <td>7.807314e+04</td>\n",
       "      <td>-5.941172e+06</td>\n",
       "      <td>7.790000</td>\n",
       "      <td>-1.128494e+07</td>\n",
       "      <td>50.952500</td>\n",
       "    </tr>\n",
       "    <tr>\n",
       "      <th>50%</th>\n",
       "      <td>83.000000</td>\n",
       "      <td>2.071066e+06</td>\n",
       "      <td>2.554653e+05</td>\n",
       "      <td>-1.684675e+06</td>\n",
       "      <td>11.445000</td>\n",
       "      <td>-2.852662e+06</td>\n",
       "      <td>71.745000</td>\n",
       "    </tr>\n",
       "    <tr>\n",
       "      <th>75%</th>\n",
       "      <td>126.000000</td>\n",
       "      <td>6.643402e+06</td>\n",
       "      <td>8.874573e+05</td>\n",
       "      <td>-5.968006e+05</td>\n",
       "      <td>16.182500</td>\n",
       "      <td>-8.297154e+05</td>\n",
       "      <td>85.080000</td>\n",
       "    </tr>\n",
       "    <tr>\n",
       "      <th>max</th>\n",
       "      <td>168.000000</td>\n",
       "      <td>1.090395e+08</td>\n",
       "      <td>4.711580e+07</td>\n",
       "      <td>8.672889e+06</td>\n",
       "      <td>912.490000</td>\n",
       "      <td>1.241689e+08</td>\n",
       "      <td>836.150000</td>\n",
       "    </tr>\n",
       "  </tbody>\n",
       "</table>\n",
       "</div>"
      ],
      "text/plain": [
       "                Id    MTD_Budget     MTD_Sales  MTD Surplus_Deficit  \\\n",
       "count  2004.000000  2.004000e+03  2.004000e+03         2.004000e+03   \n",
       "mean     83.796407  8.170753e+06  1.321855e+06        -6.860362e+06   \n",
       "std      48.534782  1.675254e+07  3.474201e+06         1.400907e+07   \n",
       "min       1.000000  5.723983e+04  1.458800e+02        -9.473522e+07   \n",
       "25%      41.000000  7.650692e+05  7.807314e+04        -5.941172e+06   \n",
       "50%      83.000000  2.071066e+06  2.554653e+05        -1.684675e+06   \n",
       "75%     126.000000  6.643402e+06  8.874573e+05        -5.968006e+05   \n",
       "max     168.000000  1.090395e+08  4.711580e+07         8.672889e+06   \n",
       "\n",
       "       MTD_Achievement  YTD Surplus/Deficit  YTD_ACH (%)  \n",
       "count      2004.000000         2.004000e+03  2004.000000  \n",
       "mean         19.620664        -1.370251e+07    74.964441  \n",
       "std          39.061523         3.447091e+07    63.154341  \n",
       "min           0.030000        -2.554013e+08     0.000000  \n",
       "25%           7.790000        -1.128494e+07    50.952500  \n",
       "50%          11.445000        -2.852662e+06    71.745000  \n",
       "75%          16.182500        -8.297154e+05    85.080000  \n",
       "max         912.490000         1.241689e+08   836.150000  "
      ]
     },
     "execution_count": 8,
     "metadata": {},
     "output_type": "execute_result"
    }
   ],
   "source": [
    "df.describe()"
   ]
  },
  {
   "cell_type": "markdown",
   "id": "4db3a96e",
   "metadata": {},
   "source": [
    "# corelation budget,sales,surplus,achievement to check any features <1"
   ]
  },
  {
   "cell_type": "code",
   "execution_count": 9,
   "id": "f274b12d",
   "metadata": {},
   "outputs": [],
   "source": [
    "df=df[['Id','Month','MTD_Budget','MTD_Sales','MTD Surplus_Deficit','MTD_Achievement','Disease_Area']]\n",
    "corelation=df[['MTD_Budget','MTD_Sales','MTD Surplus_Deficit','MTD_Achievement']]"
   ]
  },
  {
   "cell_type": "code",
   "execution_count": 10,
   "id": "8b2646b0",
   "metadata": {},
   "outputs": [
    {
     "data": {
      "text/plain": [
       "<AxesSubplot:>"
      ]
     },
     "execution_count": 10,
     "metadata": {},
     "output_type": "execute_result"
    },
    {
     "data": {
      "image/png": "[encoded data removed]",
      "text/plain": [
       "<Figure size 432x288 with 2 Axes>"
      ]
     },
     "metadata": {
      "needs_background": "light"
     },
     "output_type": "display_data"
    }
   ],
   "source": [
    "sns.heatmap(corelation.corr(),annot=True,fmt='0.2f')"
   ]
  },
  {
   "cell_type": "markdown",
   "id": "0ff17dda",
   "metadata": {},
   "source": [
    "# monthly sales analysis"
   ]
  },
  {
   "cell_type": "code",
   "execution_count": 11,
   "id": "64aed0da",
   "metadata": {},
   "outputs": [
    {
     "name": "stdout",
     "output_type": "stream",
     "text": [
      "January   =    664411586.72\n",
      "February   =    171899046.8\n",
      "March   =    147094628.99\n",
      "April   =    184445973.3700001\n",
      "May   =    150319587.01000002\n",
      "June   =    163667919.45000002\n",
      "July   =    179011678.06\n",
      "August   =    241714736.65000007\n",
      "September   =    222900478.77000013\n",
      "October   =    187105365.73999998\n",
      "November   =    207769615.66000006\n",
      "December   =    128655869.00000001\n"
     ]
    }
   ],
   "source": [
    "lis=[sum(df[df['Month']==i]['MTD_Sales']) for i in df['Month'].unique()]\n",
    "for i in range(0,len(lis)):\n",
    "    print(f\"{df['Month'].unique()[i]}   =    {lis[i]}\")"
   ]
  },
  {
   "cell_type": "markdown",
   "id": "be92c5ce",
   "metadata": {},
   "source": [
    "# id wise sales analysis"
   ]
  },
  {
   "cell_type": "code",
   "execution_count": 12,
   "id": "fa657cfd",
   "metadata": {},
   "outputs": [
    {
     "name": "stdout",
     "output_type": "stream",
     "text": [
      "9   =    3454534.34\n",
      "15   =    1583115.8199999998\n",
      "16   =    47648230.5\n",
      "22   =    2673604.57\n",
      "30   =    32935608.570000004\n",
      "42   =    18178770.599999998\n",
      "76   =    5740137.449999999\n",
      "83   =    7872367.34\n",
      "88   =    1131362.6700000002\n",
      "101   =    68598776.43\n",
      "161   =    6489362.59\n",
      "99   =    587706.29\n",
      "114   =    3846163.63\n",
      "34   =    1614875.5400000003\n",
      "67   =    373203.91\n",
      "154   =    967308.92\n",
      "140   =    2491045.9799999995\n",
      "119   =    13487564.7\n",
      "84   =    342553.20999999996\n",
      "139   =    1267156.8800000001\n",
      "13   =    3132371.08\n",
      "45   =    20430574.240000002\n",
      "41   =    1229156.4400000002\n",
      "115   =    3903005.840000001\n",
      "128   =    2816083.6599999997\n",
      "136   =    174692219.27999997\n",
      "164   =    1617298.0499999996\n",
      "165   =    7033828.3100000005\n",
      "21   =    2999859.26\n",
      "133   =    6650771.419999998\n",
      "79   =    111659.17999999998\n",
      "86   =    4049197.17\n",
      "10   =    4522875.72\n",
      "5   =    14154953.559999995\n",
      "149   =    735269.23\n",
      "28   =    12571058.389999999\n",
      "56   =    344814.39\n",
      "64   =    4509207.28\n",
      "137   =    24453847.650000002\n",
      "146   =    23176669.459999997\n",
      "78   =    939049.5599999999\n",
      "118   =    6390475.449999999\n",
      "35   =    41378779.85\n",
      "95   =    392380.15\n",
      "107   =    4508997.899999999\n",
      "6   =    1275226.88\n",
      "52   =    6329822.67\n",
      "57   =    1127409.21\n",
      "59   =    11119998.700000003\n",
      "7   =    1887889.4799999997\n",
      "14   =    4832438.699999999\n",
      "32   =    2978198.3900000006\n",
      "33   =    4611941.0200000005\n",
      "43   =    1853089.71\n",
      "66   =    29413405.619999997\n",
      "71   =    1507273.52\n",
      "72   =    701510.34\n",
      "89   =    1055981.6\n",
      "90   =    9925811.129999999\n",
      "94   =    61109932.870000005\n",
      "96   =    489581.32999999996\n",
      "100   =    7635064.76\n",
      "106   =    100247770.85\n",
      "113   =    4410266.38\n",
      "121   =    1823016.5399999998\n",
      "135   =    483907.02\n",
      "39   =    22956075.110000003\n",
      "102   =    14525735.959999997\n",
      "159   =    333146.74000000005\n",
      "58   =    1441131.7\n",
      "129   =    4334539.92\n",
      "127   =    4312610.21\n",
      "117   =    678799.3\n",
      "37   =    3385155.35\n",
      "36   =    7880810.7299999995\n",
      "108   =    13438063.700000003\n",
      "130   =    1558898.1900000002\n",
      "2   =    44388088.879999995\n",
      "3   =    10468133.340000002\n",
      "4   =    16303114.99\n",
      "8   =    9254504.44\n",
      "12   =    38135245.33\n",
      "18   =    8374215.63\n",
      "38   =    2687948.96\n",
      "112   =    8736048.08\n",
      "116   =    1340139.5099999998\n",
      "134   =    6613476.09\n",
      "148   =    1968522.2\n",
      "27   =    5305487.34\n",
      "158   =    676850.4199999999\n",
      "92   =    1112364.5799999998\n",
      "124   =    701757.57\n",
      "131   =    563971.4299999999\n",
      "144   =    1854199.3599999999\n",
      "162   =    4291301.330000001\n",
      "11   =    13922385.43\n",
      "68   =    2726119.9399999995\n",
      "69   =    6787811.77\n",
      "70   =    13442820.770000001\n",
      "141   =    1808998.76\n",
      "49   =    379617.61999999994\n",
      "65   =    53863.15\n",
      "77   =    112137.82\n",
      "80   =    39904710.03\n",
      "81   =    5053154.4799999995\n",
      "104   =    67513.6\n",
      "123   =    603758.2400000001\n",
      "143   =    210009.05000000002\n",
      "157   =    545031.85\n",
      "17   =    10105644.149999999\n",
      "168   =    11868060.319999998\n",
      "53   =    2557791.0999999996\n",
      "40   =    13796168.12\n",
      "103   =    877733.2800000003\n",
      "20   =    16864893.96\n",
      "23   =    4367466.140000001\n",
      "24   =    802238.7599999999\n",
      "25   =    2557769.75\n",
      "26   =    21177143.490000002\n",
      "31   =    2576950.24\n",
      "50   =    1013184.0199999999\n",
      "60   =    75527832.72\n",
      "61   =    107323410.47\n",
      "62   =    153642553.76\n",
      "73   =    2378415.1799999997\n",
      "91   =    57986054.99000001\n",
      "111   =    172189963.72\n",
      "126   =    5483830.39\n",
      "147   =    9672912.55\n",
      "156   =    1478809.0499999998\n",
      "166   =    3097725.59\n",
      "167   =    162001315.28999996\n",
      "160   =    4235343.95\n",
      "155   =    1561827.31\n",
      "120   =    18807029.1\n",
      "122   =    1269409.5299999998\n",
      "1   =    191363101.77999997\n",
      "97   =    3670398.71\n",
      "93   =    584308.01\n",
      "74   =    728374.1999999998\n",
      "151   =    4710657.38\n",
      "152   =    596546.83\n",
      "55   =    178728186.05\n",
      "110   =    1829023.8599999999\n",
      "145   =    3990654.8299999996\n",
      "105   =    20102399.03\n",
      "54   =    2694159.2199999997\n",
      "29   =    3714848.4500000007\n",
      "44   =    6059435.399999999\n",
      "82   =    20337584.340000004\n",
      "163   =    32608096.44\n",
      "47   =    1372910.8199999998\n",
      "63   =    30179999.210000005\n",
      "46   =    4370387.81\n",
      "51   =    5310650.2\n",
      "132   =    44315287.589999996\n",
      "138   =    987466.89\n",
      "109   =    41052070.83\n",
      "125   =    2863286.21\n",
      "153   =    10062521.46\n",
      "19   =    2864040.1499999994\n",
      "48   =    65094.17999999999\n",
      "75   =    297074.65\n",
      "142   =    102766.21000000002\n",
      "98   =    1049617.43\n",
      "85   =    1078403.0399999998\n"
     ]
    }
   ],
   "source": [
    "lis=[sum(df[df['Id']==i]['MTD_Sales']) for i in df['Id'].unique()]\n",
    "for i in range(0,len(lis)):\n",
    "    print(f\"{df['Id'].unique()[i]}   =    {lis[i]}\")"
   ]
  },
  {
   "cell_type": "markdown",
   "id": "c5c00e3c",
   "metadata": {},
   "source": [
    "# diasease category replace by number (label encoding technique)"
   ]
  },
  {
   "cell_type": "code",
   "execution_count": 13,
   "id": "0a8b9410",
   "metadata": {},
   "outputs": [
    {
     "name": "stderr",
     "output_type": "stream",
     "text": [
      "<ipython-input-13-1e79941c9d90>:1: SettingWithCopyWarning: \n",
      "A value is trying to be set on a copy of a slice from a DataFrame.\n",
      "Try using .loc[row_indexer,col_indexer] = value instead\n",
      "\n",
      "See the caveats in the documentation: https://pandas.pydata.org/pandas-docs/stable/user_guide/indexing.html#returning-a-view-versus-a-copy\n",
      "  df['Disease_Area']=df['Disease_Area'].replace('Vitamin&Minerals',1)\n",
      "<ipython-input-13-1e79941c9d90>:2: SettingWithCopyWarning: \n",
      "A value is trying to be set on a copy of a slice from a DataFrame.\n",
      "Try using .loc[row_indexer,col_indexer] = value instead\n",
      "\n",
      "See the caveats in the documentation: https://pandas.pydata.org/pandas-docs/stable/user_guide/indexing.html#returning-a-view-versus-a-copy\n",
      "  df['Disease_Area']=df['Disease_Area'].replace('Uterotonic Agent',2)\n",
      "<ipython-input-13-1e79941c9d90>:3: SettingWithCopyWarning: \n",
      "A value is trying to be set on a copy of a slice from a DataFrame.\n",
      "Try using .loc[row_indexer,col_indexer] = value instead\n",
      "\n",
      "See the caveats in the documentation: https://pandas.pydata.org/pandas-docs/stable/user_guide/indexing.html#returning-a-view-versus-a-copy\n",
      "  df['Disease_Area']=df['Disease_Area'].replace('Urological',3)\n",
      "<ipython-input-13-1e79941c9d90>:4: SettingWithCopyWarning: \n",
      "A value is trying to be set on a copy of a slice from a DataFrame.\n",
      "Try using .loc[row_indexer,col_indexer] = value instead\n",
      "\n",
      "See the caveats in the documentation: https://pandas.pydata.org/pandas-docs/stable/user_guide/indexing.html#returning-a-view-versus-a-copy\n",
      "  df['Disease_Area']=df['Disease_Area'].replace('Thrombolytic',4)\n",
      "<ipython-input-13-1e79941c9d90>:5: SettingWithCopyWarning: \n",
      "A value is trying to be set on a copy of a slice from a DataFrame.\n",
      "Try using .loc[row_indexer,col_indexer] = value instead\n",
      "\n",
      "See the caveats in the documentation: https://pandas.pydata.org/pandas-docs/stable/user_guide/indexing.html#returning-a-view-versus-a-copy\n",
      "  df['Disease_Area']=df['Disease_Area'].replace('Spasmolytics',5)\n",
      "<ipython-input-13-1e79941c9d90>:6: SettingWithCopyWarning: \n",
      "A value is trying to be set on a copy of a slice from a DataFrame.\n",
      "Try using .loc[row_indexer,col_indexer] = value instead\n",
      "\n",
      "See the caveats in the documentation: https://pandas.pydata.org/pandas-docs/stable/user_guide/indexing.html#returning-a-view-versus-a-copy\n",
      "  df['Disease_Area']=df['Disease_Area'].replace('Serotonin Syndrome',6)\n",
      "<ipython-input-13-1e79941c9d90>:7: SettingWithCopyWarning: \n",
      "A value is trying to be set on a copy of a slice from a DataFrame.\n",
      "Try using .loc[row_indexer,col_indexer] = value instead\n",
      "\n",
      "See the caveats in the documentation: https://pandas.pydata.org/pandas-docs/stable/user_guide/indexing.html#returning-a-view-versus-a-copy\n",
      "  df['Disease_Area']=df['Disease_Area'].replace('Parkinsons disease',7)\n",
      "<ipython-input-13-1e79941c9d90>:8: SettingWithCopyWarning: \n",
      "A value is trying to be set on a copy of a slice from a DataFrame.\n",
      "Try using .loc[row_indexer,col_indexer] = value instead\n",
      "\n",
      "See the caveats in the documentation: https://pandas.pydata.org/pandas-docs/stable/user_guide/indexing.html#returning-a-view-versus-a-copy\n",
      "  df['Disease_Area']=df['Disease_Area'].replace('Oral redydration',8)\n",
      "<ipython-input-13-1e79941c9d90>:9: SettingWithCopyWarning: \n",
      "A value is trying to be set on a copy of a slice from a DataFrame.\n",
      "Try using .loc[row_indexer,col_indexer] = value instead\n",
      "\n",
      "See the caveats in the documentation: https://pandas.pydata.org/pandas-docs/stable/user_guide/indexing.html#returning-a-view-versus-a-copy\n",
      "  df['Disease_Area']=df['Disease_Area'].replace('Oral contraception',9)\n",
      "<ipython-input-13-1e79941c9d90>:10: SettingWithCopyWarning: \n",
      "A value is trying to be set on a copy of a slice from a DataFrame.\n",
      "Try using .loc[row_indexer,col_indexer] = value instead\n",
      "\n",
      "See the caveats in the documentation: https://pandas.pydata.org/pandas-docs/stable/user_guide/indexing.html#returning-a-view-versus-a-copy\n",
      "  df['Disease_Area']=df['Disease_Area'].replace('Nsaids',10)\n",
      "<ipython-input-13-1e79941c9d90>:11: SettingWithCopyWarning: \n",
      "A value is trying to be set on a copy of a slice from a DataFrame.\n",
      "Try using .loc[row_indexer,col_indexer] = value instead\n",
      "\n",
      "See the caveats in the documentation: https://pandas.pydata.org/pandas-docs/stable/user_guide/indexing.html#returning-a-view-versus-a-copy\n",
      "  df['Disease_Area']=df['Disease_Area'].replace('Natural Progesterone',11)\n",
      "<ipython-input-13-1e79941c9d90>:12: SettingWithCopyWarning: \n",
      "A value is trying to be set on a copy of a slice from a DataFrame.\n",
      "Try using .loc[row_indexer,col_indexer] = value instead\n",
      "\n",
      "See the caveats in the documentation: https://pandas.pydata.org/pandas-docs/stable/user_guide/indexing.html#returning-a-view-versus-a-copy\n",
      "  df['Disease_Area']=df['Disease_Area'].replace('Myelodysplastic Syndrome',12)\n",
      "<ipython-input-13-1e79941c9d90>:13: SettingWithCopyWarning: \n",
      "A value is trying to be set on a copy of a slice from a DataFrame.\n",
      "Try using .loc[row_indexer,col_indexer] = value instead\n",
      "\n",
      "See the caveats in the documentation: https://pandas.pydata.org/pandas-docs/stable/user_guide/indexing.html#returning-a-view-versus-a-copy\n",
      "  df['Disease_Area']=df['Disease_Area'].replace('Muscle Relaxant',13)\n",
      "<ipython-input-13-1e79941c9d90>:14: SettingWithCopyWarning: \n",
      "A value is trying to be set on a copy of a slice from a DataFrame.\n",
      "Try using .loc[row_indexer,col_indexer] = value instead\n",
      "\n",
      "See the caveats in the documentation: https://pandas.pydata.org/pandas-docs/stable/user_guide/indexing.html#returning-a-view-versus-a-copy\n",
      "  df['Disease_Area']=df['Disease_Area'].replace('Menieres Disease',14)\n",
      "<ipython-input-13-1e79941c9d90>:15: SettingWithCopyWarning: \n",
      "A value is trying to be set on a copy of a slice from a DataFrame.\n",
      "Try using .loc[row_indexer,col_indexer] = value instead\n",
      "\n",
      "See the caveats in the documentation: https://pandas.pydata.org/pandas-docs/stable/user_guide/indexing.html#returning-a-view-versus-a-copy\n",
      "  df['Disease_Area']=df['Disease_Area'].replace('Male Sex Hormone',15)\n",
      "<ipython-input-13-1e79941c9d90>:16: SettingWithCopyWarning: \n",
      "A value is trying to be set on a copy of a slice from a DataFrame.\n",
      "Try using .loc[row_indexer,col_indexer] = value instead\n",
      "\n",
      "See the caveats in the documentation: https://pandas.pydata.org/pandas-docs/stable/user_guide/indexing.html#returning-a-view-versus-a-copy\n",
      "  df['Disease_Area']=df['Disease_Area'].replace('Major Depressive Disorder',16)\n",
      "<ipython-input-13-1e79941c9d90>:17: SettingWithCopyWarning: \n",
      "A value is trying to be set on a copy of a slice from a DataFrame.\n",
      "Try using .loc[row_indexer,col_indexer] = value instead\n",
      "\n",
      "See the caveats in the documentation: https://pandas.pydata.org/pandas-docs/stable/user_guide/indexing.html#returning-a-view-versus-a-copy\n",
      "  df['Disease_Area']=df['Disease_Area'].replace('Lipid Lowering Agent',17)\n",
      "<ipython-input-13-1e79941c9d90>:18: SettingWithCopyWarning: \n",
      "A value is trying to be set on a copy of a slice from a DataFrame.\n",
      "Try using .loc[row_indexer,col_indexer] = value instead\n",
      "\n",
      "See the caveats in the documentation: https://pandas.pydata.org/pandas-docs/stable/user_guide/indexing.html#returning-a-view-versus-a-copy\n",
      "  df['Disease_Area']=df['Disease_Area'].replace('Laxative',18)\n",
      "<ipython-input-13-1e79941c9d90>:19: SettingWithCopyWarning: \n",
      "A value is trying to be set on a copy of a slice from a DataFrame.\n",
      "Try using .loc[row_indexer,col_indexer] = value instead\n",
      "\n",
      "See the caveats in the documentation: https://pandas.pydata.org/pandas-docs/stable/user_guide/indexing.html#returning-a-view-versus-a-copy\n",
      "  df['Disease_Area']=df['Disease_Area'].replace('Hypnotics And Sedatives',19)\n",
      "<ipython-input-13-1e79941c9d90>:20: SettingWithCopyWarning: \n",
      "A value is trying to be set on a copy of a slice from a DataFrame.\n",
      "Try using .loc[row_indexer,col_indexer] = value instead\n",
      "\n",
      "See the caveats in the documentation: https://pandas.pydata.org/pandas-docs/stable/user_guide/indexing.html#returning-a-view-versus-a-copy\n",
      "  df['Disease_Area']=df['Disease_Area'].replace('Hormone Replacement Therapy',20)\n",
      "<ipython-input-13-1e79941c9d90>:21: SettingWithCopyWarning: \n",
      "A value is trying to be set on a copy of a slice from a DataFrame.\n",
      "Try using .loc[row_indexer,col_indexer] = value instead\n",
      "\n",
      "See the caveats in the documentation: https://pandas.pydata.org/pandas-docs/stable/user_guide/indexing.html#returning-a-view-versus-a-copy\n",
      "  df['Disease_Area']=df['Disease_Area'].replace('Hematinics',21)\n",
      "<ipython-input-13-1e79941c9d90>:22: SettingWithCopyWarning: \n",
      "A value is trying to be set on a copy of a slice from a DataFrame.\n",
      "Try using .loc[row_indexer,col_indexer] = value instead\n",
      "\n",
      "See the caveats in the documentation: https://pandas.pydata.org/pandas-docs/stable/user_guide/indexing.html#returning-a-view-versus-a-copy\n",
      "  df['Disease_Area']=df['Disease_Area'].replace('Gynecological & Other Hormones',22)\n",
      "<ipython-input-13-1e79941c9d90>:23: SettingWithCopyWarning: \n",
      "A value is trying to be set on a copy of a slice from a DataFrame.\n",
      "Try using .loc[row_indexer,col_indexer] = value instead\n",
      "\n",
      "See the caveats in the documentation: https://pandas.pydata.org/pandas-docs/stable/user_guide/indexing.html#returning-a-view-versus-a-copy\n",
      "  df['Disease_Area']=df['Disease_Area'].replace('Gastroprokinetic',23)\n",
      "<ipython-input-13-1e79941c9d90>:24: SettingWithCopyWarning: \n",
      "A value is trying to be set on a copy of a slice from a DataFrame.\n",
      "Try using .loc[row_indexer,col_indexer] = value instead\n",
      "\n",
      "See the caveats in the documentation: https://pandas.pydata.org/pandas-docs/stable/user_guide/indexing.html#returning-a-view-versus-a-copy\n",
      "  df['Disease_Area']=df['Disease_Area'].replace('Gallstone Therapy',24)\n",
      "<ipython-input-13-1e79941c9d90>:25: SettingWithCopyWarning: \n",
      "A value is trying to be set on a copy of a slice from a DataFrame.\n",
      "Try using .loc[row_indexer,col_indexer] = value instead\n",
      "\n",
      "See the caveats in the documentation: https://pandas.pydata.org/pandas-docs/stable/user_guide/indexing.html#returning-a-view-versus-a-copy\n",
      "  df['Disease_Area']=df['Disease_Area'].replace('Expectorant',25)\n",
      "<ipython-input-13-1e79941c9d90>:26: SettingWithCopyWarning: \n",
      "A value is trying to be set on a copy of a slice from a DataFrame.\n",
      "Try using .loc[row_indexer,col_indexer] = value instead\n",
      "\n",
      "See the caveats in the documentation: https://pandas.pydata.org/pandas-docs/stable/user_guide/indexing.html#returning-a-view-versus-a-copy\n",
      "  df['Disease_Area']=df['Disease_Area'].replace('Erectile Dysfunction',26)\n",
      "<ipython-input-13-1e79941c9d90>:27: SettingWithCopyWarning: \n",
      "A value is trying to be set on a copy of a slice from a DataFrame.\n",
      "Try using .loc[row_indexer,col_indexer] = value instead\n",
      "\n",
      "See the caveats in the documentation: https://pandas.pydata.org/pandas-docs/stable/user_guide/indexing.html#returning-a-view-versus-a-copy\n",
      "  df['Disease_Area']=df['Disease_Area'].replace('Corticosteroids',27)\n",
      "<ipython-input-13-1e79941c9d90>:28: SettingWithCopyWarning: \n",
      "A value is trying to be set on a copy of a slice from a DataFrame.\n",
      "Try using .loc[row_indexer,col_indexer] = value instead\n",
      "\n",
      "See the caveats in the documentation: https://pandas.pydata.org/pandas-docs/stable/user_guide/indexing.html#returning-a-view-versus-a-copy\n",
      "  df['Disease_Area']=df['Disease_Area'].replace('Contraceptives',29)\n",
      "<ipython-input-13-1e79941c9d90>:29: SettingWithCopyWarning: \n",
      "A value is trying to be set on a copy of a slice from a DataFrame.\n",
      "Try using .loc[row_indexer,col_indexer] = value instead\n",
      "\n",
      "See the caveats in the documentation: https://pandas.pydata.org/pandas-docs/stable/user_guide/indexing.html#returning-a-view-versus-a-copy\n",
      "  df['Disease_Area']=df['Disease_Area'].replace('Cardiovascular',30)\n",
      "<ipython-input-13-1e79941c9d90>:30: SettingWithCopyWarning: \n",
      "A value is trying to be set on a copy of a slice from a DataFrame.\n",
      "Try using .loc[row_indexer,col_indexer] = value instead\n",
      "\n",
      "See the caveats in the documentation: https://pandas.pydata.org/pandas-docs/stable/user_guide/indexing.html#returning-a-view-versus-a-copy\n",
      "  df['Disease_Area']=df['Disease_Area'].replace('Antithyroid Agents',31)\n",
      "<ipython-input-13-1e79941c9d90>:31: SettingWithCopyWarning: \n",
      "A value is trying to be set on a copy of a slice from a DataFrame.\n",
      "Try using .loc[row_indexer,col_indexer] = value instead\n",
      "\n",
      "See the caveats in the documentation: https://pandas.pydata.org/pandas-docs/stable/user_guide/indexing.html#returning-a-view-versus-a-copy\n",
      "  df['Disease_Area']=df['Disease_Area'].replace('Anti-Psychotic',32)\n",
      "<ipython-input-13-1e79941c9d90>:32: SettingWithCopyWarning: \n",
      "A value is trying to be set on a copy of a slice from a DataFrame.\n",
      "Try using .loc[row_indexer,col_indexer] = value instead\n",
      "\n",
      "See the caveats in the documentation: https://pandas.pydata.org/pandas-docs/stable/user_guide/indexing.html#returning-a-view-versus-a-copy\n",
      "  df['Disease_Area']=df['Disease_Area'].replace('Antiemetic & Antinauseant',33)\n",
      "<ipython-input-13-1e79941c9d90>:33: SettingWithCopyWarning: \n",
      "A value is trying to be set on a copy of a slice from a DataFrame.\n",
      "Try using .loc[row_indexer,col_indexer] = value instead\n",
      "\n",
      "See the caveats in the documentation: https://pandas.pydata.org/pandas-docs/stable/user_guide/indexing.html#returning-a-view-versus-a-copy\n",
      "  df['Disease_Area']=df['Disease_Area'].replace('Anti-Diabetic',34)\n",
      "<ipython-input-13-1e79941c9d90>:34: SettingWithCopyWarning: \n",
      "A value is trying to be set on a copy of a slice from a DataFrame.\n",
      "Try using .loc[row_indexer,col_indexer] = value instead\n",
      "\n",
      "See the caveats in the documentation: https://pandas.pydata.org/pandas-docs/stable/user_guide/indexing.html#returning-a-view-versus-a-copy\n",
      "  df['Disease_Area']=df['Disease_Area'].replace('Anti-Cancer',35)\n",
      "<ipython-input-13-1e79941c9d90>:35: SettingWithCopyWarning: \n",
      "A value is trying to be set on a copy of a slice from a DataFrame.\n",
      "Try using .loc[row_indexer,col_indexer] = value instead\n",
      "\n",
      "See the caveats in the documentation: https://pandas.pydata.org/pandas-docs/stable/user_guide/indexing.html#returning-a-view-versus-a-copy\n",
      "  df['Disease_Area']=df['Disease_Area'].replace('Antibiotic',36)\n",
      "<ipython-input-13-1e79941c9d90>:36: SettingWithCopyWarning: \n",
      "A value is trying to be set on a copy of a slice from a DataFrame.\n",
      "Try using .loc[row_indexer,col_indexer] = value instead\n",
      "\n",
      "See the caveats in the documentation: https://pandas.pydata.org/pandas-docs/stable/user_guide/indexing.html#returning-a-view-versus-a-copy\n",
      "  df['Disease_Area']=df['Disease_Area'].replace('Antibacterial',37)\n",
      "<ipython-input-13-1e79941c9d90>:37: SettingWithCopyWarning: \n",
      "A value is trying to be set on a copy of a slice from a DataFrame.\n",
      "Try using .loc[row_indexer,col_indexer] = value instead\n",
      "\n",
      "See the caveats in the documentation: https://pandas.pydata.org/pandas-docs/stable/user_guide/indexing.html#returning-a-view-versus-a-copy\n",
      "  df['Disease_Area']=df['Disease_Area'].replace('Anti-Anginal',38)\n",
      "<ipython-input-13-1e79941c9d90>:38: SettingWithCopyWarning: \n",
      "A value is trying to be set on a copy of a slice from a DataFrame.\n",
      "Try using .loc[row_indexer,col_indexer] = value instead\n",
      "\n",
      "See the caveats in the documentation: https://pandas.pydata.org/pandas-docs/stable/user_guide/indexing.html#returning-a-view-versus-a-copy\n",
      "  df['Disease_Area']=df['Disease_Area'].replace('Anti-Ulcerant',39)\n",
      "<ipython-input-13-1e79941c9d90>:39: SettingWithCopyWarning: \n",
      "A value is trying to be set on a copy of a slice from a DataFrame.\n",
      "Try using .loc[row_indexer,col_indexer] = value instead\n",
      "\n",
      "See the caveats in the documentation: https://pandas.pydata.org/pandas-docs/stable/user_guide/indexing.html#returning-a-view-versus-a-copy\n",
      "  df['Disease_Area']=df['Disease_Area'].replace('Anti-Spasmodic',40)\n",
      "<ipython-input-13-1e79941c9d90>:40: SettingWithCopyWarning: \n",
      "A value is trying to be set on a copy of a slice from a DataFrame.\n",
      "Try using .loc[row_indexer,col_indexer] = value instead\n",
      "\n",
      "See the caveats in the documentation: https://pandas.pydata.org/pandas-docs/stable/user_guide/indexing.html#returning-a-view-versus-a-copy\n",
      "  df['Disease_Area']=df['Disease_Area'].replace('Anti-Protozoal',41)\n",
      "<ipython-input-13-1e79941c9d90>:41: SettingWithCopyWarning: \n",
      "A value is trying to be set on a copy of a slice from a DataFrame.\n",
      "Try using .loc[row_indexer,col_indexer] = value instead\n",
      "\n",
      "See the caveats in the documentation: https://pandas.pydata.org/pandas-docs/stable/user_guide/indexing.html#returning-a-view-versus-a-copy\n",
      "  df['Disease_Area']=df['Disease_Area'].replace('Anti-Osteoporotic',42)\n",
      "<ipython-input-13-1e79941c9d90>:42: SettingWithCopyWarning: \n",
      "A value is trying to be set on a copy of a slice from a DataFrame.\n",
      "Try using .loc[row_indexer,col_indexer] = value instead\n",
      "\n",
      "See the caveats in the documentation: https://pandas.pydata.org/pandas-docs/stable/user_guide/indexing.html#returning-a-view-versus-a-copy\n",
      "  df['Disease_Area']=df['Disease_Area'].replace('Anti-Migraine & Anti-Vertigo',43)\n",
      "<ipython-input-13-1e79941c9d90>:43: SettingWithCopyWarning: \n",
      "A value is trying to be set on a copy of a slice from a DataFrame.\n",
      "Try using .loc[row_indexer,col_indexer] = value instead\n",
      "\n",
      "See the caveats in the documentation: https://pandas.pydata.org/pandas-docs/stable/user_guide/indexing.html#returning-a-view-versus-a-copy\n",
      "  df['Disease_Area']=df['Disease_Area'].replace('Anti - Histamines',44)\n",
      "<ipython-input-13-1e79941c9d90>:44: SettingWithCopyWarning: \n",
      "A value is trying to be set on a copy of a slice from a DataFrame.\n",
      "Try using .loc[row_indexer,col_indexer] = value instead\n",
      "\n",
      "See the caveats in the documentation: https://pandas.pydata.org/pandas-docs/stable/user_guide/indexing.html#returning-a-view-versus-a-copy\n",
      "  df['Disease_Area']=df['Disease_Area'].replace('Anti - Hemmorrhoidal',45)\n",
      "<ipython-input-13-1e79941c9d90>:45: SettingWithCopyWarning: \n",
      "A value is trying to be set on a copy of a slice from a DataFrame.\n",
      "Try using .loc[row_indexer,col_indexer] = value instead\n",
      "\n",
      "See the caveats in the documentation: https://pandas.pydata.org/pandas-docs/stable/user_guide/indexing.html#returning-a-view-versus-a-copy\n",
      "  df['Disease_Area']=df['Disease_Area'].replace('Anti - Gout',46)\n",
      "<ipython-input-13-1e79941c9d90>:46: SettingWithCopyWarning: \n",
      "A value is trying to be set on a copy of a slice from a DataFrame.\n",
      "Try using .loc[row_indexer,col_indexer] = value instead\n",
      "\n",
      "See the caveats in the documentation: https://pandas.pydata.org/pandas-docs/stable/user_guide/indexing.html#returning-a-view-versus-a-copy\n",
      "  df['Disease_Area']=df['Disease_Area'].replace('Anti - Fungal',47)\n",
      "<ipython-input-13-1e79941c9d90>:47: SettingWithCopyWarning: \n",
      "A value is trying to be set on a copy of a slice from a DataFrame.\n",
      "Try using .loc[row_indexer,col_indexer] = value instead\n",
      "\n",
      "See the caveats in the documentation: https://pandas.pydata.org/pandas-docs/stable/user_guide/indexing.html#returning-a-view-versus-a-copy\n",
      "  df['Disease_Area']=df['Disease_Area'].replace('Anti - Fibrinolytics',48)\n",
      "<ipython-input-13-1e79941c9d90>:48: SettingWithCopyWarning: \n",
      "A value is trying to be set on a copy of a slice from a DataFrame.\n",
      "Try using .loc[row_indexer,col_indexer] = value instead\n",
      "\n",
      "See the caveats in the documentation: https://pandas.pydata.org/pandas-docs/stable/user_guide/indexing.html#returning-a-view-versus-a-copy\n",
      "  df['Disease_Area']=df['Disease_Area'].replace('Anti - Epileptics',49)\n",
      "<ipython-input-13-1e79941c9d90>:49: SettingWithCopyWarning: \n",
      "A value is trying to be set on a copy of a slice from a DataFrame.\n",
      "Try using .loc[row_indexer,col_indexer] = value instead\n",
      "\n",
      "See the caveats in the documentation: https://pandas.pydata.org/pandas-docs/stable/user_guide/indexing.html#returning-a-view-versus-a-copy\n",
      "  df['Disease_Area']=df['Disease_Area'].replace('Anti - Emetic',50)\n",
      "<ipython-input-13-1e79941c9d90>:50: SettingWithCopyWarning: \n",
      "A value is trying to be set on a copy of a slice from a DataFrame.\n",
      "Try using .loc[row_indexer,col_indexer] = value instead\n",
      "\n",
      "See the caveats in the documentation: https://pandas.pydata.org/pandas-docs/stable/user_guide/indexing.html#returning-a-view-versus-a-copy\n",
      "  df['Disease_Area']=df['Disease_Area'].replace('Anti - Depressants',51)\n",
      "<ipython-input-13-1e79941c9d90>:51: SettingWithCopyWarning: \n",
      "A value is trying to be set on a copy of a slice from a DataFrame.\n",
      "Try using .loc[row_indexer,col_indexer] = value instead\n",
      "\n",
      "See the caveats in the documentation: https://pandas.pydata.org/pandas-docs/stable/user_guide/indexing.html#returning-a-view-versus-a-copy\n",
      "  df['Disease_Area']=df['Disease_Area'].replace('Anti - Coagulant',52)\n",
      "<ipython-input-13-1e79941c9d90>:52: SettingWithCopyWarning: \n",
      "A value is trying to be set on a copy of a slice from a DataFrame.\n",
      "Try using .loc[row_indexer,col_indexer] = value instead\n",
      "\n",
      "See the caveats in the documentation: https://pandas.pydata.org/pandas-docs/stable/user_guide/indexing.html#returning-a-view-versus-a-copy\n",
      "  df['Disease_Area']=df['Disease_Area'].replace('Anti - Asthmatic',53)\n",
      "<ipython-input-13-1e79941c9d90>:53: SettingWithCopyWarning: \n",
      "A value is trying to be set on a copy of a slice from a DataFrame.\n",
      "Try using .loc[row_indexer,col_indexer] = value instead\n",
      "\n",
      "See the caveats in the documentation: https://pandas.pydata.org/pandas-docs/stable/user_guide/indexing.html#returning-a-view-versus-a-copy\n",
      "  df['Disease_Area']=df['Disease_Area'].replace('Anti - Arthritic',54)\n",
      "<ipython-input-13-1e79941c9d90>:54: SettingWithCopyWarning: \n",
      "A value is trying to be set on a copy of a slice from a DataFrame.\n",
      "Try using .loc[row_indexer,col_indexer] = value instead\n",
      "\n",
      "See the caveats in the documentation: https://pandas.pydata.org/pandas-docs/stable/user_guide/indexing.html#returning-a-view-versus-a-copy\n",
      "  df['Disease_Area']=df['Disease_Area'].replace('Anaesthetics',55)\n",
      "<ipython-input-13-1e79941c9d90>:55: SettingWithCopyWarning: \n",
      "A value is trying to be set on a copy of a slice from a DataFrame.\n",
      "Try using .loc[row_indexer,col_indexer] = value instead\n",
      "\n",
      "See the caveats in the documentation: https://pandas.pydata.org/pandas-docs/stable/user_guide/indexing.html#returning-a-view-versus-a-copy\n",
      "  df['Disease_Area']=df['Disease_Area'].replace('Anabolic Hormones',56)\n",
      "<ipython-input-13-1e79941c9d90>:56: SettingWithCopyWarning: \n",
      "A value is trying to be set on a copy of a slice from a DataFrame.\n",
      "Try using .loc[row_indexer,col_indexer] = value instead\n",
      "\n",
      "See the caveats in the documentation: https://pandas.pydata.org/pandas-docs/stable/user_guide/indexing.html#returning-a-view-versus-a-copy\n",
      "  df['Disease_Area']=df['Disease_Area'].replace('Vasodilating Beta-1 Blocker',57)\n",
      "<ipython-input-13-1e79941c9d90>:57: SettingWithCopyWarning: \n",
      "A value is trying to be set on a copy of a slice from a DataFrame.\n",
      "Try using .loc[row_indexer,col_indexer] = value instead\n",
      "\n",
      "See the caveats in the documentation: https://pandas.pydata.org/pandas-docs/stable/user_guide/indexing.html#returning-a-view-versus-a-copy\n",
      "  df['Disease_Area']=df['Disease_Area'].replace('Platelet Aggregation Inhibitor',58)\n",
      "<ipython-input-13-1e79941c9d90>:58: SettingWithCopyWarning: \n",
      "A value is trying to be set on a copy of a slice from a DataFrame.\n",
      "Try using .loc[row_indexer,col_indexer] = value instead\n",
      "\n",
      "See the caveats in the documentation: https://pandas.pydata.org/pandas-docs/stable/user_guide/indexing.html#returning-a-view-versus-a-copy\n",
      "  df['Disease_Area']=df['Disease_Area'].replace('Immunosuppressant',59)\n",
      "<ipython-input-13-1e79941c9d90>:59: SettingWithCopyWarning: \n",
      "A value is trying to be set on a copy of a slice from a DataFrame.\n",
      "Try using .loc[row_indexer,col_indexer] = value instead\n",
      "\n",
      "See the caveats in the documentation: https://pandas.pydata.org/pandas-docs/stable/user_guide/indexing.html#returning-a-view-versus-a-copy\n",
      "  df['Disease_Area']=df['Disease_Area'].replace('Expectorant',60)\n",
      "<ipython-input-13-1e79941c9d90>:60: SettingWithCopyWarning: \n",
      "A value is trying to be set on a copy of a slice from a DataFrame.\n",
      "Try using .loc[row_indexer,col_indexer] = value instead\n",
      "\n",
      "See the caveats in the documentation: https://pandas.pydata.org/pandas-docs/stable/user_guide/indexing.html#returning-a-view-versus-a-copy\n",
      "  df['Disease_Area']=df['Disease_Area'].replace('Alpha-1 Blocker',61)\n"
     ]
    }
   ],
   "source": [
    "df['Disease_Area']=df['Disease_Area'].replace('Vitamin&Minerals',1)\n",
    "df['Disease_Area']=df['Disease_Area'].replace('Uterotonic Agent',2)\n",
    "df['Disease_Area']=df['Disease_Area'].replace('Urological',3)\n",
    "df['Disease_Area']=df['Disease_Area'].replace('Thrombolytic',4)\n",
    "df['Disease_Area']=df['Disease_Area'].replace('Spasmolytics',5)\n",
    "df['Disease_Area']=df['Disease_Area'].replace('Serotonin Syndrome',6)\n",
    "df['Disease_Area']=df['Disease_Area'].replace('Parkinsons disease',7)\n",
    "df['Disease_Area']=df['Disease_Area'].replace('Oral redydration',8)\n",
    "df['Disease_Area']=df['Disease_Area'].replace('Oral contraception',9)\n",
    "df['Disease_Area']=df['Disease_Area'].replace('Nsaids',10)\n",
    "df['Disease_Area']=df['Disease_Area'].replace('Natural Progesterone',11)\n",
    "df['Disease_Area']=df['Disease_Area'].replace('Myelodysplastic Syndrome',12)\n",
    "df['Disease_Area']=df['Disease_Area'].replace('Muscle Relaxant',13)\n",
    "df['Disease_Area']=df['Disease_Area'].replace('Menieres Disease',14)\n",
    "df['Disease_Area']=df['Disease_Area'].replace('Male Sex Hormone',15)\n",
    "df['Disease_Area']=df['Disease_Area'].replace('Major Depressive Disorder',16)\n",
    "df['Disease_Area']=df['Disease_Area'].replace('Lipid Lowering Agent',17)\n",
    "df['Disease_Area']=df['Disease_Area'].replace('Laxative',18)\n",
    "df['Disease_Area']=df['Disease_Area'].replace('Hypnotics And Sedatives',19)\n",
    "df['Disease_Area']=df['Disease_Area'].replace('Hormone Replacement Therapy',20)\n",
    "df['Disease_Area']=df['Disease_Area'].replace('Hematinics',21)\n",
    "df['Disease_Area']=df['Disease_Area'].replace('Gynecological & Other Hormones',22)\n",
    "df['Disease_Area']=df['Disease_Area'].replace('Gastroprokinetic',23)\n",
    "df['Disease_Area']=df['Disease_Area'].replace('Gallstone Therapy',24)\n",
    "df['Disease_Area']=df['Disease_Area'].replace('Expectorant',25)\n",
    "df['Disease_Area']=df['Disease_Area'].replace('Erectile Dysfunction',26)\n",
    "df['Disease_Area']=df['Disease_Area'].replace('Corticosteroids',27)\n",
    "df['Disease_Area']=df['Disease_Area'].replace('Contraceptives',29)\n",
    "df['Disease_Area']=df['Disease_Area'].replace('Cardiovascular',30)\n",
    "df['Disease_Area']=df['Disease_Area'].replace('Antithyroid Agents',31)\n",
    "df['Disease_Area']=df['Disease_Area'].replace('Anti-Psychotic',32)\n",
    "df['Disease_Area']=df['Disease_Area'].replace('Antiemetic & Antinauseant',33)\n",
    "df['Disease_Area']=df['Disease_Area'].replace('Anti-Diabetic',34)\n",
    "df['Disease_Area']=df['Disease_Area'].replace('Anti-Cancer',35)\n",
    "df['Disease_Area']=df['Disease_Area'].replace('Antibiotic',36)\n",
    "df['Disease_Area']=df['Disease_Area'].replace('Antibacterial',37)\n",
    "df['Disease_Area']=df['Disease_Area'].replace('Anti-Anginal',38)\n",
    "df['Disease_Area']=df['Disease_Area'].replace('Anti-Ulcerant',39)\n",
    "df['Disease_Area']=df['Disease_Area'].replace('Anti-Spasmodic',40)\n",
    "df['Disease_Area']=df['Disease_Area'].replace('Anti-Protozoal',41)\n",
    "df['Disease_Area']=df['Disease_Area'].replace('Anti-Osteoporotic',42)\n",
    "df['Disease_Area']=df['Disease_Area'].replace('Anti-Migraine & Anti-Vertigo',43)\n",
    "df['Disease_Area']=df['Disease_Area'].replace('Anti - Histamines',44)\n",
    "df['Disease_Area']=df['Disease_Area'].replace('Anti - Hemmorrhoidal',45)\n",
    "df['Disease_Area']=df['Disease_Area'].replace('Anti - Gout',46)\n",
    "df['Disease_Area']=df['Disease_Area'].replace('Anti - Fungal',47)\n",
    "df['Disease_Area']=df['Disease_Area'].replace('Anti - Fibrinolytics',48)\n",
    "df['Disease_Area']=df['Disease_Area'].replace('Anti - Epileptics',49)\n",
    "df['Disease_Area']=df['Disease_Area'].replace('Anti - Emetic',50)\n",
    "df['Disease_Area']=df['Disease_Area'].replace('Anti - Depressants',51)\n",
    "df['Disease_Area']=df['Disease_Area'].replace('Anti - Coagulant',52)\n",
    "df['Disease_Area']=df['Disease_Area'].replace('Anti - Asthmatic',53)\n",
    "df['Disease_Area']=df['Disease_Area'].replace('Anti - Arthritic',54)\n",
    "df['Disease_Area']=df['Disease_Area'].replace('Anaesthetics',55)\n",
    "df['Disease_Area']=df['Disease_Area'].replace('Anabolic Hormones',56)\n",
    "df['Disease_Area']=df['Disease_Area'].replace('Vasodilating Beta-1 Blocker',57)\n",
    "df['Disease_Area']=df['Disease_Area'].replace('Platelet Aggregation Inhibitor',58)\n",
    "df['Disease_Area']=df['Disease_Area'].replace('Immunosuppressant',59)\n",
    "df['Disease_Area']=df['Disease_Area'].replace('Expectorant',60)\n",
    "df['Disease_Area']=df['Disease_Area'].replace('Alpha-1 Blocker',61)\n",
    "\n"
   ]
  },
  {
   "cell_type": "code",
   "execution_count": 14,
   "id": "04309c2f",
   "metadata": {},
   "outputs": [
    {
     "data": {
      "text/html": [
       "<div>\n",
       "<style scoped>\n",
       "    .dataframe tbody tr th:only-of-type {\n",
       "        vertical-align: middle;\n",
       "    }\n",
       "\n",
       "    .dataframe tbody tr th {\n",
       "        vertical-align: top;\n",
       "    }\n",
       "\n",
       "    .dataframe thead th {\n",
       "        text-align: right;\n",
       "    }\n",
       "</style>\n",
       "<table border=\"1\" class=\"dataframe\">\n",
       "  <thead>\n",
       "    <tr style=\"text-align: right;\">\n",
       "      <th></th>\n",
       "      <th>Id</th>\n",
       "      <th>Month</th>\n",
       "      <th>MTD_Budget</th>\n",
       "      <th>MTD_Sales</th>\n",
       "      <th>MTD Surplus_Deficit</th>\n",
       "      <th>MTD_Achievement</th>\n",
       "      <th>Disease_Area</th>\n",
       "    </tr>\n",
       "  </thead>\n",
       "  <tbody>\n",
       "    <tr>\n",
       "      <th>0</th>\n",
       "      <td>9</td>\n",
       "      <td>January</td>\n",
       "      <td>1760726.49</td>\n",
       "      <td>861962.98</td>\n",
       "      <td>-898763.51</td>\n",
       "      <td>48.95</td>\n",
       "      <td>1</td>\n",
       "    </tr>\n",
       "    <tr>\n",
       "      <th>1</th>\n",
       "      <td>9</td>\n",
       "      <td>February</td>\n",
       "      <td>1594030.49</td>\n",
       "      <td>212710.09</td>\n",
       "      <td>-1381320.40</td>\n",
       "      <td>13.34</td>\n",
       "      <td>1</td>\n",
       "    </tr>\n",
       "    <tr>\n",
       "      <th>2</th>\n",
       "      <td>9</td>\n",
       "      <td>March</td>\n",
       "      <td>1739889.49</td>\n",
       "      <td>194239.88</td>\n",
       "      <td>-1545649.61</td>\n",
       "      <td>11.16</td>\n",
       "      <td>1</td>\n",
       "    </tr>\n",
       "    <tr>\n",
       "      <th>3</th>\n",
       "      <td>9</td>\n",
       "      <td>April</td>\n",
       "      <td>1666959.99</td>\n",
       "      <td>256641.30</td>\n",
       "      <td>-1410318.68</td>\n",
       "      <td>15.40</td>\n",
       "      <td>1</td>\n",
       "    </tr>\n",
       "    <tr>\n",
       "      <th>4</th>\n",
       "      <td>9</td>\n",
       "      <td>May</td>\n",
       "      <td>1594030.49</td>\n",
       "      <td>190588.85</td>\n",
       "      <td>-1403441.64</td>\n",
       "      <td>11.96</td>\n",
       "      <td>1</td>\n",
       "    </tr>\n",
       "    <tr>\n",
       "      <th>...</th>\n",
       "      <td>...</td>\n",
       "      <td>...</td>\n",
       "      <td>...</td>\n",
       "      <td>...</td>\n",
       "      <td>...</td>\n",
       "      <td>...</td>\n",
       "      <td>...</td>\n",
       "    </tr>\n",
       "    <tr>\n",
       "      <th>1999</th>\n",
       "      <td>85</td>\n",
       "      <td>August</td>\n",
       "      <td>728266.16</td>\n",
       "      <td>43793.44</td>\n",
       "      <td>-684472.72</td>\n",
       "      <td>6.01</td>\n",
       "      <td>61</td>\n",
       "    </tr>\n",
       "    <tr>\n",
       "      <th>2000</th>\n",
       "      <td>85</td>\n",
       "      <td>September</td>\n",
       "      <td>728266.16</td>\n",
       "      <td>43974.00</td>\n",
       "      <td>-684292.16</td>\n",
       "      <td>6.04</td>\n",
       "      <td>61</td>\n",
       "    </tr>\n",
       "    <tr>\n",
       "      <th>2001</th>\n",
       "      <td>85</td>\n",
       "      <td>October</td>\n",
       "      <td>724329.58</td>\n",
       "      <td>33700.50</td>\n",
       "      <td>-690629.08</td>\n",
       "      <td>4.65</td>\n",
       "      <td>61</td>\n",
       "    </tr>\n",
       "    <tr>\n",
       "      <th>2002</th>\n",
       "      <td>85</td>\n",
       "      <td>November</td>\n",
       "      <td>708583.29</td>\n",
       "      <td>61385.63</td>\n",
       "      <td>-647197.66</td>\n",
       "      <td>8.66</td>\n",
       "      <td>61</td>\n",
       "    </tr>\n",
       "    <tr>\n",
       "      <th>2003</th>\n",
       "      <td>85</td>\n",
       "      <td>December</td>\n",
       "      <td>448769.41</td>\n",
       "      <td>36981.56</td>\n",
       "      <td>-411787.85</td>\n",
       "      <td>8.24</td>\n",
       "      <td>61</td>\n",
       "    </tr>\n",
       "  </tbody>\n",
       "</table>\n",
       "<p>2004 rows × 7 columns</p>\n",
       "</div>"
      ],
      "text/plain": [
       "      Id      Month  MTD_Budget  MTD_Sales  MTD Surplus_Deficit  \\\n",
       "0      9    January  1760726.49  861962.98           -898763.51   \n",
       "1      9   February  1594030.49  212710.09          -1381320.40   \n",
       "2      9      March  1739889.49  194239.88          -1545649.61   \n",
       "3      9      April  1666959.99  256641.30          -1410318.68   \n",
       "4      9        May  1594030.49  190588.85          -1403441.64   \n",
       "...   ..        ...         ...        ...                  ...   \n",
       "1999  85     August   728266.16   43793.44           -684472.72   \n",
       "2000  85  September   728266.16   43974.00           -684292.16   \n",
       "2001  85    October   724329.58   33700.50           -690629.08   \n",
       "2002  85   November   708583.29   61385.63           -647197.66   \n",
       "2003  85   December   448769.41   36981.56           -411787.85   \n",
       "\n",
       "      MTD_Achievement  Disease_Area  \n",
       "0               48.95             1  \n",
       "1               13.34             1  \n",
       "2               11.16             1  \n",
       "3               15.40             1  \n",
       "4               11.96             1  \n",
       "...               ...           ...  \n",
       "1999             6.01            61  \n",
       "2000             6.04            61  \n",
       "2001             4.65            61  \n",
       "2002             8.66            61  \n",
       "2003             8.24            61  \n",
       "\n",
       "[2004 rows x 7 columns]"
      ]
     },
     "execution_count": 14,
     "metadata": {},
     "output_type": "execute_result"
    }
   ],
   "source": [
    "df"
   ]
  },
  {
   "cell_type": "markdown",
   "id": "5ce26478",
   "metadata": {},
   "source": [
    "# months replace by number "
   ]
  },
  {
   "cell_type": "code",
   "execution_count": 15,
   "id": "cfab7c35",
   "metadata": {},
   "outputs": [
    {
     "name": "stderr",
     "output_type": "stream",
     "text": [
      "<ipython-input-15-2df633816f4e>:1: SettingWithCopyWarning: \n",
      "A value is trying to be set on a copy of a slice from a DataFrame.\n",
      "Try using .loc[row_indexer,col_indexer] = value instead\n",
      "\n",
      "See the caveats in the documentation: https://pandas.pydata.org/pandas-docs/stable/user_guide/indexing.html#returning-a-view-versus-a-copy\n",
      "  df['Month']=df['Month'].replace('January',1)\n",
      "<ipython-input-15-2df633816f4e>:2: SettingWithCopyWarning: \n",
      "A value is trying to be set on a copy of a slice from a DataFrame.\n",
      "Try using .loc[row_indexer,col_indexer] = value instead\n",
      "\n",
      "See the caveats in the documentation: https://pandas.pydata.org/pandas-docs/stable/user_guide/indexing.html#returning-a-view-versus-a-copy\n",
      "  df['Month']=df['Month'].replace('February',2)\n",
      "<ipython-input-15-2df633816f4e>:3: SettingWithCopyWarning: \n",
      "A value is trying to be set on a copy of a slice from a DataFrame.\n",
      "Try using .loc[row_indexer,col_indexer] = value instead\n",
      "\n",
      "See the caveats in the documentation: https://pandas.pydata.org/pandas-docs/stable/user_guide/indexing.html#returning-a-view-versus-a-copy\n",
      "  df['Month']=df['Month'].replace('March',3)\n",
      "<ipython-input-15-2df633816f4e>:4: SettingWithCopyWarning: \n",
      "A value is trying to be set on a copy of a slice from a DataFrame.\n",
      "Try using .loc[row_indexer,col_indexer] = value instead\n",
      "\n",
      "See the caveats in the documentation: https://pandas.pydata.org/pandas-docs/stable/user_guide/indexing.html#returning-a-view-versus-a-copy\n",
      "  df['Month']=df['Month'].replace('April',4)\n",
      "<ipython-input-15-2df633816f4e>:5: SettingWithCopyWarning: \n",
      "A value is trying to be set on a copy of a slice from a DataFrame.\n",
      "Try using .loc[row_indexer,col_indexer] = value instead\n",
      "\n",
      "See the caveats in the documentation: https://pandas.pydata.org/pandas-docs/stable/user_guide/indexing.html#returning-a-view-versus-a-copy\n",
      "  df['Month']=df['Month'].replace('May',5)\n",
      "<ipython-input-15-2df633816f4e>:6: SettingWithCopyWarning: \n",
      "A value is trying to be set on a copy of a slice from a DataFrame.\n",
      "Try using .loc[row_indexer,col_indexer] = value instead\n",
      "\n",
      "See the caveats in the documentation: https://pandas.pydata.org/pandas-docs/stable/user_guide/indexing.html#returning-a-view-versus-a-copy\n",
      "  df['Month']=df['Month'].replace('June',6)\n",
      "<ipython-input-15-2df633816f4e>:7: SettingWithCopyWarning: \n",
      "A value is trying to be set on a copy of a slice from a DataFrame.\n",
      "Try using .loc[row_indexer,col_indexer] = value instead\n",
      "\n",
      "See the caveats in the documentation: https://pandas.pydata.org/pandas-docs/stable/user_guide/indexing.html#returning-a-view-versus-a-copy\n",
      "  df['Month']=df['Month'].replace('July',7)\n",
      "<ipython-input-15-2df633816f4e>:8: SettingWithCopyWarning: \n",
      "A value is trying to be set on a copy of a slice from a DataFrame.\n",
      "Try using .loc[row_indexer,col_indexer] = value instead\n",
      "\n",
      "See the caveats in the documentation: https://pandas.pydata.org/pandas-docs/stable/user_guide/indexing.html#returning-a-view-versus-a-copy\n",
      "  df['Month']=df['Month'].replace('August',8)\n",
      "<ipython-input-15-2df633816f4e>:9: SettingWithCopyWarning: \n",
      "A value is trying to be set on a copy of a slice from a DataFrame.\n",
      "Try using .loc[row_indexer,col_indexer] = value instead\n",
      "\n",
      "See the caveats in the documentation: https://pandas.pydata.org/pandas-docs/stable/user_guide/indexing.html#returning-a-view-versus-a-copy\n",
      "  df['Month']=df['Month'].replace('September',9)\n",
      "<ipython-input-15-2df633816f4e>:10: SettingWithCopyWarning: \n",
      "A value is trying to be set on a copy of a slice from a DataFrame.\n",
      "Try using .loc[row_indexer,col_indexer] = value instead\n",
      "\n",
      "See the caveats in the documentation: https://pandas.pydata.org/pandas-docs/stable/user_guide/indexing.html#returning-a-view-versus-a-copy\n",
      "  df['Month']=df['Month'].replace('October',10)\n",
      "<ipython-input-15-2df633816f4e>:11: SettingWithCopyWarning: \n",
      "A value is trying to be set on a copy of a slice from a DataFrame.\n",
      "Try using .loc[row_indexer,col_indexer] = value instead\n",
      "\n",
      "See the caveats in the documentation: https://pandas.pydata.org/pandas-docs/stable/user_guide/indexing.html#returning-a-view-versus-a-copy\n",
      "  df['Month']=df['Month'].replace('November',11)\n",
      "<ipython-input-15-2df633816f4e>:12: SettingWithCopyWarning: \n",
      "A value is trying to be set on a copy of a slice from a DataFrame.\n",
      "Try using .loc[row_indexer,col_indexer] = value instead\n",
      "\n",
      "See the caveats in the documentation: https://pandas.pydata.org/pandas-docs/stable/user_guide/indexing.html#returning-a-view-versus-a-copy\n",
      "  df['Month']=df['Month'].replace('December',12)\n"
     ]
    }
   ],
   "source": [
    "df['Month']=df['Month'].replace('January',1)\n",
    "df['Month']=df['Month'].replace('February',2)\n",
    "df['Month']=df['Month'].replace('March',3)\n",
    "df['Month']=df['Month'].replace('April',4)\n",
    "df['Month']=df['Month'].replace('May',5)\n",
    "df['Month']=df['Month'].replace('June',6)\n",
    "df['Month']=df['Month'].replace('July',7)\n",
    "df['Month']=df['Month'].replace('August',8)\n",
    "df['Month']=df['Month'].replace('September',9)\n",
    "df['Month']=df['Month'].replace('October',10)\n",
    "df['Month']=df['Month'].replace('November',11)\n",
    "df['Month']=df['Month'].replace('December',12)"
   ]
  },
  {
   "cell_type": "code",
   "execution_count": 16,
   "id": "ed11e34e",
   "metadata": {},
   "outputs": [
    {
     "data": {
      "text/html": [
       "<div>\n",
       "<style scoped>\n",
       "    .dataframe tbody tr th:only-of-type {\n",
       "        vertical-align: middle;\n",
       "    }\n",
       "\n",
       "    .dataframe tbody tr th {\n",
       "        vertical-align: top;\n",
       "    }\n",
       "\n",
       "    .dataframe thead th {\n",
       "        text-align: right;\n",
       "    }\n",
       "</style>\n",
       "<table border=\"1\" class=\"dataframe\">\n",
       "  <thead>\n",
       "    <tr style=\"text-align: right;\">\n",
       "      <th></th>\n",
       "      <th>Id</th>\n",
       "      <th>Month</th>\n",
       "      <th>MTD_Budget</th>\n",
       "      <th>MTD_Sales</th>\n",
       "      <th>MTD Surplus_Deficit</th>\n",
       "      <th>MTD_Achievement</th>\n",
       "      <th>Disease_Area</th>\n",
       "    </tr>\n",
       "  </thead>\n",
       "  <tbody>\n",
       "    <tr>\n",
       "      <th>0</th>\n",
       "      <td>9</td>\n",
       "      <td>1</td>\n",
       "      <td>1760726.49</td>\n",
       "      <td>861962.98</td>\n",
       "      <td>-898763.51</td>\n",
       "      <td>48.95</td>\n",
       "      <td>1</td>\n",
       "    </tr>\n",
       "    <tr>\n",
       "      <th>1</th>\n",
       "      <td>9</td>\n",
       "      <td>2</td>\n",
       "      <td>1594030.49</td>\n",
       "      <td>212710.09</td>\n",
       "      <td>-1381320.40</td>\n",
       "      <td>13.34</td>\n",
       "      <td>1</td>\n",
       "    </tr>\n",
       "    <tr>\n",
       "      <th>2</th>\n",
       "      <td>9</td>\n",
       "      <td>3</td>\n",
       "      <td>1739889.49</td>\n",
       "      <td>194239.88</td>\n",
       "      <td>-1545649.61</td>\n",
       "      <td>11.16</td>\n",
       "      <td>1</td>\n",
       "    </tr>\n",
       "    <tr>\n",
       "      <th>3</th>\n",
       "      <td>9</td>\n",
       "      <td>4</td>\n",
       "      <td>1666959.99</td>\n",
       "      <td>256641.30</td>\n",
       "      <td>-1410318.68</td>\n",
       "      <td>15.40</td>\n",
       "      <td>1</td>\n",
       "    </tr>\n",
       "    <tr>\n",
       "      <th>4</th>\n",
       "      <td>9</td>\n",
       "      <td>5</td>\n",
       "      <td>1594030.49</td>\n",
       "      <td>190588.85</td>\n",
       "      <td>-1403441.64</td>\n",
       "      <td>11.96</td>\n",
       "      <td>1</td>\n",
       "    </tr>\n",
       "    <tr>\n",
       "      <th>...</th>\n",
       "      <td>...</td>\n",
       "      <td>...</td>\n",
       "      <td>...</td>\n",
       "      <td>...</td>\n",
       "      <td>...</td>\n",
       "      <td>...</td>\n",
       "      <td>...</td>\n",
       "    </tr>\n",
       "    <tr>\n",
       "      <th>1999</th>\n",
       "      <td>85</td>\n",
       "      <td>8</td>\n",
       "      <td>728266.16</td>\n",
       "      <td>43793.44</td>\n",
       "      <td>-684472.72</td>\n",
       "      <td>6.01</td>\n",
       "      <td>61</td>\n",
       "    </tr>\n",
       "    <tr>\n",
       "      <th>2000</th>\n",
       "      <td>85</td>\n",
       "      <td>9</td>\n",
       "      <td>728266.16</td>\n",
       "      <td>43974.00</td>\n",
       "      <td>-684292.16</td>\n",
       "      <td>6.04</td>\n",
       "      <td>61</td>\n",
       "    </tr>\n",
       "    <tr>\n",
       "      <th>2001</th>\n",
       "      <td>85</td>\n",
       "      <td>10</td>\n",
       "      <td>724329.58</td>\n",
       "      <td>33700.50</td>\n",
       "      <td>-690629.08</td>\n",
       "      <td>4.65</td>\n",
       "      <td>61</td>\n",
       "    </tr>\n",
       "    <tr>\n",
       "      <th>2002</th>\n",
       "      <td>85</td>\n",
       "      <td>11</td>\n",
       "      <td>708583.29</td>\n",
       "      <td>61385.63</td>\n",
       "      <td>-647197.66</td>\n",
       "      <td>8.66</td>\n",
       "      <td>61</td>\n",
       "    </tr>\n",
       "    <tr>\n",
       "      <th>2003</th>\n",
       "      <td>85</td>\n",
       "      <td>12</td>\n",
       "      <td>448769.41</td>\n",
       "      <td>36981.56</td>\n",
       "      <td>-411787.85</td>\n",
       "      <td>8.24</td>\n",
       "      <td>61</td>\n",
       "    </tr>\n",
       "  </tbody>\n",
       "</table>\n",
       "<p>2004 rows × 7 columns</p>\n",
       "</div>"
      ],
      "text/plain": [
       "      Id  Month  MTD_Budget  MTD_Sales  MTD Surplus_Deficit  MTD_Achievement  \\\n",
       "0      9      1  1760726.49  861962.98           -898763.51            48.95   \n",
       "1      9      2  1594030.49  212710.09          -1381320.40            13.34   \n",
       "2      9      3  1739889.49  194239.88          -1545649.61            11.16   \n",
       "3      9      4  1666959.99  256641.30          -1410318.68            15.40   \n",
       "4      9      5  1594030.49  190588.85          -1403441.64            11.96   \n",
       "...   ..    ...         ...        ...                  ...              ...   \n",
       "1999  85      8   728266.16   43793.44           -684472.72             6.01   \n",
       "2000  85      9   728266.16   43974.00           -684292.16             6.04   \n",
       "2001  85     10   724329.58   33700.50           -690629.08             4.65   \n",
       "2002  85     11   708583.29   61385.63           -647197.66             8.66   \n",
       "2003  85     12   448769.41   36981.56           -411787.85             8.24   \n",
       "\n",
       "      Disease_Area  \n",
       "0                1  \n",
       "1                1  \n",
       "2                1  \n",
       "3                1  \n",
       "4                1  \n",
       "...            ...  \n",
       "1999            61  \n",
       "2000            61  \n",
       "2001            61  \n",
       "2002            61  \n",
       "2003            61  \n",
       "\n",
       "[2004 rows x 7 columns]"
      ]
     },
     "execution_count": 16,
     "metadata": {},
     "output_type": "execute_result"
    }
   ],
   "source": [
    "df"
   ]
  },
  {
   "cell_type": "code",
   "execution_count": null,
   "id": "39f2ac1b",
   "metadata": {},
   "outputs": [],
   "source": []
  },
  {
   "cell_type": "code",
   "execution_count": 17,
   "id": "cd8aa641",
   "metadata": {},
   "outputs": [
    {
     "data": {
      "text/plain": [
       "<AxesSubplot:title={'center':'Large 5 Id for MTD_Sales'}>"
      ]
     },
     "execution_count": 17,
     "metadata": {},
     "output_type": "execute_result"
    },
    {
     "data": {
      "image/png": "[encoded data removed]",
      "text/plain": [
       "<Figure size 432x288 with 1 Axes>"
      ]
     },
     "metadata": {
      "needs_background": "light"
     },
     "output_type": "display_data"
    }
   ],
   "source": [
    "# plt.figure(figsize=(20,8))\n",
    "Sales=[]\n",
    "for un in df['Id'].unique():\n",
    "  Sales.append(sum(df[df['Id']==un]['MTD_Sales']))\n",
    "plt.title(\"Large 5 Id for MTD_Sales\")\n",
    "pd.Series(Sales,index=df['Id'].unique()).nlargest(5).plot(kind='barh')"
   ]
  },
  {
   "cell_type": "code",
   "execution_count": null,
   "id": "870d0533",
   "metadata": {},
   "outputs": [],
   "source": []
  },
  {
   "cell_type": "code",
   "execution_count": 18,
   "id": "61a8526e",
   "metadata": {},
   "outputs": [
    {
     "data": {
      "text/plain": [
       "<AxesSubplot:title={'center':'Small 5 Id for MTD_Sales'}>"
      ]
     },
     "execution_count": 18,
     "metadata": {},
     "output_type": "execute_result"
    },
    {
     "data": {
      "image/png": "[encoded data removed]",
      "text/plain": [
       "<Figure size 432x288 with 1 Axes>"
      ]
     },
     "metadata": {
      "needs_background": "light"
     },
     "output_type": "display_data"
    }
   ],
   "source": [
    "# plt.figure(figsize=(20,8))\n",
    "plt.title(\"Small 5 Id for MTD_Sales\")\n",
    "pd.Series(Sales,index=df['Id'].unique()).nsmallest(5).plot(kind='barh')"
   ]
  },
  {
   "cell_type": "code",
   "execution_count": null,
   "id": "780a9b96",
   "metadata": {},
   "outputs": [],
   "source": []
  },
  {
   "cell_type": "code",
   "execution_count": 19,
   "id": "7e8078d4",
   "metadata": {},
   "outputs": [
    {
     "data": {
      "text/plain": [
       "<AxesSubplot:title={'center':'Large 5 Disease Area for MTD_Sales'}>"
      ]
     },
     "execution_count": 19,
     "metadata": {},
     "output_type": "execute_result"
    },
    {
     "data": {
      "image/png": "[encoded data removed]",
      "text/plain": [
       "<Figure size 432x288 with 1 Axes>"
      ]
     },
     "metadata": {
      "needs_background": "light"
     },
     "output_type": "display_data"
    }
   ],
   "source": [
    "Disease=[]\n",
    "for un in df['Disease_Area'].unique():\n",
    "  Disease.append(sum(df[df['Disease_Area']==un]['MTD_Sales']))\n",
    "plt.title(\"Large 5 Disease Area for MTD_Sales\")\n",
    "pd.Series(Disease,index=df['Disease_Area'].unique()).nlargest(5).plot(kind='barh')"
   ]
  },
  {
   "cell_type": "code",
   "execution_count": null,
   "id": "9479e7b0",
   "metadata": {},
   "outputs": [],
   "source": []
  },
  {
   "cell_type": "code",
   "execution_count": 20,
   "id": "0f1cdab4",
   "metadata": {},
   "outputs": [
    {
     "data": {
      "text/plain": [
       "<AxesSubplot:title={'center':'Small 5 Disease Area for MTD_Sales'}>"
      ]
     },
     "execution_count": 20,
     "metadata": {},
     "output_type": "execute_result"
    },
    {
     "data": {
      "image/png": "[encoded data removed]",
      "text/plain": [
       "<Figure size 432x288 with 1 Axes>"
      ]
     },
     "metadata": {
      "needs_background": "light"
     },
     "output_type": "display_data"
    }
   ],
   "source": [
    "plt.title(\"Small 5 Disease Area for MTD_Sales\")\n",
    "pd.Series(Disease,index=df['Disease_Area'].unique()).nsmallest(5).plot(kind='barh')"
   ]
  },
  {
   "cell_type": "code",
   "execution_count": null,
   "id": "c949662c",
   "metadata": {},
   "outputs": [],
   "source": []
  },
  {
   "cell_type": "code",
   "execution_count": 21,
   "id": "ef61e44e",
   "metadata": {},
   "outputs": [
    {
     "data": {
      "text/plain": [
       "<AxesSubplot:title={'center':'Large 5 Month for MTD_Sales'}>"
      ]
     },
     "execution_count": 21,
     "metadata": {},
     "output_type": "execute_result"
    },
    {
     "data": {
      "image/png": "[encoded data removed]",
      "text/plain": [
       "<Figure size 432x288 with 1 Axes>"
      ]
     },
     "metadata": {
      "needs_background": "light"
     },
     "output_type": "display_data"
    }
   ],
   "source": [
    "Month=[]\n",
    "for un in df['Month'].unique():\n",
    "  Month.append(sum(df[df['Month']==un]['MTD_Sales']))\n",
    "plt.title(\"Large 5 Month for MTD_Sales\")\n",
    "pd.Series(Month,index=df['Month'].unique()).nlargest(3).plot(kind='barh')"
   ]
  },
  {
   "cell_type": "code",
   "execution_count": null,
   "id": "3f775c02",
   "metadata": {},
   "outputs": [],
   "source": []
  },
  {
   "cell_type": "code",
   "execution_count": 22,
   "id": "d7544e08",
   "metadata": {},
   "outputs": [
    {
     "data": {
      "text/plain": [
       "<AxesSubplot:title={'center':'Small 5 Month for MTD_Sales'}>"
      ]
     },
     "execution_count": 22,
     "metadata": {},
     "output_type": "execute_result"
    },
    {
     "data": {
      "image/png": "[encoded data removed]",
      "text/plain": [
       "<Figure size 432x288 with 1 Axes>"
      ]
     },
     "metadata": {
      "needs_background": "light"
     },
     "output_type": "display_data"
    }
   ],
   "source": [
    "plt.title(\"Small 5 Month for MTD_Sales\")\n",
    "pd.Series(Month,index=df['Month'].unique()).nsmallest(3).plot(kind='barh')"
   ]
  },
  {
   "cell_type": "code",
   "execution_count": 23,
   "id": "a7f6666a",
   "metadata": {},
   "outputs": [
    {
     "data": {
      "text/html": [
       "<div>\n",
       "<style scoped>\n",
       "    .dataframe tbody tr th:only-of-type {\n",
       "        vertical-align: middle;\n",
       "    }\n",
       "\n",
       "    .dataframe tbody tr th {\n",
       "        vertical-align: top;\n",
       "    }\n",
       "\n",
       "    .dataframe thead th {\n",
       "        text-align: right;\n",
       "    }\n",
       "</style>\n",
       "<table border=\"1\" class=\"dataframe\">\n",
       "  <thead>\n",
       "    <tr style=\"text-align: right;\">\n",
       "      <th></th>\n",
       "      <th>Id</th>\n",
       "      <th>Month</th>\n",
       "      <th>MTD_Budget</th>\n",
       "      <th>MTD_Sales</th>\n",
       "      <th>MTD Surplus_Deficit</th>\n",
       "      <th>MTD_Achievement</th>\n",
       "      <th>Disease_Area</th>\n",
       "    </tr>\n",
       "  </thead>\n",
       "  <tbody>\n",
       "    <tr>\n",
       "      <th>0</th>\n",
       "      <td>9</td>\n",
       "      <td>1</td>\n",
       "      <td>1760726.49</td>\n",
       "      <td>861962.98</td>\n",
       "      <td>-898763.51</td>\n",
       "      <td>48.95</td>\n",
       "      <td>1</td>\n",
       "    </tr>\n",
       "    <tr>\n",
       "      <th>1</th>\n",
       "      <td>9</td>\n",
       "      <td>2</td>\n",
       "      <td>1594030.49</td>\n",
       "      <td>212710.09</td>\n",
       "      <td>-1381320.40</td>\n",
       "      <td>13.34</td>\n",
       "      <td>1</td>\n",
       "    </tr>\n",
       "    <tr>\n",
       "      <th>2</th>\n",
       "      <td>9</td>\n",
       "      <td>3</td>\n",
       "      <td>1739889.49</td>\n",
       "      <td>194239.88</td>\n",
       "      <td>-1545649.61</td>\n",
       "      <td>11.16</td>\n",
       "      <td>1</td>\n",
       "    </tr>\n",
       "    <tr>\n",
       "      <th>3</th>\n",
       "      <td>9</td>\n",
       "      <td>4</td>\n",
       "      <td>1666959.99</td>\n",
       "      <td>256641.30</td>\n",
       "      <td>-1410318.68</td>\n",
       "      <td>15.40</td>\n",
       "      <td>1</td>\n",
       "    </tr>\n",
       "    <tr>\n",
       "      <th>4</th>\n",
       "      <td>9</td>\n",
       "      <td>5</td>\n",
       "      <td>1594030.49</td>\n",
       "      <td>190588.85</td>\n",
       "      <td>-1403441.64</td>\n",
       "      <td>11.96</td>\n",
       "      <td>1</td>\n",
       "    </tr>\n",
       "    <tr>\n",
       "      <th>...</th>\n",
       "      <td>...</td>\n",
       "      <td>...</td>\n",
       "      <td>...</td>\n",
       "      <td>...</td>\n",
       "      <td>...</td>\n",
       "      <td>...</td>\n",
       "      <td>...</td>\n",
       "    </tr>\n",
       "    <tr>\n",
       "      <th>1999</th>\n",
       "      <td>85</td>\n",
       "      <td>8</td>\n",
       "      <td>728266.16</td>\n",
       "      <td>43793.44</td>\n",
       "      <td>-684472.72</td>\n",
       "      <td>6.01</td>\n",
       "      <td>61</td>\n",
       "    </tr>\n",
       "    <tr>\n",
       "      <th>2000</th>\n",
       "      <td>85</td>\n",
       "      <td>9</td>\n",
       "      <td>728266.16</td>\n",
       "      <td>43974.00</td>\n",
       "      <td>-684292.16</td>\n",
       "      <td>6.04</td>\n",
       "      <td>61</td>\n",
       "    </tr>\n",
       "    <tr>\n",
       "      <th>2001</th>\n",
       "      <td>85</td>\n",
       "      <td>10</td>\n",
       "      <td>724329.58</td>\n",
       "      <td>33700.50</td>\n",
       "      <td>-690629.08</td>\n",
       "      <td>4.65</td>\n",
       "      <td>61</td>\n",
       "    </tr>\n",
       "    <tr>\n",
       "      <th>2002</th>\n",
       "      <td>85</td>\n",
       "      <td>11</td>\n",
       "      <td>708583.29</td>\n",
       "      <td>61385.63</td>\n",
       "      <td>-647197.66</td>\n",
       "      <td>8.66</td>\n",
       "      <td>61</td>\n",
       "    </tr>\n",
       "    <tr>\n",
       "      <th>2003</th>\n",
       "      <td>85</td>\n",
       "      <td>12</td>\n",
       "      <td>448769.41</td>\n",
       "      <td>36981.56</td>\n",
       "      <td>-411787.85</td>\n",
       "      <td>8.24</td>\n",
       "      <td>61</td>\n",
       "    </tr>\n",
       "  </tbody>\n",
       "</table>\n",
       "<p>2004 rows × 7 columns</p>\n",
       "</div>"
      ],
      "text/plain": [
       "      Id  Month  MTD_Budget  MTD_Sales  MTD Surplus_Deficit  MTD_Achievement  \\\n",
       "0      9      1  1760726.49  861962.98           -898763.51            48.95   \n",
       "1      9      2  1594030.49  212710.09          -1381320.40            13.34   \n",
       "2      9      3  1739889.49  194239.88          -1545649.61            11.16   \n",
       "3      9      4  1666959.99  256641.30          -1410318.68            15.40   \n",
       "4      9      5  1594030.49  190588.85          -1403441.64            11.96   \n",
       "...   ..    ...         ...        ...                  ...              ...   \n",
       "1999  85      8   728266.16   43793.44           -684472.72             6.01   \n",
       "2000  85      9   728266.16   43974.00           -684292.16             6.04   \n",
       "2001  85     10   724329.58   33700.50           -690629.08             4.65   \n",
       "2002  85     11   708583.29   61385.63           -647197.66             8.66   \n",
       "2003  85     12   448769.41   36981.56           -411787.85             8.24   \n",
       "\n",
       "      Disease_Area  \n",
       "0                1  \n",
       "1                1  \n",
       "2                1  \n",
       "3                1  \n",
       "4                1  \n",
       "...            ...  \n",
       "1999            61  \n",
       "2000            61  \n",
       "2001            61  \n",
       "2002            61  \n",
       "2003            61  \n",
       "\n",
       "[2004 rows x 7 columns]"
      ]
     },
     "execution_count": 23,
     "metadata": {},
     "output_type": "execute_result"
    }
   ],
   "source": [
    "df"
   ]
  },
  {
   "cell_type": "code",
   "execution_count": 24,
   "id": "49490280",
   "metadata": {},
   "outputs": [
    {
     "data": {
      "text/plain": [
       "<seaborn.axisgrid.JointGrid at 0x1aeede76ac0>"
      ]
     },
     "execution_count": 24,
     "metadata": {},
     "output_type": "execute_result"
    },
    {
     "data": {
      "image/png": "[encoded data removed]",
      "text/plain": [
       "<Figure size 432x432 with 3 Axes>"
      ]
     },
     "metadata": {
      "needs_background": "light"
     },
     "output_type": "display_data"
    }
   ],
   "source": [
    "sns.jointplot(y='MTD_Budget',x='MTD_Sales',data=df)"
   ]
  },
  {
   "cell_type": "code",
   "execution_count": 25,
   "id": "a76c0c4e",
   "metadata": {},
   "outputs": [
    {
     "data": {
      "text/plain": [
       "<seaborn.axisgrid.JointGrid at 0x1aeeee67970>"
      ]
     },
     "execution_count": 25,
     "metadata": {},
     "output_type": "execute_result"
    },
    {
     "data": {
      "image/png": "[encoded data removed]",
      "text/plain": [
       "<Figure size 432x432 with 3 Axes>"
      ]
     },
     "metadata": {
      "needs_background": "light"
     },
     "output_type": "display_data"
    }
   ],
   "source": [
    "sns.jointplot(y='MTD Surplus_Deficit',x='MTD_Sales',data=df)"
   ]
  },
  {
   "cell_type": "code",
   "execution_count": 26,
   "id": "23910fc7",
   "metadata": {},
   "outputs": [
    {
     "data": {
      "text/plain": [
       "<seaborn.axisgrid.JointGrid at 0x1aef0545d60>"
      ]
     },
     "execution_count": 26,
     "metadata": {},
     "output_type": "execute_result"
    },
    {
     "data": {
      "image/png": "[encoded data removed]",
      "text/plain": [
       "<Figure size 432x432 with 3 Axes>"
      ]
     },
     "metadata": {
      "needs_background": "light"
     },
     "output_type": "display_data"
    }
   ],
   "source": [
    "sns.jointplot(y='MTD_Achievement',x='MTD_Sales',data=df)"
   ]
  },
  {
   "cell_type": "code",
   "execution_count": 27,
   "id": "824549a6",
   "metadata": {},
   "outputs": [
    {
     "data": {
      "text/plain": [
       "<seaborn.axisgrid.JointGrid at 0x1aef11e56d0>"
      ]
     },
     "execution_count": 27,
     "metadata": {},
     "output_type": "execute_result"
    },
    {
     "data": {
      "image/png": "[encoded data removed]",
      "text/plain": [
       "<Figure size 432x432 with 3 Axes>"
      ]
     },
     "metadata": {
      "needs_background": "light"
     },
     "output_type": "display_data"
    }
   ],
   "source": [
    "sns.jointplot(y='Disease_Area',x='MTD_Sales',data=df)"
   ]
  },
  {
   "cell_type": "code",
   "execution_count": 28,
   "id": "f495de60",
   "metadata": {},
   "outputs": [
    {
     "data": {
      "text/html": [
       "<div>\n",
       "<style scoped>\n",
       "    .dataframe tbody tr th:only-of-type {\n",
       "        vertical-align: middle;\n",
       "    }\n",
       "\n",
       "    .dataframe tbody tr th {\n",
       "        vertical-align: top;\n",
       "    }\n",
       "\n",
       "    .dataframe thead th {\n",
       "        text-align: right;\n",
       "    }\n",
       "</style>\n",
       "<table border=\"1\" class=\"dataframe\">\n",
       "  <thead>\n",
       "    <tr style=\"text-align: right;\">\n",
       "      <th></th>\n",
       "      <th>Id</th>\n",
       "      <th>Month</th>\n",
       "      <th>MTD_Budget</th>\n",
       "      <th>MTD_Sales</th>\n",
       "      <th>MTD Surplus_Deficit</th>\n",
       "      <th>MTD_Achievement</th>\n",
       "      <th>Disease_Area</th>\n",
       "    </tr>\n",
       "  </thead>\n",
       "  <tbody>\n",
       "    <tr>\n",
       "      <th>0</th>\n",
       "      <td>9</td>\n",
       "      <td>1</td>\n",
       "      <td>1760726.49</td>\n",
       "      <td>861962.98</td>\n",
       "      <td>-898763.51</td>\n",
       "      <td>48.95</td>\n",
       "      <td>1</td>\n",
       "    </tr>\n",
       "    <tr>\n",
       "      <th>1</th>\n",
       "      <td>9</td>\n",
       "      <td>2</td>\n",
       "      <td>1594030.49</td>\n",
       "      <td>212710.09</td>\n",
       "      <td>-1381320.40</td>\n",
       "      <td>13.34</td>\n",
       "      <td>1</td>\n",
       "    </tr>\n",
       "    <tr>\n",
       "      <th>2</th>\n",
       "      <td>9</td>\n",
       "      <td>3</td>\n",
       "      <td>1739889.49</td>\n",
       "      <td>194239.88</td>\n",
       "      <td>-1545649.61</td>\n",
       "      <td>11.16</td>\n",
       "      <td>1</td>\n",
       "    </tr>\n",
       "    <tr>\n",
       "      <th>3</th>\n",
       "      <td>9</td>\n",
       "      <td>4</td>\n",
       "      <td>1666959.99</td>\n",
       "      <td>256641.30</td>\n",
       "      <td>-1410318.68</td>\n",
       "      <td>15.40</td>\n",
       "      <td>1</td>\n",
       "    </tr>\n",
       "    <tr>\n",
       "      <th>4</th>\n",
       "      <td>9</td>\n",
       "      <td>5</td>\n",
       "      <td>1594030.49</td>\n",
       "      <td>190588.85</td>\n",
       "      <td>-1403441.64</td>\n",
       "      <td>11.96</td>\n",
       "      <td>1</td>\n",
       "    </tr>\n",
       "    <tr>\n",
       "      <th>...</th>\n",
       "      <td>...</td>\n",
       "      <td>...</td>\n",
       "      <td>...</td>\n",
       "      <td>...</td>\n",
       "      <td>...</td>\n",
       "      <td>...</td>\n",
       "      <td>...</td>\n",
       "    </tr>\n",
       "    <tr>\n",
       "      <th>1999</th>\n",
       "      <td>85</td>\n",
       "      <td>8</td>\n",
       "      <td>728266.16</td>\n",
       "      <td>43793.44</td>\n",
       "      <td>-684472.72</td>\n",
       "      <td>6.01</td>\n",
       "      <td>61</td>\n",
       "    </tr>\n",
       "    <tr>\n",
       "      <th>2000</th>\n",
       "      <td>85</td>\n",
       "      <td>9</td>\n",
       "      <td>728266.16</td>\n",
       "      <td>43974.00</td>\n",
       "      <td>-684292.16</td>\n",
       "      <td>6.04</td>\n",
       "      <td>61</td>\n",
       "    </tr>\n",
       "    <tr>\n",
       "      <th>2001</th>\n",
       "      <td>85</td>\n",
       "      <td>10</td>\n",
       "      <td>724329.58</td>\n",
       "      <td>33700.50</td>\n",
       "      <td>-690629.08</td>\n",
       "      <td>4.65</td>\n",
       "      <td>61</td>\n",
       "    </tr>\n",
       "    <tr>\n",
       "      <th>2002</th>\n",
       "      <td>85</td>\n",
       "      <td>11</td>\n",
       "      <td>708583.29</td>\n",
       "      <td>61385.63</td>\n",
       "      <td>-647197.66</td>\n",
       "      <td>8.66</td>\n",
       "      <td>61</td>\n",
       "    </tr>\n",
       "    <tr>\n",
       "      <th>2003</th>\n",
       "      <td>85</td>\n",
       "      <td>12</td>\n",
       "      <td>448769.41</td>\n",
       "      <td>36981.56</td>\n",
       "      <td>-411787.85</td>\n",
       "      <td>8.24</td>\n",
       "      <td>61</td>\n",
       "    </tr>\n",
       "  </tbody>\n",
       "</table>\n",
       "<p>2004 rows × 7 columns</p>\n",
       "</div>"
      ],
      "text/plain": [
       "      Id  Month  MTD_Budget  MTD_Sales  MTD Surplus_Deficit  MTD_Achievement  \\\n",
       "0      9      1  1760726.49  861962.98           -898763.51            48.95   \n",
       "1      9      2  1594030.49  212710.09          -1381320.40            13.34   \n",
       "2      9      3  1739889.49  194239.88          -1545649.61            11.16   \n",
       "3      9      4  1666959.99  256641.30          -1410318.68            15.40   \n",
       "4      9      5  1594030.49  190588.85          -1403441.64            11.96   \n",
       "...   ..    ...         ...        ...                  ...              ...   \n",
       "1999  85      8   728266.16   43793.44           -684472.72             6.01   \n",
       "2000  85      9   728266.16   43974.00           -684292.16             6.04   \n",
       "2001  85     10   724329.58   33700.50           -690629.08             4.65   \n",
       "2002  85     11   708583.29   61385.63           -647197.66             8.66   \n",
       "2003  85     12   448769.41   36981.56           -411787.85             8.24   \n",
       "\n",
       "      Disease_Area  \n",
       "0                1  \n",
       "1                1  \n",
       "2                1  \n",
       "3                1  \n",
       "4                1  \n",
       "...            ...  \n",
       "1999            61  \n",
       "2000            61  \n",
       "2001            61  \n",
       "2002            61  \n",
       "2003            61  \n",
       "\n",
       "[2004 rows x 7 columns]"
      ]
     },
     "execution_count": 28,
     "metadata": {},
     "output_type": "execute_result"
    }
   ],
   "source": [
    "df"
   ]
  },
  {
   "cell_type": "code",
   "execution_count": 29,
   "id": "c4b58355",
   "metadata": {},
   "outputs": [],
   "source": [
    "x=df.drop(['MTD_Sales'],axis=1)\n",
    "y=df['MTD_Sales']"
   ]
  },
  {
   "cell_type": "code",
   "execution_count": 30,
   "id": "84d7afd2",
   "metadata": {},
   "outputs": [
    {
     "data": {
      "text/html": [
       "<div>\n",
       "<style scoped>\n",
       "    .dataframe tbody tr th:only-of-type {\n",
       "        vertical-align: middle;\n",
       "    }\n",
       "\n",
       "    .dataframe tbody tr th {\n",
       "        vertical-align: top;\n",
       "    }\n",
       "\n",
       "    .dataframe thead th {\n",
       "        text-align: right;\n",
       "    }\n",
       "</style>\n",
       "<table border=\"1\" class=\"dataframe\">\n",
       "  <thead>\n",
       "    <tr style=\"text-align: right;\">\n",
       "      <th></th>\n",
       "      <th>Id</th>\n",
       "      <th>Month</th>\n",
       "      <th>MTD_Budget</th>\n",
       "      <th>MTD_Sales</th>\n",
       "      <th>MTD Surplus_Deficit</th>\n",
       "      <th>MTD_Achievement</th>\n",
       "      <th>Disease_Area</th>\n",
       "    </tr>\n",
       "  </thead>\n",
       "  <tbody>\n",
       "    <tr>\n",
       "      <th>0</th>\n",
       "      <td>9</td>\n",
       "      <td>1</td>\n",
       "      <td>1760726.49</td>\n",
       "      <td>861962.98</td>\n",
       "      <td>-898763.51</td>\n",
       "      <td>48.95</td>\n",
       "      <td>1</td>\n",
       "    </tr>\n",
       "    <tr>\n",
       "      <th>1</th>\n",
       "      <td>9</td>\n",
       "      <td>2</td>\n",
       "      <td>1594030.49</td>\n",
       "      <td>212710.09</td>\n",
       "      <td>-1381320.40</td>\n",
       "      <td>13.34</td>\n",
       "      <td>1</td>\n",
       "    </tr>\n",
       "    <tr>\n",
       "      <th>2</th>\n",
       "      <td>9</td>\n",
       "      <td>3</td>\n",
       "      <td>1739889.49</td>\n",
       "      <td>194239.88</td>\n",
       "      <td>-1545649.61</td>\n",
       "      <td>11.16</td>\n",
       "      <td>1</td>\n",
       "    </tr>\n",
       "    <tr>\n",
       "      <th>3</th>\n",
       "      <td>9</td>\n",
       "      <td>4</td>\n",
       "      <td>1666959.99</td>\n",
       "      <td>256641.30</td>\n",
       "      <td>-1410318.68</td>\n",
       "      <td>15.40</td>\n",
       "      <td>1</td>\n",
       "    </tr>\n",
       "    <tr>\n",
       "      <th>4</th>\n",
       "      <td>9</td>\n",
       "      <td>5</td>\n",
       "      <td>1594030.49</td>\n",
       "      <td>190588.85</td>\n",
       "      <td>-1403441.64</td>\n",
       "      <td>11.96</td>\n",
       "      <td>1</td>\n",
       "    </tr>\n",
       "    <tr>\n",
       "      <th>...</th>\n",
       "      <td>...</td>\n",
       "      <td>...</td>\n",
       "      <td>...</td>\n",
       "      <td>...</td>\n",
       "      <td>...</td>\n",
       "      <td>...</td>\n",
       "      <td>...</td>\n",
       "    </tr>\n",
       "    <tr>\n",
       "      <th>1999</th>\n",
       "      <td>85</td>\n",
       "      <td>8</td>\n",
       "      <td>728266.16</td>\n",
       "      <td>43793.44</td>\n",
       "      <td>-684472.72</td>\n",
       "      <td>6.01</td>\n",
       "      <td>61</td>\n",
       "    </tr>\n",
       "    <tr>\n",
       "      <th>2000</th>\n",
       "      <td>85</td>\n",
       "      <td>9</td>\n",
       "      <td>728266.16</td>\n",
       "      <td>43974.00</td>\n",
       "      <td>-684292.16</td>\n",
       "      <td>6.04</td>\n",
       "      <td>61</td>\n",
       "    </tr>\n",
       "    <tr>\n",
       "      <th>2001</th>\n",
       "      <td>85</td>\n",
       "      <td>10</td>\n",
       "      <td>724329.58</td>\n",
       "      <td>33700.50</td>\n",
       "      <td>-690629.08</td>\n",
       "      <td>4.65</td>\n",
       "      <td>61</td>\n",
       "    </tr>\n",
       "    <tr>\n",
       "      <th>2002</th>\n",
       "      <td>85</td>\n",
       "      <td>11</td>\n",
       "      <td>708583.29</td>\n",
       "      <td>61385.63</td>\n",
       "      <td>-647197.66</td>\n",
       "      <td>8.66</td>\n",
       "      <td>61</td>\n",
       "    </tr>\n",
       "    <tr>\n",
       "      <th>2003</th>\n",
       "      <td>85</td>\n",
       "      <td>12</td>\n",
       "      <td>448769.41</td>\n",
       "      <td>36981.56</td>\n",
       "      <td>-411787.85</td>\n",
       "      <td>8.24</td>\n",
       "      <td>61</td>\n",
       "    </tr>\n",
       "  </tbody>\n",
       "</table>\n",
       "<p>2004 rows × 7 columns</p>\n",
       "</div>"
      ],
      "text/plain": [
       "      Id  Month  MTD_Budget  MTD_Sales  MTD Surplus_Deficit  MTD_Achievement  \\\n",
       "0      9      1  1760726.49  861962.98           -898763.51            48.95   \n",
       "1      9      2  1594030.49  212710.09          -1381320.40            13.34   \n",
       "2      9      3  1739889.49  194239.88          -1545649.61            11.16   \n",
       "3      9      4  1666959.99  256641.30          -1410318.68            15.40   \n",
       "4      9      5  1594030.49  190588.85          -1403441.64            11.96   \n",
       "...   ..    ...         ...        ...                  ...              ...   \n",
       "1999  85      8   728266.16   43793.44           -684472.72             6.01   \n",
       "2000  85      9   728266.16   43974.00           -684292.16             6.04   \n",
       "2001  85     10   724329.58   33700.50           -690629.08             4.65   \n",
       "2002  85     11   708583.29   61385.63           -647197.66             8.66   \n",
       "2003  85     12   448769.41   36981.56           -411787.85             8.24   \n",
       "\n",
       "      Disease_Area  \n",
       "0                1  \n",
       "1                1  \n",
       "2                1  \n",
       "3                1  \n",
       "4                1  \n",
       "...            ...  \n",
       "1999            61  \n",
       "2000            61  \n",
       "2001            61  \n",
       "2002            61  \n",
       "2003            61  \n",
       "\n",
       "[2004 rows x 7 columns]"
      ]
     },
     "execution_count": 30,
     "metadata": {},
     "output_type": "execute_result"
    }
   ],
   "source": [
    "df"
   ]
  },
  {
   "cell_type": "code",
   "execution_count": 31,
   "id": "e788e5a5",
   "metadata": {},
   "outputs": [],
   "source": [
    "Scaler=StandardScaler()\n",
    "x=Scaler.fit_transform(x)"
   ]
  },
  {
   "cell_type": "code",
   "execution_count": 32,
   "id": "947ee936",
   "metadata": {
    "scrolled": true
   },
   "outputs": [],
   "source": [
    "xtrain,xtest,ytrain,ytest=train_test_split(x,y,test_size=0.2,random_state=1)"
   ]
  },
  {
   "cell_type": "code",
   "execution_count": 33,
   "id": "3ce7aecd",
   "metadata": {
    "scrolled": true
   },
   "outputs": [
    {
     "name": "stdout",
     "output_type": "stream",
     "text": [
      "<class 'pandas.core.frame.DataFrame'>\n",
      "RangeIndex: 2004 entries, 0 to 2003\n",
      "Data columns (total 7 columns):\n",
      " #   Column               Non-Null Count  Dtype  \n",
      "---  ------               --------------  -----  \n",
      " 0   Id                   2004 non-null   int64  \n",
      " 1   Month                2004 non-null   int64  \n",
      " 2   MTD_Budget           2004 non-null   float64\n",
      " 3   MTD_Sales            2004 non-null   float64\n",
      " 4   MTD Surplus_Deficit  2004 non-null   float64\n",
      " 5   MTD_Achievement      2004 non-null   float64\n",
      " 6   Disease_Area         2004 non-null   int64  \n",
      "dtypes: float64(4), int64(3)\n",
      "memory usage: 109.7 KB\n"
     ]
    }
   ],
   "source": [
    "df.info()"
   ]
  },
  {
   "cell_type": "code",
   "execution_count": 34,
   "id": "41a63e93",
   "metadata": {},
   "outputs": [
    {
     "data": {
      "text/plain": [
       "0.999069505287075"
      ]
     },
     "execution_count": 34,
     "metadata": {},
     "output_type": "execute_result"
    }
   ],
   "source": [
    "Reg=LinearRegression()\n",
    "Reg.fit(xtrain,ytrain)\n",
    "Reg.score(xtest,ytest)"
   ]
  },
  {
   "cell_type": "code",
   "execution_count": 35,
   "id": "e5243783",
   "metadata": {},
   "outputs": [],
   "source": [
    "import pickle"
   ]
  },
  {
   "cell_type": "code",
   "execution_count": 36,
   "id": "6283d4db",
   "metadata": {},
   "outputs": [],
   "source": [
    "# save the model to disk\n",
    "filename = 'finalized_model_reg.sav'\n",
    "pickle.dump(Reg, open(filename, 'wb'))"
   ]
  },
  {
   "cell_type": "code",
   "execution_count": 37,
   "id": "f4b2ca56",
   "metadata": {},
   "outputs": [
    {
     "data": {
      "text/plain": [
       "0.9997002653404985"
      ]
     },
     "execution_count": 37,
     "metadata": {},
     "output_type": "execute_result"
    }
   ],
   "source": [
    "Reg.score(xtrain,ytrain)"
   ]
  },
  {
   "cell_type": "code",
   "execution_count": 38,
   "id": "9a9ef094",
   "metadata": {},
   "outputs": [
    {
     "data": {
      "text/plain": [
       "0.9996325633718944"
      ]
     },
     "execution_count": 38,
     "metadata": {},
     "output_type": "execute_result"
    }
   ],
   "source": [
    "Reg.fit(x,y)\n",
    "Reg.score(x,y)"
   ]
  },
  {
   "cell_type": "code",
   "execution_count": 39,
   "id": "7a862689",
   "metadata": {},
   "outputs": [
    {
     "data": {
      "text/plain": [
       "Text(0.5, 1.0, 'Blue:Actual\\nRed:Predicted')"
      ]
     },
     "execution_count": 39,
     "metadata": {},
     "output_type": "execute_result"
    },
    {
     "data": {
      "image/png": "[encoded data removed]",
      "text/plain": [
       "<Figure size 432x288 with 1 Axes>"
      ]
     },
     "metadata": {
      "needs_background": "light"
     },
     "output_type": "display_data"
    }
   ],
   "source": [
    "plt.plot(df['MTD_Sales'],color='blue')\n",
    "plt.plot(Reg.predict(x),color='red')\n",
    "plt.title(\"Blue:Actual\\nRed:Predicted\")"
   ]
  },
  {
   "cell_type": "code",
   "execution_count": 40,
   "id": "6555284d",
   "metadata": {},
   "outputs": [
    {
     "data": {
      "text/plain": [
       "0.9489140171421037"
      ]
     },
     "execution_count": 40,
     "metadata": {},
     "output_type": "execute_result"
    }
   ],
   "source": [
    "Tree=DecisionTreeRegressor()\n",
    "Tree.fit(xtrain,ytrain)\n",
    "Tree.score(xtest,ytest)"
   ]
  },
  {
   "cell_type": "code",
   "execution_count": 41,
   "id": "e076b893",
   "metadata": {},
   "outputs": [],
   "source": [
    "# save the model to disk\n",
    "filename = 'finalized_model_tree.sav'\n",
    "pickle.dump(Tree, open(filename, 'wb'))"
   ]
  },
  {
   "cell_type": "code",
   "execution_count": 42,
   "id": "94885467",
   "metadata": {},
   "outputs": [
    {
     "data": {
      "text/plain": [
       "Text(0.5, 1.0, 'Blue:Actual\\nRed:Predicted')"
      ]
     },
     "execution_count": 42,
     "metadata": {},
     "output_type": "execute_result"
    },
    {
     "data": {
      "image/png": "[encoded data removed]",
      "text/plain": [
       "<Figure size 432x288 with 1 Axes>"
      ]
     },
     "metadata": {
      "needs_background": "light"
     },
     "output_type": "display_data"
    }
   ],
   "source": [
    "plt.plot(df['MTD_Sales'],color='blue')\n",
    "plt.plot(Tree.predict(x),color='red')\n",
    "plt.title(\"Blue:Actual\\nRed:Predicted\")"
   ]
  },
  {
   "cell_type": "code",
   "execution_count": 43,
   "id": "106cf4bd",
   "metadata": {},
   "outputs": [
    {
     "data": {
      "text/plain": [
       "0.947990308402408"
      ]
     },
     "execution_count": 43,
     "metadata": {},
     "output_type": "execute_result"
    }
   ],
   "source": [
    "Forest=RandomForestRegressor(n_estimators=25,random_state=3)\n",
    "Forest.fit(xtrain,ytrain)\n",
    "Forest.score(xtest,ytest)"
   ]
  },
  {
   "cell_type": "code",
   "execution_count": 44,
   "id": "cdae0332",
   "metadata": {},
   "outputs": [
    {
     "data": {
      "text/plain": [
       "0.9451141589915806"
      ]
     },
     "execution_count": 44,
     "metadata": {},
     "output_type": "execute_result"
    }
   ],
   "source": [
    "Forest=RandomForestRegressor(n_estimators=45,random_state=2)\n",
    "Forest.fit(xtrain,ytrain)\n",
    "Forest.score(xtest,ytest)"
   ]
  },
  {
   "cell_type": "code",
   "execution_count": 45,
   "id": "0620e047",
   "metadata": {},
   "outputs": [
    {
     "data": {
      "text/plain": [
       "0.9404572577624895"
      ]
     },
     "execution_count": 45,
     "metadata": {},
     "output_type": "execute_result"
    }
   ],
   "source": [
    "Forest=RandomForestRegressor(n_estimators=15)\n",
    "Forest.fit(xtrain,ytrain)\n",
    "Forest.score(xtest,ytest)"
   ]
  },
  {
   "cell_type": "code",
   "execution_count": 46,
   "id": "f02a63b6",
   "metadata": {},
   "outputs": [],
   "source": [
    "# save the model to disk\n",
    "filename = 'finalized_model_forest.sav'\n",
    "pickle.dump(Forest, open(filename, 'wb'))"
   ]
  },
  {
   "cell_type": "code",
   "execution_count": 47,
   "id": "a26b2451",
   "metadata": {},
   "outputs": [
    {
     "data": {
      "text/plain": [
       "Text(0.5, 1.0, 'Blue:Actual\\nRed:Predicted')"
      ]
     },
     "execution_count": 47,
     "metadata": {},
     "output_type": "execute_result"
    },
    {
     "data": {
      "image/png": "[encoded data removed]",
      "text/plain": [
       "<Figure size 432x288 with 1 Axes>"
      ]
     },
     "metadata": {
      "needs_background": "light"
     },
     "output_type": "display_data"
    }
   ],
   "source": [
    "plt.plot(df['MTD_Sales'],color='blue')\n",
    "plt.plot(Forest.predict(x),color='red')\n",
    "plt.title(\"Blue:Actual\\nRed:Predicted\")"
   ]
  },
  {
   "cell_type": "code",
   "execution_count": 48,
   "id": "423d9fd5",
   "metadata": {},
   "outputs": [
    {
     "data": {
      "text/plain": [
       "0.8413199053965887"
      ]
     },
     "execution_count": 48,
     "metadata": {},
     "output_type": "execute_result"
    }
   ],
   "source": [
    "KNN=KNeighborsRegressor(n_neighbors=7)\n",
    "KNN.fit(xtrain,ytrain)\n",
    "KNN.score(xtest,ytest)"
   ]
  },
  {
   "cell_type": "code",
   "execution_count": 49,
   "id": "4c22a01c",
   "metadata": {},
   "outputs": [],
   "source": [
    "# save the model to disk\n",
    "filename = 'finalized_model_knn.sav'\n",
    "pickle.dump(KNN, open(filename, 'wb'))"
   ]
  },
  {
   "cell_type": "code",
   "execution_count": 50,
   "id": "e9b63f5d",
   "metadata": {},
   "outputs": [
    {
     "data": {
      "text/plain": [
       "Text(0.5, 1.0, 'Blue:Actual\\nRed:Predicted')"
      ]
     },
     "execution_count": 50,
     "metadata": {},
     "output_type": "execute_result"
    },
    {
     "data": {
      "image/png": "[encoded data removed]",
      "text/plain": [
       "<Figure size 432x288 with 1 Axes>"
      ]
     },
     "metadata": {
      "needs_background": "light"
     },
     "output_type": "display_data"
    }
   ],
   "source": [
    "plt.plot(df['MTD_Sales'],color='blue')\n",
    "plt.plot(KNN.predict(x),color='red')\n",
    "plt.title(\"Blue:Actual\\nRed:Predicted\")"
   ]
  },
  {
   "cell_type": "code",
   "execution_count": 51,
   "id": "bbd86377",
   "metadata": {},
   "outputs": [
    {
     "data": {
      "text/plain": [
       "0.9543264497451389"
      ]
     },
     "execution_count": 51,
     "metadata": {},
     "output_type": "execute_result"
    }
   ],
   "source": [
    "XGB=XGBRegressor()\n",
    "XGB.fit(xtrain,ytrain)\n",
    "XGB.score(xtest,ytest)"
   ]
  },
  {
   "cell_type": "code",
   "execution_count": 52,
   "id": "79905e73",
   "metadata": {},
   "outputs": [
    {
     "data": {
      "text/plain": [
       "0.9548119117816873"
      ]
     },
     "execution_count": 52,
     "metadata": {},
     "output_type": "execute_result"
    }
   ],
   "source": [
    "XGB=XGBRegressor(eta=0.3,n_estimators=105,verbosity=1,max_depth=5)\n",
    "XGB.fit(xtrain,ytrain)\n",
    "XGB.score(xtest,ytest)"
   ]
  },
  {
   "cell_type": "code",
   "execution_count": 53,
   "id": "855c9a51",
   "metadata": {},
   "outputs": [
    {
     "name": "stdout",
     "output_type": "stream",
     "text": [
      "0.9999481270845977\n",
      "0.9548119117816873\n"
     ]
    }
   ],
   "source": [
    "XGB.fit(x,y)\n",
    "print(XGB.score(x,y))\n",
    "XGB.fit(xtrain,ytrain)\n",
    "print(XGB.score(xtest,ytest))"
   ]
  },
  {
   "cell_type": "code",
   "execution_count": 54,
   "id": "a50a0f7f",
   "metadata": {},
   "outputs": [],
   "source": [
    "# save the model to disk\n",
    "filename = 'finalized_model_xgb.sav'\n",
    "pickle.dump(XGB, open(filename, 'wb'))"
   ]
  },
  {
   "cell_type": "code",
   "execution_count": 55,
   "id": "7b969e55",
   "metadata": {},
   "outputs": [
    {
     "data": {
      "text/plain": [
       "Text(0.5, 1.0, 'Blue:Actual\\nRed:Predicted')"
      ]
     },
     "execution_count": 55,
     "metadata": {},
     "output_type": "execute_result"
    },
    {
     "data": {
      "image/png": "[encoded data removed]",
      "text/plain": [
       "<Figure size 432x288 with 1 Axes>"
      ]
     },
     "metadata": {
      "needs_background": "light"
     },
     "output_type": "display_data"
    }
   ],
   "source": [
    "plt.plot(df['MTD_Sales'],color='blue')\n",
    "plt.plot(XGB.predict(x),color='red')\n",
    "plt.title(\"Blue:Actual\\nRed:Predicted\")"
   ]
  },
  {
   "cell_type": "code",
   "execution_count": 56,
   "id": "2116806d",
   "metadata": {},
   "outputs": [],
   "source": [
    "Tree=DecisionTreeRegressor()\n",
    "Forest=RandomForestRegressor(n_estimators=45,random_state=2)\n",
    "Reg=LinearRegression()\n",
    "KNN=KNeighborsRegressor(n_neighbors=7)\n",
    "XGB=XGBRegressor(eta=0.3,n_estimators=105,verbosity=1,max_depth=5)"
   ]
  },
  {
   "cell_type": "code",
   "execution_count": 57,
   "id": "e44d8c4b",
   "metadata": {},
   "outputs": [],
   "source": [
    "Algo=[Tree,Forest,Reg,KNN,XGB]\n",
    "MSE=[]\n",
    "MAE=[]\n",
    "R2=[]\n",
    "RMSE=[]\n",
    "MAPE=[]\n",
    "for K in Algo:\n",
    "    K.fit(xtrain,ytrain)\n",
    "    Pred=K.predict(xtest)\n",
    "    R2.append(r2_score(ytest,Pred))\n",
    "    MSE.append(mean_squared_error(ytest,Pred))\n",
    "    MAE.append(mean_absolute_error(ytest,Pred))\n",
    "    RMSE.append(np.sqrt(mean_squared_error(ytest,Pred)))\n",
    "    MAPE.append(mean_absolute_error(ytest,Pred)*100)"
   ]
  },
  {
   "cell_type": "code",
   "execution_count": 58,
   "id": "a2958e7b",
   "metadata": {},
   "outputs": [],
   "source": [
    "Table=pd.DataFrame()\n",
    "Table['Algorithms']=[\"Tree\",\"Forest\",\"Reg\",\"KNN\",\"XGB\"]\n",
    "Table['MSE']=MSE\n",
    "Table['MAE']=MAE\n",
    "Table['R2 Score']=R2\n",
    "Table['RMSE']=RMSE\n",
    "Table['MAPE']=MAPE"
   ]
  },
  {
   "cell_type": "code",
   "execution_count": 59,
   "id": "dbc0c5f7",
   "metadata": {},
   "outputs": [
    {
     "data": {
      "text/html": [
       "<div>\n",
       "<style scoped>\n",
       "    .dataframe tbody tr th:only-of-type {\n",
       "        vertical-align: middle;\n",
       "    }\n",
       "\n",
       "    .dataframe tbody tr th {\n",
       "        vertical-align: top;\n",
       "    }\n",
       "\n",
       "    .dataframe thead th {\n",
       "        text-align: right;\n",
       "    }\n",
       "</style>\n",
       "<table border=\"1\" class=\"dataframe\">\n",
       "  <thead>\n",
       "    <tr style=\"text-align: right;\">\n",
       "      <th></th>\n",
       "      <th>Algorithms</th>\n",
       "      <th>MSE</th>\n",
       "      <th>MAE</th>\n",
       "      <th>R2 Score</th>\n",
       "      <th>RMSE</th>\n",
       "      <th>MAPE</th>\n",
       "    </tr>\n",
       "  </thead>\n",
       "  <tbody>\n",
       "    <tr>\n",
       "      <th>0</th>\n",
       "      <td>Tree</td>\n",
       "      <td>4.417858e+11</td>\n",
       "      <td>159925.106633</td>\n",
       "      <td>0.934079</td>\n",
       "      <td>6.646697e+05</td>\n",
       "      <td>1.599251e+07</td>\n",
       "    </tr>\n",
       "    <tr>\n",
       "      <th>1</th>\n",
       "      <td>Forest</td>\n",
       "      <td>3.678319e+11</td>\n",
       "      <td>118698.874118</td>\n",
       "      <td>0.945114</td>\n",
       "      <td>6.064915e+05</td>\n",
       "      <td>1.186989e+07</td>\n",
       "    </tr>\n",
       "    <tr>\n",
       "      <th>2</th>\n",
       "      <td>Reg</td>\n",
       "      <td>6.235956e+09</td>\n",
       "      <td>24455.073878</td>\n",
       "      <td>0.999070</td>\n",
       "      <td>7.896807e+04</td>\n",
       "      <td>2.445507e+06</td>\n",
       "    </tr>\n",
       "    <tr>\n",
       "      <th>3</th>\n",
       "      <td>KNN</td>\n",
       "      <td>1.063437e+12</td>\n",
       "      <td>343719.894026</td>\n",
       "      <td>0.841320</td>\n",
       "      <td>1.031231e+06</td>\n",
       "      <td>3.437199e+07</td>\n",
       "    </tr>\n",
       "    <tr>\n",
       "      <th>4</th>\n",
       "      <td>XGB</td>\n",
       "      <td>3.028399e+11</td>\n",
       "      <td>109266.398557</td>\n",
       "      <td>0.954812</td>\n",
       "      <td>5.503089e+05</td>\n",
       "      <td>1.092664e+07</td>\n",
       "    </tr>\n",
       "  </tbody>\n",
       "</table>\n",
       "</div>"
      ],
      "text/plain": [
       "  Algorithms           MSE            MAE  R2 Score          RMSE  \\\n",
       "0       Tree  4.417858e+11  159925.106633  0.934079  6.646697e+05   \n",
       "1     Forest  3.678319e+11  118698.874118  0.945114  6.064915e+05   \n",
       "2        Reg  6.235956e+09   24455.073878  0.999070  7.896807e+04   \n",
       "3        KNN  1.063437e+12  343719.894026  0.841320  1.031231e+06   \n",
       "4        XGB  3.028399e+11  109266.398557  0.954812  5.503089e+05   \n",
       "\n",
       "           MAPE  \n",
       "0  1.599251e+07  \n",
       "1  1.186989e+07  \n",
       "2  2.445507e+06  \n",
       "3  3.437199e+07  \n",
       "4  1.092664e+07  "
      ]
     },
     "execution_count": 59,
     "metadata": {},
     "output_type": "execute_result"
    }
   ],
   "source": [
    "Table"
   ]
  },
  {
   "cell_type": "markdown",
   "id": "c729b9d9",
   "metadata": {},
   "source": [
    "# Table"
   ]
  },
  {
   "cell_type": "code",
   "execution_count": 60,
   "id": "a8155c52",
   "metadata": {},
   "outputs": [
    {
     "data": {
      "text/plain": [
       "<AxesSubplot:xlabel='Algorithms', ylabel='MSE'>"
      ]
     },
     "execution_count": 60,
     "metadata": {},
     "output_type": "execute_result"
    },
    {
     "data": {
      "image/png": "[encoded data removed]",
      "text/plain": [
       "<Figure size 432x288 with 1 Axes>"
      ]
     },
     "metadata": {
      "needs_background": "light"
     },
     "output_type": "display_data"
    }
   ],
   "source": [
    "sns.barplot(x='Algorithms',y='MSE',data=Table)"
   ]
  },
  {
   "cell_type": "code",
   "execution_count": 61,
   "id": "5d8d3527",
   "metadata": {},
   "outputs": [
    {
     "data": {
      "text/plain": [
       "<AxesSubplot:xlabel='Algorithms', ylabel='MAE'>"
      ]
     },
     "execution_count": 61,
     "metadata": {},
     "output_type": "execute_result"
    },
    {
     "data": {
      "image/png": "[encoded data removed]",
      "text/plain": [
       "<Figure size 432x288 with 1 Axes>"
      ]
     },
     "metadata": {
      "needs_background": "light"
     },
     "output_type": "display_data"
    }
   ],
   "source": [
    "sns.barplot(x='Algorithms',y='MAE',data=Table)"
   ]
  },
  {
   "cell_type": "code",
   "execution_count": 62,
   "id": "b28d3007",
   "metadata": {},
   "outputs": [
    {
     "data": {
      "text/plain": [
       "<AxesSubplot:xlabel='Algorithms', ylabel='RMSE'>"
      ]
     },
     "execution_count": 62,
     "metadata": {},
     "output_type": "execute_result"
    },
    {
     "data": {
      "image/png": "[encoded data removed]",
      "text/plain": [
       "<Figure size 432x288 with 1 Axes>"
      ]
     },
     "metadata": {
      "needs_background": "light"
     },
     "output_type": "display_data"
    }
   ],
   "source": [
    "sns.barplot(x='Algorithms',y='RMSE',data=Table)"
   ]
  },
  {
   "cell_type": "code",
   "execution_count": 63,
   "id": "74650772",
   "metadata": {},
   "outputs": [
    {
     "data": {
      "text/plain": [
       "<AxesSubplot:xlabel='Algorithms', ylabel='MAPE'>"
      ]
     },
     "execution_count": 63,
     "metadata": {},
     "output_type": "execute_result"
    },
    {
     "data": {
      "image/png": "[encoded data removed]",
      "text/plain": [
       "<Figure size 432x288 with 1 Axes>"
      ]
     },
     "metadata": {
      "needs_background": "light"
     },
     "output_type": "display_data"
    }
   ],
   "source": [
    "sns.barplot(x='Algorithms',y='MAPE',data=Table)"
   ]
  },
  {
   "cell_type": "code",
   "execution_count": 64,
   "id": "a8629d6a",
   "metadata": {},
   "outputs": [
    {
     "data": {
      "text/plain": [
       "<AxesSubplot:xlabel='Algorithms', ylabel='R2 Score'>"
      ]
     },
     "execution_count": 64,
     "metadata": {},
     "output_type": "execute_result"
    },
    {
     "data": {
      "image/png": "[encoded data removed]",
      "text/plain": [
       "<Figure size 432x288 with 1 Axes>"
      ]
     },
     "metadata": {
      "needs_background": "light"
     },
     "output_type": "display_data"
    }
   ],
   "source": [
    "sns.barplot(x='Algorithms',y='R2 Score',data=Table)"
   ]
  },
  {
   "cell_type": "code",
   "execution_count": null,
   "id": "941a74b4",
   "metadata": {},
   "outputs": [],
   "source": [
    "Input=[]\n",
    "for i in list(df.columns.drop('MTD_Sales')):\n",
    "    item=input(f\"Enter {i}:\")\n",
    "    Input.append(item)"
   ]
  },
  {
   "cell_type": "code",
   "execution_count": null,
   "id": "e6f914ec",
   "metadata": {},
   "outputs": [],
   "source": [
    "Reg.predict(Scaler.transform([Input]))"
   ]
  },
  {
   "cell_type": "code",
   "execution_count": null,
   "id": "956295bc",
   "metadata": {},
   "outputs": [],
   "source": [
    "Reg.coef_"
   ]
  },
  {
   "cell_type": "code",
   "execution_count": null,
   "id": "6e6f2e59",
   "metadata": {},
   "outputs": [],
   "source": [
    "Reg.intercept_"
   ]
  },
  {
   "cell_type": "code",
   "execution_count": null,
   "id": "ff29d188",
   "metadata": {},
   "outputs": [],
   "source": [
    "Scaler.transform([Input])"
   ]
  },
  {
   "cell_type": "code",
   "execution_count": null,
   "id": "d0f64ec1",
   "metadata": {},
   "outputs": [],
   "source": [
    "New_df=pd.DataFrame()\n",
    "New_df['Actual']=df['MTD_Sales']\n",
    "New_df['Predicted']=Reg.predict(x)\n",
    "New_df"
   ]
  },
  {
   "cell_type": "code",
   "execution_count": null,
   "id": "bc03677b",
   "metadata": {},
   "outputs": [],
   "source": [
    "Reg.predict(x[[142]])"
   ]
  },
  {
   "cell_type": "code",
   "execution_count": null,
   "id": "af548c03",
   "metadata": {},
   "outputs": [],
   "source": []
  },
  {
   "cell_type": "code",
   "execution_count": null,
   "id": "02c0200e",
   "metadata": {},
   "outputs": [],
   "source": []
  }
 ],
 "metadata": {
  "kernelspec": {
   "display_name": "Python 3",
   "language": "python",
   "name": "python3"
  },
  "language_info": {
   "codemirror_mode": {
    "name": "ipython",
    "version": 3
   },
   "file_extension": ".py",
   "mimetype": "text/x-python",
   "name": "python",
   "nbconvert_exporter": "python",
   "pygments_lexer": "ipython3",
   "version": "3.8.8"
  }
 },
 "nbformat": 4,
 "nbformat_minor": 5
}
