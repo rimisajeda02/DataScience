{
 "cells": [
  {
   "cell_type": "code",
   "execution_count": 1,
   "id": "abf3818b",
   "metadata": {},
   "outputs": [],
   "source": [
    "# import module\n",
    "from sklearn.datasets import make_classification\n",
    "from matplotlib import pyplot as plt\n",
    "from sklearn.linear_model import LogisticRegression\n",
    "from sklearn.model_selection import train_test_split\n",
    "from sklearn.metrics import confusion_matrix\n"
   ]
  },
  {
   "cell_type": "code",
   "execution_count": 3,
   "id": "34e2ac8b",
   "metadata": {},
   "outputs": [
    {
     "name": "stdout",
     "output_type": "stream",
     "text": [
      "[[ 9.52249112e-01]\n",
      " [-2.95564105e-01]\n",
      " [-1.40590942e+00]\n",
      " [-1.26522822e+00]\n",
      " [-1.06554746e+00]\n",
      " [ 7.02978264e-01]\n",
      " [-1.23008946e+00]\n",
      " [ 1.60641079e+00]\n",
      " [-1.59104669e+00]\n",
      " [-5.30820395e-01]\n",
      " [-5.18790408e-01]\n",
      " [ 7.31269900e-01]\n",
      " [-1.22678289e+00]\n",
      " [ 1.93408332e+00]\n",
      " [-7.58078937e-01]\n",
      " [ 9.93082693e-01]\n",
      " [-8.48735233e-01]\n",
      " [-4.16544687e-01]\n",
      " [-8.69587946e-01]\n",
      " [ 6.34403203e-01]\n",
      " [-7.80719947e-01]\n",
      " [-1.12488699e+00]\n",
      " [-1.26879560e+00]\n",
      " [-9.52820963e-01]\n",
      " [ 1.64610896e+00]\n",
      " [-4.41522545e-01]\n",
      " [ 8.34796285e-01]\n",
      " [ 1.12654827e+00]\n",
      " [-5.64032515e-01]\n",
      " [ 5.83141699e-01]\n",
      " [ 9.93029953e-01]\n",
      " [ 9.27068419e-01]\n",
      " [-1.31036507e+00]\n",
      " [-1.40610213e+00]\n",
      " [ 1.56036583e+00]\n",
      " [-4.02148238e-01]\n",
      " [ 1.51646944e+00]\n",
      " [ 1.55158733e+00]\n",
      " [-8.06291637e-01]\n",
      " [ 1.43874013e+00]\n",
      " [ 1.13809033e+00]\n",
      " [-3.47373935e-01]\n",
      " [ 1.76861658e+00]\n",
      " [ 1.68940112e+00]\n",
      " [-1.17855838e+00]\n",
      " [ 7.11588107e-01]\n",
      " [ 2.01966847e-02]\n",
      " [-6.48262595e-01]\n",
      " [ 1.39069239e+00]\n",
      " [ 1.10203739e+00]\n",
      " [-1.38824264e+00]\n",
      " [-7.31035042e-01]\n",
      " [ 8.35494649e-01]\n",
      " [ 1.36271412e+00]\n",
      " [ 1.35472103e+00]\n",
      " [ 1.69799543e+00]\n",
      " [-1.57754294e+00]\n",
      " [ 1.44507232e+00]\n",
      " [-1.10149560e+00]\n",
      " [ 7.95749524e-01]\n",
      " [-6.40620674e-01]\n",
      " [ 1.64793511e+00]\n",
      " [-6.07779301e-01]\n",
      " [-1.39363502e+00]\n",
      " [-1.56185275e+00]\n",
      " [-6.02821269e-01]\n",
      " [-1.84826034e+00]\n",
      " [-8.28054012e-01]\n",
      " [-1.31811417e+00]\n",
      " [ 2.79501192e+00]\n",
      " [-7.94707128e-01]\n",
      " [ 1.20615178e+00]\n",
      " [-4.92330220e-01]\n",
      " [ 1.84774145e+00]\n",
      " [-1.02872025e+00]\n",
      " [-1.07115056e+00]\n",
      " [ 1.39188778e+00]\n",
      " [ 1.42449572e+00]\n",
      " [ 5.22593775e-01]\n",
      " [ 1.36307427e+00]\n",
      " [-1.20065135e+00]\n",
      " [ 1.02818115e-03]\n",
      " [ 4.96573160e-01]\n",
      " [-1.28197279e+00]\n",
      " [-5.48927804e-01]\n",
      " [-4.66905521e-01]\n",
      " [-7.90371492e-01]\n",
      " [-7.97851432e-01]\n",
      " [-2.76058817e-01]\n",
      " [-8.57264688e-01]\n",
      " [ 3.69098344e-01]\n",
      " [-9.03070763e-01]\n",
      " [-1.17258698e+00]\n",
      " [-5.45838073e-01]\n",
      " [ 2.16932929e+00]\n",
      " [ 4.58672245e-01]\n",
      " [-4.98072422e-01]\n",
      " [-9.25965921e-01]\n",
      " [ 1.78573934e+00]\n",
      " [-6.72202964e-01]]\n",
      "[1 0 1 0 0 1 0 1 0 0 0 1 1 1 0 1 0 1 0 1 0 0 0 0 1 0 1 1 0 1 1 1 0 0 1 0 1\n",
      " 1 0 1 1 0 1 1 0 1 1 0 1 1 0 0 1 1 1 1 0 1 0 1 0 1 0 0 0 1 0 0 0 1 0 1 0 1\n",
      " 0 0 1 1 1 1 0 1 1 0 0 0 0 0 0 0 1 0 0 0 1 1 0 1 1 1]\n"
     ]
    }
   ],
   "source": [
    "# generate the datasets\n",
    "x,y = make_classification(\n",
    "    n_samples = 100,\n",
    "    n_features = 1,\n",
    "    n_classes = 2,\n",
    "    n_clusters_per_class = 1,\n",
    "    flip_y = 0.03,\n",
    "    n_informative = 1,\n",
    "    n_redundant = 0,\n",
    "    n_repeated = 0\n",
    ")\n",
    "print(x)\n",
    "print(y)"
   ]
  },
  {
   "cell_type": "code",
   "execution_count": 4,
   "id": "cdccfaf1",
   "metadata": {},
   "outputs": [
    {
     "data": {
      "image/png": "[encoded data removed]",
      "text/plain": [
       "<Figure size 432x288 with 1 Axes>"
      ]
     },
     "metadata": {
      "needs_background": "light"
     },
     "output_type": "display_data"
    }
   ],
   "source": [
    "# visualize the data\n",
    "plt.scatter(x,y,c=y,cmap='rainbow')\n",
    "plt.title('Scatter plot of logistic regression')\n",
    "\n",
    "plt.show()\n"
   ]
  },
  {
   "cell_type": "code",
   "execution_count": 5,
   "id": "f4d45df3",
   "metadata": {},
   "outputs": [
    {
     "name": "stdout",
     "output_type": "stream",
     "text": [
      "Training data :  (75, 1)\n",
      "Testing data :  (25, 1)\n"
     ]
    }
   ],
   "source": [
    "# split the dataset\n",
    "\n",
    "x_train, x_test , y_train, y_test = train_test_split(x,y,random_state=1)\n",
    "print('Training data : ',x_train.shape)\n",
    "print('Testing data : ',x_test.shape)\n"
   ]
  },
  {
   "cell_type": "code",
   "execution_count": 6,
   "id": "fd42e2f9",
   "metadata": {},
   "outputs": [
    {
     "name": "stdout",
     "output_type": "stream",
     "text": [
      "Coefficient :  [[2.65252121]]\n",
      "Intercept :  [-0.03593245]\n"
     ]
    }
   ],
   "source": [
    "# perform logistic regression\n",
    "log_reg = LogisticRegression()\n",
    "log_reg.fit(x_train,y_train)\n",
    "\n",
    "print('Coefficient : ',log_reg.coef_)\n",
    "print('Intercept : ',log_reg.intercept_)"
   ]
  },
  {
   "cell_type": "code",
   "execution_count": 7,
   "id": "ac9b3f14",
   "metadata": {},
   "outputs": [
    {
     "name": "stdout",
     "output_type": "stream",
     "text": [
      "y predictions :  [0 0 0 0 0 0 1 1 1 0 0 1 0 1 0 0 1 0 1 0 0 1 0 0 1]\n"
     ]
    }
   ],
   "source": [
    "# prediction\n",
    "y_pred = log_reg.predict(x_test)\n",
    "print('y predictions : ',y_pred)\n",
    "\n"
   ]
  },
  {
   "cell_type": "code",
   "execution_count": 8,
   "id": "fd6eb11b",
   "metadata": {},
   "outputs": [
    {
     "name": "stdout",
     "output_type": "stream",
     "text": [
      "confusion matrix :  [[11  0]\n",
      " [ 5  9]]\n"
     ]
    }
   ],
   "source": [
    "# display confusion matrix\n",
    "confused_matrix = confusion_matrix(y_test,y_pred)\n",
    "print('confusion matrix : ',confused_matrix)"
   ]
  },
  {
   "cell_type": "code",
   "execution_count": null,
   "id": "c7037976",
   "metadata": {},
   "outputs": [],
   "source": []
  }
 ],
 "metadata": {
  "kernelspec": {
   "display_name": "Python 3",
   "language": "python",
   "name": "python3"
  },
  "language_info": {
   "codemirror_mode": {
    "name": "ipython",
    "version": 3
   },
   "file_extension": ".py",
   "mimetype": "text/x-python",
   "name": "python",
   "nbconvert_exporter": "python",
   "pygments_lexer": "ipython3",
   "version": "3.8.8"
  }
 },
 "nbformat": 4,
 "nbformat_minor": 5
}
