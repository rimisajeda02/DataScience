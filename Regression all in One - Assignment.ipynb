{
 "cells": [
  {
   "cell_type": "code",
   "execution_count": 1,
   "id": "2c7eaf31",
   "metadata": {},
   "outputs": [],
   "source": [
    "import matplotlib.pyplot as plt\n",
    "import pandas as pd\n",
    "import seaborn as sns\n",
    "import numpy as np\n",
    "from sklearn.tree import DecisionTreeRegressor\n",
    "from sklearn.ensemble import RandomForestRegressor\n",
    "from sklearn.linear_model import LinearRegression\n",
    "from sklearn.neighbors import KNeighborsRegressor\n",
    "from xgboost import XGBRegressor\n",
    "from sklearn.svm import SVR\n",
    "from sklearn.ensemble import AdaBoostRegressor\n",
    "from sklearn.ensemble import GradientBoostingRegressor\n",
    "from sklearn.model_selection import train_test_split\n",
    "from sklearn.metrics import r2_score\n",
    "from sklearn.preprocessing import StandardScaler\n",
    "from sklearn.preprocessing import LabelEncoder"
   ]
  },
  {
   "cell_type": "code",
   "execution_count": 2,
   "id": "7687a6de",
   "metadata": {},
   "outputs": [],
   "source": [
    "df = pd.read_csv('global_laptop_selling_data.csv')"
   ]
  },
  {
   "cell_type": "code",
   "execution_count": 3,
   "id": "9d8a5023",
   "metadata": {},
   "outputs": [
    {
     "data": {
      "text/html": [
       "<div>\n",
       "<style scoped>\n",
       "    .dataframe tbody tr th:only-of-type {\n",
       "        vertical-align: middle;\n",
       "    }\n",
       "\n",
       "    .dataframe tbody tr th {\n",
       "        vertical-align: top;\n",
       "    }\n",
       "\n",
       "    .dataframe thead th {\n",
       "        text-align: right;\n",
       "    }\n",
       "</style>\n",
       "<table border=\"1\" class=\"dataframe\">\n",
       "  <thead>\n",
       "    <tr style=\"text-align: right;\">\n",
       "      <th></th>\n",
       "      <th>laptop_ID</th>\n",
       "      <th>Company</th>\n",
       "      <th>Product</th>\n",
       "      <th>TypeName</th>\n",
       "      <th>Inches</th>\n",
       "      <th>ScreenResolution</th>\n",
       "      <th>Cpu</th>\n",
       "      <th>Ram</th>\n",
       "      <th>Memory</th>\n",
       "      <th>Gpu</th>\n",
       "      <th>OpSys</th>\n",
       "      <th>Weight</th>\n",
       "      <th>Price_euros</th>\n",
       "    </tr>\n",
       "  </thead>\n",
       "  <tbody>\n",
       "    <tr>\n",
       "      <th>0</th>\n",
       "      <td>1</td>\n",
       "      <td>Apple</td>\n",
       "      <td>MacBook Pro</td>\n",
       "      <td>Ultrabook</td>\n",
       "      <td>13.3</td>\n",
       "      <td>IPS Panel Retina Display 2560x1600</td>\n",
       "      <td>Intel Core i5 2.3GHz</td>\n",
       "      <td>8GB</td>\n",
       "      <td>128GB SSD</td>\n",
       "      <td>Intel Iris Plus Graphics 640</td>\n",
       "      <td>macOS</td>\n",
       "      <td>1.37kg</td>\n",
       "      <td>1339.69</td>\n",
       "    </tr>\n",
       "    <tr>\n",
       "      <th>1</th>\n",
       "      <td>2</td>\n",
       "      <td>Apple</td>\n",
       "      <td>Macbook Air</td>\n",
       "      <td>Ultrabook</td>\n",
       "      <td>13.3</td>\n",
       "      <td>1440x900</td>\n",
       "      <td>Intel Core i5 1.8GHz</td>\n",
       "      <td>8GB</td>\n",
       "      <td>128GB Flash Storage</td>\n",
       "      <td>Intel HD Graphics 6000</td>\n",
       "      <td>macOS</td>\n",
       "      <td>1.34kg</td>\n",
       "      <td>898.94</td>\n",
       "    </tr>\n",
       "    <tr>\n",
       "      <th>2</th>\n",
       "      <td>3</td>\n",
       "      <td>HP</td>\n",
       "      <td>250 G6</td>\n",
       "      <td>Notebook</td>\n",
       "      <td>15.6</td>\n",
       "      <td>Full HD 1920x1080</td>\n",
       "      <td>Intel Core i5 7200U 2.5GHz</td>\n",
       "      <td>8GB</td>\n",
       "      <td>256GB SSD</td>\n",
       "      <td>Intel HD Graphics 620</td>\n",
       "      <td>No OS</td>\n",
       "      <td>1.86kg</td>\n",
       "      <td>575.00</td>\n",
       "    </tr>\n",
       "    <tr>\n",
       "      <th>3</th>\n",
       "      <td>4</td>\n",
       "      <td>Apple</td>\n",
       "      <td>MacBook Pro</td>\n",
       "      <td>Ultrabook</td>\n",
       "      <td>15.4</td>\n",
       "      <td>IPS Panel Retina Display 2880x1800</td>\n",
       "      <td>Intel Core i7 2.7GHz</td>\n",
       "      <td>16GB</td>\n",
       "      <td>512GB SSD</td>\n",
       "      <td>AMD Radeon Pro 455</td>\n",
       "      <td>macOS</td>\n",
       "      <td>1.83kg</td>\n",
       "      <td>2537.45</td>\n",
       "    </tr>\n",
       "    <tr>\n",
       "      <th>4</th>\n",
       "      <td>5</td>\n",
       "      <td>Apple</td>\n",
       "      <td>MacBook Pro</td>\n",
       "      <td>Ultrabook</td>\n",
       "      <td>13.3</td>\n",
       "      <td>IPS Panel Retina Display 2560x1600</td>\n",
       "      <td>Intel Core i5 3.1GHz</td>\n",
       "      <td>8GB</td>\n",
       "      <td>256GB SSD</td>\n",
       "      <td>Intel Iris Plus Graphics 650</td>\n",
       "      <td>macOS</td>\n",
       "      <td>1.37kg</td>\n",
       "      <td>1803.60</td>\n",
       "    </tr>\n",
       "  </tbody>\n",
       "</table>\n",
       "</div>"
      ],
      "text/plain": [
       "   laptop_ID Company      Product   TypeName  Inches  \\\n",
       "0          1   Apple  MacBook Pro  Ultrabook    13.3   \n",
       "1          2   Apple  Macbook Air  Ultrabook    13.3   \n",
       "2          3      HP       250 G6   Notebook    15.6   \n",
       "3          4   Apple  MacBook Pro  Ultrabook    15.4   \n",
       "4          5   Apple  MacBook Pro  Ultrabook    13.3   \n",
       "\n",
       "                     ScreenResolution                         Cpu   Ram  \\\n",
       "0  IPS Panel Retina Display 2560x1600        Intel Core i5 2.3GHz   8GB   \n",
       "1                            1440x900        Intel Core i5 1.8GHz   8GB   \n",
       "2                   Full HD 1920x1080  Intel Core i5 7200U 2.5GHz   8GB   \n",
       "3  IPS Panel Retina Display 2880x1800        Intel Core i7 2.7GHz  16GB   \n",
       "4  IPS Panel Retina Display 2560x1600        Intel Core i5 3.1GHz   8GB   \n",
       "\n",
       "                Memory                           Gpu  OpSys  Weight  \\\n",
       "0            128GB SSD  Intel Iris Plus Graphics 640  macOS  1.37kg   \n",
       "1  128GB Flash Storage        Intel HD Graphics 6000  macOS  1.34kg   \n",
       "2            256GB SSD         Intel HD Graphics 620  No OS  1.86kg   \n",
       "3            512GB SSD            AMD Radeon Pro 455  macOS  1.83kg   \n",
       "4            256GB SSD  Intel Iris Plus Graphics 650  macOS  1.37kg   \n",
       "\n",
       "   Price_euros  \n",
       "0      1339.69  \n",
       "1       898.94  \n",
       "2       575.00  \n",
       "3      2537.45  \n",
       "4      1803.60  "
      ]
     },
     "execution_count": 3,
     "metadata": {},
     "output_type": "execute_result"
    }
   ],
   "source": [
    "df.head()"
   ]
  },
  {
   "cell_type": "code",
   "execution_count": 4,
   "id": "e6737f1c",
   "metadata": {},
   "outputs": [
    {
     "data": {
      "text/plain": [
       "laptop_ID           1303\n",
       "Company               19\n",
       "Product              618\n",
       "TypeName               6\n",
       "Inches                18\n",
       "ScreenResolution      40\n",
       "Cpu                  118\n",
       "Ram                    9\n",
       "Memory                39\n",
       "Gpu                  106\n",
       "OpSys                  9\n",
       "Weight               179\n",
       "Price_euros          791\n",
       "dtype: int64"
      ]
     },
     "execution_count": 4,
     "metadata": {},
     "output_type": "execute_result"
    }
   ],
   "source": [
    "df.nunique()"
   ]
  },
  {
   "cell_type": "code",
   "execution_count": 5,
   "id": "56f898c2",
   "metadata": {},
   "outputs": [],
   "source": [
    "df = df.drop('laptop_ID', axis=1)"
   ]
  },
  {
   "cell_type": "code",
   "execution_count": 6,
   "id": "5913708b",
   "metadata": {},
   "outputs": [
    {
     "data": {
      "text/html": [
       "<div>\n",
       "<style scoped>\n",
       "    .dataframe tbody tr th:only-of-type {\n",
       "        vertical-align: middle;\n",
       "    }\n",
       "\n",
       "    .dataframe tbody tr th {\n",
       "        vertical-align: top;\n",
       "    }\n",
       "\n",
       "    .dataframe thead th {\n",
       "        text-align: right;\n",
       "    }\n",
       "</style>\n",
       "<table border=\"1\" class=\"dataframe\">\n",
       "  <thead>\n",
       "    <tr style=\"text-align: right;\">\n",
       "      <th></th>\n",
       "      <th>Company</th>\n",
       "      <th>Product</th>\n",
       "      <th>TypeName</th>\n",
       "      <th>Inches</th>\n",
       "      <th>ScreenResolution</th>\n",
       "      <th>Cpu</th>\n",
       "      <th>Ram</th>\n",
       "      <th>Memory</th>\n",
       "      <th>Gpu</th>\n",
       "      <th>OpSys</th>\n",
       "      <th>Weight</th>\n",
       "      <th>Price_euros</th>\n",
       "    </tr>\n",
       "  </thead>\n",
       "  <tbody>\n",
       "    <tr>\n",
       "      <th>0</th>\n",
       "      <td>Apple</td>\n",
       "      <td>MacBook Pro</td>\n",
       "      <td>Ultrabook</td>\n",
       "      <td>13.3</td>\n",
       "      <td>IPS Panel Retina Display 2560x1600</td>\n",
       "      <td>Intel Core i5 2.3GHz</td>\n",
       "      <td>8GB</td>\n",
       "      <td>128GB SSD</td>\n",
       "      <td>Intel Iris Plus Graphics 640</td>\n",
       "      <td>macOS</td>\n",
       "      <td>1.37kg</td>\n",
       "      <td>1339.69</td>\n",
       "    </tr>\n",
       "    <tr>\n",
       "      <th>1</th>\n",
       "      <td>Apple</td>\n",
       "      <td>Macbook Air</td>\n",
       "      <td>Ultrabook</td>\n",
       "      <td>13.3</td>\n",
       "      <td>1440x900</td>\n",
       "      <td>Intel Core i5 1.8GHz</td>\n",
       "      <td>8GB</td>\n",
       "      <td>128GB Flash Storage</td>\n",
       "      <td>Intel HD Graphics 6000</td>\n",
       "      <td>macOS</td>\n",
       "      <td>1.34kg</td>\n",
       "      <td>898.94</td>\n",
       "    </tr>\n",
       "    <tr>\n",
       "      <th>2</th>\n",
       "      <td>HP</td>\n",
       "      <td>250 G6</td>\n",
       "      <td>Notebook</td>\n",
       "      <td>15.6</td>\n",
       "      <td>Full HD 1920x1080</td>\n",
       "      <td>Intel Core i5 7200U 2.5GHz</td>\n",
       "      <td>8GB</td>\n",
       "      <td>256GB SSD</td>\n",
       "      <td>Intel HD Graphics 620</td>\n",
       "      <td>No OS</td>\n",
       "      <td>1.86kg</td>\n",
       "      <td>575.00</td>\n",
       "    </tr>\n",
       "    <tr>\n",
       "      <th>3</th>\n",
       "      <td>Apple</td>\n",
       "      <td>MacBook Pro</td>\n",
       "      <td>Ultrabook</td>\n",
       "      <td>15.4</td>\n",
       "      <td>IPS Panel Retina Display 2880x1800</td>\n",
       "      <td>Intel Core i7 2.7GHz</td>\n",
       "      <td>16GB</td>\n",
       "      <td>512GB SSD</td>\n",
       "      <td>AMD Radeon Pro 455</td>\n",
       "      <td>macOS</td>\n",
       "      <td>1.83kg</td>\n",
       "      <td>2537.45</td>\n",
       "    </tr>\n",
       "    <tr>\n",
       "      <th>4</th>\n",
       "      <td>Apple</td>\n",
       "      <td>MacBook Pro</td>\n",
       "      <td>Ultrabook</td>\n",
       "      <td>13.3</td>\n",
       "      <td>IPS Panel Retina Display 2560x1600</td>\n",
       "      <td>Intel Core i5 3.1GHz</td>\n",
       "      <td>8GB</td>\n",
       "      <td>256GB SSD</td>\n",
       "      <td>Intel Iris Plus Graphics 650</td>\n",
       "      <td>macOS</td>\n",
       "      <td>1.37kg</td>\n",
       "      <td>1803.60</td>\n",
       "    </tr>\n",
       "  </tbody>\n",
       "</table>\n",
       "</div>"
      ],
      "text/plain": [
       "  Company      Product   TypeName  Inches                    ScreenResolution  \\\n",
       "0   Apple  MacBook Pro  Ultrabook    13.3  IPS Panel Retina Display 2560x1600   \n",
       "1   Apple  Macbook Air  Ultrabook    13.3                            1440x900   \n",
       "2      HP       250 G6   Notebook    15.6                   Full HD 1920x1080   \n",
       "3   Apple  MacBook Pro  Ultrabook    15.4  IPS Panel Retina Display 2880x1800   \n",
       "4   Apple  MacBook Pro  Ultrabook    13.3  IPS Panel Retina Display 2560x1600   \n",
       "\n",
       "                          Cpu   Ram               Memory  \\\n",
       "0        Intel Core i5 2.3GHz   8GB            128GB SSD   \n",
       "1        Intel Core i5 1.8GHz   8GB  128GB Flash Storage   \n",
       "2  Intel Core i5 7200U 2.5GHz   8GB            256GB SSD   \n",
       "3        Intel Core i7 2.7GHz  16GB            512GB SSD   \n",
       "4        Intel Core i5 3.1GHz   8GB            256GB SSD   \n",
       "\n",
       "                            Gpu  OpSys  Weight  Price_euros  \n",
       "0  Intel Iris Plus Graphics 640  macOS  1.37kg      1339.69  \n",
       "1        Intel HD Graphics 6000  macOS  1.34kg       898.94  \n",
       "2         Intel HD Graphics 620  No OS  1.86kg       575.00  \n",
       "3            AMD Radeon Pro 455  macOS  1.83kg      2537.45  \n",
       "4  Intel Iris Plus Graphics 650  macOS  1.37kg      1803.60  "
      ]
     },
     "execution_count": 6,
     "metadata": {},
     "output_type": "execute_result"
    }
   ],
   "source": [
    "df.head() # y = df[['Price_euros']]"
   ]
  },
  {
   "cell_type": "markdown",
   "id": "b80e358c",
   "metadata": {},
   "source": [
    "# Preprocessing"
   ]
  },
  {
   "cell_type": "code",
   "execution_count": 7,
   "id": "ab97d92b",
   "metadata": {},
   "outputs": [],
   "source": [
    "df[\"Weight\"] = df[\"Weight\"].str.replace(\"kg\",\"\")\n",
    "df[\"Weight\"] = pd.to_numeric(df[\"Weight\"])\n",
    "df[\"Ram\"] = df[\"Ram\"].apply(lambda x : str(x).replace(\"GB\",\"\")).astype(int)"
   ]
  },
  {
   "cell_type": "code",
   "execution_count": 8,
   "id": "c672b4dd",
   "metadata": {},
   "outputs": [
    {
     "data": {
      "text/html": [
       "<div>\n",
       "<style scoped>\n",
       "    .dataframe tbody tr th:only-of-type {\n",
       "        vertical-align: middle;\n",
       "    }\n",
       "\n",
       "    .dataframe tbody tr th {\n",
       "        vertical-align: top;\n",
       "    }\n",
       "\n",
       "    .dataframe thead th {\n",
       "        text-align: right;\n",
       "    }\n",
       "</style>\n",
       "<table border=\"1\" class=\"dataframe\">\n",
       "  <thead>\n",
       "    <tr style=\"text-align: right;\">\n",
       "      <th></th>\n",
       "      <th>Company</th>\n",
       "      <th>Product</th>\n",
       "      <th>TypeName</th>\n",
       "      <th>Inches</th>\n",
       "      <th>ScreenResolution</th>\n",
       "      <th>Cpu</th>\n",
       "      <th>Ram</th>\n",
       "      <th>Memory</th>\n",
       "      <th>Gpu</th>\n",
       "      <th>OpSys</th>\n",
       "      <th>Weight</th>\n",
       "      <th>Price_euros</th>\n",
       "    </tr>\n",
       "  </thead>\n",
       "  <tbody>\n",
       "    <tr>\n",
       "      <th>0</th>\n",
       "      <td>Apple</td>\n",
       "      <td>MacBook Pro</td>\n",
       "      <td>Ultrabook</td>\n",
       "      <td>13.3</td>\n",
       "      <td>IPS Panel Retina Display 2560x1600</td>\n",
       "      <td>Intel Core i5 2.3GHz</td>\n",
       "      <td>8</td>\n",
       "      <td>128GB SSD</td>\n",
       "      <td>Intel Iris Plus Graphics 640</td>\n",
       "      <td>macOS</td>\n",
       "      <td>1.37</td>\n",
       "      <td>1339.69</td>\n",
       "    </tr>\n",
       "    <tr>\n",
       "      <th>1</th>\n",
       "      <td>Apple</td>\n",
       "      <td>Macbook Air</td>\n",
       "      <td>Ultrabook</td>\n",
       "      <td>13.3</td>\n",
       "      <td>1440x900</td>\n",
       "      <td>Intel Core i5 1.8GHz</td>\n",
       "      <td>8</td>\n",
       "      <td>128GB Flash Storage</td>\n",
       "      <td>Intel HD Graphics 6000</td>\n",
       "      <td>macOS</td>\n",
       "      <td>1.34</td>\n",
       "      <td>898.94</td>\n",
       "    </tr>\n",
       "    <tr>\n",
       "      <th>2</th>\n",
       "      <td>HP</td>\n",
       "      <td>250 G6</td>\n",
       "      <td>Notebook</td>\n",
       "      <td>15.6</td>\n",
       "      <td>Full HD 1920x1080</td>\n",
       "      <td>Intel Core i5 7200U 2.5GHz</td>\n",
       "      <td>8</td>\n",
       "      <td>256GB SSD</td>\n",
       "      <td>Intel HD Graphics 620</td>\n",
       "      <td>No OS</td>\n",
       "      <td>1.86</td>\n",
       "      <td>575.00</td>\n",
       "    </tr>\n",
       "    <tr>\n",
       "      <th>3</th>\n",
       "      <td>Apple</td>\n",
       "      <td>MacBook Pro</td>\n",
       "      <td>Ultrabook</td>\n",
       "      <td>15.4</td>\n",
       "      <td>IPS Panel Retina Display 2880x1800</td>\n",
       "      <td>Intel Core i7 2.7GHz</td>\n",
       "      <td>16</td>\n",
       "      <td>512GB SSD</td>\n",
       "      <td>AMD Radeon Pro 455</td>\n",
       "      <td>macOS</td>\n",
       "      <td>1.83</td>\n",
       "      <td>2537.45</td>\n",
       "    </tr>\n",
       "    <tr>\n",
       "      <th>4</th>\n",
       "      <td>Apple</td>\n",
       "      <td>MacBook Pro</td>\n",
       "      <td>Ultrabook</td>\n",
       "      <td>13.3</td>\n",
       "      <td>IPS Panel Retina Display 2560x1600</td>\n",
       "      <td>Intel Core i5 3.1GHz</td>\n",
       "      <td>8</td>\n",
       "      <td>256GB SSD</td>\n",
       "      <td>Intel Iris Plus Graphics 650</td>\n",
       "      <td>macOS</td>\n",
       "      <td>1.37</td>\n",
       "      <td>1803.60</td>\n",
       "    </tr>\n",
       "  </tbody>\n",
       "</table>\n",
       "</div>"
      ],
      "text/plain": [
       "  Company      Product   TypeName  Inches                    ScreenResolution  \\\n",
       "0   Apple  MacBook Pro  Ultrabook    13.3  IPS Panel Retina Display 2560x1600   \n",
       "1   Apple  Macbook Air  Ultrabook    13.3                            1440x900   \n",
       "2      HP       250 G6   Notebook    15.6                   Full HD 1920x1080   \n",
       "3   Apple  MacBook Pro  Ultrabook    15.4  IPS Panel Retina Display 2880x1800   \n",
       "4   Apple  MacBook Pro  Ultrabook    13.3  IPS Panel Retina Display 2560x1600   \n",
       "\n",
       "                          Cpu  Ram               Memory  \\\n",
       "0        Intel Core i5 2.3GHz    8            128GB SSD   \n",
       "1        Intel Core i5 1.8GHz    8  128GB Flash Storage   \n",
       "2  Intel Core i5 7200U 2.5GHz    8            256GB SSD   \n",
       "3        Intel Core i7 2.7GHz   16            512GB SSD   \n",
       "4        Intel Core i5 3.1GHz    8            256GB SSD   \n",
       "\n",
       "                            Gpu  OpSys  Weight  Price_euros  \n",
       "0  Intel Iris Plus Graphics 640  macOS    1.37      1339.69  \n",
       "1        Intel HD Graphics 6000  macOS    1.34       898.94  \n",
       "2         Intel HD Graphics 620  No OS    1.86       575.00  \n",
       "3            AMD Radeon Pro 455  macOS    1.83      2537.45  \n",
       "4  Intel Iris Plus Graphics 650  macOS    1.37      1803.60  "
      ]
     },
     "execution_count": 8,
     "metadata": {},
     "output_type": "execute_result"
    }
   ],
   "source": [
    "df.head()"
   ]
  },
  {
   "cell_type": "code",
   "execution_count": 9,
   "id": "70e08522",
   "metadata": {},
   "outputs": [
    {
     "name": "stdout",
     "output_type": "stream",
     "text": [
      "<class 'pandas.core.frame.DataFrame'>\n",
      "RangeIndex: 1303 entries, 0 to 1302\n",
      "Data columns (total 12 columns):\n",
      " #   Column            Non-Null Count  Dtype  \n",
      "---  ------            --------------  -----  \n",
      " 0   Company           1303 non-null   object \n",
      " 1   Product           1303 non-null   object \n",
      " 2   TypeName          1303 non-null   object \n",
      " 3   Inches            1303 non-null   float64\n",
      " 4   ScreenResolution  1303 non-null   object \n",
      " 5   Cpu               1303 non-null   object \n",
      " 6   Ram               1303 non-null   int32  \n",
      " 7   Memory            1303 non-null   object \n",
      " 8   Gpu               1303 non-null   object \n",
      " 9   OpSys             1303 non-null   object \n",
      " 10  Weight            1303 non-null   float64\n",
      " 11  Price_euros       1303 non-null   float64\n",
      "dtypes: float64(3), int32(1), object(8)\n",
      "memory usage: 117.2+ KB\n"
     ]
    }
   ],
   "source": [
    "df.info()"
   ]
  },
  {
   "cell_type": "code",
   "execution_count": 10,
   "id": "8b5a5e65",
   "metadata": {},
   "outputs": [],
   "source": [
    "df_product_price = df.groupby(\"Company\")[\"Price_euros\"].mean()"
   ]
  },
  {
   "cell_type": "code",
   "execution_count": 11,
   "id": "6ea174db",
   "metadata": {},
   "outputs": [
    {
     "data": {
      "text/plain": [
       "Company\n",
       "Acer          626.775825\n",
       "Apple        1564.198571\n",
       "Asus         1104.169367\n",
       "Chuwi         314.296667\n",
       "Dell         1186.068990\n",
       "Fujitsu       729.000000\n",
       "Google       1677.666667\n",
       "HP           1067.774854\n",
       "Huawei       1424.000000\n",
       "LG           2099.000000\n",
       "Lenovo       1086.384444\n",
       "MSI          1728.908148\n",
       "Mediacom      295.000000\n",
       "Microsoft    1612.308333\n",
       "Razer        3346.142857\n",
       "Samsung      1413.444444\n",
       "Toshiba      1267.812500\n",
       "Vero          217.425000\n",
       "Xiaomi       1133.462500\n",
       "Name: Price_euros, dtype: float64"
      ]
     },
     "execution_count": 11,
     "metadata": {},
     "output_type": "execute_result"
    }
   ],
   "source": [
    "df_product_price"
   ]
  },
  {
   "cell_type": "code",
   "execution_count": 12,
   "id": "0e187aba",
   "metadata": {},
   "outputs": [],
   "source": [
    "df_product_price = pd.DataFrame(data = df_product_price)\n",
    "df_product_price.columns = [\"Product Avg Price\"]\n",
    "df_product_price.sort_values(by=\"Product Avg Price\",ascending=False,inplace=True)\n"
   ]
  },
  {
   "cell_type": "code",
   "execution_count": 13,
   "id": "5d895ef8",
   "metadata": {},
   "outputs": [
    {
     "data": {
      "text/plain": [
       "Text(0.5, 1.0, 'Average Price Per Company')"
      ]
     },
     "execution_count": 13,
     "metadata": {},
     "output_type": "execute_result"
    },
    {
     "data": {
      "image/png": "[encoded data removed]",
      "text/plain": [
       "<Figure size 1080x576 with 1 Axes>"
      ]
     },
     "metadata": {
      "needs_background": "light"
     },
     "output_type": "display_data"
    }
   ],
   "source": [
    "plt.figure(figsize = (15,8))\n",
    "splot = sns.barplot(data = df_product_price,x= df_product_price.index, y = 'Product Avg Price', palette = 'autumn')\n",
    "for p in splot.patches:\n",
    "    splot.annotate(format(p.get_height(), '.2f'), \n",
    "                   (p.get_x() + p.get_width() / 2., p.get_height()), \n",
    "                   ha = 'center', va = 'center', \n",
    "                   xytext = (0, 9), \n",
    "                   textcoords = 'offset points')\n",
    "    \n",
    "plt.xlabel(\"Name of the Company\", size=15)\n",
    "plt.ylabel(\"Average Product Price\", size=15)\n",
    "plt.title('Average Price Per Company')"
   ]
  },
  {
   "cell_type": "markdown",
   "id": "ae7450cf",
   "metadata": {},
   "source": [
    "# Keep Continue for Regression Model"
   ]
  },
  {
   "cell_type": "code",
   "execution_count": 14,
   "id": "151d900f",
   "metadata": {},
   "outputs": [
    {
     "data": {
      "text/html": [
       "<div>\n",
       "<style scoped>\n",
       "    .dataframe tbody tr th:only-of-type {\n",
       "        vertical-align: middle;\n",
       "    }\n",
       "\n",
       "    .dataframe tbody tr th {\n",
       "        vertical-align: top;\n",
       "    }\n",
       "\n",
       "    .dataframe thead th {\n",
       "        text-align: right;\n",
       "    }\n",
       "</style>\n",
       "<table border=\"1\" class=\"dataframe\">\n",
       "  <thead>\n",
       "    <tr style=\"text-align: right;\">\n",
       "      <th></th>\n",
       "      <th>Company</th>\n",
       "      <th>Product</th>\n",
       "      <th>TypeName</th>\n",
       "      <th>Inches</th>\n",
       "      <th>ScreenResolution</th>\n",
       "      <th>Cpu</th>\n",
       "      <th>Ram</th>\n",
       "      <th>Memory</th>\n",
       "      <th>Gpu</th>\n",
       "      <th>OpSys</th>\n",
       "      <th>Weight</th>\n",
       "      <th>Price_euros</th>\n",
       "    </tr>\n",
       "  </thead>\n",
       "  <tbody>\n",
       "    <tr>\n",
       "      <th>0</th>\n",
       "      <td>Apple</td>\n",
       "      <td>MacBook Pro</td>\n",
       "      <td>Ultrabook</td>\n",
       "      <td>13.3</td>\n",
       "      <td>IPS Panel Retina Display 2560x1600</td>\n",
       "      <td>Intel Core i5 2.3GHz</td>\n",
       "      <td>8</td>\n",
       "      <td>128GB SSD</td>\n",
       "      <td>Intel Iris Plus Graphics 640</td>\n",
       "      <td>macOS</td>\n",
       "      <td>1.37</td>\n",
       "      <td>1339.69</td>\n",
       "    </tr>\n",
       "    <tr>\n",
       "      <th>1</th>\n",
       "      <td>Apple</td>\n",
       "      <td>Macbook Air</td>\n",
       "      <td>Ultrabook</td>\n",
       "      <td>13.3</td>\n",
       "      <td>1440x900</td>\n",
       "      <td>Intel Core i5 1.8GHz</td>\n",
       "      <td>8</td>\n",
       "      <td>128GB Flash Storage</td>\n",
       "      <td>Intel HD Graphics 6000</td>\n",
       "      <td>macOS</td>\n",
       "      <td>1.34</td>\n",
       "      <td>898.94</td>\n",
       "    </tr>\n",
       "    <tr>\n",
       "      <th>2</th>\n",
       "      <td>HP</td>\n",
       "      <td>250 G6</td>\n",
       "      <td>Notebook</td>\n",
       "      <td>15.6</td>\n",
       "      <td>Full HD 1920x1080</td>\n",
       "      <td>Intel Core i5 7200U 2.5GHz</td>\n",
       "      <td>8</td>\n",
       "      <td>256GB SSD</td>\n",
       "      <td>Intel HD Graphics 620</td>\n",
       "      <td>No OS</td>\n",
       "      <td>1.86</td>\n",
       "      <td>575.00</td>\n",
       "    </tr>\n",
       "    <tr>\n",
       "      <th>3</th>\n",
       "      <td>Apple</td>\n",
       "      <td>MacBook Pro</td>\n",
       "      <td>Ultrabook</td>\n",
       "      <td>15.4</td>\n",
       "      <td>IPS Panel Retina Display 2880x1800</td>\n",
       "      <td>Intel Core i7 2.7GHz</td>\n",
       "      <td>16</td>\n",
       "      <td>512GB SSD</td>\n",
       "      <td>AMD Radeon Pro 455</td>\n",
       "      <td>macOS</td>\n",
       "      <td>1.83</td>\n",
       "      <td>2537.45</td>\n",
       "    </tr>\n",
       "    <tr>\n",
       "      <th>4</th>\n",
       "      <td>Apple</td>\n",
       "      <td>MacBook Pro</td>\n",
       "      <td>Ultrabook</td>\n",
       "      <td>13.3</td>\n",
       "      <td>IPS Panel Retina Display 2560x1600</td>\n",
       "      <td>Intel Core i5 3.1GHz</td>\n",
       "      <td>8</td>\n",
       "      <td>256GB SSD</td>\n",
       "      <td>Intel Iris Plus Graphics 650</td>\n",
       "      <td>macOS</td>\n",
       "      <td>1.37</td>\n",
       "      <td>1803.60</td>\n",
       "    </tr>\n",
       "  </tbody>\n",
       "</table>\n",
       "</div>"
      ],
      "text/plain": [
       "  Company      Product   TypeName  Inches                    ScreenResolution  \\\n",
       "0   Apple  MacBook Pro  Ultrabook    13.3  IPS Panel Retina Display 2560x1600   \n",
       "1   Apple  Macbook Air  Ultrabook    13.3                            1440x900   \n",
       "2      HP       250 G6   Notebook    15.6                   Full HD 1920x1080   \n",
       "3   Apple  MacBook Pro  Ultrabook    15.4  IPS Panel Retina Display 2880x1800   \n",
       "4   Apple  MacBook Pro  Ultrabook    13.3  IPS Panel Retina Display 2560x1600   \n",
       "\n",
       "                          Cpu  Ram               Memory  \\\n",
       "0        Intel Core i5 2.3GHz    8            128GB SSD   \n",
       "1        Intel Core i5 1.8GHz    8  128GB Flash Storage   \n",
       "2  Intel Core i5 7200U 2.5GHz    8            256GB SSD   \n",
       "3        Intel Core i7 2.7GHz   16            512GB SSD   \n",
       "4        Intel Core i5 3.1GHz    8            256GB SSD   \n",
       "\n",
       "                            Gpu  OpSys  Weight  Price_euros  \n",
       "0  Intel Iris Plus Graphics 640  macOS    1.37      1339.69  \n",
       "1        Intel HD Graphics 6000  macOS    1.34       898.94  \n",
       "2         Intel HD Graphics 620  No OS    1.86       575.00  \n",
       "3            AMD Radeon Pro 455  macOS    1.83      2537.45  \n",
       "4  Intel Iris Plus Graphics 650  macOS    1.37      1803.60  "
      ]
     },
     "execution_count": 14,
     "metadata": {},
     "output_type": "execute_result"
    }
   ],
   "source": [
    "df.head()"
   ]
  },
  {
   "cell_type": "code",
   "execution_count": 15,
   "id": "48dc985f",
   "metadata": {},
   "outputs": [],
   "source": [
    "df[['Screen','Screen_Resoluton_Height']] = df['ScreenResolution'].str.split('x',expand=True)\n",
    "df[\"Screen_Resoluton_Height\"] = pd.to_numeric(df[\"Screen_Resoluton_Height\"])"
   ]
  },
  {
   "cell_type": "code",
   "execution_count": 16,
   "id": "4725f924",
   "metadata": {},
   "outputs": [],
   "source": [
    "df[[\"Screen_Display\",'sep',\"Screen_Resoluton_Weight\"]] = df[\"Screen\"].str.split(\"(\\d\\d)\", n=1, expand=True)\n",
    "df[\"Screen_Resoluton_Weight\"] = df[\"sep\"] + df[\"Screen_Resoluton_Weight\"]\n",
    "df[\"Screen_Resoluton_Weight\"] = pd.to_numeric(df[\"Screen_Resoluton_Weight\"])\n",
    "df.drop('sep',axis=1,inplace=True)"
   ]
  },
  {
   "cell_type": "code",
   "execution_count": 17,
   "id": "820a2a4d",
   "metadata": {},
   "outputs": [],
   "source": [
    "df.drop('ScreenResolution',axis=1,inplace=True)"
   ]
  },
  {
   "cell_type": "code",
   "execution_count": 18,
   "id": "af52dbdc",
   "metadata": {},
   "outputs": [],
   "source": [
    "df.drop('Screen',axis=1,inplace=True)\n",
    "df.drop('Screen_Display',axis=1,inplace=True)"
   ]
  },
  {
   "cell_type": "code",
   "execution_count": 19,
   "id": "eaaedac6",
   "metadata": {},
   "outputs": [],
   "source": [
    "df[['Cpu_Core','Cpu_Processor_Speed_GHz']] = df['Cpu'].str.rsplit(\" \", n=1, expand=True)"
   ]
  },
  {
   "cell_type": "code",
   "execution_count": 20,
   "id": "02254db0",
   "metadata": {},
   "outputs": [],
   "source": [
    "df[\"Cpu_Processor_Speed_GHz\"] = df[\"Cpu_Processor_Speed_GHz\"].str.replace(\"GHz\",\"\")\n",
    "df[\"Cpu_Processor_Speed_GHz\"] = pd.to_numeric(df[\"Cpu_Processor_Speed_GHz\"])"
   ]
  },
  {
   "cell_type": "code",
   "execution_count": 21,
   "id": "0fa4a81d",
   "metadata": {},
   "outputs": [],
   "source": [
    "df.drop('Cpu',axis=1,inplace=True)\n",
    "df.drop('Cpu_Core',axis=1,inplace=True)"
   ]
  },
  {
   "cell_type": "code",
   "execution_count": 22,
   "id": "f975e832",
   "metadata": {},
   "outputs": [],
   "source": [
    "df[['Memory(storage_amount)','Memory(storage_device)']] = df['Memory'].str.split(\" \", n=1, expand=True)"
   ]
  },
  {
   "cell_type": "code",
   "execution_count": 23,
   "id": "0ae8c177",
   "metadata": {},
   "outputs": [
    {
     "name": "stderr",
     "output_type": "stream",
     "text": [
      "<ipython-input-23-126a526c08ca>:1: FutureWarning: The default value of regex will change from True to False in a future version.\n",
      "  df[\"Memory(storage_amount)_GB\"] = df[\"Memory(storage_amount)\"].str.replace(\"GB||TB\",\"\")\n"
     ]
    }
   ],
   "source": [
    "df[\"Memory(storage_amount)_GB\"] = df[\"Memory(storage_amount)\"].str.replace(\"GB||TB\",\"\")\n",
    "df[\"Memory(storage_amount)_GB\"] = pd.to_numeric(df[\"Memory(storage_amount)_GB\"])"
   ]
  },
  {
   "cell_type": "code",
   "execution_count": 24,
   "id": "b45eee56",
   "metadata": {},
   "outputs": [],
   "source": [
    "df.drop('Memory(storage_amount)',axis=True,inplace=True)"
   ]
  },
  {
   "cell_type": "code",
   "execution_count": 25,
   "id": "7b7ee172",
   "metadata": {},
   "outputs": [],
   "source": [
    "df.drop('Memory(storage_device)',axis=True,inplace=True)"
   ]
  },
  {
   "cell_type": "code",
   "execution_count": 26,
   "id": "7d0c767d",
   "metadata": {},
   "outputs": [],
   "source": [
    "df.drop('Memory',axis=1,inplace=True)"
   ]
  },
  {
   "cell_type": "code",
   "execution_count": 27,
   "id": "92648c35",
   "metadata": {},
   "outputs": [],
   "source": [
    "df[['Gpu_Graphics','sep','Gpu_Graphics_GB']] = df['Gpu'].str.split(\"(\\d\\d)\", n=1, expand=True)\n",
    "df[\"Gpu_Graphics_GB\"] = df[\"sep\"] + df[\"Gpu_Graphics_GB\"]"
   ]
  },
  {
   "cell_type": "code",
   "execution_count": 28,
   "id": "2b389787",
   "metadata": {},
   "outputs": [],
   "source": [
    "df.drop('Gpu_Graphics',axis=1,inplace=True)"
   ]
  },
  {
   "cell_type": "code",
   "execution_count": 29,
   "id": "83e22cb5",
   "metadata": {},
   "outputs": [],
   "source": [
    "df.drop('Gpu',axis=1,inplace=True)"
   ]
  },
  {
   "cell_type": "code",
   "execution_count": 30,
   "id": "f0a60033",
   "metadata": {},
   "outputs": [],
   "source": [
    "df.drop('sep',axis=1,inplace=True)"
   ]
  },
  {
   "cell_type": "code",
   "execution_count": 31,
   "id": "143ebcda",
   "metadata": {},
   "outputs": [],
   "source": [
    "le=LabelEncoder()"
   ]
  },
  {
   "cell_type": "code",
   "execution_count": 32,
   "id": "42dd09d4",
   "metadata": {},
   "outputs": [],
   "source": [
    "df['TypeName']=le.fit_transform(df['TypeName'])"
   ]
  },
  {
   "cell_type": "code",
   "execution_count": 33,
   "id": "fb21ff26",
   "metadata": {},
   "outputs": [],
   "source": [
    "df['Company']=le.fit_transform(df['Company'])"
   ]
  },
  {
   "cell_type": "code",
   "execution_count": 34,
   "id": "7b5e79e0",
   "metadata": {},
   "outputs": [],
   "source": [
    "df['OpSys']=le.fit_transform(df['OpSys'])"
   ]
  },
  {
   "cell_type": "code",
   "execution_count": 35,
   "id": "2e1d778c",
   "metadata": {},
   "outputs": [],
   "source": [
    "df['Product']=le.fit_transform(df['Product'])"
   ]
  },
  {
   "cell_type": "code",
   "execution_count": 36,
   "id": "54b25e24",
   "metadata": {},
   "outputs": [],
   "source": [
    "df['Gpu_Graphics_GB']=le.fit_transform(df['Gpu_Graphics_GB'])"
   ]
  },
  {
   "cell_type": "code",
   "execution_count": 37,
   "id": "508a5761",
   "metadata": {},
   "outputs": [],
   "source": [
    "Scaler=StandardScaler()"
   ]
  },
  {
   "cell_type": "code",
   "execution_count": 38,
   "id": "3c5fb271",
   "metadata": {},
   "outputs": [],
   "source": [
    "df['Product']=Scaler.fit_transform(df[['Product']])"
   ]
  },
  {
   "cell_type": "code",
   "execution_count": 39,
   "id": "1131181f",
   "metadata": {},
   "outputs": [],
   "source": [
    "df['Gpu_Graphics_GB']=Scaler.fit_transform(df[['Gpu_Graphics_GB']])"
   ]
  },
  {
   "cell_type": "code",
   "execution_count": 40,
   "id": "b1ac05e5",
   "metadata": {},
   "outputs": [],
   "source": [
    "df['Screen_Resoluton_Height']=Scaler.fit_transform(df[['Screen_Resoluton_Height']])"
   ]
  },
  {
   "cell_type": "code",
   "execution_count": 41,
   "id": "9825f656",
   "metadata": {},
   "outputs": [],
   "source": [
    "df['Screen_Resoluton_Weight']=Scaler.fit_transform(df[['Screen_Resoluton_Weight']])"
   ]
  },
  {
   "cell_type": "code",
   "execution_count": 42,
   "id": "5151e478",
   "metadata": {},
   "outputs": [],
   "source": [
    "df['Memory(storage_amount)_GB']=Scaler.fit_transform(df[['Memory(storage_amount)_GB']])"
   ]
  },
  {
   "cell_type": "code",
   "execution_count": 43,
   "id": "9ff9199f",
   "metadata": {},
   "outputs": [
    {
     "data": {
      "text/plain": [
       "75"
      ]
     },
     "execution_count": 43,
     "metadata": {},
     "output_type": "execute_result"
    }
   ],
   "source": [
    "df.Gpu_Graphics_GB.nunique()"
   ]
  },
  {
   "cell_type": "code",
   "execution_count": 44,
   "id": "6456801f",
   "metadata": {},
   "outputs": [
    {
     "data": {
      "text/plain": [
       "18"
      ]
     },
     "execution_count": 44,
     "metadata": {},
     "output_type": "execute_result"
    }
   ],
   "source": [
    "df.Inches.nunique()"
   ]
  },
  {
   "cell_type": "code",
   "execution_count": 45,
   "id": "14caec90",
   "metadata": {},
   "outputs": [
    {
     "data": {
      "text/plain": [
       "9"
      ]
     },
     "execution_count": 45,
     "metadata": {},
     "output_type": "execute_result"
    }
   ],
   "source": [
    "df.Ram.nunique()"
   ]
  },
  {
   "cell_type": "code",
   "execution_count": 46,
   "id": "675e8ebe",
   "metadata": {},
   "outputs": [
    {
     "data": {
      "text/plain": [
       "618"
      ]
     },
     "execution_count": 46,
     "metadata": {},
     "output_type": "execute_result"
    }
   ],
   "source": [
    "df.Product.nunique()"
   ]
  },
  {
   "cell_type": "code",
   "execution_count": 47,
   "id": "20f07db8",
   "metadata": {},
   "outputs": [
    {
     "data": {
      "text/plain": [
       "9"
      ]
     },
     "execution_count": 47,
     "metadata": {},
     "output_type": "execute_result"
    }
   ],
   "source": [
    "df.OpSys.nunique()"
   ]
  },
  {
   "cell_type": "code",
   "execution_count": 48,
   "id": "4f2806f2",
   "metadata": {},
   "outputs": [
    {
     "data": {
      "text/plain": [
       "6"
      ]
     },
     "execution_count": 48,
     "metadata": {},
     "output_type": "execute_result"
    }
   ],
   "source": [
    "df.TypeName.nunique()"
   ]
  },
  {
   "cell_type": "code",
   "execution_count": 49,
   "id": "07c473ef",
   "metadata": {},
   "outputs": [
    {
     "data": {
      "text/plain": [
       "618"
      ]
     },
     "execution_count": 49,
     "metadata": {},
     "output_type": "execute_result"
    }
   ],
   "source": [
    "df.Product.nunique()"
   ]
  },
  {
   "cell_type": "code",
   "execution_count": 50,
   "id": "2d638478",
   "metadata": {},
   "outputs": [
    {
     "name": "stdout",
     "output_type": "stream",
     "text": [
      "<class 'pandas.core.frame.DataFrame'>\n",
      "RangeIndex: 1303 entries, 0 to 1302\n",
      "Data columns (total 13 columns):\n",
      " #   Column                     Non-Null Count  Dtype  \n",
      "---  ------                     --------------  -----  \n",
      " 0   Company                    1303 non-null   int32  \n",
      " 1   Product                    1303 non-null   float64\n",
      " 2   TypeName                   1303 non-null   int32  \n",
      " 3   Inches                     1303 non-null   float64\n",
      " 4   Ram                        1303 non-null   int32  \n",
      " 5   OpSys                      1303 non-null   int32  \n",
      " 6   Weight                     1303 non-null   float64\n",
      " 7   Price_euros                1303 non-null   float64\n",
      " 8   Screen_Resoluton_Height    1303 non-null   float64\n",
      " 9   Screen_Resoluton_Weight    1303 non-null   float64\n",
      " 10  Cpu_Processor_Speed_GHz    1303 non-null   float64\n",
      " 11  Memory(storage_amount)_GB  1303 non-null   float64\n",
      " 12  Gpu_Graphics_GB            1303 non-null   float64\n",
      "dtypes: float64(9), int32(4)\n",
      "memory usage: 112.1 KB\n"
     ]
    }
   ],
   "source": [
    "df.info()"
   ]
  },
  {
   "cell_type": "code",
   "execution_count": 51,
   "id": "9f325b72",
   "metadata": {},
   "outputs": [
    {
     "data": {
      "text/html": [
       "<div>\n",
       "<style scoped>\n",
       "    .dataframe tbody tr th:only-of-type {\n",
       "        vertical-align: middle;\n",
       "    }\n",
       "\n",
       "    .dataframe tbody tr th {\n",
       "        vertical-align: top;\n",
       "    }\n",
       "\n",
       "    .dataframe thead th {\n",
       "        text-align: right;\n",
       "    }\n",
       "</style>\n",
       "<table border=\"1\" class=\"dataframe\">\n",
       "  <thead>\n",
       "    <tr style=\"text-align: right;\">\n",
       "      <th></th>\n",
       "      <th>Company</th>\n",
       "      <th>Product</th>\n",
       "      <th>TypeName</th>\n",
       "      <th>Inches</th>\n",
       "      <th>Ram</th>\n",
       "      <th>OpSys</th>\n",
       "      <th>Weight</th>\n",
       "      <th>Price_euros</th>\n",
       "      <th>Screen_Resoluton_Height</th>\n",
       "      <th>Screen_Resoluton_Weight</th>\n",
       "      <th>Cpu_Processor_Speed_GHz</th>\n",
       "      <th>Memory(storage_amount)_GB</th>\n",
       "      <th>Gpu_Graphics_GB</th>\n",
       "    </tr>\n",
       "  </thead>\n",
       "  <tbody>\n",
       "    <tr>\n",
       "      <th>0</th>\n",
       "      <td>1</td>\n",
       "      <td>-0.047766</td>\n",
       "      <td>4</td>\n",
       "      <td>13.3</td>\n",
       "      <td>8</td>\n",
       "      <td>8</td>\n",
       "      <td>1.37</td>\n",
       "      <td>1339.69</td>\n",
       "      <td>1.860586</td>\n",
       "      <td>1.345362</td>\n",
       "      <td>2.3</td>\n",
       "      <td>-0.563807</td>\n",
       "      <td>0.71012</td>\n",
       "    </tr>\n",
       "  </tbody>\n",
       "</table>\n",
       "</div>"
      ],
      "text/plain": [
       "   Company   Product  TypeName  Inches  Ram  OpSys  Weight  Price_euros  \\\n",
       "0        1 -0.047766         4    13.3    8      8    1.37      1339.69   \n",
       "\n",
       "   Screen_Resoluton_Height  Screen_Resoluton_Weight  Cpu_Processor_Speed_GHz  \\\n",
       "0                 1.860586                 1.345362                      2.3   \n",
       "\n",
       "   Memory(storage_amount)_GB  Gpu_Graphics_GB  \n",
       "0                  -0.563807          0.71012  "
      ]
     },
     "execution_count": 51,
     "metadata": {},
     "output_type": "execute_result"
    }
   ],
   "source": [
    "df.head(1)"
   ]
  },
  {
   "cell_type": "code",
   "execution_count": 52,
   "id": "0bbd8cf5",
   "metadata": {},
   "outputs": [],
   "source": [
    "x=df.drop(['Price_euros'],axis=1)\n",
    "y=df['Price_euros']"
   ]
  },
  {
   "cell_type": "code",
   "execution_count": 53,
   "id": "d677f87e",
   "metadata": {},
   "outputs": [
    {
     "data": {
      "text/html": [
       "<div>\n",
       "<style scoped>\n",
       "    .dataframe tbody tr th:only-of-type {\n",
       "        vertical-align: middle;\n",
       "    }\n",
       "\n",
       "    .dataframe tbody tr th {\n",
       "        vertical-align: top;\n",
       "    }\n",
       "\n",
       "    .dataframe thead th {\n",
       "        text-align: right;\n",
       "    }\n",
       "</style>\n",
       "<table border=\"1\" class=\"dataframe\">\n",
       "  <thead>\n",
       "    <tr style=\"text-align: right;\">\n",
       "      <th></th>\n",
       "      <th>Company</th>\n",
       "      <th>Product</th>\n",
       "      <th>TypeName</th>\n",
       "      <th>Inches</th>\n",
       "      <th>Ram</th>\n",
       "      <th>OpSys</th>\n",
       "      <th>Weight</th>\n",
       "      <th>Price_euros</th>\n",
       "      <th>Screen_Resoluton_Height</th>\n",
       "      <th>Screen_Resoluton_Weight</th>\n",
       "      <th>Cpu_Processor_Speed_GHz</th>\n",
       "      <th>Memory(storage_amount)_GB</th>\n",
       "      <th>Gpu_Graphics_GB</th>\n",
       "    </tr>\n",
       "  </thead>\n",
       "  <tbody>\n",
       "    <tr>\n",
       "      <th>0</th>\n",
       "      <td>1</td>\n",
       "      <td>-0.047766</td>\n",
       "      <td>4</td>\n",
       "      <td>13.3</td>\n",
       "      <td>8</td>\n",
       "      <td>8</td>\n",
       "      <td>1.37</td>\n",
       "      <td>1339.69</td>\n",
       "      <td>1.860586</td>\n",
       "      <td>1.345362</td>\n",
       "      <td>2.3</td>\n",
       "      <td>-0.563807</td>\n",
       "      <td>0.710120</td>\n",
       "    </tr>\n",
       "    <tr>\n",
       "      <th>1</th>\n",
       "      <td>1</td>\n",
       "      <td>-0.041946</td>\n",
       "      <td>4</td>\n",
       "      <td>13.3</td>\n",
       "      <td>8</td>\n",
       "      <td>8</td>\n",
       "      <td>1.34</td>\n",
       "      <td>898.94</td>\n",
       "      <td>-0.600648</td>\n",
       "      <td>-0.919776</td>\n",
       "      <td>1.8</td>\n",
       "      <td>-0.563807</td>\n",
       "      <td>0.416937</td>\n",
       "    </tr>\n",
       "    <tr>\n",
       "      <th>2</th>\n",
       "      <td>7</td>\n",
       "      <td>-1.502761</td>\n",
       "      <td>3</td>\n",
       "      <td>15.6</td>\n",
       "      <td>8</td>\n",
       "      <td>4</td>\n",
       "      <td>1.86</td>\n",
       "      <td>575.00</td>\n",
       "      <td>0.032241</td>\n",
       "      <td>0.050997</td>\n",
       "      <td>2.5</td>\n",
       "      <td>0.169539</td>\n",
       "      <td>0.563528</td>\n",
       "    </tr>\n",
       "    <tr>\n",
       "      <th>3</th>\n",
       "      <td>1</td>\n",
       "      <td>-0.047766</td>\n",
       "      <td>4</td>\n",
       "      <td>15.4</td>\n",
       "      <td>16</td>\n",
       "      <td>8</td>\n",
       "      <td>1.83</td>\n",
       "      <td>2537.45</td>\n",
       "      <td>2.563795</td>\n",
       "      <td>1.992544</td>\n",
       "      <td>2.7</td>\n",
       "      <td>1.636230</td>\n",
       "      <td>-0.462613</td>\n",
       "    </tr>\n",
       "    <tr>\n",
       "      <th>4</th>\n",
       "      <td>1</td>\n",
       "      <td>-0.047766</td>\n",
       "      <td>4</td>\n",
       "      <td>13.3</td>\n",
       "      <td>8</td>\n",
       "      <td>8</td>\n",
       "      <td>1.37</td>\n",
       "      <td>1803.60</td>\n",
       "      <td>1.860586</td>\n",
       "      <td>1.345362</td>\n",
       "      <td>3.1</td>\n",
       "      <td>0.169539</td>\n",
       "      <td>0.758984</td>\n",
       "    </tr>\n",
       "    <tr>\n",
       "      <th>...</th>\n",
       "      <td>...</td>\n",
       "      <td>...</td>\n",
       "      <td>...</td>\n",
       "      <td>...</td>\n",
       "      <td>...</td>\n",
       "      <td>...</td>\n",
       "      <td>...</td>\n",
       "      <td>...</td>\n",
       "      <td>...</td>\n",
       "      <td>...</td>\n",
       "      <td>...</td>\n",
       "      <td>...</td>\n",
       "      <td>...</td>\n",
       "    </tr>\n",
       "    <tr>\n",
       "      <th>1298</th>\n",
       "      <td>10</td>\n",
       "      <td>1.581829</td>\n",
       "      <td>0</td>\n",
       "      <td>14.0</td>\n",
       "      <td>4</td>\n",
       "      <td>5</td>\n",
       "      <td>1.80</td>\n",
       "      <td>638.00</td>\n",
       "      <td>0.032241</td>\n",
       "      <td>0.050997</td>\n",
       "      <td>2.5</td>\n",
       "      <td>-0.563807</td>\n",
       "      <td>-0.022838</td>\n",
       "    </tr>\n",
       "    <tr>\n",
       "      <th>1299</th>\n",
       "      <td>10</td>\n",
       "      <td>1.628389</td>\n",
       "      <td>0</td>\n",
       "      <td>13.3</td>\n",
       "      <td>16</td>\n",
       "      <td>5</td>\n",
       "      <td>1.30</td>\n",
       "      <td>1499.00</td>\n",
       "      <td>2.563795</td>\n",
       "      <td>2.639726</td>\n",
       "      <td>2.5</td>\n",
       "      <td>1.636230</td>\n",
       "      <td>-0.022838</td>\n",
       "    </tr>\n",
       "    <tr>\n",
       "      <th>1300</th>\n",
       "      <td>10</td>\n",
       "      <td>-0.653044</td>\n",
       "      <td>3</td>\n",
       "      <td>14.0</td>\n",
       "      <td>2</td>\n",
       "      <td>5</td>\n",
       "      <td>1.50</td>\n",
       "      <td>229.00</td>\n",
       "      <td>-1.064766</td>\n",
       "      <td>-1.069437</td>\n",
       "      <td>1.6</td>\n",
       "      <td>-0.930480</td>\n",
       "      <td>1.638534</td>\n",
       "    </tr>\n",
       "    <tr>\n",
       "      <th>1301</th>\n",
       "      <td>7</td>\n",
       "      <td>-1.782120</td>\n",
       "      <td>3</td>\n",
       "      <td>15.6</td>\n",
       "      <td>6</td>\n",
       "      <td>5</td>\n",
       "      <td>2.19</td>\n",
       "      <td>764.00</td>\n",
       "      <td>-1.064766</td>\n",
       "      <td>-1.069437</td>\n",
       "      <td>2.5</td>\n",
       "      <td>-1.291423</td>\n",
       "      <td>-1.048980</td>\n",
       "    </tr>\n",
       "    <tr>\n",
       "      <th>1302</th>\n",
       "      <td>2</td>\n",
       "      <td>1.511989</td>\n",
       "      <td>3</td>\n",
       "      <td>15.6</td>\n",
       "      <td>4</td>\n",
       "      <td>5</td>\n",
       "      <td>2.20</td>\n",
       "      <td>369.00</td>\n",
       "      <td>-1.064766</td>\n",
       "      <td>-1.069437</td>\n",
       "      <td>1.6</td>\n",
       "      <td>1.567479</td>\n",
       "      <td>1.638534</td>\n",
       "    </tr>\n",
       "  </tbody>\n",
       "</table>\n",
       "<p>1303 rows × 13 columns</p>\n",
       "</div>"
      ],
      "text/plain": [
       "      Company   Product  TypeName  Inches  Ram  OpSys  Weight  Price_euros  \\\n",
       "0           1 -0.047766         4    13.3    8      8    1.37      1339.69   \n",
       "1           1 -0.041946         4    13.3    8      8    1.34       898.94   \n",
       "2           7 -1.502761         3    15.6    8      4    1.86       575.00   \n",
       "3           1 -0.047766         4    15.4   16      8    1.83      2537.45   \n",
       "4           1 -0.047766         4    13.3    8      8    1.37      1803.60   \n",
       "...       ...       ...       ...     ...  ...    ...     ...          ...   \n",
       "1298       10  1.581829         0    14.0    4      5    1.80       638.00   \n",
       "1299       10  1.628389         0    13.3   16      5    1.30      1499.00   \n",
       "1300       10 -0.653044         3    14.0    2      5    1.50       229.00   \n",
       "1301        7 -1.782120         3    15.6    6      5    2.19       764.00   \n",
       "1302        2  1.511989         3    15.6    4      5    2.20       369.00   \n",
       "\n",
       "      Screen_Resoluton_Height  Screen_Resoluton_Weight  \\\n",
       "0                    1.860586                 1.345362   \n",
       "1                   -0.600648                -0.919776   \n",
       "2                    0.032241                 0.050997   \n",
       "3                    2.563795                 1.992544   \n",
       "4                    1.860586                 1.345362   \n",
       "...                       ...                      ...   \n",
       "1298                 0.032241                 0.050997   \n",
       "1299                 2.563795                 2.639726   \n",
       "1300                -1.064766                -1.069437   \n",
       "1301                -1.064766                -1.069437   \n",
       "1302                -1.064766                -1.069437   \n",
       "\n",
       "      Cpu_Processor_Speed_GHz  Memory(storage_amount)_GB  Gpu_Graphics_GB  \n",
       "0                         2.3                  -0.563807         0.710120  \n",
       "1                         1.8                  -0.563807         0.416937  \n",
       "2                         2.5                   0.169539         0.563528  \n",
       "3                         2.7                   1.636230        -0.462613  \n",
       "4                         3.1                   0.169539         0.758984  \n",
       "...                       ...                        ...              ...  \n",
       "1298                      2.5                  -0.563807        -0.022838  \n",
       "1299                      2.5                   1.636230        -0.022838  \n",
       "1300                      1.6                  -0.930480         1.638534  \n",
       "1301                      2.5                  -1.291423        -1.048980  \n",
       "1302                      1.6                   1.567479         1.638534  \n",
       "\n",
       "[1303 rows x 13 columns]"
      ]
     },
     "execution_count": 53,
     "metadata": {},
     "output_type": "execute_result"
    }
   ],
   "source": [
    "df"
   ]
  },
  {
   "cell_type": "code",
   "execution_count": 54,
   "id": "ba2d7261",
   "metadata": {},
   "outputs": [],
   "source": [
    "Scaler=StandardScaler()\n",
    "x=Scaler.fit_transform(x)"
   ]
  },
  {
   "cell_type": "code",
   "execution_count": 55,
   "id": "a636900b",
   "metadata": {},
   "outputs": [],
   "source": [
    "xtrain,xtest,ytrain,ytest=train_test_split(x,y,test_size=0.2,random_state=1)"
   ]
  },
  {
   "cell_type": "code",
   "execution_count": 56,
   "id": "2c87b544",
   "metadata": {},
   "outputs": [
    {
     "data": {
      "text/plain": [
       "0.722798367401688"
      ]
     },
     "execution_count": 56,
     "metadata": {},
     "output_type": "execute_result"
    }
   ],
   "source": [
    "Reg=LinearRegression()\n",
    "Reg.fit(xtrain,ytrain)\n",
    "Reg.score(xtest,ytest)"
   ]
  },
  {
   "cell_type": "code",
   "execution_count": 57,
   "id": "396924ed",
   "metadata": {},
   "outputs": [
    {
     "data": {
      "text/plain": [
       "0.7040260592585272"
      ]
     },
     "execution_count": 57,
     "metadata": {},
     "output_type": "execute_result"
    }
   ],
   "source": [
    "Reg.score(xtrain,ytrain)"
   ]
  },
  {
   "cell_type": "code",
   "execution_count": 58,
   "id": "b40e0eda",
   "metadata": {},
   "outputs": [
    {
     "data": {
      "text/plain": [
       "0.7088260837871283"
      ]
     },
     "execution_count": 58,
     "metadata": {},
     "output_type": "execute_result"
    }
   ],
   "source": [
    "Reg.fit(x,y)\n",
    "Reg.score(x,y)"
   ]
  },
  {
   "cell_type": "code",
   "execution_count": 59,
   "id": "f5726047",
   "metadata": {},
   "outputs": [
    {
     "data": {
      "text/plain": [
       "Text(0.5, 1.0, 'Blue:Actual\\nRed:Predicted')"
      ]
     },
     "execution_count": 59,
     "metadata": {},
     "output_type": "execute_result"
    },
    {
     "data": {
      "image/png": "[encoded data removed]",
      "text/plain": [
       "<Figure size 432x288 with 1 Axes>"
      ]
     },
     "metadata": {
      "needs_background": "light"
     },
     "output_type": "display_data"
    }
   ],
   "source": [
    "plt.plot(df['Price_euros'],color='green')\n",
    "plt.plot(Reg.predict(x),color='red')\n",
    "plt.title(\"Blue:Actual\\nRed:Predicted\")"
   ]
  },
  {
   "cell_type": "code",
   "execution_count": 60,
   "id": "9c5c1e9d",
   "metadata": {},
   "outputs": [
    {
     "data": {
      "text/plain": [
       "0.7062039846965661"
      ]
     },
     "execution_count": 60,
     "metadata": {},
     "output_type": "execute_result"
    }
   ],
   "source": [
    "Tree=DecisionTreeRegressor()\n",
    "Tree.fit(xtrain,ytrain)\n",
    "Tree.score(xtest,ytest)"
   ]
  },
  {
   "cell_type": "code",
   "execution_count": 61,
   "id": "13c79969",
   "metadata": {},
   "outputs": [
    {
     "data": {
      "text/plain": [
       "Text(0.5, 1.0, 'Blue:Actual\\nRed:Predicted')"
      ]
     },
     "execution_count": 61,
     "metadata": {},
     "output_type": "execute_result"
    },
    {
     "data": {
      "image/png": "[encoded data removed]",
      "text/plain": [
       "<Figure size 432x288 with 1 Axes>"
      ]
     },
     "metadata": {
      "needs_background": "light"
     },
     "output_type": "display_data"
    }
   ],
   "source": [
    "plt.plot(df['Price_euros'],color='green')\n",
    "plt.plot(Tree.predict(x),color='red')\n",
    "plt.title(\"Blue:Actual\\nRed:Predicted\")"
   ]
  },
  {
   "cell_type": "code",
   "execution_count": 62,
   "id": "92a11dac",
   "metadata": {},
   "outputs": [
    {
     "data": {
      "text/plain": [
       "0.8662004431036372"
      ]
     },
     "execution_count": 62,
     "metadata": {},
     "output_type": "execute_result"
    }
   ],
   "source": [
    "Forest=RandomForestRegressor(n_estimators=25,random_state=3)\n",
    "Forest.fit(xtrain,ytrain)\n",
    "Forest.score(xtest,ytest)"
   ]
  },
  {
   "cell_type": "code",
   "execution_count": 63,
   "id": "4bbb4d56",
   "metadata": {},
   "outputs": [
    {
     "data": {
      "text/plain": [
       "0.8656569411313711"
      ]
     },
     "execution_count": 63,
     "metadata": {},
     "output_type": "execute_result"
    }
   ],
   "source": [
    "Forest=RandomForestRegressor(n_estimators=45,random_state=2)\n",
    "Forest.fit(xtrain,ytrain)\n",
    "Forest.score(xtest,ytest)"
   ]
  },
  {
   "cell_type": "code",
   "execution_count": 64,
   "id": "79dae236",
   "metadata": {},
   "outputs": [
    {
     "data": {
      "text/plain": [
       "0.8619222718783971"
      ]
     },
     "execution_count": 64,
     "metadata": {},
     "output_type": "execute_result"
    }
   ],
   "source": [
    "Forest=RandomForestRegressor(n_estimators=15)\n",
    "Forest.fit(xtrain,ytrain)\n",
    "Forest.score(xtest,ytest)"
   ]
  },
  {
   "cell_type": "code",
   "execution_count": 65,
   "id": "fea0316d",
   "metadata": {},
   "outputs": [
    {
     "data": {
      "text/plain": [
       "Text(0.5, 1.0, 'Blue:Actual\\nRed:Predicted')"
      ]
     },
     "execution_count": 65,
     "metadata": {},
     "output_type": "execute_result"
    },
    {
     "data": {
      "image/png": "[encoded data removed]",
      "text/plain": [
       "<Figure size 432x288 with 1 Axes>"
      ]
     },
     "metadata": {
      "needs_background": "light"
     },
     "output_type": "display_data"
    }
   ],
   "source": [
    "plt.plot(df['Price_euros'],color='green')\n",
    "plt.plot(Forest.predict(x),color='red')\n",
    "plt.title(\"Blue:Actual\\nRed:Predicted\")"
   ]
  },
  {
   "cell_type": "code",
   "execution_count": 66,
   "id": "4f972ae7",
   "metadata": {},
   "outputs": [
    {
     "data": {
      "text/plain": [
       "0.804219167370393"
      ]
     },
     "execution_count": 66,
     "metadata": {},
     "output_type": "execute_result"
    }
   ],
   "source": [
    "KNN=KNeighborsRegressor(n_neighbors=7)\n",
    "KNN.fit(xtrain,ytrain)\n",
    "KNN.score(xtest,ytest)"
   ]
  },
  {
   "cell_type": "code",
   "execution_count": 67,
   "id": "04af85d6",
   "metadata": {},
   "outputs": [
    {
     "data": {
      "text/plain": [
       "Text(0.5, 1.0, 'Blue:Actual\\nRed:Predicted')"
      ]
     },
     "execution_count": 67,
     "metadata": {},
     "output_type": "execute_result"
    },
    {
     "data": {
      "image/png": "[encoded data removed]",
      "text/plain": [
       "<Figure size 432x288 with 1 Axes>"
      ]
     },
     "metadata": {
      "needs_background": "light"
     },
     "output_type": "display_data"
    }
   ],
   "source": [
    "plt.plot(df['Price_euros'],color='green')\n",
    "plt.plot(KNN.predict(x),color='red')\n",
    "plt.title(\"Blue:Actual\\nRed:Predicted\")"
   ]
  },
  {
   "cell_type": "code",
   "execution_count": 68,
   "id": "1f664930",
   "metadata": {},
   "outputs": [
    {
     "data": {
      "text/plain": [
       "0.8797900254182899"
      ]
     },
     "execution_count": 68,
     "metadata": {},
     "output_type": "execute_result"
    }
   ],
   "source": [
    "XGB=XGBRegressor()\n",
    "XGB.fit(xtrain,ytrain)\n",
    "XGB.score(xtest,ytest)"
   ]
  },
  {
   "cell_type": "code",
   "execution_count": 69,
   "id": "22d4295e",
   "metadata": {},
   "outputs": [
    {
     "data": {
      "text/plain": [
       "0.9022850699903054"
      ]
     },
     "execution_count": 69,
     "metadata": {},
     "output_type": "execute_result"
    }
   ],
   "source": [
    "XGB=XGBRegressor(eta=0.3,n_estimators=105,verbosity=1,max_depth=5)\n",
    "XGB.fit(xtrain,ytrain)\n",
    "XGB.score(xtest,ytest)"
   ]
  },
  {
   "cell_type": "code",
   "execution_count": 70,
   "id": "685b14af",
   "metadata": {},
   "outputs": [
    {
     "name": "stdout",
     "output_type": "stream",
     "text": [
      "0.9890381364131031\n",
      "0.9022850699903054\n"
     ]
    }
   ],
   "source": [
    "XGB.fit(x,y)\n",
    "print(XGB.score(x,y))\n",
    "XGB.fit(xtrain,ytrain)\n",
    "print(XGB.score(xtest,ytest))"
   ]
  },
  {
   "cell_type": "code",
   "execution_count": 71,
   "id": "04646de6",
   "metadata": {},
   "outputs": [
    {
     "data": {
      "text/plain": [
       "Text(0.5, 1.0, 'Blue:Actual\\nRed:Predicted')"
      ]
     },
     "execution_count": 71,
     "metadata": {},
     "output_type": "execute_result"
    },
    {
     "data": {
      "image/png": "[encoded data removed]",
      "text/plain": [
       "<Figure size 432x288 with 1 Axes>"
      ]
     },
     "metadata": {
      "needs_background": "light"
     },
     "output_type": "display_data"
    }
   ],
   "source": [
    "plt.plot(df['Price_euros'],color='green')\n",
    "plt.plot(XGB.predict(x),color='red')\n",
    "plt.title(\"Blue:Actual\\nRed:Predicted\")"
   ]
  },
  {
   "cell_type": "code",
   "execution_count": 72,
   "id": "f079ed7f",
   "metadata": {},
   "outputs": [
    {
     "data": {
      "text/plain": [
       "0.657198941957655"
      ]
     },
     "execution_count": 72,
     "metadata": {},
     "output_type": "execute_result"
    }
   ],
   "source": [
    "ADBR=AdaBoostRegressor()\n",
    "ADBR.fit(xtrain,ytrain)\n",
    "ADBR.score(xtest,ytest)"
   ]
  },
  {
   "cell_type": "code",
   "execution_count": 73,
   "id": "4eab2760",
   "metadata": {},
   "outputs": [
    {
     "data": {
      "text/plain": [
       "0.6835840431159435"
      ]
     },
     "execution_count": 73,
     "metadata": {},
     "output_type": "execute_result"
    }
   ],
   "source": [
    "ADBR.score(xtrain,ytrain)"
   ]
  },
  {
   "cell_type": "code",
   "execution_count": 75,
   "id": "6d71f3b3",
   "metadata": {},
   "outputs": [
    {
     "data": {
      "text/plain": [
       "Text(0.5, 1.0, 'Blue:Actual\\nRed:Predicted')"
      ]
     },
     "execution_count": 75,
     "metadata": {},
     "output_type": "execute_result"
    },
    {
     "data": {
      "image/png": "[encoded data removed]",
      "text/plain": [
       "<Figure size 432x288 with 1 Axes>"
      ]
     },
     "metadata": {
      "needs_background": "light"
     },
     "output_type": "display_data"
    }
   ],
   "source": [
    "plt.plot(df['Price_euros'],color='green')\n",
    "plt.plot(ADBR.predict(x),color='red')\n",
    "plt.title(\"Blue:Actual\\nRed:Predicted\")"
   ]
  },
  {
   "cell_type": "code",
   "execution_count": 76,
   "id": "2ceb379a",
   "metadata": {},
   "outputs": [
    {
     "data": {
      "text/plain": [
       "0.9268076749797025"
      ]
     },
     "execution_count": 76,
     "metadata": {},
     "output_type": "execute_result"
    }
   ],
   "source": [
    "GBR=GradientBoostingRegressor()\n",
    "GBR.fit(xtrain,ytrain)\n",
    "GBR.score(xtrain,ytrain)"
   ]
  },
  {
   "cell_type": "code",
   "execution_count": 77,
   "id": "1f4b903a",
   "metadata": {},
   "outputs": [
    {
     "data": {
      "text/plain": [
       "0.8652567030932757"
      ]
     },
     "execution_count": 77,
     "metadata": {},
     "output_type": "execute_result"
    }
   ],
   "source": [
    "GBR.score(xtest,ytest)"
   ]
  },
  {
   "cell_type": "code",
   "execution_count": 78,
   "id": "abf01f00",
   "metadata": {},
   "outputs": [
    {
     "data": {
      "text/plain": [
       "Text(0.5, 1.0, 'Blue:Actual\\nRed:Predicted')"
      ]
     },
     "execution_count": 78,
     "metadata": {},
     "output_type": "execute_result"
    },
    {
     "data": {
      "image/png": "[encoded data removed]",
      "text/plain": [
       "<Figure size 432x288 with 1 Axes>"
      ]
     },
     "metadata": {
      "needs_background": "light"
     },
     "output_type": "display_data"
    }
   ],
   "source": [
    "plt.plot(df['Price_euros'],color='green')\n",
    "plt.plot(GBR.predict(x),color='red')\n",
    "plt.title(\"Blue:Actual\\nRed:Predicted\")"
   ]
  },
  {
   "cell_type": "code",
   "execution_count": 79,
   "id": "46ec709f",
   "metadata": {},
   "outputs": [
    {
     "data": {
      "text/plain": [
       "-0.012029033645835296"
      ]
     },
     "execution_count": 79,
     "metadata": {},
     "output_type": "execute_result"
    }
   ],
   "source": [
    "SVM=SVR()\n",
    "SVM.fit(xtrain,ytrain)\n",
    "SVM.score(xtest,ytest)"
   ]
  },
  {
   "cell_type": "code",
   "execution_count": 80,
   "id": "269b5035",
   "metadata": {},
   "outputs": [
    {
     "data": {
      "text/plain": [
       "Text(0.5, 1.0, 'Blue:Actual\\nRed:Predicted')"
      ]
     },
     "execution_count": 80,
     "metadata": {},
     "output_type": "execute_result"
    },
    {
     "data": {
      "image/png": "[encoded data removed]",
      "text/plain": [
       "<Figure size 432x288 with 1 Axes>"
      ]
     },
     "metadata": {
      "needs_background": "light"
     },
     "output_type": "display_data"
    }
   ],
   "source": [
    "plt.plot(df['Price_euros'],color='green')\n",
    "plt.plot(SVM.predict(x),color='red')\n",
    "plt.title(\"Blue:Actual\\nRed:Predicted\")"
   ]
  },
  {
   "cell_type": "code",
   "execution_count": null,
   "id": "4ec93bc7",
   "metadata": {},
   "outputs": [],
   "source": []
  },
  {
   "cell_type": "code",
   "execution_count": 81,
   "id": "1eff7ae9",
   "metadata": {},
   "outputs": [],
   "source": [
    "Tree=DecisionTreeRegressor()\n",
    "Forest=RandomForestRegressor(n_estimators=45,random_state=2)\n",
    "Reg=LinearRegression()\n",
    "KNN=KNeighborsRegressor(n_neighbors=7)\n",
    "XGB=XGBRegressor(eta=0.3,n_estimators=105,verbosity=1,max_depth=5)\n",
    "SVM=SVR()\n",
    "ADBR=AdaBoostRegressor()\n",
    "GBR=GradientBoostingRegressor()"
   ]
  },
  {
   "cell_type": "code",
   "execution_count": 82,
   "id": "1df4f175",
   "metadata": {},
   "outputs": [],
   "source": [
    "Algo=[Tree,Forest,Reg,KNN,XGB,SVM,ADBR,GBR]\n",
    "R2=[]\n",
    "for K in Algo:\n",
    "    K.fit(xtrain,ytrain)\n",
    "    Pred=K.predict(xtest)\n",
    "    R2.append(r2_score(ytest,Pred))"
   ]
  },
  {
   "cell_type": "code",
   "execution_count": 83,
   "id": "c7ba7dfd",
   "metadata": {},
   "outputs": [],
   "source": [
    "Table=pd.DataFrame()\n",
    "Table['Algorithms']=[\"Tree\",\"Forest\",\"Reg\",\"KNN\",\"XGB\",\"SVM\",\"ADBR\",\"GBR\"]\n",
    "Table['R2 Score']=R2"
   ]
  },
  {
   "cell_type": "code",
   "execution_count": 84,
   "id": "ba7aa832",
   "metadata": {},
   "outputs": [
    {
     "data": {
      "text/html": [
       "<div>\n",
       "<style scoped>\n",
       "    .dataframe tbody tr th:only-of-type {\n",
       "        vertical-align: middle;\n",
       "    }\n",
       "\n",
       "    .dataframe tbody tr th {\n",
       "        vertical-align: top;\n",
       "    }\n",
       "\n",
       "    .dataframe thead th {\n",
       "        text-align: right;\n",
       "    }\n",
       "</style>\n",
       "<table border=\"1\" class=\"dataframe\">\n",
       "  <thead>\n",
       "    <tr style=\"text-align: right;\">\n",
       "      <th></th>\n",
       "      <th>Algorithms</th>\n",
       "      <th>R2 Score</th>\n",
       "    </tr>\n",
       "  </thead>\n",
       "  <tbody>\n",
       "    <tr>\n",
       "      <th>0</th>\n",
       "      <td>Tree</td>\n",
       "      <td>0.742665</td>\n",
       "    </tr>\n",
       "    <tr>\n",
       "      <th>1</th>\n",
       "      <td>Forest</td>\n",
       "      <td>0.865657</td>\n",
       "    </tr>\n",
       "    <tr>\n",
       "      <th>2</th>\n",
       "      <td>Reg</td>\n",
       "      <td>0.722798</td>\n",
       "    </tr>\n",
       "    <tr>\n",
       "      <th>3</th>\n",
       "      <td>KNN</td>\n",
       "      <td>0.804219</td>\n",
       "    </tr>\n",
       "    <tr>\n",
       "      <th>4</th>\n",
       "      <td>XGB</td>\n",
       "      <td>0.902285</td>\n",
       "    </tr>\n",
       "    <tr>\n",
       "      <th>5</th>\n",
       "      <td>SVM</td>\n",
       "      <td>-0.012029</td>\n",
       "    </tr>\n",
       "    <tr>\n",
       "      <th>6</th>\n",
       "      <td>ADBR</td>\n",
       "      <td>0.662563</td>\n",
       "    </tr>\n",
       "    <tr>\n",
       "      <th>7</th>\n",
       "      <td>GBR</td>\n",
       "      <td>0.865282</td>\n",
       "    </tr>\n",
       "  </tbody>\n",
       "</table>\n",
       "</div>"
      ],
      "text/plain": [
       "  Algorithms  R2 Score\n",
       "0       Tree  0.742665\n",
       "1     Forest  0.865657\n",
       "2        Reg  0.722798\n",
       "3        KNN  0.804219\n",
       "4        XGB  0.902285\n",
       "5        SVM -0.012029\n",
       "6       ADBR  0.662563\n",
       "7        GBR  0.865282"
      ]
     },
     "execution_count": 84,
     "metadata": {},
     "output_type": "execute_result"
    }
   ],
   "source": [
    "Table"
   ]
  },
  {
   "cell_type": "code",
   "execution_count": 85,
   "id": "e4928738",
   "metadata": {},
   "outputs": [
    {
     "data": {
      "text/plain": [
       "<AxesSubplot:xlabel='Algorithms', ylabel='R2 Score'>"
      ]
     },
     "execution_count": 85,
     "metadata": {},
     "output_type": "execute_result"
    },
    {
     "data": {
      "image/png": "[encoded data removed]",
      "text/plain": [
       "<Figure size 432x288 with 1 Axes>"
      ]
     },
     "metadata": {
      "needs_background": "light"
     },
     "output_type": "display_data"
    }
   ],
   "source": [
    "sns.barplot(x='Algorithms',y='R2 Score',data=Table)"
   ]
  },
  {
   "cell_type": "code",
   "execution_count": null,
   "id": "9fcc3367",
   "metadata": {},
   "outputs": [],
   "source": []
  },
  {
   "cell_type": "code",
   "execution_count": null,
   "id": "1c5687f5",
   "metadata": {},
   "outputs": [],
   "source": []
  }
 ],
 "metadata": {
  "kernelspec": {
   "display_name": "Python 3",
   "language": "python",
   "name": "python3"
  },
  "language_info": {
   "codemirror_mode": {
    "name": "ipython",
    "version": 3
   },
   "file_extension": ".py",
   "mimetype": "text/x-python",
   "name": "python",
   "nbconvert_exporter": "python",
   "pygments_lexer": "ipython3",
   "version": "3.8.8"
  }
 },
 "nbformat": 4,
 "nbformat_minor": 5
}
