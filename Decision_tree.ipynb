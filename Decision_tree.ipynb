{
 "cells": [
  {
   "cell_type": "code",
   "execution_count": 1,
   "id": "b3cde17e",
   "metadata": {},
   "outputs": [],
   "source": [
    "import numpy as np\n",
    "import pandas as pd\n",
    "import matplotlib.pyplot as plt\n",
    "import seaborn as sns"
   ]
  },
  {
   "cell_type": "code",
   "execution_count": 2,
   "id": "c368de52",
   "metadata": {},
   "outputs": [],
   "source": [
    "df=pd.read_csv('Smoking Data.csv')"
   ]
  },
  {
   "cell_type": "code",
   "execution_count": 3,
   "id": "0db98a7b",
   "metadata": {},
   "outputs": [
    {
     "data": {
      "text/html": [
       "<div>\n",
       "<style scoped>\n",
       "    .dataframe tbody tr th:only-of-type {\n",
       "        vertical-align: middle;\n",
       "    }\n",
       "\n",
       "    .dataframe tbody tr th {\n",
       "        vertical-align: top;\n",
       "    }\n",
       "\n",
       "    .dataframe thead th {\n",
       "        text-align: right;\n",
       "    }\n",
       "</style>\n",
       "<table border=\"1\" class=\"dataframe\">\n",
       "  <thead>\n",
       "    <tr style=\"text-align: right;\">\n",
       "      <th></th>\n",
       "      <th>region</th>\n",
       "      <th>age</th>\n",
       "      <th>sex</th>\n",
       "      <th>bmi</th>\n",
       "      <th>children</th>\n",
       "      <th>smoker</th>\n",
       "    </tr>\n",
       "  </thead>\n",
       "  <tbody>\n",
       "    <tr>\n",
       "      <th>0</th>\n",
       "      <td>southwest</td>\n",
       "      <td>19</td>\n",
       "      <td>female</td>\n",
       "      <td>27.900</td>\n",
       "      <td>0</td>\n",
       "      <td>yes</td>\n",
       "    </tr>\n",
       "    <tr>\n",
       "      <th>1</th>\n",
       "      <td>southeast</td>\n",
       "      <td>18</td>\n",
       "      <td>male</td>\n",
       "      <td>33.770</td>\n",
       "      <td>1</td>\n",
       "      <td>no</td>\n",
       "    </tr>\n",
       "    <tr>\n",
       "      <th>2</th>\n",
       "      <td>southeast</td>\n",
       "      <td>28</td>\n",
       "      <td>male</td>\n",
       "      <td>33.000</td>\n",
       "      <td>3</td>\n",
       "      <td>no</td>\n",
       "    </tr>\n",
       "    <tr>\n",
       "      <th>3</th>\n",
       "      <td>northwest</td>\n",
       "      <td>33</td>\n",
       "      <td>male</td>\n",
       "      <td>22.705</td>\n",
       "      <td>0</td>\n",
       "      <td>no</td>\n",
       "    </tr>\n",
       "    <tr>\n",
       "      <th>4</th>\n",
       "      <td>northwest</td>\n",
       "      <td>32</td>\n",
       "      <td>male</td>\n",
       "      <td>28.880</td>\n",
       "      <td>0</td>\n",
       "      <td>no</td>\n",
       "    </tr>\n",
       "    <tr>\n",
       "      <th>...</th>\n",
       "      <td>...</td>\n",
       "      <td>...</td>\n",
       "      <td>...</td>\n",
       "      <td>...</td>\n",
       "      <td>...</td>\n",
       "      <td>...</td>\n",
       "    </tr>\n",
       "    <tr>\n",
       "      <th>1333</th>\n",
       "      <td>northwest</td>\n",
       "      <td>50</td>\n",
       "      <td>male</td>\n",
       "      <td>30.970</td>\n",
       "      <td>3</td>\n",
       "      <td>no</td>\n",
       "    </tr>\n",
       "    <tr>\n",
       "      <th>1334</th>\n",
       "      <td>northeast</td>\n",
       "      <td>18</td>\n",
       "      <td>female</td>\n",
       "      <td>31.920</td>\n",
       "      <td>0</td>\n",
       "      <td>no</td>\n",
       "    </tr>\n",
       "    <tr>\n",
       "      <th>1335</th>\n",
       "      <td>southeast</td>\n",
       "      <td>18</td>\n",
       "      <td>female</td>\n",
       "      <td>36.850</td>\n",
       "      <td>0</td>\n",
       "      <td>no</td>\n",
       "    </tr>\n",
       "    <tr>\n",
       "      <th>1336</th>\n",
       "      <td>southwest</td>\n",
       "      <td>21</td>\n",
       "      <td>female</td>\n",
       "      <td>25.800</td>\n",
       "      <td>0</td>\n",
       "      <td>no</td>\n",
       "    </tr>\n",
       "    <tr>\n",
       "      <th>1337</th>\n",
       "      <td>northwest</td>\n",
       "      <td>61</td>\n",
       "      <td>female</td>\n",
       "      <td>29.070</td>\n",
       "      <td>0</td>\n",
       "      <td>yes</td>\n",
       "    </tr>\n",
       "  </tbody>\n",
       "</table>\n",
       "<p>1338 rows × 6 columns</p>\n",
       "</div>"
      ],
      "text/plain": [
       "         region  age     sex     bmi  children smoker\n",
       "0     southwest   19  female  27.900         0    yes\n",
       "1     southeast   18    male  33.770         1     no\n",
       "2     southeast   28    male  33.000         3     no\n",
       "3     northwest   33    male  22.705         0     no\n",
       "4     northwest   32    male  28.880         0     no\n",
       "...         ...  ...     ...     ...       ...    ...\n",
       "1333  northwest   50    male  30.970         3     no\n",
       "1334  northeast   18  female  31.920         0     no\n",
       "1335  southeast   18  female  36.850         0     no\n",
       "1336  southwest   21  female  25.800         0     no\n",
       "1337  northwest   61  female  29.070         0    yes\n",
       "\n",
       "[1338 rows x 6 columns]"
      ]
     },
     "execution_count": 3,
     "metadata": {},
     "output_type": "execute_result"
    }
   ],
   "source": [
    "df"
   ]
  },
  {
   "cell_type": "code",
   "execution_count": 4,
   "id": "a299297b",
   "metadata": {},
   "outputs": [
    {
     "data": {
      "text/plain": [
       "region      0\n",
       "age         0\n",
       "sex         0\n",
       "bmi         0\n",
       "children    0\n",
       "smoker      0\n",
       "dtype: int64"
      ]
     },
     "execution_count": 4,
     "metadata": {},
     "output_type": "execute_result"
    }
   ],
   "source": [
    "df.isnull().sum()"
   ]
  },
  {
   "cell_type": "code",
   "execution_count": 5,
   "id": "43b5bb3e",
   "metadata": {},
   "outputs": [
    {
     "data": {
      "text/plain": [
       "<bound method DataFrame.info of          region  age     sex     bmi  children smoker\n",
       "0     southwest   19  female  27.900         0    yes\n",
       "1     southeast   18    male  33.770         1     no\n",
       "2     southeast   28    male  33.000         3     no\n",
       "3     northwest   33    male  22.705         0     no\n",
       "4     northwest   32    male  28.880         0     no\n",
       "...         ...  ...     ...     ...       ...    ...\n",
       "1333  northwest   50    male  30.970         3     no\n",
       "1334  northeast   18  female  31.920         0     no\n",
       "1335  southeast   18  female  36.850         0     no\n",
       "1336  southwest   21  female  25.800         0     no\n",
       "1337  northwest   61  female  29.070         0    yes\n",
       "\n",
       "[1338 rows x 6 columns]>"
      ]
     },
     "execution_count": 5,
     "metadata": {},
     "output_type": "execute_result"
    }
   ],
   "source": [
    "df.info"
   ]
  },
  {
   "cell_type": "code",
   "execution_count": 7,
   "id": "bdebe635",
   "metadata": {},
   "outputs": [
    {
     "data": {
      "image/png": "[encoded data removed]",
      "text/plain": [
       "<Figure size 1130.4x360 with 1 Axes>"
      ]
     },
     "metadata": {
      "needs_background": "light"
     },
     "output_type": "display_data"
    }
   ],
   "source": [
    "sns.countplot(x='age', data=df, palette=\"Set3\")\n",
    "from matplotlib import rcParams\n",
    "rcParams['figure.figsize'] = 25,5"
   ]
  },
  {
   "cell_type": "code",
   "execution_count": 8,
   "id": "2d7d53ae",
   "metadata": {},
   "outputs": [
    {
     "data": {
      "image/png": "[encoded data removed]",
      "text/plain": [
       "<Figure size 1800x360 with 1 Axes>"
      ]
     },
     "metadata": {
      "needs_background": "light"
     },
     "output_type": "display_data"
    }
   ],
   "source": [
    "sns.countplot(x='region', hue='smoker', data=df,  palette=['#0be382',\"#dce30b\"] )\n",
    "rcParams['figure.figsize'] = 15,5"
   ]
  },
  {
   "cell_type": "code",
   "execution_count": 9,
   "id": "c3123c45",
   "metadata": {},
   "outputs": [
    {
     "data": {
      "image/png": "[encoded data removed]",
      "text/plain": [
       "<Figure size 1080x360 with 1 Axes>"
      ]
     },
     "metadata": {
      "needs_background": "light"
     },
     "output_type": "display_data"
    }
   ],
   "source": [
    "sns.countplot(x='sex', hue='smoker', data=df, color= \"#4b374f\")\n",
    "rcParams['figure.figsize'] = 6,4"
   ]
  },
  {
   "cell_type": "code",
   "execution_count": 10,
   "id": "055ac092",
   "metadata": {},
   "outputs": [],
   "source": [
    "from sklearn.preprocessing import LabelEncoder\n",
    "le=LabelEncoder()"
   ]
  },
  {
   "cell_type": "code",
   "execution_count": 11,
   "id": "c50bbd1d",
   "metadata": {},
   "outputs": [],
   "source": [
    "import numpy as np\n",
    "from pandas.core.dtypes.common import is_numeric_dtype\n",
    "for column in df.columns:\n",
    "  if is_numeric_dtype(df[column]):\n",
    "    continue\n",
    "  else:\n",
    "    df[column]=le.fit_transform(df[column])"
   ]
  },
  {
   "cell_type": "code",
   "execution_count": 12,
   "id": "ce488c42",
   "metadata": {},
   "outputs": [
    {
     "data": {
      "text/html": [
       "<div>\n",
       "<style scoped>\n",
       "    .dataframe tbody tr th:only-of-type {\n",
       "        vertical-align: middle;\n",
       "    }\n",
       "\n",
       "    .dataframe tbody tr th {\n",
       "        vertical-align: top;\n",
       "    }\n",
       "\n",
       "    .dataframe thead th {\n",
       "        text-align: right;\n",
       "    }\n",
       "</style>\n",
       "<table border=\"1\" class=\"dataframe\">\n",
       "  <thead>\n",
       "    <tr style=\"text-align: right;\">\n",
       "      <th></th>\n",
       "      <th>region</th>\n",
       "      <th>age</th>\n",
       "      <th>sex</th>\n",
       "      <th>bmi</th>\n",
       "      <th>children</th>\n",
       "      <th>smoker</th>\n",
       "    </tr>\n",
       "  </thead>\n",
       "  <tbody>\n",
       "    <tr>\n",
       "      <th>0</th>\n",
       "      <td>3</td>\n",
       "      <td>19</td>\n",
       "      <td>0</td>\n",
       "      <td>27.90</td>\n",
       "      <td>0</td>\n",
       "      <td>1</td>\n",
       "    </tr>\n",
       "    <tr>\n",
       "      <th>1</th>\n",
       "      <td>2</td>\n",
       "      <td>18</td>\n",
       "      <td>1</td>\n",
       "      <td>33.77</td>\n",
       "      <td>1</td>\n",
       "      <td>0</td>\n",
       "    </tr>\n",
       "    <tr>\n",
       "      <th>2</th>\n",
       "      <td>2</td>\n",
       "      <td>28</td>\n",
       "      <td>1</td>\n",
       "      <td>33.00</td>\n",
       "      <td>3</td>\n",
       "      <td>0</td>\n",
       "    </tr>\n",
       "  </tbody>\n",
       "</table>\n",
       "</div>"
      ],
      "text/plain": [
       "   region  age  sex    bmi  children  smoker\n",
       "0       3   19    0  27.90         0       1\n",
       "1       2   18    1  33.77         1       0\n",
       "2       2   28    1  33.00         3       0"
      ]
     },
     "execution_count": 12,
     "metadata": {},
     "output_type": "execute_result"
    }
   ],
   "source": [
    "df.head(3)"
   ]
  },
  {
   "cell_type": "code",
   "execution_count": 13,
   "id": "d72fdd0e",
   "metadata": {},
   "outputs": [
    {
     "data": {
      "text/plain": [
       "0    1\n",
       "1    0\n",
       "2    0\n",
       "3    0\n",
       "4    0\n",
       "Name: smoker, dtype: int32"
      ]
     },
     "execution_count": 13,
     "metadata": {},
     "output_type": "execute_result"
    }
   ],
   "source": [
    "#Target\n",
    "y=df['smoker']\n",
    "y.head(5)"
   ]
  },
  {
   "cell_type": "code",
   "execution_count": 16,
   "id": "253e6d6d",
   "metadata": {},
   "outputs": [
    {
     "data": {
      "text/html": [
       "<div>\n",
       "<style scoped>\n",
       "    .dataframe tbody tr th:only-of-type {\n",
       "        vertical-align: middle;\n",
       "    }\n",
       "\n",
       "    .dataframe tbody tr th {\n",
       "        vertical-align: top;\n",
       "    }\n",
       "\n",
       "    .dataframe thead th {\n",
       "        text-align: right;\n",
       "    }\n",
       "</style>\n",
       "<table border=\"1\" class=\"dataframe\">\n",
       "  <thead>\n",
       "    <tr style=\"text-align: right;\">\n",
       "      <th></th>\n",
       "      <th>region</th>\n",
       "      <th>age</th>\n",
       "      <th>sex</th>\n",
       "      <th>bmi</th>\n",
       "      <th>children</th>\n",
       "    </tr>\n",
       "  </thead>\n",
       "  <tbody>\n",
       "    <tr>\n",
       "      <th>0</th>\n",
       "      <td>3</td>\n",
       "      <td>19</td>\n",
       "      <td>0</td>\n",
       "      <td>27.90</td>\n",
       "      <td>0</td>\n",
       "    </tr>\n",
       "    <tr>\n",
       "      <th>1</th>\n",
       "      <td>2</td>\n",
       "      <td>18</td>\n",
       "      <td>1</td>\n",
       "      <td>33.77</td>\n",
       "      <td>1</td>\n",
       "    </tr>\n",
       "    <tr>\n",
       "      <th>2</th>\n",
       "      <td>2</td>\n",
       "      <td>28</td>\n",
       "      <td>1</td>\n",
       "      <td>33.00</td>\n",
       "      <td>3</td>\n",
       "    </tr>\n",
       "  </tbody>\n",
       "</table>\n",
       "</div>"
      ],
      "text/plain": [
       "   region  age  sex    bmi  children\n",
       "0       3   19    0  27.90         0\n",
       "1       2   18    1  33.77         1\n",
       "2       2   28    1  33.00         3"
      ]
     },
     "execution_count": 16,
     "metadata": {},
     "output_type": "execute_result"
    }
   ],
   "source": [
    "#Feature\n",
    "x=df.copy()\n",
    "x=df.drop('smoker', axis=1)\n",
    "x.head(3)"
   ]
  },
  {
   "cell_type": "code",
   "execution_count": 73,
   "id": "3286ac2d",
   "metadata": {},
   "outputs": [],
   "source": [
    "from sklearn.model_selection import train_test_split\n",
    "x_train, x_test, y_train, y_test=train_test_split(x,y, test_size=0.2, random_state=3)"
   ]
  },
  {
   "cell_type": "code",
   "execution_count": 74,
   "id": "e4959dcf",
   "metadata": {},
   "outputs": [
    {
     "data": {
      "text/plain": [
       "region      1070\n",
       "age         1070\n",
       "sex         1070\n",
       "bmi         1070\n",
       "children    1070\n",
       "dtype: int64"
      ]
     },
     "execution_count": 74,
     "metadata": {},
     "output_type": "execute_result"
    }
   ],
   "source": [
    "x_train.count()"
   ]
  },
  {
   "cell_type": "code",
   "execution_count": 75,
   "id": "c4c99efb",
   "metadata": {},
   "outputs": [
    {
     "data": {
      "text/plain": [
       "region      268\n",
       "age         268\n",
       "sex         268\n",
       "bmi         268\n",
       "children    268\n",
       "dtype: int64"
      ]
     },
     "execution_count": 75,
     "metadata": {},
     "output_type": "execute_result"
    }
   ],
   "source": [
    "x_test.count()"
   ]
  },
  {
   "cell_type": "code",
   "execution_count": 76,
   "id": "53ce2b70",
   "metadata": {},
   "outputs": [],
   "source": [
    "from sklearn.tree import DecisionTreeClassifier\n",
    "dtc=DecisionTreeClassifier()"
   ]
  },
  {
   "cell_type": "markdown",
   "id": "f9cf1702",
   "metadata": {},
   "source": [
    "# Fit the train data to the model"
   ]
  },
  {
   "cell_type": "code",
   "execution_count": 77,
   "id": "b7fff57f",
   "metadata": {},
   "outputs": [
    {
     "data": {
      "text/plain": [
       "DecisionTreeClassifier()"
      ]
     },
     "execution_count": 77,
     "metadata": {},
     "output_type": "execute_result"
    }
   ],
   "source": [
    "dtc.fit(x_train, y_train)"
   ]
  },
  {
   "cell_type": "code",
   "execution_count": 78,
   "id": "9088fe2c",
   "metadata": {},
   "outputs": [],
   "source": [
    "y_pred = dtc.predict(x_test)"
   ]
  },
  {
   "cell_type": "markdown",
   "id": "0b5a6538",
   "metadata": {},
   "source": [
    "# MODEL ACCURACY and PERFORMANCE MEASUREMENT"
   ]
  },
  {
   "cell_type": "code",
   "execution_count": 79,
   "id": "91179c1d",
   "metadata": {},
   "outputs": [],
   "source": [
    "from sklearn.metrics import confusion_matrix"
   ]
  },
  {
   "cell_type": "code",
   "execution_count": 80,
   "id": "b23bc3ba",
   "metadata": {},
   "outputs": [
    {
     "data": {
      "text/plain": [
       "array([0, 0, 0, 0, 0, 0, 0, 0, 0, 0, 1, 0, 0, 0, 0, 0, 0, 0, 0, 0, 0, 1,\n",
       "       0, 0, 1, 0, 0, 0, 0, 0, 0, 0, 0, 1, 0, 0, 1, 1, 0, 1, 0, 0, 0, 1,\n",
       "       0, 0, 1, 0, 0, 1, 0, 0, 0, 0, 0, 0, 0, 0, 0, 0, 1, 0, 0, 0, 0, 0,\n",
       "       0, 0, 0, 1, 0, 0, 0, 1, 0, 0, 0, 0, 1, 0, 0, 0, 0, 0, 0, 1, 0, 0,\n",
       "       0, 0, 0, 0, 0, 0, 1, 1, 1, 0, 1, 0, 0, 0, 0, 0, 0, 0, 0, 0, 0, 0,\n",
       "       1, 1, 0, 0, 0, 0, 1, 0, 0, 1, 0, 1, 1, 0, 0, 0, 0, 0, 0, 0, 0, 0,\n",
       "       0, 0, 0, 1, 0, 0, 0, 0, 1, 0, 0, 0, 0, 0, 1, 0, 0, 1, 0, 0, 0, 0,\n",
       "       0, 0, 0, 0, 0, 0, 0, 0, 1, 0, 0, 0, 0, 0, 0, 0, 0, 0, 0, 1, 0, 0,\n",
       "       0, 0, 1, 1, 0, 0, 0, 1, 0, 0, 0, 0, 0, 1, 0, 0, 0, 0, 0, 0, 0, 0,\n",
       "       1, 1, 0, 0, 0, 0, 1, 0, 1, 0, 1, 0, 0, 0, 0, 0, 0, 0, 0, 1, 0, 0,\n",
       "       0, 0, 0, 0, 0, 0, 0, 0, 0, 0, 0, 0, 0, 0, 0, 0, 0, 0, 1, 0, 0, 0,\n",
       "       0, 1, 0, 1, 0, 0, 1, 1, 0, 1, 0, 0, 0, 0, 0, 0, 0, 0, 0, 0, 0, 0,\n",
       "       1, 0, 0, 0])"
      ]
     },
     "execution_count": 80,
     "metadata": {},
     "output_type": "execute_result"
    }
   ],
   "source": [
    "#Predicted result\n",
    "y_pred"
   ]
  },
  {
   "cell_type": "code",
   "execution_count": 81,
   "id": "03299538",
   "metadata": {},
   "outputs": [
    {
     "data": {
      "text/plain": [
       "array([0, 0, 0, 0, 0, 0, 0, 0, 0, 0, 0, 0, 0, 0, 0, 0, 0, 0, 0, 0, 0, 0,\n",
       "       0, 0, 0, 0, 0, 0, 0, 0, 0, 0, 0, 0, 0, 1, 0, 0, 0, 0, 0, 1, 0, 1,\n",
       "       1, 0, 0, 0, 0, 1, 0, 1, 0, 0, 1, 0, 1, 0, 0, 0, 0, 0, 0, 0, 0, 0,\n",
       "       1, 0, 1, 0, 0, 0, 1, 0, 0, 0, 1, 0, 0, 0, 0, 0, 0, 0, 0, 1, 0, 0,\n",
       "       1, 1, 1, 1, 0, 0, 0, 1, 0, 0, 1, 1, 0, 0, 0, 0, 1, 0, 0, 0, 0, 0,\n",
       "       0, 0, 0, 1, 0, 0, 0, 1, 0, 0, 1, 0, 1, 0, 0, 0, 0, 0, 1, 1, 0, 0,\n",
       "       0, 0, 0, 0, 0, 1, 0, 0, 0, 1, 0, 0, 0, 0, 0, 0, 0, 0, 0, 0, 0, 0,\n",
       "       0, 0, 0, 0, 0, 0, 0, 0, 0, 0, 0, 1, 0, 0, 0, 1, 0, 1, 0, 0, 0, 0,\n",
       "       1, 0, 0, 1, 0, 1, 0, 0, 0, 0, 0, 0, 0, 0, 1, 0, 0, 1, 0, 0, 0, 1,\n",
       "       0, 0, 0, 0, 0, 0, 0, 0, 0, 0, 0, 1, 0, 1, 0, 0, 0, 0, 1, 0, 0, 0,\n",
       "       0, 0, 0, 0, 1, 0, 1, 0, 0, 0, 0, 1, 1, 1, 1, 0, 0, 0, 0, 1, 0, 0,\n",
       "       0, 1, 0, 0, 1, 1, 0, 0, 1, 0, 0, 0, 1, 0, 0, 1, 0, 0, 0, 0, 1, 1,\n",
       "       0, 0, 0, 0])"
      ]
     },
     "execution_count": 81,
     "metadata": {},
     "output_type": "execute_result"
    }
   ],
   "source": [
    "#Actual result\n",
    "np.array(y_test)"
   ]
  },
  {
   "cell_type": "code",
   "execution_count": 82,
   "id": "e71309d4",
   "metadata": {},
   "outputs": [
    {
     "data": {
      "text/plain": [
       "[Text(295.8561811641402, 530.6571428571428, 'sex <= 0.5\\ngini = 0.324\\nsamples = 1070\\nvalue = [852, 218]'),\n",
       " Text(160.5575778659403, 504.7714285714286, 'bmi <= 28.542\\ngini = 0.277\\nsamples = 535\\nvalue = [446, 89]'),\n",
       " Text(107.01635776882993, 478.8857142857143, 'age <= 63.5\\ngini = 0.34\\nsamples = 216\\nvalue = [169, 47]'),\n",
       " Text(104.901720156324, 453.0, 'bmi <= 28.285\\ngini = 0.332\\nsamples = 214\\nvalue = [169, 45]'),\n",
       " Text(87.15445878730459, 427.11428571428576, 'bmi <= 18.317\\ngini = 0.314\\nsamples = 205\\nvalue = [165, 40]'),\n",
       " Text(77.08514921837991, 401.22857142857146, 'children <= 1.5\\ngini = 0.5\\nsamples = 6\\nvalue = [3, 3]'),\n",
       " Text(74.97051160587398, 375.34285714285716, 'gini = 0.0\\nsamples = 3\\nvalue = [3, 0]'),\n",
       " Text(79.19978683088583, 375.34285714285716, 'gini = 0.0\\nsamples = 3\\nvalue = [0, 3]'),\n",
       " Text(97.22376835622927, 401.22857142857146, 'region <= 2.5\\ngini = 0.303\\nsamples = 199\\nvalue = [162, 37]'),\n",
       " Text(83.42906205589767, 375.34285714285716, 'age <= 61.5\\ngini = 0.341\\nsamples = 147\\nvalue = [115, 32]'),\n",
       " Text(69.58479393652297, 349.4571428571429, 'age <= 52.5\\ngini = 0.327\\nsamples = 141\\nvalue = [112, 29]'),\n",
       " Text(48.24017053529133, 323.57142857142856, 'age <= 36.5\\ngini = 0.362\\nsamples = 118\\nvalue = [90, 28]'),\n",
       " Text(24.054002842254853, 297.6857142857143, 'bmi <= 21.87\\ngini = 0.287\\nsamples = 69\\nvalue = [57, 12]'),\n",
       " Text(10.573188062529606, 271.8, 'region <= 0.5\\ngini = 0.497\\nsamples = 13\\nvalue = [7, 6]'),\n",
       " Text(4.229275225011842, 245.9142857142857, 'age <= 30.5\\ngini = 0.408\\nsamples = 7\\nvalue = [2, 5]'),\n",
       " Text(2.114637612505921, 220.02857142857147, 'gini = 0.0\\nsamples = 4\\nvalue = [0, 4]'),\n",
       " Text(6.343912837517763, 220.02857142857147, 'children <= 1.0\\ngini = 0.444\\nsamples = 3\\nvalue = [2, 1]'),\n",
       " Text(4.229275225011842, 194.14285714285717, 'gini = 0.0\\nsamples = 2\\nvalue = [2, 0]'),\n",
       " Text(8.458550450023685, 194.14285714285717, 'gini = 0.0\\nsamples = 1\\nvalue = [0, 1]'),\n",
       " Text(16.91710090004737, 245.9142857142857, 'bmi <= 20.14\\ngini = 0.278\\nsamples = 6\\nvalue = [5, 1]'),\n",
       " Text(14.802463287541448, 220.02857142857147, 'age <= 28.5\\ngini = 0.5\\nsamples = 2\\nvalue = [1, 1]'),\n",
       " Text(12.687825675035526, 194.14285714285717, 'gini = 0.0\\nsamples = 1\\nvalue = [0, 1]'),\n",
       " Text(16.91710090004737, 194.14285714285717, 'gini = 0.0\\nsamples = 1\\nvalue = [1, 0]'),\n",
       " Text(19.03173851255329, 220.02857142857147, 'gini = 0.0\\nsamples = 4\\nvalue = [4, 0]'),\n",
       " Text(37.5348176219801, 271.8, 'children <= 2.5\\ngini = 0.191\\nsamples = 56\\nvalue = [50, 6]'),\n",
       " Text(28.547607768829938, 245.9142857142857, 'region <= 1.5\\ngini = 0.145\\nsamples = 51\\nvalue = [47, 4]'),\n",
       " Text(23.261013737565133, 220.02857142857147, 'bmi <= 22.467\\ngini = 0.057\\nsamples = 34\\nvalue = [33, 1]'),\n",
       " Text(21.146376125059213, 194.14285714285717, 'bmi <= 22.325\\ngini = 0.32\\nsamples = 5\\nvalue = [4, 1]'),\n",
       " Text(19.03173851255329, 168.25714285714287, 'gini = 0.0\\nsamples = 4\\nvalue = [4, 0]'),\n",
       " Text(23.261013737565133, 168.25714285714287, 'gini = 0.0\\nsamples = 1\\nvalue = [0, 1]'),\n",
       " Text(25.375651350071053, 194.14285714285717, 'gini = 0.0\\nsamples = 29\\nvalue = [29, 0]'),\n",
       " Text(33.83420180009474, 220.02857142857147, 'bmi <= 26.785\\ngini = 0.291\\nsamples = 17\\nvalue = [14, 3]'),\n",
       " Text(29.604926575082896, 194.14285714285717, 'bmi <= 24.53\\ngini = 0.153\\nsamples = 12\\nvalue = [11, 1]'),\n",
       " Text(27.490288962576976, 168.25714285714287, 'gini = 0.0\\nsamples = 6\\nvalue = [6, 0]'),\n",
       " Text(31.71956418758882, 168.25714285714287, 'bmi <= 25.245\\ngini = 0.278\\nsamples = 6\\nvalue = [5, 1]'),\n",
       " Text(29.604926575082896, 142.37142857142857, 'gini = 0.0\\nsamples = 1\\nvalue = [0, 1]'),\n",
       " Text(33.83420180009474, 142.37142857142857, 'gini = 0.0\\nsamples = 5\\nvalue = [5, 0]'),\n",
       " Text(38.06347702510658, 194.14285714285717, 'children <= 0.5\\ngini = 0.48\\nsamples = 5\\nvalue = [3, 2]'),\n",
       " Text(35.94883941260066, 168.25714285714287, 'gini = 0.0\\nsamples = 2\\nvalue = [2, 0]'),\n",
       " Text(40.1781146376125, 168.25714285714287, 'bmi <= 28.105\\ngini = 0.444\\nsamples = 3\\nvalue = [1, 2]'),\n",
       " Text(38.06347702510658, 142.37142857142857, 'gini = 0.0\\nsamples = 2\\nvalue = [0, 2]'),\n",
       " Text(42.292752250118426, 142.37142857142857, 'gini = 0.0\\nsamples = 1\\nvalue = [1, 0]'),\n",
       " Text(46.522027475130265, 245.9142857142857, 'region <= 1.5\\ngini = 0.48\\nsamples = 5\\nvalue = [3, 2]'),\n",
       " Text(44.40738986262434, 220.02857142857147, 'age <= 29.0\\ngini = 0.375\\nsamples = 4\\nvalue = [3, 1]'),\n",
       " Text(42.292752250118426, 194.14285714285717, 'gini = 0.0\\nsamples = 2\\nvalue = [2, 0]'),\n",
       " Text(46.522027475130265, 194.14285714285717, 'age <= 33.0\\ngini = 0.5\\nsamples = 2\\nvalue = [1, 1]'),\n",
       " Text(44.40738986262434, 168.25714285714287, 'gini = 0.0\\nsamples = 1\\nvalue = [0, 1]'),\n",
       " Text(48.63666508763619, 168.25714285714287, 'gini = 0.0\\nsamples = 1\\nvalue = [1, 0]'),\n",
       " Text(48.63666508763619, 220.02857142857147, 'gini = 0.0\\nsamples = 1\\nvalue = [0, 1]'),\n",
       " Text(72.42633822832781, 297.6857142857143, 'bmi <= 26.98\\ngini = 0.44\\nsamples = 49\\nvalue = [33, 16]'),\n",
       " Text(62.38180956892467, 271.8, 'bmi <= 23.323\\ngini = 0.491\\nsamples = 30\\nvalue = [17, 13]'),\n",
       " Text(54.98057792515395, 245.9142857142857, 'region <= 1.5\\ngini = 0.219\\nsamples = 8\\nvalue = [7, 1]'),\n",
       " Text(52.86594031264803, 220.02857142857147, 'gini = 0.0\\nsamples = 6\\nvalue = [6, 0]'),\n",
       " Text(57.095215537659875, 220.02857142857147, 'bmi <= 21.89\\ngini = 0.5\\nsamples = 2\\nvalue = [1, 1]'),\n",
       " Text(54.98057792515395, 194.14285714285717, 'gini = 0.0\\nsamples = 1\\nvalue = [1, 0]'),\n",
       " Text(59.20985315016579, 194.14285714285717, 'gini = 0.0\\nsamples = 1\\nvalue = [0, 1]'),\n",
       " Text(69.7830412126954, 245.9142857142857, 'age <= 48.0\\ngini = 0.496\\nsamples = 22\\nvalue = [10, 12]'),\n",
       " Text(67.66840360018948, 220.02857142857147, 'children <= 1.5\\ngini = 0.499\\nsamples = 19\\nvalue = [10, 9]'),\n",
       " Text(63.43912837517764, 194.14285714285717, 'bmi <= 23.988\\ngini = 0.463\\nsamples = 11\\nvalue = [4, 7]'),\n",
       " Text(61.324490762671715, 168.25714285714287, 'gini = 0.0\\nsamples = 2\\nvalue = [0, 2]'),\n",
       " Text(65.55376598768356, 168.25714285714287, 'bmi <= 25.175\\ngini = 0.494\\nsamples = 9\\nvalue = [4, 5]'),\n",
       " Text(63.43912837517764, 142.37142857142857, 'gini = 0.0\\nsamples = 2\\nvalue = [2, 0]'),\n",
       " Text(67.66840360018948, 142.37142857142857, 'region <= 0.5\\ngini = 0.408\\nsamples = 7\\nvalue = [2, 5]'),\n",
       " Text(65.55376598768356, 116.48571428571432, 'gini = 0.0\\nsamples = 3\\nvalue = [0, 3]'),\n",
       " Text(69.7830412126954, 116.48571428571432, 'children <= 0.5\\ngini = 0.5\\nsamples = 4\\nvalue = [2, 2]'),\n",
       " Text(67.66840360018948, 90.60000000000002, 'age <= 43.5\\ngini = 0.444\\nsamples = 3\\nvalue = [1, 2]'),\n",
       " Text(65.55376598768356, 64.71428571428572, 'gini = 0.0\\nsamples = 2\\nvalue = [0, 2]'),\n",
       " Text(69.7830412126954, 64.71428571428572, 'gini = 0.0\\nsamples = 1\\nvalue = [1, 0]'),\n",
       " Text(71.89767882520133, 90.60000000000002, 'gini = 0.0\\nsamples = 1\\nvalue = [1, 0]'),\n",
       " Text(71.89767882520133, 194.14285714285717, 'bmi <= 24.463\\ngini = 0.375\\nsamples = 8\\nvalue = [6, 2]'),\n",
       " Text(69.7830412126954, 168.25714285714287, 'gini = 0.0\\nsamples = 3\\nvalue = [3, 0]'),\n",
       " Text(74.01231643770724, 168.25714285714287, 'bmi <= 24.938\\ngini = 0.48\\nsamples = 5\\nvalue = [3, 2]'),\n",
       " Text(71.89767882520133, 142.37142857142857, 'gini = 0.0\\nsamples = 2\\nvalue = [0, 2]'),\n",
       " Text(76.12695405021316, 142.37142857142857, 'gini = 0.0\\nsamples = 3\\nvalue = [3, 0]'),\n",
       " Text(71.89767882520133, 220.02857142857147, 'gini = 0.0\\nsamples = 3\\nvalue = [0, 3]'),\n",
       " Text(82.47086688773092, 271.8, 'age <= 47.5\\ngini = 0.266\\nsamples = 19\\nvalue = [16, 3]'),\n",
       " Text(80.356229275225, 245.9142857142857, 'age <= 46.5\\ngini = 0.42\\nsamples = 10\\nvalue = [7, 3]'),\n",
       " Text(78.24159166271909, 220.02857142857147, 'bmi <= 28.085\\ngini = 0.219\\nsamples = 8\\nvalue = [7, 1]'),\n",
       " Text(76.12695405021316, 194.14285714285717, 'gini = 0.0\\nsamples = 7\\nvalue = [7, 0]'),\n",
       " Text(80.356229275225, 194.14285714285717, 'gini = 0.0\\nsamples = 1\\nvalue = [0, 1]'),\n",
       " Text(82.47086688773092, 220.02857142857147, 'gini = 0.0\\nsamples = 2\\nvalue = [0, 2]'),\n",
       " Text(84.58550450023685, 245.9142857142857, 'gini = 0.0\\nsamples = 9\\nvalue = [9, 0]'),\n",
       " Text(90.92941733775461, 323.57142857142856, 'bmi <= 23.703\\ngini = 0.083\\nsamples = 23\\nvalue = [22, 1]'),\n",
       " Text(88.81477972524868, 297.6857142857143, 'bmi <= 23.418\\ngini = 0.278\\nsamples = 6\\nvalue = [5, 1]'),\n",
       " Text(86.70014211274277, 271.8, 'gini = 0.0\\nsamples = 5\\nvalue = [5, 0]'),\n",
       " Text(90.92941733775461, 271.8, 'gini = 0.0\\nsamples = 1\\nvalue = [0, 1]'),\n",
       " Text(93.04405495026053, 297.6857142857143, 'gini = 0.0\\nsamples = 17\\nvalue = [17, 0]'),\n",
       " Text(97.27333017527238, 349.4571428571429, 'bmi <= 26.255\\ngini = 0.5\\nsamples = 6\\nvalue = [3, 3]'),\n",
       " Text(95.15869256276645, 323.57142857142856, 'gini = 0.0\\nsamples = 3\\nvalue = [3, 0]'),\n",
       " Text(99.3879677877783, 323.57142857142856, 'gini = 0.0\\nsamples = 3\\nvalue = [0, 3]'),\n",
       " Text(111.01847465656087, 375.34285714285716, 'age <= 20.5\\ngini = 0.174\\nsamples = 52\\nvalue = [47, 5]'),\n",
       " Text(105.73188062529606, 349.4571428571429, 'age <= 19.5\\ngini = 0.444\\nsamples = 6\\nvalue = [4, 2]'),\n",
       " Text(103.61724301279014, 323.57142857142856, 'bmi <= 26.3\\ngini = 0.32\\nsamples = 5\\nvalue = [4, 1]'),\n",
       " Text(101.50260540028421, 297.6857142857143, 'gini = 0.0\\nsamples = 4\\nvalue = [4, 0]'),\n",
       " Text(105.73188062529606, 297.6857142857143, 'gini = 0.0\\nsamples = 1\\nvalue = [0, 1]'),\n",
       " Text(107.84651823780199, 323.57142857142856, 'gini = 0.0\\nsamples = 1\\nvalue = [0, 1]'),\n",
       " Text(116.30506868782567, 349.4571428571429, 'children <= 1.5\\ngini = 0.122\\nsamples = 46\\nvalue = [43, 3]'),\n",
       " Text(112.07579346281382, 323.57142857142856, 'bmi <= 27.55\\ngini = 0.057\\nsamples = 34\\nvalue = [33, 1]'),\n",
       " Text(109.9611558503079, 297.6857142857143, 'gini = 0.0\\nsamples = 30\\nvalue = [30, 0]'),\n",
       " Text(114.19043107531975, 297.6857142857143, 'children <= 0.5\\ngini = 0.375\\nsamples = 4\\nvalue = [3, 1]'),\n",
       " Text(112.07579346281382, 271.8, 'gini = 0.0\\nsamples = 3\\nvalue = [3, 0]'),\n",
       " Text(116.30506868782567, 271.8, 'gini = 0.0\\nsamples = 1\\nvalue = [0, 1]'),\n",
       " Text(120.53434391283751, 323.57142857142856, 'bmi <= 22.8\\ngini = 0.278\\nsamples = 12\\nvalue = [10, 2]'),\n",
       " Text(118.41970630033158, 297.6857142857143, 'gini = 0.0\\nsamples = 1\\nvalue = [0, 1]'),\n",
       " Text(122.64898152534343, 297.6857142857143, 'age <= 40.5\\ngini = 0.165\\nsamples = 11\\nvalue = [10, 1]'),\n",
       " Text(120.53434391283751, 271.8, 'gini = 0.0\\nsamples = 7\\nvalue = [7, 0]'),\n",
       " Text(124.76361913784935, 271.8, 'age <= 44.0\\ngini = 0.375\\nsamples = 4\\nvalue = [3, 1]'),\n",
       " Text(122.64898152534343, 245.9142857142857, 'gini = 0.0\\nsamples = 1\\nvalue = [0, 1]'),\n",
       " Text(126.87825675035528, 245.9142857142857, 'gini = 0.0\\nsamples = 3\\nvalue = [3, 0]'),\n",
       " Text(122.64898152534343, 427.11428571428576, 'age <= 35.5\\ngini = 0.494\\nsamples = 9\\nvalue = [4, 5]'),\n",
       " Text(120.53434391283751, 401.22857142857146, 'bmi <= 28.39\\ngini = 0.408\\nsamples = 7\\nvalue = [2, 5]'),\n",
       " Text(118.41970630033158, 375.34285714285716, 'gini = 0.0\\nsamples = 4\\nvalue = [0, 4]'),\n",
       " Text(122.64898152534343, 375.34285714285716, 'bmi <= 28.448\\ngini = 0.444\\nsamples = 3\\nvalue = [2, 1]'),\n",
       " Text(120.53434391283751, 349.4571428571429, 'gini = 0.0\\nsamples = 2\\nvalue = [2, 0]'),\n",
       " Text(124.76361913784935, 349.4571428571429, 'gini = 0.0\\nsamples = 1\\nvalue = [0, 1]'),\n",
       " Text(124.76361913784935, 401.22857142857146, 'gini = 0.0\\nsamples = 2\\nvalue = [2, 0]'),\n",
       " Text(109.13099538133585, 453.0, 'gini = 0.0\\nsamples = 2\\nvalue = [0, 2]'),\n",
       " Text(214.09879796305066, 478.8857142857143, 'bmi <= 47.08\\ngini = 0.229\\nsamples = 319\\nvalue = [277, 42]'),\n",
       " Text(196.1161179535765, 453.0, 'bmi <= 39.075\\ngini = 0.221\\nsamples = 316\\nvalue = [276, 40]'),\n",
       " Text(166.4946707721459, 427.11428571428576, 'bmi <= 38.925\\ngini = 0.243\\nsamples = 268\\nvalue = [230, 38]'),\n",
       " Text(164.38003315963996, 401.22857142857146, 'bmi <= 29.972\\ngini = 0.234\\nsamples = 266\\nvalue = [230, 36]'),\n",
       " Text(133.22216958787303, 375.34285714285716, 'age <= 19.5\\ngini = 0.085\\nsamples = 45\\nvalue = [43, 2]'),\n",
       " Text(128.9928943628612, 349.4571428571429, 'region <= 2.0\\ngini = 0.5\\nsamples = 2\\nvalue = [1, 1]'),\n",
       " Text(126.87825675035528, 323.57142857142856, 'gini = 0.0\\nsamples = 1\\nvalue = [0, 1]'),\n",
       " Text(131.10753197536712, 323.57142857142856, 'gini = 0.0\\nsamples = 1\\nvalue = [1, 0]'),\n",
       " Text(137.4514448128849, 349.4571428571429, 'age <= 60.5\\ngini = 0.045\\nsamples = 43\\nvalue = [42, 1]'),\n",
       " Text(135.33680720037896, 323.57142857142856, 'gini = 0.0\\nsamples = 41\\nvalue = [41, 0]'),\n",
       " Text(139.5660824253908, 323.57142857142856, 'bmi <= 29.495\\ngini = 0.5\\nsamples = 2\\nvalue = [1, 1]'),\n",
       " Text(137.4514448128849, 297.6857142857143, 'gini = 0.0\\nsamples = 1\\nvalue = [0, 1]'),\n",
       " Text(141.68072003789672, 297.6857142857143, 'gini = 0.0\\nsamples = 1\\nvalue = [1, 0]'),\n",
       " Text(195.5378967314069, 375.34285714285716, 'age <= 37.5\\ngini = 0.26\\nsamples = 221\\nvalue = [187, 34]'),\n",
       " Text(171.68214116532448, 349.4571428571429, 'age <= 32.5\\ngini = 0.323\\nsamples = 94\\nvalue = [75, 19]'),\n",
       " Text(148.02463287541448, 323.57142857142856, 'bmi <= 30.06\\ngini = 0.266\\nsamples = 76\\nvalue = [64, 12]'),\n",
       " Text(145.90999526290855, 297.6857142857143, 'gini = 0.0\\nsamples = 1\\nvalue = [0, 1]'),\n",
       " Text(150.1392704879204, 297.6857142857143, 'age <= 21.5\\ngini = 0.25\\nsamples = 75\\nvalue = [64, 11]'),\n",
       " Text(136.12979630506868, 271.8, 'bmi <= 32.305\\ngini = 0.121\\nsamples = 31\\nvalue = [29, 2]'),\n",
       " Text(134.01515869256275, 245.9142857142857, 'gini = 0.0\\nsamples = 12\\nvalue = [12, 0]'),\n",
       " Text(138.2444339175746, 245.9142857142857, 'bmi <= 32.585\\ngini = 0.188\\nsamples = 19\\nvalue = [17, 2]'),\n",
       " Text(136.12979630506868, 220.02857142857147, 'gini = 0.0\\nsamples = 1\\nvalue = [0, 1]'),\n",
       " Text(140.3590715300805, 220.02857142857147, 'bmi <= 36.712\\ngini = 0.105\\nsamples = 18\\nvalue = [17, 1]'),\n",
       " Text(138.2444339175746, 194.14285714285717, 'gini = 0.0\\nsamples = 11\\nvalue = [11, 0]'),\n",
       " Text(142.47370914258644, 194.14285714285717, 'bmi <= 37.07\\ngini = 0.245\\nsamples = 7\\nvalue = [6, 1]'),\n",
       " Text(140.3590715300805, 168.25714285714287, 'gini = 0.5\\nsamples = 2\\nvalue = [1, 1]'),\n",
       " Text(144.58834675509237, 168.25714285714287, 'gini = 0.0\\nsamples = 5\\nvalue = [5, 0]'),\n",
       " Text(164.14874467077215, 271.8, 'age <= 23.5\\ngini = 0.325\\nsamples = 44\\nvalue = [35, 9]'),\n",
       " Text(153.04689720511604, 245.9142857142857, 'bmi <= 33.09\\ngini = 0.5\\nsamples = 10\\nvalue = [5, 5]'),\n",
       " Text(148.8176219801042, 220.02857142857147, 'region <= 0.5\\ngini = 0.32\\nsamples = 5\\nvalue = [1, 4]'),\n",
       " Text(146.70298436759828, 194.14285714285717, 'gini = 0.0\\nsamples = 1\\nvalue = [1, 0]'),\n",
       " Text(150.93225959261014, 194.14285714285717, 'gini = 0.0\\nsamples = 4\\nvalue = [0, 4]'),\n",
       " Text(157.2761724301279, 220.02857142857147, 'bmi <= 36.335\\ngini = 0.32\\nsamples = 5\\nvalue = [4, 1]'),\n",
       " Text(155.16153481762197, 194.14285714285717, 'gini = 0.0\\nsamples = 4\\nvalue = [4, 0]'),\n",
       " Text(159.3908100426338, 194.14285714285717, 'gini = 0.0\\nsamples = 1\\nvalue = [0, 1]'),\n",
       " Text(175.25059213642822, 245.9142857142857, 'bmi <= 35.805\\ngini = 0.208\\nsamples = 34\\nvalue = [30, 4]'),\n",
       " Text(167.8493604926575, 220.02857142857147, 'bmi <= 30.205\\ngini = 0.128\\nsamples = 29\\nvalue = [27, 2]'),\n",
       " Text(163.62008526764566, 194.14285714285717, 'age <= 24.5\\ngini = 0.5\\nsamples = 2\\nvalue = [1, 1]'),\n",
       " Text(161.50544765513973, 168.25714285714287, 'gini = 0.0\\nsamples = 1\\nvalue = [1, 0]'),\n",
       " Text(165.73472288015157, 168.25714285714287, 'gini = 0.0\\nsamples = 1\\nvalue = [0, 1]'),\n",
       " Text(172.07863571766933, 194.14285714285717, 'region <= 2.5\\ngini = 0.071\\nsamples = 27\\nvalue = [26, 1]'),\n",
       " Text(169.96399810516343, 168.25714285714287, 'gini = 0.0\\nsamples = 21\\nvalue = [21, 0]'),\n",
       " Text(174.19327333017526, 168.25714285714287, 'bmi <= 31.9\\ngini = 0.278\\nsamples = 6\\nvalue = [5, 1]'),\n",
       " Text(172.07863571766933, 142.37142857142857, 'age <= 26.0\\ngini = 0.5\\nsamples = 2\\nvalue = [1, 1]'),\n",
       " Text(169.96399810516343, 116.48571428571432, 'gini = 0.0\\nsamples = 1\\nvalue = [1, 0]'),\n",
       " Text(174.19327333017526, 116.48571428571432, 'gini = 0.0\\nsamples = 1\\nvalue = [0, 1]'),\n",
       " Text(176.3079109426812, 142.37142857142857, 'gini = 0.0\\nsamples = 4\\nvalue = [4, 0]'),\n",
       " Text(182.65182378019895, 220.02857142857147, 'children <= 1.5\\ngini = 0.48\\nsamples = 5\\nvalue = [3, 2]'),\n",
       " Text(180.53718616769302, 194.14285714285717, 'children <= 0.5\\ngini = 0.444\\nsamples = 3\\nvalue = [1, 2]'),\n",
       " Text(178.4225485551871, 168.25714285714287, 'gini = 0.0\\nsamples = 1\\nvalue = [0, 1]'),\n",
       " Text(182.65182378019895, 168.25714285714287, 'bmi <= 37.858\\ngini = 0.5\\nsamples = 2\\nvalue = [1, 1]'),\n",
       " Text(180.53718616769302, 142.37142857142857, 'gini = 0.0\\nsamples = 1\\nvalue = [1, 0]'),\n",
       " Text(184.76646139270485, 142.37142857142857, 'gini = 0.0\\nsamples = 1\\nvalue = [0, 1]'),\n",
       " Text(184.76646139270485, 194.14285714285717, 'gini = 0.0\\nsamples = 2\\nvalue = [2, 0]'),\n",
       " Text(195.33964945523448, 323.57142857142856, 'bmi <= 35.672\\ngini = 0.475\\nsamples = 18\\nvalue = [11, 7]'),\n",
       " Text(193.22501184272855, 297.6857142857143, 'region <= 0.5\\ngini = 0.497\\nsamples = 13\\nvalue = [6, 7]'),\n",
       " Text(191.11037423022262, 271.8, 'gini = 0.0\\nsamples = 2\\nvalue = [0, 2]'),\n",
       " Text(195.33964945523448, 271.8, 'bmi <= 34.452\\ngini = 0.496\\nsamples = 11\\nvalue = [6, 5]'),\n",
       " Text(193.22501184272855, 245.9142857142857, 'children <= 2.5\\ngini = 0.444\\nsamples = 9\\nvalue = [6, 3]'),\n",
       " Text(191.11037423022262, 220.02857142857147, 'age <= 34.5\\ngini = 0.375\\nsamples = 8\\nvalue = [6, 2]'),\n",
       " Text(188.99573661771672, 194.14285714285717, 'children <= 0.5\\ngini = 0.5\\nsamples = 4\\nvalue = [2, 2]'),\n",
       " Text(186.88109900521079, 168.25714285714287, 'gini = 0.0\\nsamples = 1\\nvalue = [0, 1]'),\n",
       " Text(191.11037423022262, 168.25714285714287, 'bmi <= 31.555\\ngini = 0.444\\nsamples = 3\\nvalue = [2, 1]'),\n",
       " Text(188.99573661771672, 142.37142857142857, 'gini = 0.0\\nsamples = 1\\nvalue = [0, 1]'),\n",
       " Text(193.22501184272855, 142.37142857142857, 'gini = 0.0\\nsamples = 2\\nvalue = [2, 0]'),\n",
       " Text(193.22501184272855, 194.14285714285717, 'gini = 0.0\\nsamples = 4\\nvalue = [4, 0]'),\n",
       " Text(195.33964945523448, 220.02857142857147, 'gini = 0.0\\nsamples = 1\\nvalue = [0, 1]'),\n",
       " Text(197.45428706774038, 245.9142857142857, 'gini = 0.0\\nsamples = 2\\nvalue = [0, 2]'),\n",
       " Text(197.45428706774038, 297.6857142857143, 'gini = 0.0\\nsamples = 5\\nvalue = [5, 0]'),\n",
       " Text(219.39365229748933, 349.4571428571429, 'age <= 62.5\\ngini = 0.208\\nsamples = 127\\nvalue = [112, 15]'),\n",
       " Text(211.72809095215536, 323.57142857142856, 'bmi <= 32.423\\ngini = 0.193\\nsamples = 120\\nvalue = [107, 13]'),\n",
       " Text(205.91283751776407, 297.6857142857143, 'bmi <= 30.498\\ngini = 0.05\\nsamples = 39\\nvalue = [38, 1]'),\n",
       " Text(203.79819990525814, 271.8, 'age <= 45.5\\ngini = 0.278\\nsamples = 6\\nvalue = [5, 1]'),\n",
       " Text(201.68356229275224, 245.9142857142857, 'bmi <= 30.352\\ngini = 0.5\\nsamples = 2\\nvalue = [1, 1]'),\n",
       " Text(199.5689246802463, 220.02857142857147, 'gini = 0.0\\nsamples = 1\\nvalue = [1, 0]'),\n",
       " Text(203.79819990525814, 220.02857142857147, 'gini = 0.0\\nsamples = 1\\nvalue = [0, 1]'),\n",
       " Text(205.91283751776407, 245.9142857142857, 'gini = 0.0\\nsamples = 4\\nvalue = [4, 0]'),\n",
       " Text(208.02747513027, 271.8, 'gini = 0.0\\nsamples = 33\\nvalue = [33, 0]'),\n",
       " Text(217.54334438654664, 297.6857142857143, 'bmi <= 32.58\\ngini = 0.252\\nsamples = 81\\nvalue = [69, 12]'),\n",
       " Text(212.25675035528184, 271.8, 'age <= 41.0\\ngini = 0.444\\nsamples = 3\\nvalue = [1, 2]'),\n",
       " Text(210.1421127427759, 245.9142857142857, 'gini = 0.0\\nsamples = 1\\nvalue = [1, 0]'),\n",
       " Text(214.37138796778777, 245.9142857142857, 'gini = 0.0\\nsamples = 2\\nvalue = [0, 2]'),\n",
       " Text(222.82993841781143, 271.8, 'age <= 45.5\\ngini = 0.224\\nsamples = 78\\nvalue = [68, 10]'),\n",
       " Text(218.6006631927996, 245.9142857142857, 'bmi <= 32.788\\ngini = 0.071\\nsamples = 27\\nvalue = [26, 1]'),\n",
       " Text(216.48602558029367, 220.02857142857147, 'age <= 40.5\\ngini = 0.5\\nsamples = 2\\nvalue = [1, 1]'),\n",
       " Text(214.37138796778777, 194.14285714285717, 'gini = 0.0\\nsamples = 1\\nvalue = [0, 1]'),\n",
       " Text(218.6006631927996, 194.14285714285717, 'gini = 0.0\\nsamples = 1\\nvalue = [1, 0]'),\n",
       " Text(220.71530080530553, 220.02857142857147, 'gini = 0.0\\nsamples = 25\\nvalue = [25, 0]'),\n",
       " Text(227.0592136428233, 245.9142857142857, 'age <= 46.5\\ngini = 0.291\\nsamples = 51\\nvalue = [42, 9]'),\n",
       " Text(224.94457603031736, 220.02857142857147, 'gini = 0.0\\nsamples = 2\\nvalue = [0, 2]'),\n",
       " Text(229.1738512553292, 220.02857142857147, 'bmi <= 34.88\\ngini = 0.245\\nsamples = 49\\nvalue = [42, 7]'),\n",
       " Text(224.94457603031736, 194.14285714285717, 'age <= 48.5\\ngini = 0.087\\nsamples = 22\\nvalue = [21, 1]'),\n",
       " Text(222.82993841781143, 168.25714285714287, 'bmi <= 33.22\\ngini = 0.375\\nsamples = 4\\nvalue = [3, 1]'),\n",
       " Text(220.71530080530553, 142.37142857142857, 'gini = 0.0\\nsamples = 1\\nvalue = [0, 1]'),\n",
       " Text(224.94457603031736, 142.37142857142857, 'gini = 0.0\\nsamples = 3\\nvalue = [3, 0]'),\n",
       " Text(227.0592136428233, 168.25714285714287, 'gini = 0.0\\nsamples = 18\\nvalue = [18, 0]'),\n",
       " Text(233.40312648034106, 194.14285714285717, 'bmi <= 35.03\\ngini = 0.346\\nsamples = 27\\nvalue = [21, 6]'),\n",
       " Text(231.28848886783513, 168.25714285714287, 'gini = 0.0\\nsamples = 1\\nvalue = [0, 1]'),\n",
       " Text(235.51776409284696, 168.25714285714287, 'children <= 2.5\\ngini = 0.311\\nsamples = 26\\nvalue = [21, 5]'),\n",
       " Text(230.23117006158216, 142.37142857142857, 'age <= 47.5\\ngini = 0.236\\nsamples = 22\\nvalue = [19, 3]'),\n",
       " Text(226.00189483657033, 116.48571428571432, 'bmi <= 36.315\\ngini = 0.5\\nsamples = 2\\nvalue = [1, 1]'),\n",
       " Text(223.8872572240644, 90.60000000000002, 'gini = 0.0\\nsamples = 1\\nvalue = [1, 0]'),\n",
       " Text(228.11653244907626, 90.60000000000002, 'gini = 0.0\\nsamples = 1\\nvalue = [0, 1]'),\n",
       " Text(234.46044528659402, 116.48571428571432, 'bmi <= 36.432\\ngini = 0.18\\nsamples = 20\\nvalue = [18, 2]'),\n",
       " Text(232.3458076740881, 90.60000000000002, 'bmi <= 36.195\\ngini = 0.346\\nsamples = 9\\nvalue = [7, 2]'),\n",
       " Text(230.23117006158216, 64.71428571428572, 'age <= 55.5\\ngini = 0.219\\nsamples = 8\\nvalue = [7, 1]'),\n",
       " Text(228.11653244907626, 38.82857142857142, 'children <= 0.5\\ngini = 0.444\\nsamples = 3\\nvalue = [2, 1]'),\n",
       " Text(226.00189483657033, 12.942857142857179, 'gini = 0.0\\nsamples = 1\\nvalue = [0, 1]'),\n",
       " Text(230.23117006158216, 12.942857142857179, 'gini = 0.0\\nsamples = 2\\nvalue = [2, 0]'),\n",
       " Text(232.3458076740881, 38.82857142857142, 'gini = 0.0\\nsamples = 5\\nvalue = [5, 0]'),\n",
       " Text(234.46044528659402, 64.71428571428572, 'gini = 0.0\\nsamples = 1\\nvalue = [0, 1]'),\n",
       " Text(236.57508289909993, 90.60000000000002, 'gini = 0.0\\nsamples = 11\\nvalue = [11, 0]'),\n",
       " Text(240.8043581241118, 142.37142857142857, 'bmi <= 36.745\\ngini = 0.5\\nsamples = 4\\nvalue = [2, 2]'),\n",
       " Text(238.68972051160586, 116.48571428571432, 'gini = 0.0\\nsamples = 2\\nvalue = [2, 0]'),\n",
       " Text(242.9189957366177, 116.48571428571432, 'gini = 0.0\\nsamples = 2\\nvalue = [0, 2]'),\n",
       " Text(227.0592136428233, 323.57142857142856, 'region <= 2.5\\ngini = 0.408\\nsamples = 7\\nvalue = [5, 2]'),\n",
       " Text(224.94457603031736, 297.6857142857143, 'gini = 0.0\\nsamples = 4\\nvalue = [4, 0]'),\n",
       " Text(229.1738512553292, 297.6857142857143, 'children <= 1.0\\ngini = 0.444\\nsamples = 3\\nvalue = [1, 2]'),\n",
       " Text(227.0592136428233, 271.8, 'gini = 0.0\\nsamples = 1\\nvalue = [1, 0]'),\n",
       " Text(231.28848886783513, 271.8, 'gini = 0.0\\nsamples = 2\\nvalue = [0, 2]'),\n",
       " Text(168.6093083846518, 401.22857142857146, 'gini = 0.0\\nsamples = 2\\nvalue = [0, 2]'),\n",
       " Text(225.7375651350071, 427.11428571428576, 'children <= 1.5\\ngini = 0.08\\nsamples = 48\\nvalue = [46, 2]'),\n",
       " Text(223.62292752250116, 401.22857142857146, 'gini = 0.0\\nsamples = 33\\nvalue = [33, 0]'),\n",
       " Text(227.85220274751302, 401.22857142857146, 'age <= 44.5\\ngini = 0.231\\nsamples = 15\\nvalue = [13, 2]'),\n",
       " Text(225.7375651350071, 375.34285714285716, 'age <= 38.5\\ngini = 0.444\\nsamples = 6\\nvalue = [4, 2]'),\n",
       " Text(223.62292752250116, 349.4571428571429, 'gini = 0.0\\nsamples = 4\\nvalue = [4, 0]'),\n",
       " Text(227.85220274751302, 349.4571428571429, 'gini = 0.0\\nsamples = 2\\nvalue = [0, 2]'),\n",
       " Text(229.96684036001892, 375.34285714285716, 'gini = 0.0\\nsamples = 9\\nvalue = [9, 0]'),\n",
       " Text(232.08147797252485, 453.0, 'region <= 1.0\\ngini = 0.444\\nsamples = 3\\nvalue = [1, 2]'),\n",
       " Text(229.96684036001892, 427.11428571428576, 'gini = 0.0\\nsamples = 1\\nvalue = [1, 0]'),\n",
       " Text(234.19611558503078, 427.11428571428576, 'gini = 0.0\\nsamples = 2\\nvalue = [0, 2]'),\n",
       " Text(431.1547844623401, 504.7714285714286, 'bmi <= 34.153\\ngini = 0.366\\nsamples = 535\\nvalue = [406, 129]'),\n",
       " Text(355.85386072951206, 478.8857142857143, 'bmi <= 28.547\\ngini = 0.335\\nsamples = 380\\nvalue = [299, 81]'),\n",
       " Text(321.259711037423, 453.0, 'bmi <= 27.673\\ngini = 0.37\\nsamples = 188\\nvalue = [142, 46]'),\n",
       " Text(297.04050213169114, 427.11428571428576, 'bmi <= 27.38\\ngini = 0.333\\nsamples = 161\\nvalue = [127, 34]'),\n",
       " Text(294.9258645191852, 401.22857142857146, 'age <= 28.5\\ngini = 0.354\\nsamples = 148\\nvalue = [114, 34]'),\n",
       " Text(268.82330648981525, 375.34285714285716, 'bmi <= 27.282\\ngini = 0.229\\nsamples = 53\\nvalue = [46, 7]'),\n",
       " Text(263.00805305542394, 349.4571428571429, 'bmi <= 17.338\\ngini = 0.18\\nsamples = 50\\nvalue = [45, 5]'),\n",
       " Text(257.7214590241592, 323.57142857142856, 'children <= 1.0\\ngini = 0.5\\nsamples = 2\\nvalue = [1, 1]'),\n",
       " Text(255.60682141165321, 297.6857142857143, 'gini = 0.0\\nsamples = 1\\nvalue = [1, 0]'),\n",
       " Text(259.83609663666505, 297.6857142857143, 'gini = 0.0\\nsamples = 1\\nvalue = [0, 1]'),\n",
       " Text(268.29464708668877, 323.57142857142856, 'children <= 3.5\\ngini = 0.153\\nsamples = 48\\nvalue = [44, 4]'),\n",
       " Text(264.0653718616769, 297.6857142857143, 'region <= 1.5\\ngini = 0.124\\nsamples = 45\\nvalue = [42, 3]'),\n",
       " Text(261.950734249171, 271.8, 'children <= 1.5\\ngini = 0.191\\nsamples = 28\\nvalue = [25, 3]'),\n",
       " Text(259.83609663666505, 245.9142857142857, 'children <= 0.5\\ngini = 0.255\\nsamples = 20\\nvalue = [17, 3]'),\n",
       " Text(255.60682141165321, 220.02857142857147, 'bmi <= 24.32\\ngini = 0.208\\nsamples = 17\\nvalue = [15, 2]'),\n",
       " Text(253.4921837991473, 194.14285714285717, 'bmi <= 23.987\\ngini = 0.32\\nsamples = 10\\nvalue = [8, 2]'),\n",
       " Text(251.37754618664138, 168.25714285714287, 'age <= 18.5\\ngini = 0.198\\nsamples = 9\\nvalue = [8, 1]'),\n",
       " Text(249.26290857413545, 142.37142857142857, 'bmi <= 22.278\\ngini = 0.444\\nsamples = 3\\nvalue = [2, 1]'),\n",
       " Text(247.14827096162955, 116.48571428571432, 'gini = 0.0\\nsamples = 1\\nvalue = [0, 1]'),\n",
       " Text(251.37754618664138, 116.48571428571432, 'gini = 0.0\\nsamples = 2\\nvalue = [2, 0]'),\n",
       " Text(253.4921837991473, 142.37142857142857, 'gini = 0.0\\nsamples = 6\\nvalue = [6, 0]'),\n",
       " Text(255.60682141165321, 168.25714285714287, 'gini = 0.0\\nsamples = 1\\nvalue = [0, 1]'),\n",
       " Text(257.7214590241592, 194.14285714285717, 'gini = 0.0\\nsamples = 7\\nvalue = [7, 0]'),\n",
       " Text(264.0653718616769, 220.02857142857147, 'bmi <= 25.793\\ngini = 0.444\\nsamples = 3\\nvalue = [2, 1]'),\n",
       " Text(261.950734249171, 194.14285714285717, 'gini = 0.0\\nsamples = 2\\nvalue = [2, 0]'),\n",
       " Text(266.18000947418284, 194.14285714285717, 'gini = 0.0\\nsamples = 1\\nvalue = [0, 1]'),\n",
       " Text(264.0653718616769, 245.9142857142857, 'gini = 0.0\\nsamples = 8\\nvalue = [8, 0]'),\n",
       " Text(266.18000947418284, 271.8, 'gini = 0.0\\nsamples = 17\\nvalue = [17, 0]'),\n",
       " Text(272.5239223117006, 297.6857142857143, 'children <= 4.5\\ngini = 0.444\\nsamples = 3\\nvalue = [2, 1]'),\n",
       " Text(270.4092846991947, 271.8, 'gini = 0.0\\nsamples = 1\\nvalue = [0, 1]'),\n",
       " Text(274.6385599242065, 271.8, 'gini = 0.0\\nsamples = 2\\nvalue = [2, 0]'),\n",
       " Text(274.6385599242065, 349.4571428571429, 'age <= 20.5\\ngini = 0.444\\nsamples = 3\\nvalue = [1, 2]'),\n",
       " Text(272.5239223117006, 323.57142857142856, 'gini = 0.0\\nsamples = 2\\nvalue = [0, 2]'),\n",
       " Text(276.75319753671243, 323.57142857142856, 'gini = 0.0\\nsamples = 1\\nvalue = [1, 0]'),\n",
       " Text(321.02842254855517, 375.34285714285716, 'bmi <= 26.658\\ngini = 0.407\\nsamples = 95\\nvalue = [68, 27]'),\n",
       " Text(308.208432022738, 349.4571428571429, 'region <= 1.5\\ngini = 0.383\\nsamples = 89\\nvalue = [66, 23]'),\n",
       " Text(293.14163903363334, 323.57142857142856, 'age <= 33.5\\ngini = 0.265\\nsamples = 51\\nvalue = [43, 8]'),\n",
       " Text(283.0971103742302, 297.6857142857143, 'bmi <= 23.56\\ngini = 0.469\\nsamples = 8\\nvalue = [5, 3]'),\n",
       " Text(278.86783514921837, 271.8, 'children <= 2.5\\ngini = 0.444\\nsamples = 3\\nvalue = [1, 2]'),\n",
       " Text(276.75319753671243, 245.9142857142857, 'gini = 0.0\\nsamples = 2\\nvalue = [0, 2]'),\n",
       " Text(280.9824727617243, 245.9142857142857, 'gini = 0.0\\nsamples = 1\\nvalue = [1, 0]'),\n",
       " Text(287.32638559924203, 271.8, 'age <= 32.0\\ngini = 0.32\\nsamples = 5\\nvalue = [4, 1]'),\n",
       " Text(285.2117479867361, 245.9142857142857, 'gini = 0.0\\nsamples = 3\\nvalue = [3, 0]'),\n",
       " Text(289.44102321174796, 245.9142857142857, 'region <= 0.5\\ngini = 0.5\\nsamples = 2\\nvalue = [1, 1]'),\n",
       " Text(287.32638559924203, 220.02857142857147, 'gini = 0.0\\nsamples = 1\\nvalue = [0, 1]'),\n",
       " Text(291.5556608242539, 220.02857142857147, 'gini = 0.0\\nsamples = 1\\nvalue = [1, 0]'),\n",
       " Text(303.18616769303645, 297.6857142857143, 'age <= 44.5\\ngini = 0.206\\nsamples = 43\\nvalue = [38, 5]'),\n",
       " Text(301.0715300805305, 271.8, 'gini = 0.0\\nsamples = 13\\nvalue = [13, 0]'),\n",
       " Text(305.3008053055424, 271.8, 'children <= 1.5\\ngini = 0.278\\nsamples = 30\\nvalue = [25, 5]'),\n",
       " Text(300.01421127427756, 245.9142857142857, 'age <= 45.5\\ngini = 0.165\\nsamples = 22\\nvalue = [20, 2]'),\n",
       " Text(295.78493604926575, 220.02857142857147, 'bmi <= 22.135\\ngini = 0.5\\nsamples = 2\\nvalue = [1, 1]'),\n",
       " Text(293.6702984367598, 194.14285714285717, 'gini = 0.0\\nsamples = 1\\nvalue = [1, 0]'),\n",
       " Text(297.8995736617716, 194.14285714285717, 'gini = 0.0\\nsamples = 1\\nvalue = [0, 1]'),\n",
       " Text(304.2434864992894, 220.02857142857147, 'bmi <= 20.805\\ngini = 0.095\\nsamples = 20\\nvalue = [19, 1]'),\n",
       " Text(302.1288488867835, 194.14285714285717, 'bmi <= 19.903\\ngini = 0.32\\nsamples = 5\\nvalue = [4, 1]'),\n",
       " Text(300.01421127427756, 168.25714285714287, 'gini = 0.0\\nsamples = 4\\nvalue = [4, 0]'),\n",
       " Text(304.2434864992894, 168.25714285714287, 'gini = 0.0\\nsamples = 1\\nvalue = [0, 1]'),\n",
       " Text(306.35812411179535, 194.14285714285717, 'gini = 0.0\\nsamples = 15\\nvalue = [15, 0]'),\n",
       " Text(310.58739933680715, 245.9142857142857, 'age <= 47.5\\ngini = 0.469\\nsamples = 8\\nvalue = [5, 3]'),\n",
       " Text(308.4727617243013, 220.02857142857147, 'gini = 0.0\\nsamples = 3\\nvalue = [3, 0]'),\n",
       " Text(312.7020369493131, 220.02857142857147, 'children <= 3.5\\ngini = 0.48\\nsamples = 5\\nvalue = [2, 3]'),\n",
       " Text(310.58739933680715, 194.14285714285717, 'bmi <= 25.08\\ngini = 0.375\\nsamples = 4\\nvalue = [1, 3]'),\n",
       " Text(308.4727617243013, 168.25714285714287, 'gini = 0.0\\nsamples = 2\\nvalue = [0, 2]'),\n",
       " Text(312.7020369493131, 168.25714285714287, 'age <= 49.5\\ngini = 0.5\\nsamples = 2\\nvalue = [1, 1]'),\n",
       " Text(310.58739933680715, 142.37142857142857, 'gini = 0.0\\nsamples = 1\\nvalue = [0, 1]'),\n",
       " Text(314.816674561819, 142.37142857142857, 'gini = 0.0\\nsamples = 1\\nvalue = [1, 0]'),\n",
       " Text(314.816674561819, 194.14285714285717, 'gini = 0.0\\nsamples = 1\\nvalue = [1, 0]'),\n",
       " Text(323.2752250118427, 323.57142857142856, 'bmi <= 20.24\\ngini = 0.478\\nsamples = 38\\nvalue = [23, 15]'),\n",
       " Text(321.1605873993368, 297.6857142857143, 'gini = 0.0\\nsamples = 3\\nvalue = [0, 3]'),\n",
       " Text(325.3898626243486, 297.6857142857143, 'bmi <= 23.205\\ngini = 0.451\\nsamples = 35\\nvalue = [23, 12]'),\n",
       " Text(321.1605873993368, 271.8, 'bmi <= 20.955\\ngini = 0.18\\nsamples = 10\\nvalue = [9, 1]'),\n",
       " Text(319.0459497868309, 245.9142857142857, 'bmi <= 20.65\\ngini = 0.444\\nsamples = 3\\nvalue = [2, 1]'),\n",
       " Text(316.93131217432494, 220.02857142857147, 'gini = 0.0\\nsamples = 2\\nvalue = [2, 0]'),\n",
       " Text(321.1605873993368, 220.02857142857147, 'gini = 0.0\\nsamples = 1\\nvalue = [0, 1]'),\n",
       " Text(323.2752250118427, 245.9142857142857, 'gini = 0.0\\nsamples = 7\\nvalue = [7, 0]'),\n",
       " Text(329.61913784936047, 271.8, 'age <= 37.0\\ngini = 0.493\\nsamples = 25\\nvalue = [14, 11]'),\n",
       " Text(327.50450023685454, 245.9142857142857, 'gini = 0.0\\nsamples = 3\\nvalue = [0, 3]'),\n",
       " Text(331.7337754618664, 245.9142857142857, 'bmi <= 26.235\\ngini = 0.463\\nsamples = 22\\nvalue = [14, 8]'),\n",
       " Text(329.61913784936047, 220.02857142857147, 'children <= 4.0\\ngini = 0.494\\nsamples = 18\\nvalue = [10, 8]'),\n",
       " Text(327.50450023685454, 194.14285714285717, 'age <= 55.5\\ngini = 0.5\\nsamples = 16\\nvalue = [8, 8]'),\n",
       " Text(321.1605873993368, 168.25714285714287, 'age <= 41.0\\ngini = 0.463\\nsamples = 11\\nvalue = [4, 7]'),\n",
       " Text(319.0459497868309, 142.37142857142857, 'gini = 0.0\\nsamples = 2\\nvalue = [2, 0]'),\n",
       " Text(323.2752250118427, 142.37142857142857, 'children <= 0.5\\ngini = 0.346\\nsamples = 9\\nvalue = [2, 7]'),\n",
       " Text(321.1605873993368, 116.48571428571432, 'bmi <= 24.75\\ngini = 0.5\\nsamples = 4\\nvalue = [2, 2]'),\n",
       " Text(319.0459497868309, 90.60000000000002, 'gini = 0.0\\nsamples = 2\\nvalue = [0, 2]'),\n",
       " Text(323.2752250118427, 90.60000000000002, 'gini = 0.0\\nsamples = 2\\nvalue = [2, 0]'),\n",
       " Text(325.3898626243486, 116.48571428571432, 'gini = 0.0\\nsamples = 5\\nvalue = [0, 5]'),\n",
       " Text(333.84841307437233, 168.25714285714287, 'region <= 2.5\\ngini = 0.32\\nsamples = 5\\nvalue = [4, 1]'),\n",
       " Text(331.7337754618664, 142.37142857142857, 'age <= 62.0\\ngini = 0.5\\nsamples = 2\\nvalue = [1, 1]'),\n",
       " Text(329.61913784936047, 116.48571428571432, 'gini = 0.0\\nsamples = 1\\nvalue = [1, 0]'),\n",
       " Text(333.84841307437233, 116.48571428571432, 'gini = 0.0\\nsamples = 1\\nvalue = [0, 1]'),\n",
       " Text(335.9630506868782, 142.37142857142857, 'gini = 0.0\\nsamples = 3\\nvalue = [3, 0]'),\n",
       " Text(331.7337754618664, 194.14285714285717, 'gini = 0.0\\nsamples = 2\\nvalue = [2, 0]'),\n",
       " Text(333.84841307437233, 220.02857142857147, 'gini = 0.0\\nsamples = 4\\nvalue = [4, 0]'),\n",
       " Text(333.84841307437233, 349.4571428571429, 'age <= 47.5\\ngini = 0.444\\nsamples = 6\\nvalue = [2, 4]'),\n",
       " Text(331.7337754618664, 323.57142857142856, 'age <= 37.5\\ngini = 0.444\\nsamples = 3\\nvalue = [2, 1]'),\n",
       " Text(329.61913784936047, 297.6857142857143, 'gini = 0.0\\nsamples = 1\\nvalue = [0, 1]'),\n",
       " Text(333.84841307437233, 297.6857142857143, 'gini = 0.0\\nsamples = 2\\nvalue = [2, 0]'),\n",
       " Text(335.9630506868782, 323.57142857142856, 'gini = 0.0\\nsamples = 3\\nvalue = [0, 3]'),\n",
       " Text(299.155139744197, 401.22857142857146, 'gini = 0.0\\nsamples = 13\\nvalue = [13, 0]'),\n",
       " Text(345.4789199431549, 427.11428571428576, 'bmi <= 27.817\\ngini = 0.494\\nsamples = 27\\nvalue = [15, 12]'),\n",
       " Text(343.36428233064896, 401.22857142857146, 'gini = 0.0\\nsamples = 3\\nvalue = [0, 3]'),\n",
       " Text(347.5935575556608, 401.22857142857146, 'age <= 19.5\\ngini = 0.469\\nsamples = 24\\nvalue = [15, 9]'),\n",
       " Text(345.4789199431549, 375.34285714285716, 'gini = 0.0\\nsamples = 3\\nvalue = [3, 0]'),\n",
       " Text(349.7081951681667, 375.34285714285716, 'region <= 2.5\\ngini = 0.49\\nsamples = 21\\nvalue = [12, 9]'),\n",
       " Text(347.5935575556608, 349.4571428571429, 'age <= 36.5\\ngini = 0.48\\nsamples = 20\\nvalue = [12, 8]'),\n",
       " Text(342.306963524396, 323.57142857142856, 'bmi <= 27.983\\ngini = 0.496\\nsamples = 11\\nvalue = [5, 6]'),\n",
       " Text(338.07768829938414, 297.6857142857143, 'age <= 33.0\\ngini = 0.375\\nsamples = 4\\nvalue = [3, 1]'),\n",
       " Text(335.9630506868782, 271.8, 'gini = 0.0\\nsamples = 3\\nvalue = [3, 0]'),\n",
       " Text(340.19232591189007, 271.8, 'gini = 0.0\\nsamples = 1\\nvalue = [0, 1]'),\n",
       " Text(346.53623874940786, 297.6857142857143, 'children <= 1.5\\ngini = 0.408\\nsamples = 7\\nvalue = [2, 5]'),\n",
       " Text(344.4216011369019, 271.8, 'gini = 0.0\\nsamples = 4\\nvalue = [0, 4]'),\n",
       " Text(348.65087636191373, 271.8, 'bmi <= 28.31\\ngini = 0.444\\nsamples = 3\\nvalue = [2, 1]'),\n",
       " Text(346.53623874940786, 245.9142857142857, 'gini = 0.0\\nsamples = 1\\nvalue = [0, 1]'),\n",
       " Text(350.76551397441966, 245.9142857142857, 'gini = 0.0\\nsamples = 2\\nvalue = [2, 0]'),\n",
       " Text(352.8801515869256, 323.57142857142856, 'children <= 2.5\\ngini = 0.346\\nsamples = 9\\nvalue = [7, 2]'),\n",
       " Text(350.76551397441966, 297.6857142857143, 'gini = 0.0\\nsamples = 6\\nvalue = [6, 0]'),\n",
       " Text(354.9947891994315, 297.6857142857143, 'region <= 0.5\\ngini = 0.444\\nsamples = 3\\nvalue = [1, 2]'),\n",
       " Text(352.8801515869256, 271.8, 'gini = 0.0\\nsamples = 1\\nvalue = [1, 0]'),\n",
       " Text(357.10942681193745, 271.8, 'gini = 0.0\\nsamples = 2\\nvalue = [0, 2]'),\n",
       " Text(351.8228327806726, 349.4571428571429, 'gini = 0.0\\nsamples = 1\\nvalue = [0, 1]'),\n",
       " Text(390.4480104216011, 453.0, 'age <= 63.5\\ngini = 0.298\\nsamples = 192\\nvalue = [157, 35]'),\n",
       " Text(388.3333728090952, 427.11428571428576, 'bmi <= 28.915\\ngini = 0.293\\nsamples = 191\\nvalue = [157, 34]'),\n",
       " Text(386.21873519658925, 401.22857142857146, 'gini = 0.0\\nsamples = 14\\nvalue = [14, 0]'),\n",
       " Text(390.4480104216011, 401.22857142857146, 'bmi <= 28.953\\ngini = 0.31\\nsamples = 177\\nvalue = [143, 34]'),\n",
       " Text(388.3333728090952, 375.34285714285716, 'gini = 0.0\\nsamples = 1\\nvalue = [0, 1]'),\n",
       " Text(392.56264803410704, 375.34285714285716, 'region <= 0.5\\ngini = 0.305\\nsamples = 176\\nvalue = [143, 33]'),\n",
       " Text(370.32591189009946, 349.4571428571429, 'age <= 24.5\\ngini = 0.402\\nsamples = 43\\nvalue = [31, 12]'),\n",
       " Text(361.33870203694926, 323.57142857142856, 'age <= 19.0\\ngini = 0.5\\nsamples = 6\\nvalue = [3, 3]'),\n",
       " Text(359.2240644244434, 297.6857142857143, 'gini = 0.0\\nsamples = 1\\nvalue = [1, 0]'),\n",
       " Text(363.4533396494552, 297.6857142857143, 'bmi <= 31.207\\ngini = 0.48\\nsamples = 5\\nvalue = [2, 3]'),\n",
       " Text(361.33870203694926, 271.8, 'gini = 0.0\\nsamples = 2\\nvalue = [0, 2]'),\n",
       " Text(365.5679772619611, 271.8, 'bmi <= 32.68\\ngini = 0.444\\nsamples = 3\\nvalue = [2, 1]'),\n",
       " Text(363.4533396494552, 245.9142857142857, 'age <= 22.5\\ngini = 0.5\\nsamples = 2\\nvalue = [1, 1]'),\n",
       " Text(361.33870203694926, 220.02857142857147, 'gini = 0.0\\nsamples = 1\\nvalue = [1, 0]'),\n",
       " Text(365.5679772619611, 220.02857142857147, 'gini = 0.0\\nsamples = 1\\nvalue = [0, 1]'),\n",
       " Text(367.68261487446705, 245.9142857142857, 'gini = 0.0\\nsamples = 1\\nvalue = [1, 0]'),\n",
       " Text(379.3131217432496, 323.57142857142856, 'age <= 31.5\\ngini = 0.368\\nsamples = 37\\nvalue = [28, 9]'),\n",
       " Text(377.1984841307437, 297.6857142857143, 'gini = 0.0\\nsamples = 6\\nvalue = [6, 0]'),\n",
       " Text(381.42775935575554, 297.6857142857143, 'age <= 42.5\\ngini = 0.412\\nsamples = 31\\nvalue = [22, 9]'),\n",
       " Text(374.0265277119848, 271.8, 'bmi <= 29.877\\ngini = 0.49\\nsamples = 7\\nvalue = [3, 4]'),\n",
       " Text(371.9118900994789, 245.9142857142857, 'gini = 0.0\\nsamples = 2\\nvalue = [2, 0]'),\n",
       " Text(376.1411653244907, 245.9142857142857, 'bmi <= 33.868\\ngini = 0.32\\nsamples = 5\\nvalue = [1, 4]'),\n",
       " Text(374.0265277119848, 220.02857142857147, 'gini = 0.0\\nsamples = 4\\nvalue = [0, 4]'),\n",
       " Text(378.25580293699664, 220.02857142857147, 'gini = 0.0\\nsamples = 1\\nvalue = [1, 0]'),\n",
       " Text(388.82899099952624, 271.8, 'bmi <= 32.062\\ngini = 0.33\\nsamples = 24\\nvalue = [19, 5]'),\n",
       " Text(384.59971577451444, 245.9142857142857, 'bmi <= 31.635\\ngini = 0.426\\nsamples = 13\\nvalue = [9, 4]'),\n",
       " Text(382.4850781620085, 220.02857142857147, 'age <= 56.0\\ngini = 0.298\\nsamples = 11\\nvalue = [9, 2]'),\n",
       " Text(380.3704405495026, 194.14285714285717, 'gini = 0.0\\nsamples = 6\\nvalue = [6, 0]'),\n",
       " Text(384.59971577451444, 194.14285714285717, 'age <= 59.5\\ngini = 0.48\\nsamples = 5\\nvalue = [3, 2]'),\n",
       " Text(382.4850781620085, 168.25714285714287, 'bmi <= 30.068\\ngini = 0.444\\nsamples = 3\\nvalue = [1, 2]'),\n",
       " Text(380.3704405495026, 142.37142857142857, 'gini = 0.0\\nsamples = 2\\nvalue = [0, 2]'),\n",
       " Text(384.59971577451444, 142.37142857142857, 'gini = 0.0\\nsamples = 1\\nvalue = [1, 0]'),\n",
       " Text(386.7143533870203, 168.25714285714287, 'gini = 0.0\\nsamples = 2\\nvalue = [2, 0]'),\n",
       " Text(386.7143533870203, 220.02857142857147, 'gini = 0.0\\nsamples = 2\\nvalue = [0, 2]'),\n",
       " Text(393.0582662245381, 245.9142857142857, 'age <= 50.5\\ngini = 0.165\\nsamples = 11\\nvalue = [10, 1]'),\n",
       " Text(390.94362861203217, 220.02857142857147, 'bmi <= 32.205\\ngini = 0.444\\nsamples = 3\\nvalue = [2, 1]'),\n",
       " Text(388.82899099952624, 194.14285714285717, 'gini = 0.0\\nsamples = 1\\nvalue = [1, 0]'),\n",
       " Text(393.0582662245381, 194.14285714285717, 'bmi <= 32.87\\ngini = 0.5\\nsamples = 2\\nvalue = [1, 1]'),\n",
       " Text(390.94362861203217, 168.25714285714287, 'gini = 0.0\\nsamples = 1\\nvalue = [0, 1]'),\n",
       " Text(395.17290383704403, 168.25714285714287, 'gini = 0.0\\nsamples = 1\\nvalue = [1, 0]'),\n",
       " Text(395.17290383704403, 220.02857142857147, 'gini = 0.0\\nsamples = 8\\nvalue = [8, 0]'),\n",
       " Text(414.7993841781146, 349.4571428571429, 'region <= 1.5\\ngini = 0.266\\nsamples = 133\\nvalue = [112, 21]'),\n",
       " Text(405.7460918995736, 323.57142857142856, 'age <= 55.5\\ngini = 0.124\\nsamples = 45\\nvalue = [42, 3]'),\n",
       " Text(401.51681667456177, 297.6857142857143, 'age <= 19.5\\ngini = 0.051\\nsamples = 38\\nvalue = [37, 1]'),\n",
       " Text(399.4021790620559, 271.8, 'bmi <= 31.255\\ngini = 0.444\\nsamples = 3\\nvalue = [2, 1]'),\n",
       " Text(397.28754144954996, 245.9142857142857, 'gini = 0.0\\nsamples = 2\\nvalue = [2, 0]'),\n",
       " Text(401.51681667456177, 245.9142857142857, 'gini = 0.0\\nsamples = 1\\nvalue = [0, 1]'),\n",
       " Text(403.6314542870677, 271.8, 'gini = 0.0\\nsamples = 35\\nvalue = [35, 0]'),\n",
       " Text(409.9753671245855, 297.6857142857143, 'children <= 2.0\\ngini = 0.408\\nsamples = 7\\nvalue = [5, 2]'),\n",
       " Text(407.86072951207956, 271.8, 'age <= 56.5\\ngini = 0.278\\nsamples = 6\\nvalue = [5, 1]'),\n",
       " Text(405.7460918995736, 245.9142857142857, 'bmi <= 33.677\\ngini = 0.5\\nsamples = 2\\nvalue = [1, 1]'),\n",
       " Text(403.6314542870677, 220.02857142857147, 'gini = 0.0\\nsamples = 1\\nvalue = [0, 1]'),\n",
       " Text(407.86072951207956, 220.02857142857147, 'gini = 0.0\\nsamples = 1\\nvalue = [1, 0]'),\n",
       " Text(409.9753671245855, 245.9142857142857, 'gini = 0.0\\nsamples = 4\\nvalue = [4, 0]'),\n",
       " Text(412.0900047370914, 271.8, 'gini = 0.0\\nsamples = 1\\nvalue = [0, 1]'),\n",
       " Text(423.85267645665556, 323.57142857142856, 'age <= 23.5\\ngini = 0.325\\nsamples = 88\\nvalue = [70, 18]'),\n",
       " Text(418.43391757460915, 297.6857142857143, 'bmi <= 30.325\\ngini = 0.117\\nsamples = 16\\nvalue = [15, 1]'),\n",
       " Text(416.3192799621032, 271.8, 'age <= 18.5\\ngini = 0.444\\nsamples = 3\\nvalue = [2, 1]'),\n",
       " Text(414.2046423495973, 245.9142857142857, 'gini = 0.0\\nsamples = 2\\nvalue = [2, 0]'),\n",
       " Text(418.43391757460915, 245.9142857142857, 'gini = 0.0\\nsamples = 1\\nvalue = [0, 1]'),\n",
       " Text(420.5485551871151, 271.8, 'gini = 0.0\\nsamples = 13\\nvalue = [13, 0]'),\n",
       " Text(429.271435338702, 297.6857142857143, 'age <= 25.5\\ngini = 0.361\\nsamples = 72\\nvalue = [55, 17]'),\n",
       " Text(427.1567977261961, 271.8, 'gini = 0.0\\nsamples = 3\\nvalue = [0, 3]'),\n",
       " Text(431.38607295120795, 271.8, 'age <= 31.5\\ngini = 0.323\\nsamples = 69\\nvalue = [55, 14]'),\n",
       " Text(422.663192799621, 245.9142857142857, 'children <= 2.5\\ngini = 0.473\\nsamples = 13\\nvalue = [8, 5]'),\n",
       " Text(420.5485551871151, 220.02857142857147, 'bmi <= 33.28\\ngini = 0.5\\nsamples = 10\\nvalue = [5, 5]'),\n",
       " Text(418.43391757460915, 194.14285714285717, 'children <= 0.5\\ngini = 0.494\\nsamples = 9\\nvalue = [4, 5]'),\n",
       " Text(414.2046423495973, 168.25714285714287, 'bmi <= 32.175\\ngini = 0.375\\nsamples = 4\\nvalue = [1, 3]'),\n",
       " Text(412.0900047370914, 142.37142857142857, 'gini = 0.0\\nsamples = 3\\nvalue = [0, 3]'),\n",
       " Text(416.3192799621032, 142.37142857142857, 'gini = 0.0\\nsamples = 1\\nvalue = [1, 0]'),\n",
       " Text(422.663192799621, 168.25714285714287, 'bmi <= 30.565\\ngini = 0.48\\nsamples = 5\\nvalue = [3, 2]'),\n",
       " Text(420.5485551871151, 142.37142857142857, 'gini = 0.0\\nsamples = 2\\nvalue = [2, 0]'),\n",
       " Text(424.77783041212695, 142.37142857142857, 'age <= 28.5\\ngini = 0.444\\nsamples = 3\\nvalue = [1, 2]'),\n",
       " Text(422.663192799621, 116.48571428571432, 'gini = 0.0\\nsamples = 2\\nvalue = [0, 2]'),\n",
       " Text(426.8924680246328, 116.48571428571432, 'gini = 0.0\\nsamples = 1\\nvalue = [1, 0]'),\n",
       " Text(422.663192799621, 194.14285714285717, 'gini = 0.0\\nsamples = 1\\nvalue = [1, 0]'),\n",
       " Text(424.77783041212695, 220.02857142857147, 'gini = 0.0\\nsamples = 3\\nvalue = [3, 0]'),\n",
       " Text(440.1089531027948, 245.9142857142857, 'region <= 2.5\\ngini = 0.27\\nsamples = 56\\nvalue = [47, 9]'),\n",
       " Text(431.1217432496447, 220.02857142857147, 'bmi <= 31.9\\ngini = 0.147\\nsamples = 25\\nvalue = [23, 2]'),\n",
       " Text(429.00710563713875, 194.14285714285717, 'bmi <= 30.745\\ngini = 0.26\\nsamples = 13\\nvalue = [11, 2]'),\n",
       " Text(426.8924680246328, 168.25714285714287, 'gini = 0.0\\nsamples = 8\\nvalue = [8, 0]'),\n",
       " Text(431.1217432496447, 168.25714285714287, 'age <= 57.5\\ngini = 0.48\\nsamples = 5\\nvalue = [3, 2]'),\n",
       " Text(429.00710563713875, 142.37142857142857, 'gini = 0.0\\nsamples = 2\\nvalue = [0, 2]'),\n",
       " Text(433.2363808621506, 142.37142857142857, 'gini = 0.0\\nsamples = 3\\nvalue = [3, 0]'),\n",
       " Text(433.2363808621506, 194.14285714285717, 'gini = 0.0\\nsamples = 12\\nvalue = [12, 0]'),\n",
       " Text(449.09616295594503, 220.02857142857147, 'bmi <= 33.25\\ngini = 0.35\\nsamples = 31\\nvalue = [24, 7]'),\n",
       " Text(443.8095689246802, 194.14285714285717, 'children <= 0.5\\ngini = 0.293\\nsamples = 28\\nvalue = [23, 5]'),\n",
       " Text(439.58029369966835, 168.25714285714287, 'age <= 35.0\\ngini = 0.42\\nsamples = 10\\nvalue = [7, 3]'),\n",
       " Text(437.4656560871625, 142.37142857142857, 'gini = 0.0\\nsamples = 1\\nvalue = [0, 1]'),\n",
       " Text(441.6949313121743, 142.37142857142857, 'bmi <= 29.95\\ngini = 0.346\\nsamples = 9\\nvalue = [7, 2]'),\n",
       " Text(439.58029369966835, 116.48571428571432, 'gini = 0.0\\nsamples = 3\\nvalue = [3, 0]'),\n",
       " Text(443.8095689246802, 116.48571428571432, 'bmi <= 30.15\\ngini = 0.444\\nsamples = 6\\nvalue = [4, 2]'),\n",
       " Text(441.6949313121743, 90.60000000000002, 'gini = 0.0\\nsamples = 1\\nvalue = [0, 1]'),\n",
       " Text(445.92420653718614, 90.60000000000002, 'bmi <= 32.2\\ngini = 0.32\\nsamples = 5\\nvalue = [4, 1]'),\n",
       " Text(443.8095689246802, 64.71428571428572, 'gini = 0.0\\nsamples = 3\\nvalue = [3, 0]'),\n",
       " Text(448.03884414969207, 64.71428571428572, 'age <= 61.5\\ngini = 0.5\\nsamples = 2\\nvalue = [1, 1]'),\n",
       " Text(445.92420653718614, 38.82857142857142, 'gini = 0.0\\nsamples = 1\\nvalue = [0, 1]'),\n",
       " Text(450.153481762198, 38.82857142857142, 'gini = 0.0\\nsamples = 1\\nvalue = [1, 0]'),\n",
       " Text(448.03884414969207, 168.25714285714287, 'age <= 43.5\\ngini = 0.198\\nsamples = 18\\nvalue = [16, 2]'),\n",
       " Text(445.92420653718614, 142.37142857142857, 'gini = 0.0\\nsamples = 11\\nvalue = [11, 0]'),\n",
       " Text(450.153481762198, 142.37142857142857, 'children <= 1.5\\ngini = 0.408\\nsamples = 7\\nvalue = [5, 2]'),\n",
       " Text(448.03884414969207, 116.48571428571432, 'gini = 0.0\\nsamples = 4\\nvalue = [4, 0]'),\n",
       " Text(452.2681193747039, 116.48571428571432, 'age <= 47.5\\ngini = 0.444\\nsamples = 3\\nvalue = [1, 2]'),\n",
       " Text(450.153481762198, 90.60000000000002, 'gini = 0.0\\nsamples = 2\\nvalue = [0, 2]'),\n",
       " Text(454.3827569872098, 90.60000000000002, 'gini = 0.0\\nsamples = 1\\nvalue = [1, 0]'),\n",
       " Text(454.3827569872098, 194.14285714285717, 'children <= 1.0\\ngini = 0.444\\nsamples = 3\\nvalue = [1, 2]'),\n",
       " Text(452.2681193747039, 168.25714285714287, 'gini = 0.0\\nsamples = 1\\nvalue = [1, 0]'),\n",
       " Text(456.49739459971573, 168.25714285714287, 'gini = 0.0\\nsamples = 2\\nvalue = [0, 2]'),\n",
       " Text(392.56264803410704, 427.11428571428576, 'gini = 0.0\\nsamples = 1\\nvalue = [0, 1]'),\n",
       " Text(506.45570819516814, 478.8857142857143, 'bmi <= 37.085\\ngini = 0.428\\nsamples = 155\\nvalue = [107, 48]'),\n",
       " Text(484.5163429654192, 453.0, 'age <= 62.0\\ngini = 0.478\\nsamples = 71\\nvalue = [43, 28]'),\n",
       " Text(482.40170535291327, 427.11428571428576, 'age <= 47.5\\ngini = 0.47\\nsamples = 69\\nvalue = [43, 26]'),\n",
       " Text(470.2425390810042, 401.22857142857146, 'bmi <= 35.468\\ngini = 0.496\\nsamples = 46\\nvalue = [25, 21]'),\n",
       " Text(464.9559450497394, 375.34285714285716, 'bmi <= 34.355\\ngini = 0.435\\nsamples = 25\\nvalue = [17, 8]'),\n",
       " Text(462.8413074372335, 349.4571428571429, 'gini = 0.0\\nsamples = 4\\nvalue = [4, 0]'),\n",
       " Text(467.07058266224533, 349.4571428571429, 'bmi <= 35.305\\ngini = 0.472\\nsamples = 21\\nvalue = [13, 8]'),\n",
       " Text(464.9559450497394, 323.57142857142856, 'age <= 38.5\\ngini = 0.498\\nsamples = 17\\nvalue = [9, 8]'),\n",
       " Text(462.8413074372335, 297.6857142857143, 'bmi <= 34.395\\ngini = 0.48\\nsamples = 15\\nvalue = [9, 6]'),\n",
       " Text(460.7266698247276, 271.8, 'gini = 0.0\\nsamples = 1\\nvalue = [0, 1]'),\n",
       " Text(464.9559450497394, 271.8, 'children <= 1.5\\ngini = 0.459\\nsamples = 14\\nvalue = [9, 5]'),\n",
       " Text(462.8413074372335, 245.9142857142857, 'age <= 35.0\\ngini = 0.5\\nsamples = 10\\nvalue = [5, 5]'),\n",
       " Text(460.7266698247276, 220.02857142857147, 'region <= 2.5\\ngini = 0.469\\nsamples = 8\\nvalue = [5, 3]'),\n",
       " Text(458.61203221222166, 194.14285714285717, 'gini = 0.0\\nsamples = 2\\nvalue = [2, 0]'),\n",
       " Text(462.8413074372335, 194.14285714285717, 'bmi <= 35.05\\ngini = 0.5\\nsamples = 6\\nvalue = [3, 3]'),\n",
       " Text(460.7266698247276, 168.25714285714287, 'bmi <= 34.6\\ngini = 0.48\\nsamples = 5\\nvalue = [2, 3]'),\n",
       " Text(458.61203221222166, 142.37142857142857, 'age <= 26.0\\ngini = 0.444\\nsamples = 3\\nvalue = [2, 1]'),\n",
       " Text(456.49739459971573, 116.48571428571432, 'gini = 0.0\\nsamples = 2\\nvalue = [2, 0]'),\n",
       " Text(460.7266698247276, 116.48571428571432, 'gini = 0.0\\nsamples = 1\\nvalue = [0, 1]'),\n",
       " Text(462.8413074372335, 142.37142857142857, 'gini = 0.0\\nsamples = 2\\nvalue = [0, 2]'),\n",
       " Text(464.9559450497394, 168.25714285714287, 'gini = 0.0\\nsamples = 1\\nvalue = [1, 0]'),\n",
       " Text(464.9559450497394, 220.02857142857147, 'gini = 0.0\\nsamples = 2\\nvalue = [0, 2]'),\n",
       " Text(467.07058266224533, 245.9142857142857, 'gini = 0.0\\nsamples = 4\\nvalue = [4, 0]'),\n",
       " Text(467.07058266224533, 297.6857142857143, 'gini = 0.0\\nsamples = 2\\nvalue = [0, 2]'),\n",
       " Text(469.18522027475126, 323.57142857142856, 'gini = 0.0\\nsamples = 4\\nvalue = [4, 0]'),\n",
       " Text(475.52913311226905, 375.34285714285716, 'age <= 19.5\\ngini = 0.472\\nsamples = 21\\nvalue = [8, 13]'),\n",
       " Text(473.4144954997631, 349.4571428571429, 'gini = 0.0\\nsamples = 1\\nvalue = [1, 0]'),\n",
       " Text(477.6437707247749, 349.4571428571429, 'age <= 32.0\\ngini = 0.455\\nsamples = 20\\nvalue = [7, 13]'),\n",
       " Text(473.4144954997631, 323.57142857142856, 'children <= 0.5\\ngini = 0.245\\nsamples = 7\\nvalue = [1, 6]'),\n",
       " Text(471.2998578872572, 297.6857142857143, 'age <= 25.5\\ngini = 0.5\\nsamples = 2\\nvalue = [1, 1]'),\n",
       " Text(469.18522027475126, 271.8, 'gini = 0.0\\nsamples = 1\\nvalue = [1, 0]'),\n",
       " Text(473.4144954997631, 271.8, 'gini = 0.0\\nsamples = 1\\nvalue = [0, 1]'),\n",
       " Text(475.52913311226905, 297.6857142857143, 'gini = 0.0\\nsamples = 5\\nvalue = [0, 5]'),\n",
       " Text(481.8730459497868, 323.57142857142856, 'region <= 2.5\\ngini = 0.497\\nsamples = 13\\nvalue = [6, 7]'),\n",
       " Text(479.75840833728085, 297.6857142857143, 'age <= 42.0\\ngini = 0.463\\nsamples = 11\\nvalue = [4, 7]'),\n",
       " Text(477.6437707247749, 271.8, 'children <= 1.5\\ngini = 0.5\\nsamples = 8\\nvalue = [4, 4]'),\n",
       " Text(475.52913311226905, 245.9142857142857, 'children <= 0.5\\ngini = 0.444\\nsamples = 6\\nvalue = [2, 4]'),\n",
       " Text(473.4144954997631, 220.02857142857147, 'gini = 0.0\\nsamples = 1\\nvalue = [1, 0]'),\n",
       " Text(477.6437707247749, 220.02857142857147, 'age <= 37.5\\ngini = 0.32\\nsamples = 5\\nvalue = [1, 4]'),\n",
       " Text(475.52913311226905, 194.14285714285717, 'gini = 0.0\\nsamples = 3\\nvalue = [0, 3]'),\n",
       " Text(479.75840833728085, 194.14285714285717, 'region <= 1.0\\ngini = 0.5\\nsamples = 2\\nvalue = [1, 1]'),\n",
       " Text(477.6437707247749, 168.25714285714287, 'gini = 0.0\\nsamples = 1\\nvalue = [1, 0]'),\n",
       " Text(481.8730459497868, 168.25714285714287, 'gini = 0.0\\nsamples = 1\\nvalue = [0, 1]'),\n",
       " Text(479.75840833728085, 245.9142857142857, 'gini = 0.0\\nsamples = 2\\nvalue = [2, 0]'),\n",
       " Text(481.8730459497868, 271.8, 'gini = 0.0\\nsamples = 3\\nvalue = [0, 3]'),\n",
       " Text(483.9876835622927, 297.6857142857143, 'gini = 0.0\\nsamples = 2\\nvalue = [2, 0]'),\n",
       " Text(494.5608716248223, 401.22857142857146, 'bmi <= 34.255\\ngini = 0.34\\nsamples = 23\\nvalue = [18, 5]'),\n",
       " Text(492.4462340123164, 375.34285714285716, 'gini = 0.0\\nsamples = 2\\nvalue = [0, 2]'),\n",
       " Text(496.67550923732824, 375.34285714285716, 'age <= 57.0\\ngini = 0.245\\nsamples = 21\\nvalue = [18, 3]'),\n",
       " Text(492.4462340123164, 349.4571428571429, 'bmi <= 34.865\\ngini = 0.124\\nsamples = 15\\nvalue = [14, 1]'),\n",
       " Text(490.33159639981045, 323.57142857142856, 'region <= 2.0\\ngini = 0.5\\nsamples = 2\\nvalue = [1, 1]'),\n",
       " Text(488.2169587873046, 297.6857142857143, 'gini = 0.0\\nsamples = 1\\nvalue = [0, 1]'),\n",
       " Text(492.4462340123164, 297.6857142857143, 'gini = 0.0\\nsamples = 1\\nvalue = [1, 0]'),\n",
       " Text(494.5608716248223, 323.57142857142856, 'gini = 0.0\\nsamples = 13\\nvalue = [13, 0]'),\n",
       " Text(500.9047844623401, 349.4571428571429, 'bmi <= 36.2\\ngini = 0.444\\nsamples = 6\\nvalue = [4, 2]'),\n",
       " Text(498.7901468498342, 323.57142857142856, 'gini = 0.0\\nsamples = 4\\nvalue = [4, 0]'),\n",
       " Text(503.019422074846, 323.57142857142856, 'gini = 0.0\\nsamples = 2\\nvalue = [0, 2]'),\n",
       " Text(486.63098057792513, 427.11428571428576, 'gini = 0.0\\nsamples = 2\\nvalue = [0, 2]'),\n",
       " Text(528.3950734249171, 453.0, 'age <= 27.5\\ngini = 0.363\\nsamples = 84\\nvalue = [64, 20]'),\n",
       " Text(513.5926101373756, 427.11428571428576, 'region <= 1.0\\ngini = 0.494\\nsamples = 18\\nvalue = [10, 8]'),\n",
       " Text(511.4779725248697, 401.22857142857146, 'gini = 0.0\\nsamples = 2\\nvalue = [2, 0]'),\n",
       " Text(515.7072477498815, 401.22857142857146, 'bmi <= 45.72\\ngini = 0.5\\nsamples = 16\\nvalue = [8, 8]'),\n",
       " Text(511.4779725248697, 375.34285714285716, 'age <= 23.5\\ngini = 0.463\\nsamples = 11\\nvalue = [4, 7]'),\n",
       " Text(509.36333491236377, 349.4571428571429, 'age <= 22.5\\ngini = 0.5\\nsamples = 8\\nvalue = [4, 4]'),\n",
       " Text(507.24869729985784, 323.57142857142856, 'bmi <= 39.45\\ngini = 0.444\\nsamples = 6\\nvalue = [2, 4]'),\n",
       " Text(505.1340596873519, 297.6857142857143, 'gini = 0.0\\nsamples = 3\\nvalue = [0, 3]'),\n",
       " Text(509.36333491236377, 297.6857142857143, 'bmi <= 43.945\\ngini = 0.444\\nsamples = 3\\nvalue = [2, 1]'),\n",
       " Text(507.24869729985784, 271.8, 'gini = 0.0\\nsamples = 2\\nvalue = [2, 0]'),\n",
       " Text(511.4779725248697, 271.8, 'gini = 0.0\\nsamples = 1\\nvalue = [0, 1]'),\n",
       " Text(511.4779725248697, 323.57142857142856, 'gini = 0.0\\nsamples = 2\\nvalue = [2, 0]'),\n",
       " Text(513.5926101373756, 349.4571428571429, 'gini = 0.0\\nsamples = 3\\nvalue = [0, 3]'),\n",
       " Text(519.9365229748934, 375.34285714285716, 'age <= 22.5\\ngini = 0.32\\nsamples = 5\\nvalue = [4, 1]'),\n",
       " Text(517.8218853623874, 349.4571428571429, 'age <= 20.0\\ngini = 0.5\\nsamples = 2\\nvalue = [1, 1]'),\n",
       " Text(515.7072477498815, 323.57142857142856, 'gini = 0.0\\nsamples = 1\\nvalue = [1, 0]'),\n",
       " Text(519.9365229748934, 323.57142857142856, 'gini = 0.0\\nsamples = 1\\nvalue = [0, 1]'),\n",
       " Text(522.0511605873993, 349.4571428571429, 'gini = 0.0\\nsamples = 3\\nvalue = [3, 0]'),\n",
       " Text(543.1975367124585, 427.11428571428576, 'bmi <= 40.522\\ngini = 0.298\\nsamples = 66\\nvalue = [54, 12]'),\n",
       " Text(532.624348649929, 401.22857142857146, 'age <= 43.5\\ngini = 0.169\\nsamples = 43\\nvalue = [39, 4]'),\n",
       " Text(528.3950734249171, 375.34285714285716, 'age <= 42.5\\ngini = 0.32\\nsamples = 15\\nvalue = [12, 3]'),\n",
       " Text(526.2804358124112, 349.4571428571429, 'children <= 1.5\\ngini = 0.245\\nsamples = 14\\nvalue = [12, 2]'),\n",
       " Text(524.1657981999052, 323.57142857142856, 'gini = 0.0\\nsamples = 7\\nvalue = [7, 0]'),\n",
       " Text(528.3950734249171, 323.57142857142856, 'region <= 2.5\\ngini = 0.408\\nsamples = 7\\nvalue = [5, 2]'),\n",
       " Text(526.2804358124112, 297.6857142857143, 'age <= 36.5\\ngini = 0.278\\nsamples = 6\\nvalue = [5, 1]'),\n",
       " Text(524.1657981999052, 271.8, 'gini = 0.0\\nsamples = 4\\nvalue = [4, 0]'),\n",
       " Text(528.3950734249171, 271.8, 'age <= 40.0\\ngini = 0.5\\nsamples = 2\\nvalue = [1, 1]'),\n",
       " Text(526.2804358124112, 245.9142857142857, 'gini = 0.0\\nsamples = 1\\nvalue = [0, 1]'),\n",
       " Text(530.509711037423, 245.9142857142857, 'gini = 0.0\\nsamples = 1\\nvalue = [1, 0]'),\n",
       " Text(530.509711037423, 297.6857142857143, 'gini = 0.0\\nsamples = 1\\nvalue = [0, 1]'),\n",
       " Text(530.509711037423, 349.4571428571429, 'gini = 0.0\\nsamples = 1\\nvalue = [0, 1]'),\n",
       " Text(536.8536238749407, 375.34285714285716, 'bmi <= 39.853\\ngini = 0.069\\nsamples = 28\\nvalue = [27, 1]'),\n",
       " Text(534.7389862624349, 349.4571428571429, 'gini = 0.0\\nsamples = 21\\nvalue = [21, 0]'),\n",
       " Text(538.9682614874466, 349.4571428571429, 'bmi <= 39.915\\ngini = 0.245\\nsamples = 7\\nvalue = [6, 1]'),\n",
       " Text(536.8536238749407, 323.57142857142856, 'gini = 0.0\\nsamples = 1\\nvalue = [0, 1]'),\n",
       " Text(541.0828990999526, 323.57142857142856, 'gini = 0.0\\nsamples = 6\\nvalue = [6, 0]'),\n",
       " Text(553.7707247749881, 401.22857142857146, 'bmi <= 42.375\\ngini = 0.454\\nsamples = 23\\nvalue = [15, 8]'),\n",
       " Text(551.6560871624822, 375.34285714285716, 'age <= 61.5\\ngini = 0.473\\nsamples = 13\\nvalue = [5, 8]'),\n",
       " Text(549.5414495499763, 349.4571428571429, 'children <= 0.5\\ngini = 0.397\\nsamples = 11\\nvalue = [3, 8]'),\n",
       " Text(545.3121743249644, 323.57142857142856, 'bmi <= 40.932\\ngini = 0.444\\nsamples = 3\\nvalue = [2, 1]'),\n",
       " Text(543.1975367124585, 297.6857142857143, 'gini = 0.0\\nsamples = 1\\nvalue = [0, 1]'),\n",
       " Text(547.4268119374703, 297.6857142857143, 'gini = 0.0\\nsamples = 2\\nvalue = [2, 0]'),\n",
       " Text(553.7707247749881, 323.57142857142856, 'age <= 35.0\\ngini = 0.219\\nsamples = 8\\nvalue = [1, 7]'),\n",
       " Text(551.6560871624822, 297.6857142857143, 'gini = 0.0\\nsamples = 1\\nvalue = [1, 0]'),\n",
       " Text(555.8853623874941, 297.6857142857143, 'gini = 0.0\\nsamples = 7\\nvalue = [0, 7]'),\n",
       " Text(553.7707247749881, 349.4571428571429, 'gini = 0.0\\nsamples = 2\\nvalue = [2, 0]'),\n",
       " Text(555.8853623874941, 375.34285714285716, 'gini = 0.0\\nsamples = 10\\nvalue = [10, 0]')]"
      ]
     },
     "execution_count": 82,
     "metadata": {},
     "output_type": "execute_result"
    },
    {
     "data": {
      "image/png": "[encoded data removed]",
      "text/plain": [
       "<Figure size 720x720 with 1 Axes>"
      ]
     },
     "metadata": {
      "needs_background": "light"
     },
     "output_type": "display_data"
    }
   ],
   "source": [
    "from sklearn import tree\n",
    "\n",
    "plt.figure(figsize=(10,10))\n",
    "tree.plot_tree(dtc,filled=True, rounded=True, feature_names=x.columns)"
   ]
  },
  {
   "cell_type": "code",
   "execution_count": 83,
   "id": "82d622ca",
   "metadata": {},
   "outputs": [
    {
     "name": "stdout",
     "output_type": "stream",
     "text": [
      "|--- feature_2 <= 0.50\n",
      "|   |--- feature_3 <= 28.54\n",
      "|   |   |--- feature_1 <= 63.50\n",
      "|   |   |   |--- feature_3 <= 28.28\n",
      "|   |   |   |   |--- feature_3 <= 18.32\n",
      "|   |   |   |   |   |--- feature_4 <= 1.50\n",
      "|   |   |   |   |   |   |--- class: 0\n",
      "|   |   |   |   |   |--- feature_4 >  1.50\n",
      "|   |   |   |   |   |   |--- class: 1\n",
      "|   |   |   |   |--- feature_3 >  18.32\n",
      "|   |   |   |   |   |--- feature_0 <= 2.50\n",
      "|   |   |   |   |   |   |--- feature_1 <= 61.50\n",
      "|   |   |   |   |   |   |   |--- feature_1 <= 52.50\n",
      "|   |   |   |   |   |   |   |   |--- feature_1 <= 36.50\n",
      "|   |   |   |   |   |   |   |   |   |--- feature_3 <= 21.87\n",
      "|   |   |   |   |   |   |   |   |   |   |--- feature_0 <= 0.50\n",
      "|   |   |   |   |   |   |   |   |   |   |   |--- truncated branch of depth 3\n",
      "|   |   |   |   |   |   |   |   |   |   |--- feature_0 >  0.50\n",
      "|   |   |   |   |   |   |   |   |   |   |   |--- truncated branch of depth 3\n",
      "|   |   |   |   |   |   |   |   |   |--- feature_3 >  21.87\n",
      "|   |   |   |   |   |   |   |   |   |   |--- feature_4 <= 2.50\n",
      "|   |   |   |   |   |   |   |   |   |   |   |--- truncated branch of depth 5\n",
      "|   |   |   |   |   |   |   |   |   |   |--- feature_4 >  2.50\n",
      "|   |   |   |   |   |   |   |   |   |   |   |--- truncated branch of depth 4\n",
      "|   |   |   |   |   |   |   |   |--- feature_1 >  36.50\n",
      "|   |   |   |   |   |   |   |   |   |--- feature_3 <= 26.98\n",
      "|   |   |   |   |   |   |   |   |   |   |--- feature_3 <= 23.32\n",
      "|   |   |   |   |   |   |   |   |   |   |   |--- truncated branch of depth 3\n",
      "|   |   |   |   |   |   |   |   |   |   |--- feature_3 >  23.32\n",
      "|   |   |   |   |   |   |   |   |   |   |   |--- truncated branch of depth 8\n",
      "|   |   |   |   |   |   |   |   |   |--- feature_3 >  26.98\n",
      "|   |   |   |   |   |   |   |   |   |   |--- feature_1 <= 47.50\n",
      "|   |   |   |   |   |   |   |   |   |   |   |--- truncated branch of depth 3\n",
      "|   |   |   |   |   |   |   |   |   |   |--- feature_1 >  47.50\n",
      "|   |   |   |   |   |   |   |   |   |   |   |--- class: 0\n",
      "|   |   |   |   |   |   |   |--- feature_1 >  52.50\n",
      "|   |   |   |   |   |   |   |   |--- feature_3 <= 23.70\n",
      "|   |   |   |   |   |   |   |   |   |--- feature_3 <= 23.42\n",
      "|   |   |   |   |   |   |   |   |   |   |--- class: 0\n",
      "|   |   |   |   |   |   |   |   |   |--- feature_3 >  23.42\n",
      "|   |   |   |   |   |   |   |   |   |   |--- class: 1\n",
      "|   |   |   |   |   |   |   |   |--- feature_3 >  23.70\n",
      "|   |   |   |   |   |   |   |   |   |--- class: 0\n",
      "|   |   |   |   |   |   |--- feature_1 >  61.50\n",
      "|   |   |   |   |   |   |   |--- feature_3 <= 26.26\n",
      "|   |   |   |   |   |   |   |   |--- class: 0\n",
      "|   |   |   |   |   |   |   |--- feature_3 >  26.26\n",
      "|   |   |   |   |   |   |   |   |--- class: 1\n",
      "|   |   |   |   |   |--- feature_0 >  2.50\n",
      "|   |   |   |   |   |   |--- feature_1 <= 20.50\n",
      "|   |   |   |   |   |   |   |--- feature_1 <= 19.50\n",
      "|   |   |   |   |   |   |   |   |--- feature_3 <= 26.30\n",
      "|   |   |   |   |   |   |   |   |   |--- class: 0\n",
      "|   |   |   |   |   |   |   |   |--- feature_3 >  26.30\n",
      "|   |   |   |   |   |   |   |   |   |--- class: 1\n",
      "|   |   |   |   |   |   |   |--- feature_1 >  19.50\n",
      "|   |   |   |   |   |   |   |   |--- class: 1\n",
      "|   |   |   |   |   |   |--- feature_1 >  20.50\n",
      "|   |   |   |   |   |   |   |--- feature_4 <= 1.50\n",
      "|   |   |   |   |   |   |   |   |--- feature_3 <= 27.55\n",
      "|   |   |   |   |   |   |   |   |   |--- class: 0\n",
      "|   |   |   |   |   |   |   |   |--- feature_3 >  27.55\n",
      "|   |   |   |   |   |   |   |   |   |--- feature_4 <= 0.50\n",
      "|   |   |   |   |   |   |   |   |   |   |--- class: 0\n",
      "|   |   |   |   |   |   |   |   |   |--- feature_4 >  0.50\n",
      "|   |   |   |   |   |   |   |   |   |   |--- class: 1\n",
      "|   |   |   |   |   |   |   |--- feature_4 >  1.50\n",
      "|   |   |   |   |   |   |   |   |--- feature_3 <= 22.80\n",
      "|   |   |   |   |   |   |   |   |   |--- class: 1\n",
      "|   |   |   |   |   |   |   |   |--- feature_3 >  22.80\n",
      "|   |   |   |   |   |   |   |   |   |--- feature_1 <= 40.50\n",
      "|   |   |   |   |   |   |   |   |   |   |--- class: 0\n",
      "|   |   |   |   |   |   |   |   |   |--- feature_1 >  40.50\n",
      "|   |   |   |   |   |   |   |   |   |   |--- feature_1 <= 44.00\n",
      "|   |   |   |   |   |   |   |   |   |   |   |--- class: 1\n",
      "|   |   |   |   |   |   |   |   |   |   |--- feature_1 >  44.00\n",
      "|   |   |   |   |   |   |   |   |   |   |   |--- class: 0\n",
      "|   |   |   |--- feature_3 >  28.28\n",
      "|   |   |   |   |--- feature_1 <= 35.50\n",
      "|   |   |   |   |   |--- feature_3 <= 28.39\n",
      "|   |   |   |   |   |   |--- class: 1\n",
      "|   |   |   |   |   |--- feature_3 >  28.39\n",
      "|   |   |   |   |   |   |--- feature_3 <= 28.45\n",
      "|   |   |   |   |   |   |   |--- class: 0\n",
      "|   |   |   |   |   |   |--- feature_3 >  28.45\n",
      "|   |   |   |   |   |   |   |--- class: 1\n",
      "|   |   |   |   |--- feature_1 >  35.50\n",
      "|   |   |   |   |   |--- class: 0\n",
      "|   |   |--- feature_1 >  63.50\n",
      "|   |   |   |--- class: 1\n",
      "|   |--- feature_3 >  28.54\n",
      "|   |   |--- feature_3 <= 47.08\n",
      "|   |   |   |--- feature_3 <= 39.07\n",
      "|   |   |   |   |--- feature_3 <= 38.93\n",
      "|   |   |   |   |   |--- feature_3 <= 29.97\n",
      "|   |   |   |   |   |   |--- feature_1 <= 19.50\n",
      "|   |   |   |   |   |   |   |--- feature_0 <= 2.00\n",
      "|   |   |   |   |   |   |   |   |--- class: 1\n",
      "|   |   |   |   |   |   |   |--- feature_0 >  2.00\n",
      "|   |   |   |   |   |   |   |   |--- class: 0\n",
      "|   |   |   |   |   |   |--- feature_1 >  19.50\n",
      "|   |   |   |   |   |   |   |--- feature_1 <= 60.50\n",
      "|   |   |   |   |   |   |   |   |--- class: 0\n",
      "|   |   |   |   |   |   |   |--- feature_1 >  60.50\n",
      "|   |   |   |   |   |   |   |   |--- feature_3 <= 29.49\n",
      "|   |   |   |   |   |   |   |   |   |--- class: 1\n",
      "|   |   |   |   |   |   |   |   |--- feature_3 >  29.49\n",
      "|   |   |   |   |   |   |   |   |   |--- class: 0\n",
      "|   |   |   |   |   |--- feature_3 >  29.97\n",
      "|   |   |   |   |   |   |--- feature_1 <= 37.50\n",
      "|   |   |   |   |   |   |   |--- feature_1 <= 32.50\n",
      "|   |   |   |   |   |   |   |   |--- feature_3 <= 30.06\n",
      "|   |   |   |   |   |   |   |   |   |--- class: 1\n",
      "|   |   |   |   |   |   |   |   |--- feature_3 >  30.06\n",
      "|   |   |   |   |   |   |   |   |   |--- feature_1 <= 21.50\n",
      "|   |   |   |   |   |   |   |   |   |   |--- feature_3 <= 32.31\n",
      "|   |   |   |   |   |   |   |   |   |   |   |--- class: 0\n",
      "|   |   |   |   |   |   |   |   |   |   |--- feature_3 >  32.31\n",
      "|   |   |   |   |   |   |   |   |   |   |   |--- truncated branch of depth 4\n",
      "|   |   |   |   |   |   |   |   |   |--- feature_1 >  21.50\n",
      "|   |   |   |   |   |   |   |   |   |   |--- feature_1 <= 23.50\n",
      "|   |   |   |   |   |   |   |   |   |   |   |--- truncated branch of depth 3\n",
      "|   |   |   |   |   |   |   |   |   |   |--- feature_1 >  23.50\n",
      "|   |   |   |   |   |   |   |   |   |   |   |--- truncated branch of depth 6\n",
      "|   |   |   |   |   |   |   |--- feature_1 >  32.50\n",
      "|   |   |   |   |   |   |   |   |--- feature_3 <= 35.67\n",
      "|   |   |   |   |   |   |   |   |   |--- feature_0 <= 0.50\n",
      "|   |   |   |   |   |   |   |   |   |   |--- class: 1\n",
      "|   |   |   |   |   |   |   |   |   |--- feature_0 >  0.50\n",
      "|   |   |   |   |   |   |   |   |   |   |--- feature_3 <= 34.45\n",
      "|   |   |   |   |   |   |   |   |   |   |   |--- truncated branch of depth 5\n",
      "|   |   |   |   |   |   |   |   |   |   |--- feature_3 >  34.45\n",
      "|   |   |   |   |   |   |   |   |   |   |   |--- class: 1\n",
      "|   |   |   |   |   |   |   |   |--- feature_3 >  35.67\n",
      "|   |   |   |   |   |   |   |   |   |--- class: 0\n",
      "|   |   |   |   |   |   |--- feature_1 >  37.50\n",
      "|   |   |   |   |   |   |   |--- feature_1 <= 62.50\n",
      "|   |   |   |   |   |   |   |   |--- feature_3 <= 32.42\n",
      "|   |   |   |   |   |   |   |   |   |--- feature_3 <= 30.50\n",
      "|   |   |   |   |   |   |   |   |   |   |--- feature_1 <= 45.50\n",
      "|   |   |   |   |   |   |   |   |   |   |   |--- truncated branch of depth 2\n",
      "|   |   |   |   |   |   |   |   |   |   |--- feature_1 >  45.50\n",
      "|   |   |   |   |   |   |   |   |   |   |   |--- class: 0\n",
      "|   |   |   |   |   |   |   |   |   |--- feature_3 >  30.50\n",
      "|   |   |   |   |   |   |   |   |   |   |--- class: 0\n",
      "|   |   |   |   |   |   |   |   |--- feature_3 >  32.42\n",
      "|   |   |   |   |   |   |   |   |   |--- feature_3 <= 32.58\n",
      "|   |   |   |   |   |   |   |   |   |   |--- feature_1 <= 41.00\n",
      "|   |   |   |   |   |   |   |   |   |   |   |--- class: 0\n",
      "|   |   |   |   |   |   |   |   |   |   |--- feature_1 >  41.00\n",
      "|   |   |   |   |   |   |   |   |   |   |   |--- class: 1\n",
      "|   |   |   |   |   |   |   |   |   |--- feature_3 >  32.58\n",
      "|   |   |   |   |   |   |   |   |   |   |--- feature_1 <= 45.50\n",
      "|   |   |   |   |   |   |   |   |   |   |   |--- truncated branch of depth 3\n",
      "|   |   |   |   |   |   |   |   |   |   |--- feature_1 >  45.50\n",
      "|   |   |   |   |   |   |   |   |   |   |   |--- truncated branch of depth 10\n",
      "|   |   |   |   |   |   |   |--- feature_1 >  62.50\n",
      "|   |   |   |   |   |   |   |   |--- feature_0 <= 2.50\n",
      "|   |   |   |   |   |   |   |   |   |--- class: 0\n",
      "|   |   |   |   |   |   |   |   |--- feature_0 >  2.50\n",
      "|   |   |   |   |   |   |   |   |   |--- feature_4 <= 1.00\n",
      "|   |   |   |   |   |   |   |   |   |   |--- class: 0\n",
      "|   |   |   |   |   |   |   |   |   |--- feature_4 >  1.00\n",
      "|   |   |   |   |   |   |   |   |   |   |--- class: 1\n",
      "|   |   |   |   |--- feature_3 >  38.93\n",
      "|   |   |   |   |   |--- class: 1\n",
      "|   |   |   |--- feature_3 >  39.07\n",
      "|   |   |   |   |--- feature_4 <= 1.50\n",
      "|   |   |   |   |   |--- class: 0\n",
      "|   |   |   |   |--- feature_4 >  1.50\n",
      "|   |   |   |   |   |--- feature_1 <= 44.50\n",
      "|   |   |   |   |   |   |--- feature_1 <= 38.50\n",
      "|   |   |   |   |   |   |   |--- class: 0\n",
      "|   |   |   |   |   |   |--- feature_1 >  38.50\n",
      "|   |   |   |   |   |   |   |--- class: 1\n",
      "|   |   |   |   |   |--- feature_1 >  44.50\n",
      "|   |   |   |   |   |   |--- class: 0\n",
      "|   |   |--- feature_3 >  47.08\n",
      "|   |   |   |--- feature_0 <= 1.00\n",
      "|   |   |   |   |--- class: 0\n",
      "|   |   |   |--- feature_0 >  1.00\n",
      "|   |   |   |   |--- class: 1\n",
      "|--- feature_2 >  0.50\n",
      "|   |--- feature_3 <= 34.15\n",
      "|   |   |--- feature_3 <= 28.55\n",
      "|   |   |   |--- feature_3 <= 27.67\n",
      "|   |   |   |   |--- feature_3 <= 27.38\n",
      "|   |   |   |   |   |--- feature_1 <= 28.50\n",
      "|   |   |   |   |   |   |--- feature_3 <= 27.28\n",
      "|   |   |   |   |   |   |   |--- feature_3 <= 17.34\n",
      "|   |   |   |   |   |   |   |   |--- feature_4 <= 1.00\n",
      "|   |   |   |   |   |   |   |   |   |--- class: 0\n",
      "|   |   |   |   |   |   |   |   |--- feature_4 >  1.00\n",
      "|   |   |   |   |   |   |   |   |   |--- class: 1\n",
      "|   |   |   |   |   |   |   |--- feature_3 >  17.34\n",
      "|   |   |   |   |   |   |   |   |--- feature_4 <= 3.50\n",
      "|   |   |   |   |   |   |   |   |   |--- feature_0 <= 1.50\n",
      "|   |   |   |   |   |   |   |   |   |   |--- feature_4 <= 1.50\n",
      "|   |   |   |   |   |   |   |   |   |   |   |--- truncated branch of depth 6\n",
      "|   |   |   |   |   |   |   |   |   |   |--- feature_4 >  1.50\n",
      "|   |   |   |   |   |   |   |   |   |   |   |--- class: 0\n",
      "|   |   |   |   |   |   |   |   |   |--- feature_0 >  1.50\n",
      "|   |   |   |   |   |   |   |   |   |   |--- class: 0\n",
      "|   |   |   |   |   |   |   |   |--- feature_4 >  3.50\n",
      "|   |   |   |   |   |   |   |   |   |--- feature_4 <= 4.50\n",
      "|   |   |   |   |   |   |   |   |   |   |--- class: 1\n",
      "|   |   |   |   |   |   |   |   |   |--- feature_4 >  4.50\n",
      "|   |   |   |   |   |   |   |   |   |   |--- class: 0\n",
      "|   |   |   |   |   |   |--- feature_3 >  27.28\n",
      "|   |   |   |   |   |   |   |--- feature_1 <= 20.50\n",
      "|   |   |   |   |   |   |   |   |--- class: 1\n",
      "|   |   |   |   |   |   |   |--- feature_1 >  20.50\n",
      "|   |   |   |   |   |   |   |   |--- class: 0\n",
      "|   |   |   |   |   |--- feature_1 >  28.50\n",
      "|   |   |   |   |   |   |--- feature_3 <= 26.66\n",
      "|   |   |   |   |   |   |   |--- feature_0 <= 1.50\n",
      "|   |   |   |   |   |   |   |   |--- feature_1 <= 33.50\n",
      "|   |   |   |   |   |   |   |   |   |--- feature_3 <= 23.56\n",
      "|   |   |   |   |   |   |   |   |   |   |--- feature_4 <= 2.50\n",
      "|   |   |   |   |   |   |   |   |   |   |   |--- class: 1\n",
      "|   |   |   |   |   |   |   |   |   |   |--- feature_4 >  2.50\n",
      "|   |   |   |   |   |   |   |   |   |   |   |--- class: 0\n",
      "|   |   |   |   |   |   |   |   |   |--- feature_3 >  23.56\n",
      "|   |   |   |   |   |   |   |   |   |   |--- feature_1 <= 32.00\n",
      "|   |   |   |   |   |   |   |   |   |   |   |--- class: 0\n",
      "|   |   |   |   |   |   |   |   |   |   |--- feature_1 >  32.00\n",
      "|   |   |   |   |   |   |   |   |   |   |   |--- truncated branch of depth 2\n",
      "|   |   |   |   |   |   |   |   |--- feature_1 >  33.50\n",
      "|   |   |   |   |   |   |   |   |   |--- feature_1 <= 44.50\n",
      "|   |   |   |   |   |   |   |   |   |   |--- class: 0\n",
      "|   |   |   |   |   |   |   |   |   |--- feature_1 >  44.50\n",
      "|   |   |   |   |   |   |   |   |   |   |--- feature_4 <= 1.50\n",
      "|   |   |   |   |   |   |   |   |   |   |   |--- truncated branch of depth 4\n",
      "|   |   |   |   |   |   |   |   |   |   |--- feature_4 >  1.50\n",
      "|   |   |   |   |   |   |   |   |   |   |   |--- truncated branch of depth 5\n",
      "|   |   |   |   |   |   |   |--- feature_0 >  1.50\n",
      "|   |   |   |   |   |   |   |   |--- feature_3 <= 20.24\n",
      "|   |   |   |   |   |   |   |   |   |--- class: 1\n",
      "|   |   |   |   |   |   |   |   |--- feature_3 >  20.24\n",
      "|   |   |   |   |   |   |   |   |   |--- feature_3 <= 23.20\n",
      "|   |   |   |   |   |   |   |   |   |   |--- feature_3 <= 20.95\n",
      "|   |   |   |   |   |   |   |   |   |   |   |--- truncated branch of depth 2\n",
      "|   |   |   |   |   |   |   |   |   |   |--- feature_3 >  20.95\n",
      "|   |   |   |   |   |   |   |   |   |   |   |--- class: 0\n",
      "|   |   |   |   |   |   |   |   |   |--- feature_3 >  23.20\n",
      "|   |   |   |   |   |   |   |   |   |   |--- feature_1 <= 37.00\n",
      "|   |   |   |   |   |   |   |   |   |   |   |--- class: 1\n",
      "|   |   |   |   |   |   |   |   |   |   |--- feature_1 >  37.00\n",
      "|   |   |   |   |   |   |   |   |   |   |   |--- truncated branch of depth 7\n",
      "|   |   |   |   |   |   |--- feature_3 >  26.66\n",
      "|   |   |   |   |   |   |   |--- feature_1 <= 47.50\n",
      "|   |   |   |   |   |   |   |   |--- feature_1 <= 37.50\n",
      "|   |   |   |   |   |   |   |   |   |--- class: 1\n",
      "|   |   |   |   |   |   |   |   |--- feature_1 >  37.50\n",
      "|   |   |   |   |   |   |   |   |   |--- class: 0\n",
      "|   |   |   |   |   |   |   |--- feature_1 >  47.50\n",
      "|   |   |   |   |   |   |   |   |--- class: 1\n",
      "|   |   |   |   |--- feature_3 >  27.38\n",
      "|   |   |   |   |   |--- class: 0\n",
      "|   |   |   |--- feature_3 >  27.67\n",
      "|   |   |   |   |--- feature_3 <= 27.82\n",
      "|   |   |   |   |   |--- class: 1\n",
      "|   |   |   |   |--- feature_3 >  27.82\n",
      "|   |   |   |   |   |--- feature_1 <= 19.50\n",
      "|   |   |   |   |   |   |--- class: 0\n",
      "|   |   |   |   |   |--- feature_1 >  19.50\n",
      "|   |   |   |   |   |   |--- feature_0 <= 2.50\n",
      "|   |   |   |   |   |   |   |--- feature_1 <= 36.50\n",
      "|   |   |   |   |   |   |   |   |--- feature_3 <= 27.98\n",
      "|   |   |   |   |   |   |   |   |   |--- feature_1 <= 33.00\n",
      "|   |   |   |   |   |   |   |   |   |   |--- class: 0\n",
      "|   |   |   |   |   |   |   |   |   |--- feature_1 >  33.00\n",
      "|   |   |   |   |   |   |   |   |   |   |--- class: 1\n",
      "|   |   |   |   |   |   |   |   |--- feature_3 >  27.98\n",
      "|   |   |   |   |   |   |   |   |   |--- feature_4 <= 1.50\n",
      "|   |   |   |   |   |   |   |   |   |   |--- class: 1\n",
      "|   |   |   |   |   |   |   |   |   |--- feature_4 >  1.50\n",
      "|   |   |   |   |   |   |   |   |   |   |--- feature_3 <= 28.31\n",
      "|   |   |   |   |   |   |   |   |   |   |   |--- class: 1\n",
      "|   |   |   |   |   |   |   |   |   |   |--- feature_3 >  28.31\n",
      "|   |   |   |   |   |   |   |   |   |   |   |--- class: 0\n",
      "|   |   |   |   |   |   |   |--- feature_1 >  36.50\n",
      "|   |   |   |   |   |   |   |   |--- feature_4 <= 2.50\n",
      "|   |   |   |   |   |   |   |   |   |--- class: 0\n",
      "|   |   |   |   |   |   |   |   |--- feature_4 >  2.50\n",
      "|   |   |   |   |   |   |   |   |   |--- feature_0 <= 0.50\n",
      "|   |   |   |   |   |   |   |   |   |   |--- class: 0\n",
      "|   |   |   |   |   |   |   |   |   |--- feature_0 >  0.50\n",
      "|   |   |   |   |   |   |   |   |   |   |--- class: 1\n",
      "|   |   |   |   |   |   |--- feature_0 >  2.50\n",
      "|   |   |   |   |   |   |   |--- class: 1\n",
      "|   |   |--- feature_3 >  28.55\n",
      "|   |   |   |--- feature_1 <= 63.50\n",
      "|   |   |   |   |--- feature_3 <= 28.91\n",
      "|   |   |   |   |   |--- class: 0\n",
      "|   |   |   |   |--- feature_3 >  28.91\n",
      "|   |   |   |   |   |--- feature_3 <= 28.95\n",
      "|   |   |   |   |   |   |--- class: 1\n",
      "|   |   |   |   |   |--- feature_3 >  28.95\n",
      "|   |   |   |   |   |   |--- feature_0 <= 0.50\n",
      "|   |   |   |   |   |   |   |--- feature_1 <= 24.50\n",
      "|   |   |   |   |   |   |   |   |--- feature_1 <= 19.00\n",
      "|   |   |   |   |   |   |   |   |   |--- class: 0\n",
      "|   |   |   |   |   |   |   |   |--- feature_1 >  19.00\n",
      "|   |   |   |   |   |   |   |   |   |--- feature_3 <= 31.21\n",
      "|   |   |   |   |   |   |   |   |   |   |--- class: 1\n",
      "|   |   |   |   |   |   |   |   |   |--- feature_3 >  31.21\n",
      "|   |   |   |   |   |   |   |   |   |   |--- feature_3 <= 32.68\n",
      "|   |   |   |   |   |   |   |   |   |   |   |--- truncated branch of depth 2\n",
      "|   |   |   |   |   |   |   |   |   |   |--- feature_3 >  32.68\n",
      "|   |   |   |   |   |   |   |   |   |   |   |--- class: 0\n",
      "|   |   |   |   |   |   |   |--- feature_1 >  24.50\n",
      "|   |   |   |   |   |   |   |   |--- feature_1 <= 31.50\n",
      "|   |   |   |   |   |   |   |   |   |--- class: 0\n",
      "|   |   |   |   |   |   |   |   |--- feature_1 >  31.50\n",
      "|   |   |   |   |   |   |   |   |   |--- feature_1 <= 42.50\n",
      "|   |   |   |   |   |   |   |   |   |   |--- feature_3 <= 29.88\n",
      "|   |   |   |   |   |   |   |   |   |   |   |--- class: 0\n",
      "|   |   |   |   |   |   |   |   |   |   |--- feature_3 >  29.88\n",
      "|   |   |   |   |   |   |   |   |   |   |   |--- truncated branch of depth 2\n",
      "|   |   |   |   |   |   |   |   |   |--- feature_1 >  42.50\n",
      "|   |   |   |   |   |   |   |   |   |   |--- feature_3 <= 32.06\n",
      "|   |   |   |   |   |   |   |   |   |   |   |--- truncated branch of depth 5\n",
      "|   |   |   |   |   |   |   |   |   |   |--- feature_3 >  32.06\n",
      "|   |   |   |   |   |   |   |   |   |   |   |--- truncated branch of depth 4\n",
      "|   |   |   |   |   |   |--- feature_0 >  0.50\n",
      "|   |   |   |   |   |   |   |--- feature_0 <= 1.50\n",
      "|   |   |   |   |   |   |   |   |--- feature_1 <= 55.50\n",
      "|   |   |   |   |   |   |   |   |   |--- feature_1 <= 19.50\n",
      "|   |   |   |   |   |   |   |   |   |   |--- feature_3 <= 31.26\n",
      "|   |   |   |   |   |   |   |   |   |   |   |--- class: 0\n",
      "|   |   |   |   |   |   |   |   |   |   |--- feature_3 >  31.26\n",
      "|   |   |   |   |   |   |   |   |   |   |   |--- class: 1\n",
      "|   |   |   |   |   |   |   |   |   |--- feature_1 >  19.50\n",
      "|   |   |   |   |   |   |   |   |   |   |--- class: 0\n",
      "|   |   |   |   |   |   |   |   |--- feature_1 >  55.50\n",
      "|   |   |   |   |   |   |   |   |   |--- feature_4 <= 2.00\n",
      "|   |   |   |   |   |   |   |   |   |   |--- feature_1 <= 56.50\n",
      "|   |   |   |   |   |   |   |   |   |   |   |--- truncated branch of depth 2\n",
      "|   |   |   |   |   |   |   |   |   |   |--- feature_1 >  56.50\n",
      "|   |   |   |   |   |   |   |   |   |   |   |--- class: 0\n",
      "|   |   |   |   |   |   |   |   |   |--- feature_4 >  2.00\n",
      "|   |   |   |   |   |   |   |   |   |   |--- class: 1\n",
      "|   |   |   |   |   |   |   |--- feature_0 >  1.50\n",
      "|   |   |   |   |   |   |   |   |--- feature_1 <= 23.50\n",
      "|   |   |   |   |   |   |   |   |   |--- feature_3 <= 30.32\n",
      "|   |   |   |   |   |   |   |   |   |   |--- feature_1 <= 18.50\n",
      "|   |   |   |   |   |   |   |   |   |   |   |--- class: 0\n",
      "|   |   |   |   |   |   |   |   |   |   |--- feature_1 >  18.50\n",
      "|   |   |   |   |   |   |   |   |   |   |   |--- class: 1\n",
      "|   |   |   |   |   |   |   |   |   |--- feature_3 >  30.32\n",
      "|   |   |   |   |   |   |   |   |   |   |--- class: 0\n",
      "|   |   |   |   |   |   |   |   |--- feature_1 >  23.50\n",
      "|   |   |   |   |   |   |   |   |   |--- feature_1 <= 25.50\n",
      "|   |   |   |   |   |   |   |   |   |   |--- class: 1\n",
      "|   |   |   |   |   |   |   |   |   |--- feature_1 >  25.50\n",
      "|   |   |   |   |   |   |   |   |   |   |--- feature_1 <= 31.50\n",
      "|   |   |   |   |   |   |   |   |   |   |   |--- truncated branch of depth 6\n",
      "|   |   |   |   |   |   |   |   |   |   |--- feature_1 >  31.50\n",
      "|   |   |   |   |   |   |   |   |   |   |   |--- truncated branch of depth 9\n",
      "|   |   |   |--- feature_1 >  63.50\n",
      "|   |   |   |   |--- class: 1\n",
      "|   |--- feature_3 >  34.15\n",
      "|   |   |--- feature_3 <= 37.08\n",
      "|   |   |   |--- feature_1 <= 62.00\n",
      "|   |   |   |   |--- feature_1 <= 47.50\n",
      "|   |   |   |   |   |--- feature_3 <= 35.47\n",
      "|   |   |   |   |   |   |--- feature_3 <= 34.35\n",
      "|   |   |   |   |   |   |   |--- class: 0\n",
      "|   |   |   |   |   |   |--- feature_3 >  34.35\n",
      "|   |   |   |   |   |   |   |--- feature_3 <= 35.31\n",
      "|   |   |   |   |   |   |   |   |--- feature_1 <= 38.50\n",
      "|   |   |   |   |   |   |   |   |   |--- feature_3 <= 34.40\n",
      "|   |   |   |   |   |   |   |   |   |   |--- class: 1\n",
      "|   |   |   |   |   |   |   |   |   |--- feature_3 >  34.40\n",
      "|   |   |   |   |   |   |   |   |   |   |--- feature_4 <= 1.50\n",
      "|   |   |   |   |   |   |   |   |   |   |   |--- truncated branch of depth 6\n",
      "|   |   |   |   |   |   |   |   |   |   |--- feature_4 >  1.50\n",
      "|   |   |   |   |   |   |   |   |   |   |   |--- class: 0\n",
      "|   |   |   |   |   |   |   |   |--- feature_1 >  38.50\n",
      "|   |   |   |   |   |   |   |   |   |--- class: 1\n",
      "|   |   |   |   |   |   |   |--- feature_3 >  35.31\n",
      "|   |   |   |   |   |   |   |   |--- class: 0\n",
      "|   |   |   |   |   |--- feature_3 >  35.47\n",
      "|   |   |   |   |   |   |--- feature_1 <= 19.50\n",
      "|   |   |   |   |   |   |   |--- class: 0\n",
      "|   |   |   |   |   |   |--- feature_1 >  19.50\n",
      "|   |   |   |   |   |   |   |--- feature_1 <= 32.00\n",
      "|   |   |   |   |   |   |   |   |--- feature_4 <= 0.50\n",
      "|   |   |   |   |   |   |   |   |   |--- feature_1 <= 25.50\n",
      "|   |   |   |   |   |   |   |   |   |   |--- class: 0\n",
      "|   |   |   |   |   |   |   |   |   |--- feature_1 >  25.50\n",
      "|   |   |   |   |   |   |   |   |   |   |--- class: 1\n",
      "|   |   |   |   |   |   |   |   |--- feature_4 >  0.50\n",
      "|   |   |   |   |   |   |   |   |   |--- class: 1\n",
      "|   |   |   |   |   |   |   |--- feature_1 >  32.00\n",
      "|   |   |   |   |   |   |   |   |--- feature_0 <= 2.50\n",
      "|   |   |   |   |   |   |   |   |   |--- feature_1 <= 42.00\n",
      "|   |   |   |   |   |   |   |   |   |   |--- feature_4 <= 1.50\n",
      "|   |   |   |   |   |   |   |   |   |   |   |--- truncated branch of depth 4\n",
      "|   |   |   |   |   |   |   |   |   |   |--- feature_4 >  1.50\n",
      "|   |   |   |   |   |   |   |   |   |   |   |--- class: 0\n",
      "|   |   |   |   |   |   |   |   |   |--- feature_1 >  42.00\n",
      "|   |   |   |   |   |   |   |   |   |   |--- class: 1\n",
      "|   |   |   |   |   |   |   |   |--- feature_0 >  2.50\n",
      "|   |   |   |   |   |   |   |   |   |--- class: 0\n",
      "|   |   |   |   |--- feature_1 >  47.50\n",
      "|   |   |   |   |   |--- feature_3 <= 34.25\n",
      "|   |   |   |   |   |   |--- class: 1\n",
      "|   |   |   |   |   |--- feature_3 >  34.25\n",
      "|   |   |   |   |   |   |--- feature_1 <= 57.00\n",
      "|   |   |   |   |   |   |   |--- feature_3 <= 34.86\n",
      "|   |   |   |   |   |   |   |   |--- feature_0 <= 2.00\n",
      "|   |   |   |   |   |   |   |   |   |--- class: 1\n",
      "|   |   |   |   |   |   |   |   |--- feature_0 >  2.00\n",
      "|   |   |   |   |   |   |   |   |   |--- class: 0\n",
      "|   |   |   |   |   |   |   |--- feature_3 >  34.86\n",
      "|   |   |   |   |   |   |   |   |--- class: 0\n",
      "|   |   |   |   |   |   |--- feature_1 >  57.00\n",
      "|   |   |   |   |   |   |   |--- feature_3 <= 36.20\n",
      "|   |   |   |   |   |   |   |   |--- class: 0\n",
      "|   |   |   |   |   |   |   |--- feature_3 >  36.20\n",
      "|   |   |   |   |   |   |   |   |--- class: 1\n",
      "|   |   |   |--- feature_1 >  62.00\n",
      "|   |   |   |   |--- class: 1\n",
      "|   |   |--- feature_3 >  37.08\n",
      "|   |   |   |--- feature_1 <= 27.50\n",
      "|   |   |   |   |--- feature_0 <= 1.00\n",
      "|   |   |   |   |   |--- class: 0\n",
      "|   |   |   |   |--- feature_0 >  1.00\n",
      "|   |   |   |   |   |--- feature_3 <= 45.72\n",
      "|   |   |   |   |   |   |--- feature_1 <= 23.50\n",
      "|   |   |   |   |   |   |   |--- feature_1 <= 22.50\n",
      "|   |   |   |   |   |   |   |   |--- feature_3 <= 39.45\n",
      "|   |   |   |   |   |   |   |   |   |--- class: 1\n",
      "|   |   |   |   |   |   |   |   |--- feature_3 >  39.45\n",
      "|   |   |   |   |   |   |   |   |   |--- feature_3 <= 43.94\n",
      "|   |   |   |   |   |   |   |   |   |   |--- class: 0\n",
      "|   |   |   |   |   |   |   |   |   |--- feature_3 >  43.94\n",
      "|   |   |   |   |   |   |   |   |   |   |--- class: 1\n",
      "|   |   |   |   |   |   |   |--- feature_1 >  22.50\n",
      "|   |   |   |   |   |   |   |   |--- class: 0\n",
      "|   |   |   |   |   |   |--- feature_1 >  23.50\n",
      "|   |   |   |   |   |   |   |--- class: 1\n",
      "|   |   |   |   |   |--- feature_3 >  45.72\n",
      "|   |   |   |   |   |   |--- feature_1 <= 22.50\n",
      "|   |   |   |   |   |   |   |--- feature_1 <= 20.00\n",
      "|   |   |   |   |   |   |   |   |--- class: 0\n",
      "|   |   |   |   |   |   |   |--- feature_1 >  20.00\n",
      "|   |   |   |   |   |   |   |   |--- class: 1\n",
      "|   |   |   |   |   |   |--- feature_1 >  22.50\n",
      "|   |   |   |   |   |   |   |--- class: 0\n",
      "|   |   |   |--- feature_1 >  27.50\n",
      "|   |   |   |   |--- feature_3 <= 40.52\n",
      "|   |   |   |   |   |--- feature_1 <= 43.50\n",
      "|   |   |   |   |   |   |--- feature_1 <= 42.50\n",
      "|   |   |   |   |   |   |   |--- feature_4 <= 1.50\n",
      "|   |   |   |   |   |   |   |   |--- class: 0\n",
      "|   |   |   |   |   |   |   |--- feature_4 >  1.50\n",
      "|   |   |   |   |   |   |   |   |--- feature_0 <= 2.50\n",
      "|   |   |   |   |   |   |   |   |   |--- feature_1 <= 36.50\n",
      "|   |   |   |   |   |   |   |   |   |   |--- class: 0\n",
      "|   |   |   |   |   |   |   |   |   |--- feature_1 >  36.50\n",
      "|   |   |   |   |   |   |   |   |   |   |--- feature_1 <= 40.00\n",
      "|   |   |   |   |   |   |   |   |   |   |   |--- class: 1\n",
      "|   |   |   |   |   |   |   |   |   |   |--- feature_1 >  40.00\n",
      "|   |   |   |   |   |   |   |   |   |   |   |--- class: 0\n",
      "|   |   |   |   |   |   |   |   |--- feature_0 >  2.50\n",
      "|   |   |   |   |   |   |   |   |   |--- class: 1\n",
      "|   |   |   |   |   |   |--- feature_1 >  42.50\n",
      "|   |   |   |   |   |   |   |--- class: 1\n",
      "|   |   |   |   |   |--- feature_1 >  43.50\n",
      "|   |   |   |   |   |   |--- feature_3 <= 39.85\n",
      "|   |   |   |   |   |   |   |--- class: 0\n",
      "|   |   |   |   |   |   |--- feature_3 >  39.85\n",
      "|   |   |   |   |   |   |   |--- feature_3 <= 39.92\n",
      "|   |   |   |   |   |   |   |   |--- class: 1\n",
      "|   |   |   |   |   |   |   |--- feature_3 >  39.92\n",
      "|   |   |   |   |   |   |   |   |--- class: 0\n",
      "|   |   |   |   |--- feature_3 >  40.52\n",
      "|   |   |   |   |   |--- feature_3 <= 42.38\n",
      "|   |   |   |   |   |   |--- feature_1 <= 61.50\n",
      "|   |   |   |   |   |   |   |--- feature_4 <= 0.50\n",
      "|   |   |   |   |   |   |   |   |--- feature_3 <= 40.93\n",
      "|   |   |   |   |   |   |   |   |   |--- class: 1\n",
      "|   |   |   |   |   |   |   |   |--- feature_3 >  40.93\n",
      "|   |   |   |   |   |   |   |   |   |--- class: 0\n",
      "|   |   |   |   |   |   |   |--- feature_4 >  0.50\n",
      "|   |   |   |   |   |   |   |   |--- feature_1 <= 35.00\n",
      "|   |   |   |   |   |   |   |   |   |--- class: 0\n",
      "|   |   |   |   |   |   |   |   |--- feature_1 >  35.00\n",
      "|   |   |   |   |   |   |   |   |   |--- class: 1\n",
      "|   |   |   |   |   |   |--- feature_1 >  61.50\n",
      "|   |   |   |   |   |   |   |--- class: 0\n",
      "|   |   |   |   |   |--- feature_3 >  42.38\n",
      "|   |   |   |   |   |   |--- class: 0\n",
      "\n"
     ]
    }
   ],
   "source": [
    "print(tree.export_text(dtc))"
   ]
  },
  {
   "cell_type": "markdown",
   "id": "ff35922a",
   "metadata": {},
   "source": [
    "# Confusion Matrix"
   ]
  },
  {
   "cell_type": "code",
   "execution_count": 84,
   "id": "dcd571fd",
   "metadata": {},
   "outputs": [
    {
     "data": {
      "text/plain": [
       "array([[172,  40],\n",
       "       [ 48,   8]], dtype=int64)"
      ]
     },
     "execution_count": 84,
     "metadata": {},
     "output_type": "execute_result"
    }
   ],
   "source": [
    "#Confusion Matrix\n",
    "confusion_matrix(y_test, y_pred)"
   ]
  },
  {
   "cell_type": "markdown",
   "id": "60af1cb8",
   "metadata": {},
   "source": [
    "# Assign the TRUE POSITIVE, FALSE NEGATIVE, FALSE POSITIVE, TRUE NEGATIVE using Confsion Matrix"
   ]
  },
  {
   "cell_type": "code",
   "execution_count": 85,
   "id": "3260b15e",
   "metadata": {},
   "outputs": [],
   "source": [
    "tp, fn, fp, tn = confusion_matrix(y_test, y_pred).reshape(-1)"
   ]
  },
  {
   "cell_type": "code",
   "execution_count": 86,
   "id": "fc8fc92f",
   "metadata": {},
   "outputs": [
    {
     "data": {
      "text/plain": [
       "172"
      ]
     },
     "execution_count": 86,
     "metadata": {},
     "output_type": "execute_result"
    }
   ],
   "source": [
    "tp"
   ]
  },
  {
   "cell_type": "code",
   "execution_count": 87,
   "id": "9d7e034a",
   "metadata": {},
   "outputs": [
    {
     "data": {
      "text/plain": [
       "40"
      ]
     },
     "execution_count": 87,
     "metadata": {},
     "output_type": "execute_result"
    }
   ],
   "source": [
    "fn"
   ]
  },
  {
   "cell_type": "code",
   "execution_count": 88,
   "id": "ffe065af",
   "metadata": {},
   "outputs": [
    {
     "data": {
      "text/plain": [
       "48"
      ]
     },
     "execution_count": 88,
     "metadata": {},
     "output_type": "execute_result"
    }
   ],
   "source": [
    "fp"
   ]
  },
  {
   "cell_type": "code",
   "execution_count": 89,
   "id": "c3570746",
   "metadata": {},
   "outputs": [
    {
     "data": {
      "text/plain": [
       "8"
      ]
     },
     "execution_count": 89,
     "metadata": {},
     "output_type": "execute_result"
    }
   ],
   "source": [
    "tn"
   ]
  },
  {
   "cell_type": "markdown",
   "id": "f8943a24",
   "metadata": {},
   "source": [
    "# Accuracy"
   ]
  },
  {
   "cell_type": "code",
   "execution_count": 90,
   "id": "cfe97aba",
   "metadata": {},
   "outputs": [
    {
     "data": {
      "text/plain": [
       "67.16417910447761"
      ]
     },
     "execution_count": 90,
     "metadata": {},
     "output_type": "execute_result"
    }
   ],
   "source": [
    "accuracy = (tp+tn)/len(y_test)\n",
    "accuracy= accuracy*100\n",
    "accuracy"
   ]
  },
  {
   "cell_type": "code",
   "execution_count": 72,
   "id": "046d8f73",
   "metadata": {},
   "outputs": [
    {
     "data": {
      "text/plain": [
       "67.16417910447761"
      ]
     },
     "execution_count": 72,
     "metadata": {},
     "output_type": "execute_result"
    }
   ],
   "source": [
    "accuracy= (tp+tn)/(tp+fp+tn+fn)\n",
    "accuracy=accuracy*100\n",
    "accuracy"
   ]
  },
  {
   "cell_type": "code",
   "execution_count": 91,
   "id": "fc9a733b",
   "metadata": {},
   "outputs": [
    {
     "data": {
      "text/plain": [
       "67.16417910447761"
      ]
     },
     "execution_count": 91,
     "metadata": {},
     "output_type": "execute_result"
    }
   ],
   "source": [
    "from sklearn.metrics import accuracy_score\n",
    "accuracy=accuracy_score(y_test, y_pred)\n",
    "accuracy=accuracy*100\n",
    "accuracy"
   ]
  },
  {
   "cell_type": "markdown",
   "id": "564af789",
   "metadata": {},
   "source": [
    "#  Precision or Positive Predictive Value (PPV)"
   ]
  },
  {
   "cell_type": "code",
   "execution_count": 92,
   "id": "59f5dc5b",
   "metadata": {},
   "outputs": [
    {
     "data": {
      "text/plain": [
       "0.7818181818181819"
      ]
     },
     "execution_count": 92,
     "metadata": {},
     "output_type": "execute_result"
    }
   ],
   "source": [
    "precision= tp/(tp+fp)\n",
    "precision"
   ]
  },
  {
   "cell_type": "code",
   "execution_count": 93,
   "id": "9726457a",
   "metadata": {},
   "outputs": [
    {
     "data": {
      "text/plain": [
       "array([0.78181818, 0.16666667])"
      ]
     },
     "execution_count": 93,
     "metadata": {},
     "output_type": "execute_result"
    }
   ],
   "source": [
    "from sklearn.metrics import precision_score\n",
    "precision_score(y_test, y_pred, average=None)"
   ]
  },
  {
   "cell_type": "markdown",
   "id": "d5d31d7d",
   "metadata": {},
   "source": [
    "# Sensitivity, Recall, Hit rate or True Positive Rate (TPR)"
   ]
  },
  {
   "cell_type": "code",
   "execution_count": 94,
   "id": "07fad3b7",
   "metadata": {},
   "outputs": [
    {
     "data": {
      "text/plain": [
       "0.8113207547169812"
      ]
     },
     "execution_count": 94,
     "metadata": {},
     "output_type": "execute_result"
    }
   ],
   "source": [
    "recall= tp/(tp+fn)\n",
    "recall"
   ]
  },
  {
   "cell_type": "code",
   "execution_count": 95,
   "id": "536ea3dd",
   "metadata": {},
   "outputs": [
    {
     "data": {
      "text/plain": [
       "array([0.81132075, 0.14285714])"
      ]
     },
     "execution_count": 95,
     "metadata": {},
     "output_type": "execute_result"
    }
   ],
   "source": [
    "from sklearn.metrics import recall_score\n",
    "recall_score(y_test, y_pred, average=None)"
   ]
  },
  {
   "cell_type": "markdown",
   "id": "bb1945d7",
   "metadata": {},
   "source": [
    "# False Positive Rate (FPR)"
   ]
  },
  {
   "cell_type": "code",
   "execution_count": 96,
   "id": "0100e0a5",
   "metadata": {},
   "outputs": [
    {
     "data": {
      "text/plain": [
       "0.8571428571428571"
      ]
     },
     "execution_count": 96,
     "metadata": {},
     "output_type": "execute_result"
    }
   ],
   "source": [
    "fpr=fp/(fp+tn)\n",
    "fpr"
   ]
  },
  {
   "cell_type": "markdown",
   "id": "67672c9c",
   "metadata": {},
   "source": [
    "# F1 Measure"
   ]
  },
  {
   "cell_type": "code",
   "execution_count": 97,
   "id": "5b5f5a57",
   "metadata": {},
   "outputs": [
    {
     "data": {
      "text/plain": [
       "0.7965694682675815"
      ]
     },
     "execution_count": 97,
     "metadata": {},
     "output_type": "execute_result"
    }
   ],
   "source": [
    "f1_measure= (precision+recall)/2\n",
    "f1_measure"
   ]
  },
  {
   "cell_type": "markdown",
   "id": "76a9aab7",
   "metadata": {},
   "source": [
    "# Harmonic Mean or F1 Score"
   ]
  },
  {
   "cell_type": "code",
   "execution_count": 98,
   "id": "afb50964",
   "metadata": {},
   "outputs": [
    {
     "data": {
      "text/plain": [
       "0.7962962962962964"
      ]
     },
     "execution_count": 98,
     "metadata": {},
     "output_type": "execute_result"
    }
   ],
   "source": [
    "F1 = (2 * precision * recall)/(precision + recall)\n",
    "F1"
   ]
  },
  {
   "cell_type": "code",
   "execution_count": 99,
   "id": "6455627d",
   "metadata": {},
   "outputs": [
    {
     "data": {
      "text/plain": [
       "array([0.7962963 , 0.15384615])"
      ]
     },
     "execution_count": 99,
     "metadata": {},
     "output_type": "execute_result"
    }
   ],
   "source": [
    "from sklearn.metrics import f1_score\n",
    "f1_score(y_test, y_pred, average=None)"
   ]
  },
  {
   "cell_type": "markdown",
   "id": "49e56e24",
   "metadata": {},
   "source": [
    "# Specificity, Selectivity or True Negative Rate (TNR)"
   ]
  },
  {
   "cell_type": "code",
   "execution_count": 100,
   "id": "d8634bf3",
   "metadata": {},
   "outputs": [
    {
     "data": {
      "text/plain": [
       "0.14285714285714285"
      ]
     },
     "execution_count": 100,
     "metadata": {},
     "output_type": "execute_result"
    }
   ],
   "source": [
    "specificity= tn/(tn+fp)\n",
    "specificity"
   ]
  },
  {
   "cell_type": "markdown",
   "id": "915fa18e",
   "metadata": {},
   "source": [
    "# Thread SCore (TS) Or Critical Success Inde(CSI)"
   ]
  },
  {
   "cell_type": "code",
   "execution_count": 101,
   "id": "3ef3b15c",
   "metadata": {},
   "outputs": [
    {
     "data": {
      "text/plain": [
       "0.6615384615384615"
      ]
     },
     "execution_count": 101,
     "metadata": {},
     "output_type": "execute_result"
    }
   ],
   "source": [
    "csi = tp/(tp+fn+fp)\n",
    "csi"
   ]
  },
  {
   "cell_type": "markdown",
   "id": "9a926896",
   "metadata": {},
   "source": [
    "# False Discovery Rate (FDR)"
   ]
  },
  {
   "cell_type": "code",
   "execution_count": 102,
   "id": "2dbc3e54",
   "metadata": {},
   "outputs": [
    {
     "data": {
      "text/plain": [
       "0.21818181818181817"
      ]
     },
     "execution_count": 102,
     "metadata": {},
     "output_type": "execute_result"
    }
   ],
   "source": [
    "fdr= fp/(tp+fp)\n",
    "fdr"
   ]
  },
  {
   "cell_type": "code",
   "execution_count": 104,
   "id": "eb79af19",
   "metadata": {},
   "outputs": [
    {
     "data": {
      "text/plain": [
       "array([[172,  40],\n",
       "       [ 48,   8]], dtype=int64)"
      ]
     },
     "execution_count": 104,
     "metadata": {},
     "output_type": "execute_result"
    }
   ],
   "source": [
    "#Confusion Matrix\n",
    "from sklearn.metrics import confusion_matrix\n",
    "cm=confusion_matrix(y_test, y_pred)\n",
    "cm"
   ]
  },
  {
   "cell_type": "markdown",
   "id": "601fa0f2",
   "metadata": {},
   "source": [
    "# Confusion Matrix Plot"
   ]
  },
  {
   "cell_type": "code",
   "execution_count": 105,
   "id": "910eed09",
   "metadata": {},
   "outputs": [
    {
     "data": {
      "text/plain": [
       "Text(33.0, 0.5, 'Actual Values')"
      ]
     },
     "execution_count": 105,
     "metadata": {},
     "output_type": "execute_result"
    },
    {
     "data": {
      "image/png": "[encoded data removed]",
      "text/plain": [
       "<Figure size 432x288 with 2 Axes>"
      ]
     },
     "metadata": {
      "needs_background": "light"
     },
     "output_type": "display_data"
    }
   ],
   "source": [
    "sns.heatmap(cm, annot=True)\n",
    "plt.xlabel('Predicted Values')\n",
    "plt.ylabel('Actual Values')"
   ]
  },
  {
   "cell_type": "markdown",
   "id": "51a4ac8a",
   "metadata": {},
   "source": [
    "# Classification Report Summary"
   ]
  },
  {
   "cell_type": "code",
   "execution_count": 106,
   "id": "4f300c86",
   "metadata": {},
   "outputs": [
    {
     "name": "stdout",
     "output_type": "stream",
     "text": [
      "              precision    recall  f1-score   support\n",
      "\n",
      "           0       0.78      0.81      0.80       212\n",
      "           1       0.17      0.14      0.15        56\n",
      "\n",
      "    accuracy                           0.67       268\n",
      "   macro avg       0.47      0.48      0.48       268\n",
      "weighted avg       0.65      0.67      0.66       268\n",
      "\n"
     ]
    }
   ],
   "source": [
    "from sklearn.metrics import classification_report\n",
    "class_r=classification_report(y_test, y_pred)\n",
    "print(class_r)"
   ]
  },
  {
   "cell_type": "markdown",
   "id": "5dca6fb4",
   "metadata": {},
   "source": [
    "# ROC and AUC Graph"
   ]
  },
  {
   "cell_type": "code",
   "execution_count": 108,
   "id": "e7b6588d",
   "metadata": {},
   "outputs": [
    {
     "data": {
      "text/plain": [
       "[<matplotlib.lines.Line2D at 0x1affda2d310>]"
      ]
     },
     "execution_count": 108,
     "metadata": {},
     "output_type": "execute_result"
    },
    {
     "data": {
      "image/png": "[encoded data removed]",
      "text/plain": [
       "<Figure size 432x288 with 1 Axes>"
      ]
     },
     "metadata": {
      "needs_background": "light"
     },
     "output_type": "display_data"
    }
   ],
   "source": [
    "from sklearn.metrics import plot_roc_curve\n",
    "plot_roc_curve(dtc,x_test, y_test)\n",
    "plt.plot([0,1],[0,1])"
   ]
  },
  {
   "cell_type": "code",
   "execution_count": null,
   "id": "011867d6",
   "metadata": {},
   "outputs": [],
   "source": []
  }
 ],
 "metadata": {
  "kernelspec": {
   "display_name": "Python 3",
   "language": "python",
   "name": "python3"
  },
  "language_info": {
   "codemirror_mode": {
    "name": "ipython",
    "version": 3
   },
   "file_extension": ".py",
   "mimetype": "text/x-python",
   "name": "python",
   "nbconvert_exporter": "python",
   "pygments_lexer": "ipython3",
   "version": "3.8.8"
  }
 },
 "nbformat": 4,
 "nbformat_minor": 5
}
